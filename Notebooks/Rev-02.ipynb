{
 "cells": [
  {
   "cell_type": "markdown",
   "metadata": {},
   "source": [
    "1. Implemente um programa em __Python__ faça a seguinte brincadeiras: \n",
    "    * O programa informa que \"está pensando\" em um número entre 1 e 100 e peça para você adivinhar.\n",
    "    * O programa gera então um valor inteiro aleatório entre 1 e 100 (incluindo 1 e 100) e da, no máximo, 8 oportunidades para você adivinhar. \n",
    "    * A cada tentativa o programa responde:\n",
    "        * Não o número é maior (:-(\n",
    "        * Não o número é menor (:-O \n",
    "        * Parabéns você acertou (:-)\n",
    "        * Lamento, acabaram suas oportunidades (;-)   "
   ]
  },
  {
   "cell_type": "code",
   "execution_count": 1,
   "metadata": {},
   "outputs": [
    {
     "name": "stdout",
     "output_type": "stream",
     "text": [
      "Saudações Pythonisticas!!!!\n",
      " Estou pensando em um número entre 1 e 100 (incluindo 1 e 100.)\n",
      " Você pode adivinhar qual é?\n",
      "Digite um número:\n",
      "30\n",
      "Não o número é maior (:-(\n",
      "Digite um número:\n",
      "50\n",
      "Não o número é maior (:-(\n",
      "Digite um número:\n",
      "80\n",
      "Não o número é menor (:-O\n",
      "Digite um número:\n",
      "70\n",
      "Não o número é maior (:-(\n",
      "Digite um número:\n",
      "75\n",
      "Não o número é maior (:-(\n",
      "Digite um número:\n",
      "78\n",
      "Não o número é menor (:-O\n",
      "Digite um número:\n",
      "77\n",
      "Não o número é menor (:-O\n",
      "Digite um número:\n",
      "76\n",
      "Parabéns você acertou o número em 8 tentativas!\n"
     ]
    }
   ],
   "source": [
    "print(\"Saudações Pythonisticas!!!!\") \n",
    "print(\" Estou pensando em um número entre 1 e 100 (incluindo 1 e 100.)\")\n",
    "print(\" Você pode adivinhar qual é?\")\n",
    "\n",
    "import random\n",
    "numero = random.randint(1, 100)\n",
    "tentativas = 0\n",
    "while True:\n",
    "    print(\"Digite um número:\")\n",
    "    chute = int(input())\n",
    "    tentativas = tentativas + 1 \n",
    "    if chute < numero:\n",
    "        print(\"Não o número é maior (:-(\")\n",
    "    elif chute > numero:\n",
    "        print(\"Não o número é menor (:-O\")\n",
    "    elif chute == numero:\n",
    "        print(\"Parabéns você acertou o número em \" + str(tentativas) + \" tentativas!\")\n",
    "        break\n",
    "    if tentativas == 8:\n",
    "        print(\"Você excedeu o número de tentativas, o número era \" + str(numero) + \"!\")\n",
    "        break"
   ]
  },
  {
   "cell_type": "markdown",
   "metadata": {},
   "source": [
    "2. Implemente um programa em __Python__ faça a seguinte brincadeiras: \n",
    "    * O programa pede para você pensar em um número entre 1 e 100 que ele vai adivinhar.\n",
    "    * Você pensa em um valor inteiro aleatório entre 1 e 100 (incluindo 1 e 100) e o programa tem, no máximo, 8 oportunidades para você adivinhar. \n",
    "    * A cada tentativa o programa o computador pergunta para vc se:\n",
    "        * Não o número é maior (:-(\n",
    "        * Não o número é menor (:-O \n",
    "        * Parabéns você acertou (:-)\n",
    "    * Se exceder as 8 tentativas sem acertar o computador resoponde:\n",
    "        * Que pena, acabaram minhas oportunidades (;-). Qual foi o número que você pensou?\n",
    "    * O computador deve verificar se sua resposta anteriores estão corretas e, casso você tenha enganado a aplicação ele retorna:\n",
    "        * Você trapaceou (:-(. o número x não é maior/menor que meu chute y. \n",
    "        Substitua x pelo valor pensado pelo usuário, y pelo valor tentativo dado pelo computador e maior ou menor pela resposta dada por você e que estava incorreta.  "
   ]
  },
  {
   "cell_type": "code",
   "execution_count": null,
   "metadata": {},
   "outputs": [],
   "source": [
    "print(\"Saudações Pythonisticas!!!!\") \n",
    "print(\" Pense em um número entre 1 e 100 (incluindo 1 e 100.)\")\n",
    "print(\" Vou tentar adivinhar qual é!\")\n",
    "\n",
    "chute = 50\n",
    "interval = 50\n",
    "tentativa = 0\n",
    "resp = []\n",
    "while True:\n",
    "    tentativa += 1\n",
    "    print(\"O número que você pensou é \" + str(chute) + \"?\")\n",
    "    print(\"Digite 1 se o número que você pensou é maior,\")\n",
    "    print(\"Digite 2 se o número que você pensou é menor,\")\n",
    "    print(\"Digite 3 se eu acertei o número\")\n",
    "    resposta = int(input())\n",
    "    if resposta == 1:\n",
    "        interval = interval // 2\n",
    "        chute = chute + interval\n",
    "        resp.append(resposta)\n",
    "    elif resposta == 2:\n",
    "        interval = interval // 2\n",
    "        chute = chute - interval\n",
    "        resp.append(resposta)\n",
    "    elif resposta == 3:\n",
    "        print(\"Acertei o número em \" + str(tentativa) + \" tentativas!\")\n",
    "        break\n",
    "    else:\n",
    "        print(\"Digite uma opção válida!\")\n",
    "    if interval == 1:\n",
    "        print(\"Que pena, acabaram minhas oportunidades (;-).\") \n",
    "        val = int(input(\"Qual foi o número que você pens?\"))\n",
    "        i, inter, chute = 1, 50, 50\n",
    "        for resp in resposta:\n",
    "            if resp == 1:\n",
    "                if val <= chute:\n",
    "                    print(\"Você mentiu na resposta \" + str(i) +  \"!\")\n",
    "                    print(\"O número \" + str(val) + \"não é maior que \" + str(chute) + \" !\")\n",
    "                    break\n",
    "            elif resp == 2:\n",
    "                if val >= chute:\n",
    "                    print(\"Você mentiu na resposta \" + str(i) +  \"!\")\n",
    "                    print(\"O número \" + str(val) + \"não é menor que \" + str(chute) + \" !\")\n",
    "                    break\n",
    "            i = i + 1\n",
    "            inter = inter // 2\n",
    "            if resp == 1:\n",
    "                chute = chute + inter\n",
    "            elif resp == 2:\n",
    "                chute = chute - inter\n",
    "        break\n"
   ]
  }
 ],
 "metadata": {
  "kernelspec": {
   "display_name": "Python 3 (ipykernel)",
   "language": "python",
   "name": "python3"
  },
  "language_info": {
   "codemirror_mode": {
    "name": "ipython",
    "version": 3
   },
   "file_extension": ".py",
   "mimetype": "text/x-python",
   "name": "python",
   "nbconvert_exporter": "python",
   "pygments_lexer": "ipython3",
   "version": "3.10.13"
  }
 },
 "nbformat": 4,
 "nbformat_minor": 2
}
