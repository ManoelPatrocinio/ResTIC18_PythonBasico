{
 "cells": [
  {
   "cell_type": "markdown",
   "metadata": {},
   "source": [
    "# Módulo de Programação Python\n",
    "\n",
    "# Trilha Python - Aula 16/17: Revisão e Resolução de Problemas \n",
    "\n",
    "<img align=\"center\" style=\"padding-right:10px;\" src=\"Figuras/aula-10_fig_01.png\">"
   ]
  },
  {
   "cell_type": "markdown",
   "metadata": {},
   "source": [
    "__Objetivo__:   \n",
    "\n",
    "Revisar e consolidar o conteúdo de __NumPy__ avançado e introdução a __Pandas__ \n"
   ]
  },
  {
   "cell_type": "markdown",
   "metadata": {},
   "source": [
    "## Revisão do exercício proposto para determinação do perfil da turma.\n",
    "\n",
    "Na última instrução prática foram coletados dados dos membros de cada equipe. Dado o pequeno tamanho das equipes a coleta pode ser feita manualmente. Entretanto, para coletar os dados de todos os alunos da residência precisamos melhorar o processo de coleta. Vamos desenvolver um aplicativo para esta coleta.\n",
    "1. Primeiramente vamos criar um ambiente isolado que possa ser reproduzido posteriormente. Com esta finalidade escolha a ferramenta a ser adotada pela equipe e criem um ambiente virtual contendo os pacotes __Python__ 3.10 ou superior, __NumPy__ e __Pandas__. Crie o arquivo ``requirements.txt`` contendo as versões dos pacotes.\n",
    "2. Criar uma pasta para o pacote ``restic``. Que arquivos serão  necessários para configurar e executar a aplicação que desenvolveremos?"
   ]
  },
  {
   "cell_type": "code",
   "execution_count": null,
   "metadata": {
    "vscode": {
     "languageId": "plaintext"
    }
   },
   "outputs": [],
   "source": [
    "identificador = []\n",
    "idade = []\n",
    "formação = []\n",
    "formaçãoGeral = []\n",
    "formaçãoEspecífica = []\n",
    "andamentoGraduação = []\n",
    "tempoFormação = []\n",
    "experiênciaPrevia = []"
   ]
  },
  {
   "cell_type": "markdown",
   "metadata": {},
   "source": [
    "### Analisando a coleta de dados\n",
    "\n",
    "3. O identificador de cada aluno será, como definido anteriormente, um código de tipo ``string`` formado ``tic18Py`` seguido dos três primeiros números do __CPF__ e os dois último números do ano de nascimento. Exemplo tic18Py06472. Para poder contemplar os restantes alunos da residência precisamos teremos que disponibilizar três raízes diferentes para os identificador. Uma proposta pode ser:\n",
    "    * tic18Py para a turma de __Python__  \n",
    "    * tic18Net para a turma de __.NET__\n",
    "    * tic18Jav para a turma de __Java__\n",
    "4. A idade, próximo campo a ser preenchido, tem que bater com o ano de nascimento. Isto significa que uma pessoa que nasceu em 1990, quando questionado em 2024 sobre sua idade, pode responder que tem 33 ou 34 anos, dependendo da data exata de nascimento. \n",
    "5. A campo formação tem um conjunto restrito de opções que podem ser traduzidas em códigos numéricos a serem armazenados. Já a formação geral pode ser armazenada como um boolean mas depende da resposta sobre a formação. \n",
    "6. Veja como implementar o campo de formação específica de acordo com o que foi definido pela equipe na instrução prática anterior. \n",
    "7. O campo andamento da graduação e tempo de formação são campos excludentes. Isto é, se preenche um o outro não se aplica.\n",
    "8. O campo final, experiência previa de programação pode ser melhorado? Analisando a informação coletada até aqui, a resposta ``True`` ou ``False`` permitem caracterizar realmente a experiência dos entrevistados? "
   ]
  },
  {
   "cell_type": "markdown",
   "metadata": {},
   "source": [
    "## Trabalhando com classes e objetos.\n",
    "\n",
    "9. Após a análise anterior podemos desenhar classes específicas para armazenar:\n",
    "    * Os dados de um entrevistado de forma a garantir que eles estejam sempre preenchidos corretamente.\n",
    "    * Os dados dos entrevistados numa trilha específica. Esta classe tem um atributo de tipo ``DataFrame`` que será preenchido com os dados coletados de cada entrevistado. Entretanto o identificador dos entrevistados desta classe será único.\n",
    "    * Os dados de uma turma da residência com várias trilhas diferentes.\n",
    "    \n",
    "    Vamos discutir a implementação destas classes.      \n",
    "\n"
   ]
  }
 ],
 "metadata": {
  "kernelspec": {
   "display_name": "Python 3 (ipykernel)",
   "language": "python",
   "name": "python3"
  },
  "language_info": {
   "codemirror_mode": {
    "name": "ipython",
    "version": 3
   },
   "file_extension": ".py",
   "mimetype": "text/x-python",
   "name": "python",
   "nbconvert_exporter": "python",
   "pygments_lexer": "ipython3",
   "version": "3.10.13"
  }
 },
 "nbformat": 4,
 "nbformat_minor": 2
}
