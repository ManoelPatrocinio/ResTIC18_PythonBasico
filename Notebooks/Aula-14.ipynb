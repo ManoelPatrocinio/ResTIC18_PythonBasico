{
 "cells": [
  {
   "cell_type": "markdown",
   "metadata": {},
   "source": [
    "# Módulo de Programação Python\n",
    "\n",
    "# Trilha Python - Aula 9: Utilizando Pandas - Introdução\n",
    "\n",
    "<img align=\"center\" style=\"padding-right:10px;\" src=\"Figuras/aula-14_fig_01.png\">"
   ]
  },
  {
   "cell_type": "markdown",
   "metadata": {},
   "source": [
    "__Objetivo__:   Trabalhar com pacotes e módulos disponíveis em __Python__: __Pandas__: Discutir a importância de obter, carregar e organizar grandes volumes de dados. Apresentar Pandas e suas funcionalidades e características básicas. "
   ]
  },
  {
   "cell_type": "markdown",
   "metadata": {},
   "source": [
    "## Contextualização\n",
    "\n",
    "Até aqui discutimos sobre a importância de trabalhar com estruturas de dados eficientes para armazenar grandes volumes de dados. Nas aulas anteriores foram apresentados os arrays de tipo fixo implementados na forma de _ndarrays_ da __NumPy__. \n",
    "\n",
    "Ainda que muito eficientes para armazenar e processar dados numéricos, os _ndarrays_ apresentam limitações para análise da dados não numéricos. \n",
    "\n",
    "Imaginem, no exemplo  que construímos na aula anterior, que queremos adicionar uma etiqueta ou rótulo a cada aluno com o nome ou o e-mail. \n",
    "\n",
    "O Pandas, e em particular seus objetos ``Series`` e ``DataFrame``, baseia-se no uso de _ndarrays_ de __NumPy__ e fornece acesso eficiente a esses tipos de tarefas de \"gestão de dados\" que ocupam muito do tempo de um cientista de dados.\n",
    "\n",
    "Vamos abordar então em como utilizar  ``Series``, ``DataFrame`` e estruturas relacionadas de forma eficaz."
   ]
  },
  {
   "cell_type": "markdown",
   "metadata": {},
   "source": [
    "No ambiente virtual que utilizamos até qui temos os pacotes e módulos para rodar o _jupyter notebook_ e __NumPY__. Vamos começar então por instalar __Pandas__"
   ]
  },
  {
   "cell_type": "code",
   "execution_count": null,
   "metadata": {},
   "outputs": [],
   "source": [
    "#pip list\n",
    "#pip freeze > requirements.txt\n",
    "#cat requirements.txt\n",
    "#pip install pandas"
   ]
  },
  {
   "cell_type": "code",
   "execution_count": 1,
   "metadata": {},
   "outputs": [
    {
     "name": "stdout",
     "output_type": "stream",
     "text": [
      "Intel MKL WARNING: Support of Intel(R) Streaming SIMD Extensions 4.2 (Intel(R) SSE4.2) enabled only processors has been deprecated. Intel oneAPI Math Kernel Library 2025.0 will require Intel(R) Advanced Vector Extensions (Intel(R) AVX) instructions.\n",
      "Intel MKL WARNING: Support of Intel(R) Streaming SIMD Extensions 4.2 (Intel(R) SSE4.2) enabled only processors has been deprecated. Intel oneAPI Math Kernel Library 2025.0 will require Intel(R) Advanced Vector Extensions (Intel(R) AVX) instructions.\n",
      "Numpy version:  1.26.2\n",
      "Pandas version:  2.1.4\n"
     ]
    }
   ],
   "source": [
    "import numpy as np\n",
    "import pandas as pd\n",
    "print(\"Numpy version: \", np.__version__)\n",
    "print(\"Pandas version: \", pd.__version__)"
   ]
  },
  {
   "cell_type": "markdown",
   "metadata": {},
   "source": [
    "Os objetos Pandas podem ser considerados versões aprimoradas de matrizes _ndarrays_ de __NumPy__ nas quais as linhas e colunas são identificadas com rótulos em vez de simples índices inteiros. \n",
    "\n",
    "Da mesma forma que __NumPy__, __Pandas__ fornece, além das estruturas de dados, uma série de ferramentas, métodos e funcionalidades úteis .\n",
    "\n",
    "Vamos começar aprestando as estruturas básicas de __Pandas__."
   ]
  },
  {
   "cell_type": "code",
   "execution_count": 2,
   "metadata": {},
   "outputs": [
    {
     "name": "stdout",
     "output_type": "stream",
     "text": [
      "4.20 4.61 5.46 5.38 4.12 "
     ]
    }
   ],
   "source": [
    "from random import uniform\n",
    "lista = [uniform(4, 10) for _ in range(5)]\n",
    "for val in lista:\n",
    "    print(f\"{val:.2f}\", end=\" \")"
   ]
  },
  {
   "cell_type": "markdown",
   "metadata": {},
   "source": [
    "### __Pandas__ ``Series``\n",
    "\n",
    "Uma ``Series`` __Pandas__ é uma matriz unidimensional de dados indexados. \n",
    "\n",
    "De forma simples um objeto da classe ``Series`` pode ser criado a partir de uma lista ou de um _ndarray_."
   ]
  },
  {
   "cell_type": "code",
   "execution_count": 3,
   "metadata": {},
   "outputs": [
    {
     "data": {
      "text/plain": [
       "0    4.200014\n",
       "1    4.610223\n",
       "2    5.455911\n",
       "3    5.382884\n",
       "4    4.122478\n",
       "dtype: float64"
      ]
     },
     "execution_count": 3,
     "metadata": {},
     "output_type": "execute_result"
    }
   ],
   "source": [
    "dSerie = pd.Series(lista)\n",
    "dSerie"
   ]
  },
  {
   "cell_type": "code",
   "execution_count": 4,
   "metadata": {},
   "outputs": [
    {
     "data": {
      "text/plain": [
       "0    4.200014\n",
       "1    4.610223\n",
       "2    5.455911\n",
       "3    5.382884\n",
       "4    4.122478\n",
       "dtype: float64"
      ]
     },
     "execution_count": 4,
     "metadata": {},
     "output_type": "execute_result"
    }
   ],
   "source": [
    "npArray = np.array(lista)\n",
    "dSerie = pd.Series(npArray)\n",
    "dSerie"
   ]
  },
  {
   "cell_type": "markdown",
   "metadata": {},
   "source": [
    "Reparem que um objeto ``Series`` consiste em uma sequência de valores e sua correspondente sequência de índices, que podemos acessar com os atributos  ``values`` e ``index``."
   ]
  },
  {
   "cell_type": "code",
   "execution_count": 5,
   "metadata": {},
   "outputs": [
    {
     "name": "stdout",
     "output_type": "stream",
     "text": [
      "[4.2000142  4.61022267 5.45591097 5.38288379 4.12247847]\n",
      "<class 'numpy.ndarray'>\n"
     ]
    }
   ],
   "source": [
    "print(dSerie.values)\n",
    "print(type(dSerie.values))"
   ]
  },
  {
   "cell_type": "markdown",
   "metadata": {},
   "source": [
    "Já o tributo ``index`` é um objeto semelhante a um _ndarray_, de tipo ``pd.Index``."
   ]
  },
  {
   "cell_type": "code",
   "execution_count": 6,
   "metadata": {},
   "outputs": [
    {
     "name": "stdout",
     "output_type": "stream",
     "text": [
      "RangeIndex(start=0, stop=5, step=1)\n",
      "<class 'pandas.core.indexes.range.RangeIndex'>\n"
     ]
    }
   ],
   "source": [
    "print(dSerie.index)\n",
    "print(type(dSerie.index))"
   ]
  },
  {
   "cell_type": "markdown",
   "metadata": {},
   "source": [
    "Os elementos de ``dSerie`` podem ser acessado via indexação."
   ]
  },
  {
   "cell_type": "code",
   "execution_count": 7,
   "metadata": {},
   "outputs": [
    {
     "data": {
      "text/plain": [
       "4.200014204700148"
      ]
     },
     "execution_count": 7,
     "metadata": {},
     "output_type": "execute_result"
    }
   ],
   "source": [
    "dSerie[0]"
   ]
  },
  {
   "cell_type": "code",
   "execution_count": 8,
   "metadata": {},
   "outputs": [
    {
     "data": {
      "text/plain": [
       "1    4.610223\n",
       "2    5.455911\n",
       "dtype: float64"
      ]
     },
     "execution_count": 8,
     "metadata": {},
     "output_type": "execute_result"
    }
   ],
   "source": [
    "dSerie[1:3]"
   ]
  },
  {
   "cell_type": "markdown",
   "metadata": {},
   "source": [
    "Pode parecer que um objeto da classe ``Sreies`` é semelhante a um _ndarrays_, podendo usar um o outro. Mas ..."
   ]
  },
  {
   "cell_type": "code",
   "execution_count": 9,
   "metadata": {},
   "outputs": [
    {
     "name": "stdout",
     "output_type": "stream",
     "text": [
      "4.122478472540854\n",
      "-1\n"
     ]
    }
   ],
   "source": [
    "print(dSerie.values[-1])\n",
    "try:\n",
    "    print(dSerie[-1])\n",
    "except Exception as e:\n",
    "    print(e)"
   ]
  },
  {
   "cell_type": "markdown",
   "metadata": {},
   "source": [
    "Entretanto, enquanto o _ndarray_ de __NumPy__ possui um índice inteiro, definido implicitamente, usado para acessar os valores, os objetos ``Series`` de __Pandas__ possuem um índice definido explicitamente, associado ao conjunto de valores.\n",
    "\n",
    "Essa definição explícita de índice fornece recursos adicionais como, por exemplo, o fato de que o índice não precisa ser um número inteiro, mas pode consistir em valores de qualquer tipo desejado. \n",
    "\n",
    "Por exemplo, se desejarmos, podemos usar strings como índice:"
   ]
  },
  {
   "cell_type": "code",
   "execution_count": 10,
   "metadata": {},
   "outputs": [
    {
     "data": {
      "text/plain": [
       "alpha      4.200014\n",
       "beta       4.610223\n",
       "gamma      5.455911\n",
       "delta      5.382884\n",
       "epsilon    4.122478\n",
       "dtype: float64"
      ]
     },
     "execution_count": 10,
     "metadata": {},
     "output_type": "execute_result"
    }
   ],
   "source": [
    "dSerie = pd.Series(lista, index=['alpha', 'beta', 'gamma', 'delta', 'epsilon'])\n",
    "dSerie"
   ]
  },
  {
   "cell_type": "code",
   "execution_count": 11,
   "metadata": {},
   "outputs": [
    {
     "name": "stdout",
     "output_type": "stream",
     "text": [
      "4.122478472540854\n",
      "4.122478472540854\n"
     ]
    }
   ],
   "source": [
    "print(dSerie.values[-1])\n",
    "print(dSerie['epsilon'])"
   ]
  },
  {
   "cell_type": "markdown",
   "metadata": {},
   "source": [
    "Podemos inclusive usar índices inteiros não contíguos ou não sequenciais."
   ]
  },
  {
   "cell_type": "code",
   "execution_count": 12,
   "metadata": {},
   "outputs": [
    {
     "data": {
      "text/plain": [
       "99    4.200014\n",
       "87    4.610223\n",
       "65    5.455911\n",
       "43    5.382884\n",
       "21    4.122478\n",
       "dtype: float64"
      ]
     },
     "execution_count": 12,
     "metadata": {},
     "output_type": "execute_result"
    }
   ],
   "source": [
    "dSerie = pd.Series(lista, index=[99, 87, 65, 43, 21])\n",
    "dSerie"
   ]
  },
  {
   "cell_type": "code",
   "execution_count": 13,
   "metadata": {},
   "outputs": [
    {
     "name": "stdout",
     "output_type": "stream",
     "text": [
      "4.122478472540854\n",
      "4.122478472540854\n"
     ]
    }
   ],
   "source": [
    "print(dSerie.values[-1])\n",
    "print(dSerie[21])"
   ]
  },
  {
   "cell_type": "code",
   "execution_count": 14,
   "metadata": {},
   "outputs": [
    {
     "data": {
      "text/plain": [
       "0.10000    4.200014\n",
       "0.01000    4.610223\n",
       "0.00100    5.455911\n",
       "0.00010    5.382884\n",
       "0.00001    4.122478\n",
       "dtype: float64"
      ]
     },
     "execution_count": 14,
     "metadata": {},
     "output_type": "execute_result"
    }
   ],
   "source": [
    "dSerie = pd.Series(lista, index=[0.1, 0.01, 0.001, 0.0001, 0.00001])\n",
    "dSerie"
   ]
  },
  {
   "cell_type": "markdown",
   "metadata": {},
   "source": [
    "Podemos então pensar as ``Sreies`` __Pandas__ como uma forma particular e específica de dicionário __Python__. \n",
    "\n",
    "* Um dicionário __Python__ é uma estrutura que mapeia chaves arbitrárias para um conjunto de valores arbitrários\n",
    "* Um objeto ``Series`` é uma estrutura que mapeia chaves de tipo fixo para um conjunto de valores de tipo fixo. \n",
    "\n",
    "O fato de tratar de chaves e valores tipados é importante: assim como o código compilado, específico de cada tipo, por trás de um _ndarray_ __NumPy__, o torna mais eficiente do que uma lista __Python__ para determinadas operações, as informações de tipo de um ``Series`` __Pandas__ o tornam muito mais eficiente do que os dicionários __Python__ para determinadas operações.\n",
    "\n",
    "A analogia da série como dicionário pode ficar ainda mais evidente quando constatamos que podemos construir um objeto ``Series`` diretamente de um dicionário __Python__:"
   ]
  },
  {
   "cell_type": "code",
   "execution_count": 15,
   "metadata": {},
   "outputs": [
    {
     "data": {
      "text/plain": [
       "São Paulo            44411238\n",
       "Minas Gerais         20538718\n",
       "Rio de Janeiro       16054524\n",
       "Bahia                14141626\n",
       "Paraná               11444380\n",
       "Rio Grande do Sul    10882965\n",
       "Pernambuco            9058931\n",
       "Ceará                 8794957\n",
       "dtype: int64"
      ]
     },
     "execution_count": 15,
     "metadata": {},
     "output_type": "execute_result"
    }
   ],
   "source": [
    "popPorEstadoDic = { 'São Paulo': 44411238, 'Minas Gerais':20538718, 'Rio de Janeiro':16054524,\t\n",
    "                'Bahia':14141626, 'Paraná':11444380, 'Rio Grande do Sul':10882965, \n",
    "                'Pernambuco':9058931, 'Ceará':8794957}\n",
    "popPorEstadoSer = pd.Series(popPorEstadoDic)\n",
    "popPorEstadoSer"
   ]
  },
  {
   "cell_type": "markdown",
   "metadata": {},
   "source": [
    "Nesta construção é criada um objeto ``Series`` onde o índice é extraído das chaves do dicionário.\n",
    "\n",
    "Uma vez criado o acesso aos elementos repete a sintaxes típica dos dicionário __Python__."
   ]
  },
  {
   "cell_type": "code",
   "execution_count": 16,
   "metadata": {},
   "outputs": [
    {
     "name": "stdout",
     "output_type": "stream",
     "text": [
      "A população da Bahia, segundo o IBGE, é de 14141626 habitantes\n"
     ]
    }
   ],
   "source": [
    "print(\"A população da Bahia, segundo o IBGE, é de\", popPorEstadoSer['Bahia'], \"habitantes\")"
   ]
  },
  {
   "cell_type": "markdown",
   "metadata": {},
   "source": [
    "Por outro lado, diferente de um dicionário, ``Series`` também suportam operações no estilo array, como _slicing_."
   ]
  },
  {
   "cell_type": "code",
   "execution_count": 20,
   "metadata": {},
   "outputs": [
    {
     "name": "stdout",
     "output_type": "stream",
     "text": [
      "Bahia                14141626\n",
      "Paraná               11444380\n",
      "Rio Grande do Sul    10882965\n",
      "Pernambuco            9058931\n",
      "dtype: int64\n"
     ]
    }
   ],
   "source": [
    "print(popPorEstadoSer['Bahia':'Pernambuco'])\n",
    "#popPorEstadoSer.values[3:6]"
   ]
  },
  {
   "cell_type": "markdown",
   "metadata": {},
   "source": [
    "Vamos explorar então as formas de ciar ``Series``. Já vimos que podemos passar um conjunto de dados, na forma de uma lista ou de um _ndarray_. Neste caso os índices são criados como de forma sequencial como inteiros que correspondem aos índices do _ndarray_. "
   ]
  },
  {
   "cell_type": "code",
   "execution_count": 21,
   "metadata": {},
   "outputs": [
    {
     "data": {
      "text/plain": [
       "0     12\n",
       "1      8\n",
       "2      8\n",
       "3      7\n",
       "4      6\n",
       "5      4\n",
       "6      4\n",
       "7      4\n",
       "8      3\n",
       "9      3\n",
       "10     2\n",
       "11     2\n",
       "12     2\n",
       "13     1\n",
       "14     1\n",
       "15     1\n",
       "16     1\n",
       "dtype: int64"
      ]
     },
     "execution_count": 21,
     "metadata": {},
     "output_type": "execute_result"
    }
   ],
   "source": [
    "títulos = [12, 8, 8, 7, 6, 4, 4, 4, 3, 3, 2, 2, 2, 1, 1, 1, 1]\n",
    "brasileirão = pd.Series(títulos)\n",
    "brasileirão"
   ]
  },
  {
   "cell_type": "markdown",
   "metadata": {},
   "source": [
    "Mas podemos acrescentar os índices na forma de uma lista."
   ]
  },
  {
   "cell_type": "code",
   "execution_count": 22,
   "metadata": {},
   "outputs": [
    {
     "name": "stdout",
     "output_type": "stream",
     "text": [
      "Palmeiras        12\n",
      "Santos            8\n",
      "Flamengo          8\n",
      "Corinthians       7\n",
      "São Paulo         6\n",
      "Cruzeiro          4\n",
      "Fluminense        4\n",
      "Vasco             4\n",
      "Internacional     3\n",
      "Atlético-MG       3\n",
      "Bahia             2\n",
      "Botafogo          2\n",
      "Grêmio            2\n",
      "Athletico-PR      1\n",
      "Coritiba          1\n",
      "Guarani           1\n",
      "Sport             1\n",
      "dtype: int64\n"
     ]
    }
   ],
   "source": [
    "campBrasileiros = ['Palmeiras', 'Santos', 'Flamengo', 'Corinthians', 'São Paulo', \n",
    "                   'Cruzeiro', 'Fluminense', 'Vasco', 'Internacional', 'Atlético-MG',\n",
    "                    'Bahia', 'Botafogo', 'Grêmio', 'Athletico-PR', 'Coritiba', 'Guarani', 'Sport']\n",
    "brasileirão = pd.Series(títulos, index=campBrasileiros)\n",
    "print(brasileirão)"
   ]
  },
  {
   "cell_type": "markdown",
   "metadata": {},
   "source": [
    "Quando a lista de índices é fornecida o valor pode ser apenas um escalar. Neste caso o valor é repetido para cada índice."
   ]
  },
  {
   "cell_type": "code",
   "execution_count": 24,
   "metadata": {},
   "outputs": [
    {
     "data": {
      "text/plain": [
       "Palmeiras        0\n",
       "Santos           0\n",
       "Flamengo         0\n",
       "Corinthians      0\n",
       "São Paulo        0\n",
       "Cruzeiro         0\n",
       "Fluminense       0\n",
       "Vasco            0\n",
       "Internacional    0\n",
       "Atlético-MG      0\n",
       "Bahia            0\n",
       "Botafogo         0\n",
       "Grêmio           0\n",
       "Athletico-PR     0\n",
       "Coritiba         0\n",
       "Guarani          0\n",
       "Sport            0\n",
       "dtype: int64"
      ]
     },
     "execution_count": 24,
     "metadata": {},
     "output_type": "execute_result"
    }
   ],
   "source": [
    "brasileirão = pd.Series(0, index=campBrasileiros)\n",
    "brasileirão"
   ]
  },
  {
   "cell_type": "markdown",
   "metadata": {},
   "source": [
    "Como já vimos, os dados podem ser fornecidos na forma de um dicionário __Python__."
   ]
  },
  {
   "cell_type": "code",
   "execution_count": 25,
   "metadata": {},
   "outputs": [
    {
     "name": "stdout",
     "output_type": "stream",
     "text": [
      "2         Santos\n",
      "4    Corinthians\n",
      "3       Flamengo\n",
      "1      Palmeiras\n",
      "dtype: object\n",
      "<class 'numpy.ndarray'>\n"
     ]
    }
   ],
   "source": [
    "dicBrasileirao = {2:'Santos', 4:'Corinthians', 3:'Flamengo',  1:'Palmeiras'}\n",
    "brasileirão = pd.Series(dicBrasileirao)\n",
    "print(brasileirão)\n",
    "print(type(brasileirão.values))"
   ]
  },
  {
   "cell_type": "markdown",
   "metadata": {},
   "source": [
    "Mesmo quando fornecido um dicionário podemos escolher apenas um subconjunto dos elementos especificando uma lista de iíndices. "
   ]
  },
  {
   "cell_type": "code",
   "execution_count": 26,
   "metadata": {},
   "outputs": [
    {
     "name": "stdout",
     "output_type": "stream",
     "text": [
      "2         Santos\n",
      "3       Flamengo\n",
      "4    Corinthians\n",
      "dtype: object\n"
     ]
    }
   ],
   "source": [
    "brasileirão = pd.Series(dicBrasileirao, index=[2,3,4])\n",
    "print(brasileirão)\n"
   ]
  },
  {
   "cell_type": "code",
   "execution_count": 48,
   "metadata": {},
   "outputs": [],
   "source": [
    "lCampBrasileiros = [('Palmeiras', 12, [1960, 1967, 1967, 1969, 1972, 1973, 1993, 1994, 2016, 2018, 2022, 2023]),\n",
    " ('Santos', 8, [1961, 1962, 1963, 1964, 1965, 1968, 2002, 2004]),\n",
    " ('Flamengo',\t8, [1980, 1982, 1983, 1987, 1992, 2009, 2019, 2020]),\n",
    " ('Corinthians', 7, [1990, 1998, 1999, 2005, 2011, 2015, 2017]),\n",
    " ('São Paulo', 6,\t[1977, 1986, 1991, 2006, 2007, 2008]),\n",
    " ('Cruzeiro',\t4, [1993, 1996, 2000, 2003, 2017, 2018]),\n",
    " ('Fluminense', 4, [1970, 1984, 2010, 2012]),\n",
    " ('Vasco', 4, [1974, 1989, 1997, 2000]),\n",
    " ('Internacional', 3,\t[1975, 1976, 1979]),\n",
    " ('Atlético-MG', 3,\t[1937, 1971, 2021]),\n",
    " ('Bahia', 2, [1959, 1988]),\n",
    " ('Botafogo', 2, [1968, 1995]),\n",
    " ('Grêmio',\t2, [1981, 1996]),\n",
    " ('Athletico-PR', 1, [2001]),\n",
    " ('Coritiba', 1, [1985]),\n",
    " ('Guarani', 1,\t[1978]),\n",
    " ('Sport', 1, [1987])]"
   ]
  },
  {
   "cell_type": "markdown",
   "metadata": {},
   "source": [
    "### __Pandas__ ``DataFrame``\n",
    "\n",
    "Da mesma forma que os objetos ``Series``, o ``DataFrame`` pode ser pensado como uma generalização de um _ndarray_ __NumPy__ ou como uma especialização de um dicionário __Python__.\n",
    "\n",
    "Se um objeto ``Series`` é análogo a uma matriz unidimensional com índices flexíveis, ``um DataFrame`` pode ser visto como uma estrutura análoga a uma matriz bidimensional com índices de linha e nomes de colunas flexíveis. Você pode pensar em um ``DataFrame`` como uma sequência de objetos ``Series`` alinhados. Aqui, por “alinhado” queremos dizer que eles compartilham o mesmo índice."
   ]
  },
  {
   "cell_type": "code",
   "execution_count": 27,
   "metadata": {},
   "outputs": [
    {
     "data": {
      "text/plain": [
       "Flamengo       46953599\n",
       "Corinthians    30444799\n",
       "Palmeiras      20225600\n",
       "Santos          6646400\n",
       "dtype: int64"
      ]
     },
     "execution_count": 27,
     "metadata": {},
     "output_type": "execute_result"
    }
   ],
   "source": [
    "torcidas= {'Flamengo':46953599, 'Corinthians':30444799, 'Palmeiras':20225600, 'Santos':6646400}\n",
    "torcidaSer = pd.Series(torcidas)\n",
    "torcidaSer "
   ]
  },
  {
   "cell_type": "code",
   "execution_count": 28,
   "metadata": {},
   "outputs": [
    {
     "data": {
      "text/plain": [
       "Santos          8\n",
       "Corinthians     7\n",
       "Flamengo        8\n",
       "Palmeiras      12\n",
       "dtype: int64"
      ]
     },
     "execution_count": 28,
     "metadata": {},
     "output_type": "execute_result"
    }
   ],
   "source": [
    "dicBrasileirao = {'Santos':8, 'Corinthians':7, 'Flamengo':8,  'Palmeiras':12}\n",
    "brasileirão = pd.Series(dicBrasileirao)\n",
    "brasileirão"
   ]
  },
  {
   "cell_type": "code",
   "execution_count": 29,
   "metadata": {},
   "outputs": [
    {
     "data": {
      "text/html": [
       "<div>\n",
       "<style scoped>\n",
       "    .dataframe tbody tr th:only-of-type {\n",
       "        vertical-align: middle;\n",
       "    }\n",
       "\n",
       "    .dataframe tbody tr th {\n",
       "        vertical-align: top;\n",
       "    }\n",
       "\n",
       "    .dataframe thead th {\n",
       "        text-align: right;\n",
       "    }\n",
       "</style>\n",
       "<table border=\"1\" class=\"dataframe\">\n",
       "  <thead>\n",
       "    <tr style=\"text-align: right;\">\n",
       "      <th></th>\n",
       "      <th>Títulos</th>\n",
       "      <th>Torcida</th>\n",
       "    </tr>\n",
       "  </thead>\n",
       "  <tbody>\n",
       "    <tr>\n",
       "      <th>Corinthians</th>\n",
       "      <td>7</td>\n",
       "      <td>30444799</td>\n",
       "    </tr>\n",
       "    <tr>\n",
       "      <th>Flamengo</th>\n",
       "      <td>8</td>\n",
       "      <td>46953599</td>\n",
       "    </tr>\n",
       "    <tr>\n",
       "      <th>Palmeiras</th>\n",
       "      <td>12</td>\n",
       "      <td>20225600</td>\n",
       "    </tr>\n",
       "    <tr>\n",
       "      <th>Santos</th>\n",
       "      <td>8</td>\n",
       "      <td>6646400</td>\n",
       "    </tr>\n",
       "  </tbody>\n",
       "</table>\n",
       "</div>"
      ],
      "text/plain": [
       "             Títulos   Torcida\n",
       "Corinthians        7  30444799\n",
       "Flamengo           8  46953599\n",
       "Palmeiras         12  20225600\n",
       "Santos             8   6646400"
      ]
     },
     "execution_count": 29,
     "metadata": {},
     "output_type": "execute_result"
    }
   ],
   "source": [
    "times = pd.DataFrame({'Títulos':brasileirão, 'Torcida':torcidaSer})\n",
    "times"
   ]
  },
  {
   "cell_type": "markdown",
   "metadata": {},
   "source": [
    "Assim como o objeto ``Series``, o ``DataFrame`` possui um atributo de índice que dá acesso aos rótulos das linhas."
   ]
  },
  {
   "cell_type": "code",
   "execution_count": 30,
   "metadata": {},
   "outputs": [
    {
     "data": {
      "text/plain": [
       "Index(['Corinthians', 'Flamengo', 'Palmeiras', 'Santos'], dtype='object')"
      ]
     },
     "execution_count": 30,
     "metadata": {},
     "output_type": "execute_result"
    }
   ],
   "source": [
    "times.index"
   ]
  },
  {
   "cell_type": "markdown",
   "metadata": {},
   "source": [
    "Além disso, o ``DataFrame`` possui um atributo ``columns``, que é um objeto Index que contém os rótulos das colunas."
   ]
  },
  {
   "cell_type": "code",
   "execution_count": 31,
   "metadata": {},
   "outputs": [
    {
     "data": {
      "text/plain": [
       "Index(['Títulos', 'Torcida'], dtype='object')"
      ]
     },
     "execution_count": 31,
     "metadata": {},
     "output_type": "execute_result"
    }
   ],
   "source": [
    "times.columns"
   ]
  },
  {
   "cell_type": "code",
   "execution_count": 32,
   "metadata": {},
   "outputs": [
    {
     "data": {
      "text/plain": [
       "array([[       7, 30444799],\n",
       "       [       8, 46953599],\n",
       "       [      12, 20225600],\n",
       "       [       8,  6646400]])"
      ]
     },
     "execution_count": 32,
     "metadata": {},
     "output_type": "execute_result"
    }
   ],
   "source": [
    "times.values"
   ]
  },
  {
   "cell_type": "code",
   "execution_count": 33,
   "metadata": {},
   "outputs": [
    {
     "data": {
      "text/plain": [
       "numpy.ndarray"
      ]
     },
     "execution_count": 33,
     "metadata": {},
     "output_type": "execute_result"
    }
   ],
   "source": [
    "type(times.values)"
   ]
  },
  {
   "cell_type": "markdown",
   "metadata": {},
   "source": [
    "Desta forma, o ``DataFrame`` pode ser pensado como uma generalização de um _ndarray_ __NumPy__ bidimensional, onde tanto as linhas quanto as colunas possuem um índice generalizado para acessar os dados."
   ]
  },
  {
   "cell_type": "markdown",
   "metadata": {},
   "source": [
    "O primeiro exemplo mostrou como criar um ``DataFrame`` a partir de duas ``Series``. Também podemos construir um ``DataFrame`` a partir de uma lista de dicionários.\n",
    "\n"
   ]
  },
  {
   "cell_type": "code",
   "execution_count": 36,
   "metadata": {},
   "outputs": [
    {
     "data": {
      "text/html": [
       "<div>\n",
       "<style scoped>\n",
       "    .dataframe tbody tr th:only-of-type {\n",
       "        vertical-align: middle;\n",
       "    }\n",
       "\n",
       "    .dataframe tbody tr th {\n",
       "        vertical-align: top;\n",
       "    }\n",
       "\n",
       "    .dataframe thead th {\n",
       "        text-align: right;\n",
       "    }\n",
       "</style>\n",
       "<table border=\"1\" class=\"dataframe\">\n",
       "  <thead>\n",
       "    <tr style=\"text-align: right;\">\n",
       "      <th></th>\n",
       "      <th>Flamengo</th>\n",
       "      <th>Corinthians</th>\n",
       "      <th>Palmeiras</th>\n",
       "      <th>Santos</th>\n",
       "    </tr>\n",
       "  </thead>\n",
       "  <tbody>\n",
       "    <tr>\n",
       "      <th>Torcida</th>\n",
       "      <td>46953599</td>\n",
       "      <td>30444799</td>\n",
       "      <td>20225600</td>\n",
       "      <td>6646400</td>\n",
       "    </tr>\n",
       "    <tr>\n",
       "      <th>Títulos</th>\n",
       "      <td>8</td>\n",
       "      <td>7</td>\n",
       "      <td>12</td>\n",
       "      <td>8</td>\n",
       "    </tr>\n",
       "  </tbody>\n",
       "</table>\n",
       "</div>"
      ],
      "text/plain": [
       "         Flamengo  Corinthians  Palmeiras   Santos\n",
       "Torcida  46953599     30444799   20225600  6646400\n",
       "Títulos         8            7         12        8"
      ]
     },
     "execution_count": 36,
     "metadata": {},
     "output_type": "execute_result"
    }
   ],
   "source": [
    "dicBrasileirao = {'Santos':8, 'Corinthians':7, 'Flamengo':8,  'Palmeiras':12}\n",
    "torcidas= {'Flamengo':46953599, 'Corinthians':30444799, 'Palmeiras':20225600, 'Santos':6646400}\n",
    "\n",
    "times = pd.DataFrame([torcidas, dicBrasileirao], index=['Torcida', 'Títulos'])\n",
    "#times = pd.DataFrame([torcidas, dicBrasileirao], columns=['Torcida', 'Títulos'])\n",
    "times"
   ]
  },
  {
   "cell_type": "markdown",
   "metadata": {},
   "source": [
    "No caso de faltarem algumas chaves nos dicionários, o __Pandas__ irá preenchê-las com valores __NaN__."
   ]
  },
  {
   "cell_type": "code",
   "execution_count": 37,
   "metadata": {},
   "outputs": [
    {
     "data": {
      "text/html": [
       "<div>\n",
       "<style scoped>\n",
       "    .dataframe tbody tr th:only-of-type {\n",
       "        vertical-align: middle;\n",
       "    }\n",
       "\n",
       "    .dataframe tbody tr th {\n",
       "        vertical-align: top;\n",
       "    }\n",
       "\n",
       "    .dataframe thead th {\n",
       "        text-align: right;\n",
       "    }\n",
       "</style>\n",
       "<table border=\"1\" class=\"dataframe\">\n",
       "  <thead>\n",
       "    <tr style=\"text-align: right;\">\n",
       "      <th></th>\n",
       "      <th>Flamengo</th>\n",
       "      <th>Corinthians</th>\n",
       "      <th>Palmeiras</th>\n",
       "      <th>Santos</th>\n",
       "      <th>São Paulo</th>\n",
       "      <th>Vasco da Gama</th>\n",
       "      <th>Cruzeiro</th>\n",
       "      <th>Grêmio</th>\n",
       "      <th>Atlético-MG</th>\n",
       "      <th>Bahia</th>\n",
       "      <th>Internacional</th>\n",
       "      <th>Fluminense</th>\n",
       "      <th>Botafogo</th>\n",
       "      <th>Sport</th>\n",
       "      <th>Athletico-PR</th>\n",
       "      <th>Coritiba</th>\n",
       "      <th>Guarani</th>\n",
       "    </tr>\n",
       "  </thead>\n",
       "  <tbody>\n",
       "    <tr>\n",
       "      <th>Torcida</th>\n",
       "      <td>46953599</td>\n",
       "      <td>30444799</td>\n",
       "      <td>20225600</td>\n",
       "      <td>6646400</td>\n",
       "      <td>22225800</td>\n",
       "      <td>13292800</td>\n",
       "      <td>13078400</td>\n",
       "      <td>9862400</td>\n",
       "      <td>9219199</td>\n",
       "      <td>7718400</td>\n",
       "      <td>7504000</td>\n",
       "      <td>7289600</td>\n",
       "      <td>4288000</td>\n",
       "      <td>4073600</td>\n",
       "      <td>NaN</td>\n",
       "      <td>NaN</td>\n",
       "      <td>NaN</td>\n",
       "    </tr>\n",
       "    <tr>\n",
       "      <th>Títulos</th>\n",
       "      <td>8</td>\n",
       "      <td>7</td>\n",
       "      <td>12</td>\n",
       "      <td>8</td>\n",
       "      <td>6</td>\n",
       "      <td>4</td>\n",
       "      <td>4</td>\n",
       "      <td>2</td>\n",
       "      <td>3</td>\n",
       "      <td>2</td>\n",
       "      <td>3</td>\n",
       "      <td>4</td>\n",
       "      <td>2</td>\n",
       "      <td>1</td>\n",
       "      <td>1.0</td>\n",
       "      <td>1.0</td>\n",
       "      <td>1.0</td>\n",
       "    </tr>\n",
       "  </tbody>\n",
       "</table>\n",
       "</div>"
      ],
      "text/plain": [
       "         Flamengo  Corinthians  Palmeiras   Santos  São Paulo  Vasco da Gama  \\\n",
       "Torcida  46953599     30444799   20225600  6646400   22225800       13292800   \n",
       "Títulos         8            7         12        8          6              4   \n",
       "\n",
       "         Cruzeiro   Grêmio  Atlético-MG    Bahia  Internacional  Fluminense  \\\n",
       "Torcida  13078400  9862400      9219199  7718400        7504000     7289600   \n",
       "Títulos         4        2            3        2              3           4   \n",
       "\n",
       "         Botafogo    Sport  Athletico-PR  Coritiba  Guarani  \n",
       "Torcida   4288000  4073600           NaN       NaN      NaN  \n",
       "Títulos         2        1           1.0       1.0      1.0  "
      ]
     },
     "execution_count": 37,
     "metadata": {},
     "output_type": "execute_result"
    }
   ],
   "source": [
    "campBrasileiros = ['Palmeiras', 'Santos', 'Flamengo', 'Corinthians', 'São Paulo', \n",
    "                   'Cruzeiro', 'Fluminense', 'Vasco da Gama', 'Internacional', 'Atlético-MG',\n",
    "                    'Bahia', 'Botafogo', 'Grêmio', 'Athletico-PR', 'Coritiba', 'Guarani', 'Sport']\n",
    "títulos = [12, 8, 8, 7, 6, 4, 4, 4, 3, 3, 2, 2, 2, 1, 1, 1, 1]\n",
    "\n",
    "for time, titulo in zip(campBrasileiros, títulos):\n",
    "    dicBrasileirao[time] = titulo\n",
    "\n",
    "times = ['Flamengo', 'Corinthians', 'São Paulo', 'Palmeiras', 'Vasco da Gama', 'Cruzeiro', \n",
    "         'Grêmio', 'Atlético-MG', 'Bahia', 'Internacional', 'Fluminense', 'Santos', 'Botafogo', 'Sport']\n",
    "\n",
    "torcida = [46953599, 30444799, 22225800, 20225600, 13292800, 13078400, 9862400, 9219199, \n",
    "           7718400, 7504000, 7289600, 6646400, 4288000, 4073600]\n",
    "\n",
    "for time, torc in zip(times, torcida):\n",
    "    torcidas[time] = torc\n",
    "\n",
    "times = pd.DataFrame([torcidas, dicBrasileirao], index=['Torcida', 'Títulos'])\n",
    "times"
   ]
  },
  {
   "cell_type": "markdown",
   "metadata": {},
   "source": [
    "Podemos utilizar também dicionários de ``Series``."
   ]
  },
  {
   "cell_type": "code",
   "execution_count": 38,
   "metadata": {},
   "outputs": [
    {
     "data": {
      "text/html": [
       "<div>\n",
       "<style scoped>\n",
       "    .dataframe tbody tr th:only-of-type {\n",
       "        vertical-align: middle;\n",
       "    }\n",
       "\n",
       "    .dataframe tbody tr th {\n",
       "        vertical-align: top;\n",
       "    }\n",
       "\n",
       "    .dataframe thead th {\n",
       "        text-align: right;\n",
       "    }\n",
       "</style>\n",
       "<table border=\"1\" class=\"dataframe\">\n",
       "  <thead>\n",
       "    <tr style=\"text-align: right;\">\n",
       "      <th></th>\n",
       "      <th>Títulos</th>\n",
       "      <th>Torcida</th>\n",
       "    </tr>\n",
       "  </thead>\n",
       "  <tbody>\n",
       "    <tr>\n",
       "      <th>Athletico-PR</th>\n",
       "      <td>1</td>\n",
       "      <td>NaN</td>\n",
       "    </tr>\n",
       "    <tr>\n",
       "      <th>Atlético-MG</th>\n",
       "      <td>3</td>\n",
       "      <td>9219199.0</td>\n",
       "    </tr>\n",
       "    <tr>\n",
       "      <th>Bahia</th>\n",
       "      <td>2</td>\n",
       "      <td>7718400.0</td>\n",
       "    </tr>\n",
       "    <tr>\n",
       "      <th>Botafogo</th>\n",
       "      <td>2</td>\n",
       "      <td>4288000.0</td>\n",
       "    </tr>\n",
       "    <tr>\n",
       "      <th>Corinthians</th>\n",
       "      <td>7</td>\n",
       "      <td>30444799.0</td>\n",
       "    </tr>\n",
       "    <tr>\n",
       "      <th>Coritiba</th>\n",
       "      <td>1</td>\n",
       "      <td>NaN</td>\n",
       "    </tr>\n",
       "    <tr>\n",
       "      <th>Cruzeiro</th>\n",
       "      <td>4</td>\n",
       "      <td>13078400.0</td>\n",
       "    </tr>\n",
       "    <tr>\n",
       "      <th>Flamengo</th>\n",
       "      <td>8</td>\n",
       "      <td>46953599.0</td>\n",
       "    </tr>\n",
       "    <tr>\n",
       "      <th>Fluminense</th>\n",
       "      <td>4</td>\n",
       "      <td>7289600.0</td>\n",
       "    </tr>\n",
       "    <tr>\n",
       "      <th>Grêmio</th>\n",
       "      <td>2</td>\n",
       "      <td>9862400.0</td>\n",
       "    </tr>\n",
       "    <tr>\n",
       "      <th>Guarani</th>\n",
       "      <td>1</td>\n",
       "      <td>NaN</td>\n",
       "    </tr>\n",
       "    <tr>\n",
       "      <th>Internacional</th>\n",
       "      <td>3</td>\n",
       "      <td>7504000.0</td>\n",
       "    </tr>\n",
       "    <tr>\n",
       "      <th>Palmeiras</th>\n",
       "      <td>12</td>\n",
       "      <td>20225600.0</td>\n",
       "    </tr>\n",
       "    <tr>\n",
       "      <th>Santos</th>\n",
       "      <td>8</td>\n",
       "      <td>6646400.0</td>\n",
       "    </tr>\n",
       "    <tr>\n",
       "      <th>Sport</th>\n",
       "      <td>1</td>\n",
       "      <td>4073600.0</td>\n",
       "    </tr>\n",
       "    <tr>\n",
       "      <th>São Paulo</th>\n",
       "      <td>6</td>\n",
       "      <td>22225800.0</td>\n",
       "    </tr>\n",
       "    <tr>\n",
       "      <th>Vasco da Gama</th>\n",
       "      <td>4</td>\n",
       "      <td>13292800.0</td>\n",
       "    </tr>\n",
       "  </tbody>\n",
       "</table>\n",
       "</div>"
      ],
      "text/plain": [
       "               Títulos     Torcida\n",
       "Athletico-PR         1         NaN\n",
       "Atlético-MG          3   9219199.0\n",
       "Bahia                2   7718400.0\n",
       "Botafogo             2   4288000.0\n",
       "Corinthians          7  30444799.0\n",
       "Coritiba             1         NaN\n",
       "Cruzeiro             4  13078400.0\n",
       "Flamengo             8  46953599.0\n",
       "Fluminense           4   7289600.0\n",
       "Grêmio               2   9862400.0\n",
       "Guarani              1         NaN\n",
       "Internacional        3   7504000.0\n",
       "Palmeiras           12  20225600.0\n",
       "Santos               8   6646400.0\n",
       "Sport                1   4073600.0\n",
       "São Paulo            6  22225800.0\n",
       "Vasco da Gama        4  13292800.0"
      ]
     },
     "execution_count": 38,
     "metadata": {},
     "output_type": "execute_result"
    }
   ],
   "source": [
    "campBrasileiros = ['Palmeiras', 'Santos', 'Flamengo', 'Corinthians', 'São Paulo', \n",
    "                   'Cruzeiro', 'Fluminense', 'Vasco da Gama', 'Internacional', 'Atlético-MG',\n",
    "                    'Bahia', 'Botafogo', 'Grêmio', 'Athletico-PR', 'Coritiba', 'Guarani', 'Sport']\n",
    "títulos = [12, 8, 8, 7, 6, 4, 4, 4, 3, 3, 2, 2, 2, 1, 1, 1, 1]\n",
    "\n",
    "for time, titulo in zip(campBrasileiros, títulos):\n",
    "    dicBrasileirao[time] = titulo\n",
    "\n",
    "timTitulos = pd.Series(dicBrasileirao)\n",
    "\n",
    "times = ['Flamengo', 'Corinthians', 'São Paulo', 'Palmeiras', 'Vasco da Gama', 'Cruzeiro', \n",
    "         'Grêmio', 'Atlético-MG', 'Bahia', 'Internacional', 'Fluminense', 'Santos', 'Botafogo', 'Sport']\n",
    "\n",
    "torcida = [46953599, 30444799, 22225800, 20225600, 13292800, 13078400, 9862400, 9219199, \n",
    "           7718400, 7504000, 7289600, 6646400, 4288000, 4073600]\n",
    "\n",
    "for time, torc in zip(times, torcida):\n",
    "    torcidas[time] = torc\n",
    "\n",
    "timTorcida = pd.Series(torcidas)\n",
    "\n",
    "times = pd.DataFrame({'Títulos':timTitulos, 'Torcida':timTorcida})\n",
    "times"
   ]
  },
  {
   "cell_type": "markdown",
   "metadata": {},
   "source": [
    "E, pensando num ``DataFrame`` como um generalização de um _ndarray_ __NumPy__ bidimensional, podemos construir um ``DataFrame`` usando uma _ndarray_."
   ]
  },
  {
   "cell_type": "code",
   "execution_count": 39,
   "metadata": {},
   "outputs": [
    {
     "name": "stdout",
     "output_type": "stream",
     "text": [
      "[[      12 20225600]\n",
      " [       8  6646400]\n",
      " [       8 46953599]\n",
      " [       7 30444799]]\n",
      "             Títulos   Torcida\n",
      "Palmeiras         12  20225600\n",
      "Santos             8   6646400\n",
      "Flamengo           8  46953599\n",
      "Corinthians        7  30444799\n"
     ]
    }
   ],
   "source": [
    "títulos = [12, 8, 8, 7]\n",
    "torcida = [20225600, 6646400, 46953599, 30444799]\n",
    "tittor = np.array([títulos, torcida])\n",
    "print(tittor.T)\n",
    "tittor = pd.DataFrame(tittor.T, columns=['Títulos', 'Torcida'], \n",
    "                      index=['Palmeiras', 'Santos', 'Flamengo', 'Corinthians'])\n",
    "\n",
    "print(tittor)"
   ]
  },
  {
   "cell_type": "markdown",
   "metadata": {},
   "source": [
    "Podemos ainda utilizar um _ndarray_ estruturado, como o que vimos na aula anterior para construir um ``DataFRame``"
   ]
  },
  {
   "cell_type": "code",
   "execution_count": 41,
   "metadata": {},
   "outputs": [
    {
     "name": "stdout",
     "output_type": "stream",
     "text": [
      "[('nomeAluno01', 942, 2.204203 ) ('nomeAluno02', 873, 5.3311543)\n",
      " ('nomeAluno03', 565, 0.6541272) ('nomeAluno04', 286, 6.7093115)]\n"
     ]
    }
   ],
   "source": [
    "alunos = ['nomeAluno01', 'nomeAluno02', 'nomeAluno03', 'nomeAluno04']\n",
    "matrícula = np.random.randint(0, 1000, 4)\n",
    "prova_1 = np.random.uniform(0, 10, 4)\n",
    "\n",
    "data = np.zeros(4, dtype={'names':('nome', 'nMatricula', 'prova_1'),\n",
    "                          'formats':('U50', 'i4', 'f4')})\n",
    "\n",
    "data['nome'] = alunos\n",
    "data['nMatricula'] = matrícula\n",
    "data['prova_1'] = prova_1\n",
    "print(data)"
   ]
  },
  {
   "cell_type": "code",
   "execution_count": 42,
   "metadata": {},
   "outputs": [
    {
     "name": "stdout",
     "output_type": "stream",
     "text": [
      "          nome  nMatricula   prova_1\n",
      "0  nomeAluno01         942  2.204203\n",
      "1  nomeAluno02         873  5.331154\n",
      "2  nomeAluno03         565  0.654127\n",
      "3  nomeAluno04         286  6.709311\n"
     ]
    }
   ],
   "source": [
    "dataDF = pd.DataFrame(data)\n",
    "print(dataDF)"
   ]
  },
  {
   "cell_type": "markdown",
   "metadata": {},
   "source": [
    "## __Pandas__ ``Index``\n",
    "\n",
    "Vimos aqui que ambos os objetos ``Series`` e ``DataFrame`` contêm um __índice__ explícito que permite referenciar e modificar dados.\n",
    "Trata-se de um objeto ``Index`` que pode ser pensado como um _matriz imutável_ ou como um _conjunto ordenado_.\n",
    "Vamos entender algumas das operações que podem ser feitas com objetos da classe ``Index``.\n",
    "\n",
    "Vamos começar criando um ``Index`` mais clássico. "
   ]
  },
  {
   "cell_type": "code",
   "execution_count": 43,
   "metadata": {},
   "outputs": [
    {
     "data": {
      "text/plain": [
       "Index([0, 1, 2, 3, 4], dtype='int64')"
      ]
     },
     "execution_count": 43,
     "metadata": {},
     "output_type": "execute_result"
    }
   ],
   "source": [
    "índice = pd.Index([i for i in range(5)])\n",
    "índice"
   ]
  },
  {
   "cell_type": "markdown",
   "metadata": {},
   "source": [
    "O ``Index`` funciona em, alguns contextos, como um array. Por exemplo, podemos usar a notação de indexação padrão do __Python__ para recuperar valores ou _slicings_."
   ]
  },
  {
   "cell_type": "code",
   "execution_count": 44,
   "metadata": {},
   "outputs": [
    {
     "name": "stdout",
     "output_type": "stream",
     "text": [
      "0\n",
      "4\n",
      "Index([1, 2], dtype='int64')\n"
     ]
    }
   ],
   "source": [
    "print(índice[0])\n",
    "print(índice[-1])\n",
    "print(índice[1:3])"
   ]
  },
  {
   "cell_type": "markdown",
   "metadata": {},
   "source": [
    "Os objetos da classe ``Index`` também tem muitos dos atributos presentes nos _ndarrays_ __NumPy__."
   ]
  },
  {
   "cell_type": "code",
   "execution_count": 45,
   "metadata": {},
   "outputs": [
    {
     "name": "stdout",
     "output_type": "stream",
     "text": [
      "5 (5,) 1 int64\n"
     ]
    }
   ],
   "source": [
    "print(índice.size, índice.shape, índice.ndim, índice.dtype)"
   ]
  },
  {
   "cell_type": "markdown",
   "metadata": {},
   "source": [
    "Entretanto os objetos ``Index`` são imutáveis, ou seja, eles não podem ser modificados pelos meios normais."
   ]
  },
  {
   "cell_type": "code",
   "execution_count": 46,
   "metadata": {},
   "outputs": [
    {
     "name": "stdout",
     "output_type": "stream",
     "text": [
      "Index does not support mutable operations\n"
     ]
    }
   ],
   "source": [
    "try:\n",
    "    índice[0] = 1\n",
    "except Exception as e:\n",
    "    print(e)"
   ]
  },
  {
   "cell_type": "markdown",
   "metadata": {},
   "source": [
    "## Indexando objetos __Pandas__\n",
    "\n",
    "Já abordamos os principais objetos deo __Pandas__ e suas principais características. Eles guardam uma relação estreita com os _ndarrays_ de __NumPy__ dos quais vimos as diversas formas de acessar e modificar. \n",
    "\n",
    "Seja utilizando indexação direta, _slicing_, mascaramento ou alguma combinação das opções anteriores, os _ndarrays_ podem ser manipulados de forma muito eficiente. \n",
    "\n",
    "Mas como acessar os objetos __Pandas__? Os padrões utilizados no __Pandas__ parecerão muito familiares para quem domina os objetos __NumPy__, ainda que existam algumas peculiaridades a serem observadas."
   ]
  },
  {
   "cell_type": "markdown",
   "metadata": {},
   "source": [
    "### Acessando ``Series``\n",
    "\n",
    "Como já vimos, o objeto ``Series``, da mesma forma que um dicionário, fornece um mapeamento de uma coleção de chaves para uma coleção de valores."
   ]
  },
  {
   "cell_type": "code",
   "execution_count": 49,
   "metadata": {},
   "outputs": [
    {
     "name": "stdout",
     "output_type": "stream",
     "text": [
      "[('Palmeiras', 12, [1960, 1967, 1967, 1969, 1972, 1973, 1993, 1994, 2016, 2018, 2022, 2023]), ('Santos', 8, [1961, 1962, 1963, 1964, 1965, 1968, 2002, 2004]), ('Flamengo', 8, [1980, 1982, 1983, 1987, 1992, 2009, 2019, 2020]), ('Corinthians', 7, [1990, 1998, 1999, 2005, 2011, 2015, 2017]), ('São Paulo', 6, [1977, 1986, 1991, 2006, 2007, 2008]), ('Cruzeiro', 4, [1993, 1996, 2000, 2003, 2017, 2018]), ('Fluminense', 4, [1970, 1984, 2010, 2012]), ('Vasco', 4, [1974, 1989, 1997, 2000]), ('Internacional', 3, [1975, 1976, 1979]), ('Atlético-MG', 3, [1937, 1971, 2021]), ('Bahia', 2, [1959, 1988]), ('Botafogo', 2, [1968, 1995]), ('Grêmio', 2, [1981, 1996]), ('Athletico-PR', 1, [2001]), ('Coritiba', 1, [1985]), ('Guarani', 1, [1978]), ('Sport', 1, [1987])]\n",
      "{'1960': 'Palmeiras', '1967': 'Palmeiras', '1969': 'Palmeiras', '1972': 'Palmeiras', '1973': 'Palmeiras', '1993': 'Cruzeiro', '1994': 'Palmeiras', '2016': 'Palmeiras', '2018': 'Cruzeiro', '2022': 'Palmeiras', '2023': 'Palmeiras', '1961': 'Santos', '1962': 'Santos', '1963': 'Santos', '1964': 'Santos', '1965': 'Santos', '1968': 'Botafogo', '2002': 'Santos', '2004': 'Santos', '1980': 'Flamengo', '1982': 'Flamengo', '1983': 'Flamengo', '1987': 'Sport', '1992': 'Flamengo', '2009': 'Flamengo', '2019': 'Flamengo', '2020': 'Flamengo', '1990': 'Corinthians', '1998': 'Corinthians', '1999': 'Corinthians', '2005': 'Corinthians', '2011': 'Corinthians', '2015': 'Corinthians', '2017': 'Cruzeiro', '1977': 'São Paulo', '1986': 'São Paulo', '1991': 'São Paulo', '2006': 'São Paulo', '2007': 'São Paulo', '2008': 'São Paulo', '1996': 'Grêmio', '2000': 'Vasco', '2003': 'Cruzeiro', '1970': 'Fluminense', '1984': 'Fluminense', '2010': 'Fluminense', '2012': 'Fluminense', '1974': 'Vasco', '1989': 'Vasco', '1997': 'Vasco', '1975': 'Internacional', '1976': 'Internacional', '1979': 'Internacional', '1937': 'Atlético-MG', '1971': 'Atlético-MG', '2021': 'Atlético-MG', '1959': 'Bahia', '1988': 'Bahia', '1995': 'Botafogo', '1981': 'Grêmio', '2001': 'Athletico-PR', '1985': 'Coritiba', '1978': 'Guarani'}\n",
      "1960       Palmeiras\n",
      "1967       Palmeiras\n",
      "1969       Palmeiras\n",
      "1972       Palmeiras\n",
      "1973       Palmeiras\n",
      "            ...     \n",
      "1995        Botafogo\n",
      "1981          Grêmio\n",
      "2001    Athletico-PR\n",
      "1985        Coritiba\n",
      "1978         Guarani\n",
      "Length: 63, dtype: object\n"
     ]
    }
   ],
   "source": [
    "print(lCampBrasileiros)\n",
    "dCampBrasileiros = {}\n",
    "for time, títulos, anos in lCampBrasileiros:\n",
    "   for ano in anos:\n",
    "       dCampBrasileiros[str(ano)] = time\n",
    "print(dCampBrasileiros)\n",
    "sCampBrasileiros = pd.Series(dCampBrasileiros)\n",
    "print(sCampBrasileiros)"
   ]
  },
  {
   "cell_type": "markdown",
   "metadata": {},
   "source": [
    "Podemos acessar então utilizando as chaves."
   ]
  },
  {
   "cell_type": "code",
   "execution_count": 50,
   "metadata": {},
   "outputs": [
    {
     "name": "stdout",
     "output_type": "stream",
     "text": [
      "O campeão de 1987 foi o Sport\n"
     ]
    }
   ],
   "source": [
    "print(\"O campeão de 1987 foi o\", sCampBrasileiros['1987'])"
   ]
  },
  {
   "cell_type": "markdown",
   "metadata": {},
   "source": [
    "Podemos pesquisar por uma chave para saber se ela faz parte do objeto."
   ]
  },
  {
   "cell_type": "code",
   "execution_count": 52,
   "metadata": {},
   "outputs": [
    {
     "data": {
      "text/plain": [
       "False"
      ]
     },
     "execution_count": 52,
     "metadata": {},
     "output_type": "execute_result"
    }
   ],
   "source": [
    "'2019' in sCampBrasileiros  \n",
    "2019 in sCampBrasileiros"
   ]
  },
  {
   "cell_type": "markdown",
   "metadata": {},
   "source": [
    "Temos então um índice de chaves."
   ]
  },
  {
   "cell_type": "code",
   "execution_count": 53,
   "metadata": {},
   "outputs": [
    {
     "data": {
      "text/plain": [
       "Index(['1937', '1959', '1960', '1961', '1962', '1963', '1964', '1965', '1967',\n",
       "       '1968', '1969', '1970', '1971', '1972', '1973', '1974', '1975', '1976',\n",
       "       '1977', '1978', '1979', '1980', '1981', '1982', '1983', '1984', '1985',\n",
       "       '1986', '1987', '1988', '1989', '1990', '1991', '1992', '1993', '1994',\n",
       "       '1995', '1996', '1997', '1998', '1999', '2000', '2001', '2002', '2003',\n",
       "       '2004', '2005', '2006', '2007', '2008', '2009', '2010', '2011', '2012',\n",
       "       '2015', '2016', '2017', '2018', '2019', '2020', '2021', '2022', '2023'],\n",
       "      dtype='object')"
      ]
     },
     "execution_count": 53,
     "metadata": {},
     "output_type": "execute_result"
    }
   ],
   "source": [
    "sCampBrasileiros.keys().sort_values()"
   ]
  },
  {
   "cell_type": "code",
   "execution_count": 54,
   "metadata": {},
   "outputs": [
    {
     "data": {
      "text/plain": [
       "[('1960', 'Palmeiras'),\n",
       " ('1967', 'Palmeiras'),\n",
       " ('1969', 'Palmeiras'),\n",
       " ('1972', 'Palmeiras'),\n",
       " ('1973', 'Palmeiras'),\n",
       " ('1993', 'Cruzeiro'),\n",
       " ('1994', 'Palmeiras'),\n",
       " ('2016', 'Palmeiras'),\n",
       " ('2018', 'Cruzeiro'),\n",
       " ('2022', 'Palmeiras'),\n",
       " ('2023', 'Palmeiras'),\n",
       " ('1961', 'Santos'),\n",
       " ('1962', 'Santos'),\n",
       " ('1963', 'Santos'),\n",
       " ('1964', 'Santos'),\n",
       " ('1965', 'Santos'),\n",
       " ('1968', 'Botafogo'),\n",
       " ('2002', 'Santos'),\n",
       " ('2004', 'Santos'),\n",
       " ('1980', 'Flamengo'),\n",
       " ('1982', 'Flamengo'),\n",
       " ('1983', 'Flamengo'),\n",
       " ('1987', 'Sport'),\n",
       " ('1992', 'Flamengo'),\n",
       " ('2009', 'Flamengo'),\n",
       " ('2019', 'Flamengo'),\n",
       " ('2020', 'Flamengo'),\n",
       " ('1990', 'Corinthians'),\n",
       " ('1998', 'Corinthians'),\n",
       " ('1999', 'Corinthians'),\n",
       " ('2005', 'Corinthians'),\n",
       " ('2011', 'Corinthians'),\n",
       " ('2015', 'Corinthians'),\n",
       " ('2017', 'Cruzeiro'),\n",
       " ('1977', 'São Paulo'),\n",
       " ('1986', 'São Paulo'),\n",
       " ('1991', 'São Paulo'),\n",
       " ('2006', 'São Paulo'),\n",
       " ('2007', 'São Paulo'),\n",
       " ('2008', 'São Paulo'),\n",
       " ('1996', 'Grêmio'),\n",
       " ('2000', 'Vasco'),\n",
       " ('2003', 'Cruzeiro'),\n",
       " ('1970', 'Fluminense'),\n",
       " ('1984', 'Fluminense'),\n",
       " ('2010', 'Fluminense'),\n",
       " ('2012', 'Fluminense'),\n",
       " ('1974', 'Vasco'),\n",
       " ('1989', 'Vasco'),\n",
       " ('1997', 'Vasco'),\n",
       " ('1975', 'Internacional'),\n",
       " ('1976', 'Internacional'),\n",
       " ('1979', 'Internacional'),\n",
       " ('1937', 'Atlético-MG'),\n",
       " ('1971', 'Atlético-MG'),\n",
       " ('2021', 'Atlético-MG'),\n",
       " ('1959', 'Bahia'),\n",
       " ('1988', 'Bahia'),\n",
       " ('1995', 'Botafogo'),\n",
       " ('1981', 'Grêmio'),\n",
       " ('2001', 'Athletico-PR'),\n",
       " ('1985', 'Coritiba'),\n",
       " ('1978', 'Guarani')]"
      ]
     },
     "execution_count": 54,
     "metadata": {},
     "output_type": "execute_result"
    }
   ],
   "source": [
    "list(sCampBrasileiros.items())"
   ]
  },
  {
   "cell_type": "markdown",
   "metadata": {},
   "source": [
    "Podemos então modificar os itens acessando via chave. Mais ainda, objetos ``Series`` podem ser incrementados da mesma forma que um dicionário: atribuindo uma nova chave com um valor."
   ]
  },
  {
   "cell_type": "code",
   "execution_count": 55,
   "metadata": {},
   "outputs": [
    {
     "name": "stdout",
     "output_type": "stream",
     "text": [
      "1981           Grêmio\n",
      "2001     Athletico-PR\n",
      "1985         Coritiba\n",
      "1978          Guarani\n",
      "2024    Vasco da Gama\n",
      "dtype: object\n"
     ]
    }
   ],
   "source": [
    "sCampBrasileiros['2024'] = 'Vasco da Gama'\n",
    "print(sCampBrasileiros[-5:])"
   ]
  },
  {
   "cell_type": "markdown",
   "metadata": {},
   "source": [
    "A classe ``Series`` utiliza então uma interface semelhante à de um dicionário. Entretanto ela fornece também a possibilidade de selecionar itens no estilo array, por meio dos mesmos mecanismos básicos dos _ndarrays_ __NumPy__."
   ]
  },
  {
   "cell_type": "code",
   "execution_count": 56,
   "metadata": {},
   "outputs": [
    {
     "name": "stdout",
     "output_type": "stream",
     "text": [
      "1960    Palmeiras\n",
      "1967    Palmeiras\n",
      "1969    Palmeiras\n",
      "1972    Palmeiras\n",
      "dtype: object\n"
     ]
    }
   ],
   "source": [
    "print(sCampBrasileiros[:'1972']) # Dúvida aqui..."
   ]
  },
  {
   "cell_type": "markdown",
   "metadata": {},
   "source": [
    "Ainda que tenhamos definidos os índices explicitamente como uma lista de strings, os objetos ``Series``possuem um índice implícito inteiro."
   ]
  },
  {
   "cell_type": "code",
   "execution_count": 57,
   "metadata": {},
   "outputs": [
    {
     "name": "stdout",
     "output_type": "stream",
     "text": [
      "1960    Palmeiras\n",
      "1967    Palmeiras\n",
      "1969    Palmeiras\n",
      "dtype: object\n"
     ]
    }
   ],
   "source": [
    "print(sCampBrasileiros[:3])"
   ]
  },
  {
   "cell_type": "markdown",
   "metadata": {},
   "source": [
    "Podemos também utilizar máscaras."
   ]
  },
  {
   "cell_type": "code",
   "execution_count": 58,
   "metadata": {},
   "outputs": [
    {
     "data": {
      "text/plain": [
       "1993         Cruzeiro\n",
       "2018         Cruzeiro\n",
       "1968         Botafogo\n",
       "1987            Sport\n",
       "2017         Cruzeiro\n",
       "1977        São Paulo\n",
       "1986        São Paulo\n",
       "1991        São Paulo\n",
       "2006        São Paulo\n",
       "2007        São Paulo\n",
       "2008        São Paulo\n",
       "1996           Grêmio\n",
       "2000            Vasco\n",
       "2003         Cruzeiro\n",
       "1970       Fluminense\n",
       "1984       Fluminense\n",
       "2010       Fluminense\n",
       "2012       Fluminense\n",
       "1974            Vasco\n",
       "1989            Vasco\n",
       "1997            Vasco\n",
       "1975    Internacional\n",
       "1976    Internacional\n",
       "1979    Internacional\n",
       "1937      Atlético-MG\n",
       "1971      Atlético-MG\n",
       "2021      Atlético-MG\n",
       "1959            Bahia\n",
       "1988            Bahia\n",
       "1995         Botafogo\n",
       "1981           Grêmio\n",
       "2001     Athletico-PR\n",
       "1985         Coritiba\n",
       "1978          Guarani\n",
       "2024    Vasco da Gama\n",
       "dtype: object"
      ]
     },
     "execution_count": 58,
     "metadata": {},
     "output_type": "execute_result"
    }
   ],
   "source": [
    "sCampBrasileiros[(sCampBrasileiros != 'Flamengo') & \n",
    "                  (sCampBrasileiros!= 'Corinthians') &\n",
    "                  (sCampBrasileiros != 'Palmeiras') &\n",
    "                  (sCampBrasileiros != 'Santos')]"
   ]
  },
  {
   "cell_type": "code",
   "execution_count": 59,
   "metadata": {},
   "outputs": [
    {
     "data": {
      "text/plain": [
       "2020         Flamengo\n",
       "2021      Atlético-MG\n",
       "2022        Palmeiras\n",
       "2023        Palmeiras\n",
       "2024    Vasco da Gama\n",
       "dtype: object"
      ]
     },
     "execution_count": 59,
     "metadata": {},
     "output_type": "execute_result"
    }
   ],
   "source": [
    "sCampBrasileiros[['2020', '2021', '2022', '2023', '2024']]"
   ]
  },
  {
   "cell_type": "markdown",
   "metadata": {},
   "source": [
    "Repare que, no _slicing_ com o índice explícito o índice final é incluído na fatia, enquanto ao fatiar com um índice implícito o índice final é excluído da fatia, como esperado.\n",
    "\n",
    "Reparem que, apesar dos anos serem números inteiros, a lista de índices foi criada com uma lista de strings. \n",
    "\n",
    "O problema é que, se sua ``Series`` tiver um índice inteiro explícito, uma operação de indexação como ``sCampBrasileiros[1960]`` usará os índices explícitos, enquanto uma operação de _slicing_ como ``sCampBrasileiros[:1960]`` usará o índice implícito no estilo __Python__."
   ]
  },
  {
   "cell_type": "code",
   "execution_count": 60,
   "metadata": {},
   "outputs": [
    {
     "name": "stdout",
     "output_type": "stream",
     "text": [
      "1    nomeAluno01\n",
      "2    nomeAluno02\n",
      "3    nomeAluno03\n",
      "4    nomeAluno04\n",
      "dtype: object\n"
     ]
    }
   ],
   "source": [
    "alunos = pd.Series(['nomeAluno01', 'nomeAluno02', 'nomeAluno03', 'nomeAluno04'],\n",
    "                   index=[1, 2, 3, 4])\n",
    "\n",
    "print(alunos)"
   ]
  },
  {
   "cell_type": "code",
   "execution_count": 61,
   "metadata": {},
   "outputs": [
    {
     "name": "stdout",
     "output_type": "stream",
     "text": [
      "nomeAluno02\n"
     ]
    }
   ],
   "source": [
    "print(alunos[2])"
   ]
  },
  {
   "cell_type": "code",
   "execution_count": 62,
   "metadata": {},
   "outputs": [
    {
     "name": "stdout",
     "output_type": "stream",
     "text": [
      "1    nomeAluno01\n",
      "2    nomeAluno02\n",
      "dtype: object\n"
     ]
    }
   ],
   "source": [
    "print(alunos.loc[:2])"
   ]
  },
  {
   "cell_type": "markdown",
   "metadata": {},
   "source": [
    "Devido a essa confusão potencial no caso de índices inteiros, o __Pandas__ fornece alguns atributos especiais que expõem o esquemas de indexação.\n",
    "\n",
    "Primeiro, o atributo ``loc`` permite indexação e _slicing_ que sempre faz referência ao índice explícito."
   ]
  },
  {
   "cell_type": "code",
   "execution_count": 63,
   "metadata": {},
   "outputs": [
    {
     "data": {
      "text/plain": [
       "'nomeAluno02'"
      ]
     },
     "execution_count": 63,
     "metadata": {},
     "output_type": "execute_result"
    }
   ],
   "source": [
    "alunos.loc[2]"
   ]
  },
  {
   "cell_type": "code",
   "execution_count": 64,
   "metadata": {},
   "outputs": [
    {
     "data": {
      "text/plain": [
       "1    nomeAluno01\n",
       "2    nomeAluno02\n",
       "dtype: object"
      ]
     },
     "execution_count": 64,
     "metadata": {},
     "output_type": "execute_result"
    }
   ],
   "source": [
    "alunos.loc[:2]"
   ]
  },
  {
   "cell_type": "markdown",
   "metadata": {},
   "source": [
    "O atributo ``iloc`` permite indexação e _slicing_ que sempre faz referência ao índice implícito no estilo __Python__:"
   ]
  },
  {
   "cell_type": "code",
   "execution_count": 65,
   "metadata": {},
   "outputs": [
    {
     "data": {
      "text/plain": [
       "'nomeAluno03'"
      ]
     },
     "execution_count": 65,
     "metadata": {},
     "output_type": "execute_result"
    }
   ],
   "source": [
    "alunos.iloc[2]"
   ]
  },
  {
   "cell_type": "code",
   "execution_count": 66,
   "metadata": {},
   "outputs": [
    {
     "data": {
      "text/plain": [
       "1    nomeAluno01\n",
       "2    nomeAluno02\n",
       "dtype: object"
      ]
     },
     "execution_count": 66,
     "metadata": {},
     "output_type": "execute_result"
    }
   ],
   "source": [
    "alunos.iloc[:2]"
   ]
  },
  {
   "cell_type": "markdown",
   "metadata": {},
   "source": [
    "Um princípio orientador do código __Python__ é que “explícito é melhor que implícito”.\n",
    "A natureza explícita de ``loc`` e ``iloc`` os torna muito úteis na manutenção de código limpo e legível, especialmente no caso de índices inteiros."
   ]
  },
  {
   "cell_type": "code",
   "execution_count": 67,
   "metadata": {},
   "outputs": [
    {
     "name": "stdout",
     "output_type": "stream",
     "text": [
      "The Zen of Python, by Tim Peters\n",
      "\n",
      "Beautiful is better than ugly.\n",
      "Explicit is better than implicit.\n",
      "Simple is better than complex.\n",
      "Complex is better than complicated.\n",
      "Flat is better than nested.\n",
      "Sparse is better than dense.\n",
      "Readability counts.\n",
      "Special cases aren't special enough to break the rules.\n",
      "Although practicality beats purity.\n",
      "Errors should never pass silently.\n",
      "Unless explicitly silenced.\n",
      "In the face of ambiguity, refuse the temptation to guess.\n",
      "There should be one-- and preferably only one --obvious way to do it.\n",
      "Although that way may not be obvious at first unless you're Dutch.\n",
      "Now is better than never.\n",
      "Although never is often better than *right* now.\n",
      "If the implementation is hard to explain, it's a bad idea.\n",
      "If the implementation is easy to explain, it may be a good idea.\n",
      "Namespaces are one honking great idea -- let's do more of those!\n"
     ]
    }
   ],
   "source": [
    "import this "
   ]
  },
  {
   "cell_type": "markdown",
   "metadata": {},
   "source": [
    "## Acessando ``DataFrame``\n",
    "\n",
    "Como vimoa anteriormente, um ``DataFrame`` pode ser tratado de muitas maneiras: como um array bidimensional ou estruturado, e de outras maneiras como um dicionário de estruturas ``Series`` compartilhando o mesmo índice.\n",
    "\n",
    "A primeira analogia que consideraremos é o DataFrame como um dicionário de objetos ``Series``."
   ]
  },
  {
   "cell_type": "code",
   "execution_count": 68,
   "metadata": {},
   "outputs": [
    {
     "data": {
      "text/html": [
       "<div>\n",
       "<style scoped>\n",
       "    .dataframe tbody tr th:only-of-type {\n",
       "        vertical-align: middle;\n",
       "    }\n",
       "\n",
       "    .dataframe tbody tr th {\n",
       "        vertical-align: top;\n",
       "    }\n",
       "\n",
       "    .dataframe thead th {\n",
       "        text-align: right;\n",
       "    }\n",
       "</style>\n",
       "<table border=\"1\" class=\"dataframe\">\n",
       "  <thead>\n",
       "    <tr style=\"text-align: right;\">\n",
       "      <th></th>\n",
       "      <th>Títulos</th>\n",
       "      <th>Torcida</th>\n",
       "    </tr>\n",
       "  </thead>\n",
       "  <tbody>\n",
       "    <tr>\n",
       "      <th>Athletico-PR</th>\n",
       "      <td>1</td>\n",
       "      <td>NaN</td>\n",
       "    </tr>\n",
       "    <tr>\n",
       "      <th>Atlético-MG</th>\n",
       "      <td>3</td>\n",
       "      <td>9219199.0</td>\n",
       "    </tr>\n",
       "    <tr>\n",
       "      <th>Bahia</th>\n",
       "      <td>2</td>\n",
       "      <td>7718400.0</td>\n",
       "    </tr>\n",
       "    <tr>\n",
       "      <th>Botafogo</th>\n",
       "      <td>2</td>\n",
       "      <td>4288000.0</td>\n",
       "    </tr>\n",
       "    <tr>\n",
       "      <th>Corinthians</th>\n",
       "      <td>7</td>\n",
       "      <td>30444799.0</td>\n",
       "    </tr>\n",
       "    <tr>\n",
       "      <th>Coritiba</th>\n",
       "      <td>1</td>\n",
       "      <td>NaN</td>\n",
       "    </tr>\n",
       "    <tr>\n",
       "      <th>Cruzeiro</th>\n",
       "      <td>4</td>\n",
       "      <td>13078400.0</td>\n",
       "    </tr>\n",
       "    <tr>\n",
       "      <th>Flamengo</th>\n",
       "      <td>8</td>\n",
       "      <td>46953599.0</td>\n",
       "    </tr>\n",
       "    <tr>\n",
       "      <th>Fluminense</th>\n",
       "      <td>4</td>\n",
       "      <td>7289600.0</td>\n",
       "    </tr>\n",
       "    <tr>\n",
       "      <th>Grêmio</th>\n",
       "      <td>2</td>\n",
       "      <td>9862400.0</td>\n",
       "    </tr>\n",
       "    <tr>\n",
       "      <th>Guarani</th>\n",
       "      <td>1</td>\n",
       "      <td>NaN</td>\n",
       "    </tr>\n",
       "    <tr>\n",
       "      <th>Internacional</th>\n",
       "      <td>3</td>\n",
       "      <td>7504000.0</td>\n",
       "    </tr>\n",
       "    <tr>\n",
       "      <th>Palmeiras</th>\n",
       "      <td>12</td>\n",
       "      <td>20225600.0</td>\n",
       "    </tr>\n",
       "    <tr>\n",
       "      <th>Santos</th>\n",
       "      <td>8</td>\n",
       "      <td>6646400.0</td>\n",
       "    </tr>\n",
       "    <tr>\n",
       "      <th>Sport</th>\n",
       "      <td>1</td>\n",
       "      <td>4073600.0</td>\n",
       "    </tr>\n",
       "    <tr>\n",
       "      <th>São Paulo</th>\n",
       "      <td>6</td>\n",
       "      <td>22225800.0</td>\n",
       "    </tr>\n",
       "    <tr>\n",
       "      <th>Vasco da Gama</th>\n",
       "      <td>4</td>\n",
       "      <td>13292800.0</td>\n",
       "    </tr>\n",
       "  </tbody>\n",
       "</table>\n",
       "</div>"
      ],
      "text/plain": [
       "               Títulos     Torcida\n",
       "Athletico-PR         1         NaN\n",
       "Atlético-MG          3   9219199.0\n",
       "Bahia                2   7718400.0\n",
       "Botafogo             2   4288000.0\n",
       "Corinthians          7  30444799.0\n",
       "Coritiba             1         NaN\n",
       "Cruzeiro             4  13078400.0\n",
       "Flamengo             8  46953599.0\n",
       "Fluminense           4   7289600.0\n",
       "Grêmio               2   9862400.0\n",
       "Guarani              1         NaN\n",
       "Internacional        3   7504000.0\n",
       "Palmeiras           12  20225600.0\n",
       "Santos               8   6646400.0\n",
       "Sport                1   4073600.0\n",
       "São Paulo            6  22225800.0\n",
       "Vasco da Gama        4  13292800.0"
      ]
     },
     "execution_count": 68,
     "metadata": {},
     "output_type": "execute_result"
    }
   ],
   "source": [
    "times"
   ]
  },
  {
   "cell_type": "markdown",
   "metadata": {},
   "source": [
    "As ``Series`` individuais que compõem as colunas do ``DataFrame`` podem ser acessadas por meio de indexação no estilo de dicionário."
   ]
  },
  {
   "cell_type": "code",
   "execution_count": 69,
   "metadata": {},
   "outputs": [
    {
     "data": {
      "text/plain": [
       "Athletico-PR      1\n",
       "Atlético-MG       3\n",
       "Bahia             2\n",
       "Botafogo          2\n",
       "Corinthians       7\n",
       "Coritiba          1\n",
       "Cruzeiro          4\n",
       "Flamengo          8\n",
       "Fluminense        4\n",
       "Grêmio            2\n",
       "Guarani           1\n",
       "Internacional     3\n",
       "Palmeiras        12\n",
       "Santos            8\n",
       "Sport             1\n",
       "São Paulo         6\n",
       "Vasco da Gama     4\n",
       "Name: Títulos, dtype: int64"
      ]
     },
     "execution_count": 69,
     "metadata": {},
     "output_type": "execute_result"
    }
   ],
   "source": [
    "times['Títulos']"
   ]
  },
  {
   "cell_type": "markdown",
   "metadata": {},
   "source": [
    "De forma análoga, podemos usar acesso no estilo de atributo com o nome das coluna."
   ]
  },
  {
   "cell_type": "code",
   "execution_count": 70,
   "metadata": {},
   "outputs": [
    {
     "data": {
      "text/plain": [
       "Athletico-PR            NaN\n",
       "Atlético-MG       9219199.0\n",
       "Bahia             7718400.0\n",
       "Botafogo          4288000.0\n",
       "Corinthians      30444799.0\n",
       "Coritiba                NaN\n",
       "Cruzeiro         13078400.0\n",
       "Flamengo         46953599.0\n",
       "Fluminense        7289600.0\n",
       "Grêmio            9862400.0\n",
       "Guarani                 NaN\n",
       "Internacional     7504000.0\n",
       "Palmeiras        20225600.0\n",
       "Santos            6646400.0\n",
       "Sport             4073600.0\n",
       "São Paulo        22225800.0\n",
       "Vasco da Gama    13292800.0\n",
       "Name: Torcida, dtype: float64"
      ]
     },
     "execution_count": 70,
     "metadata": {},
     "output_type": "execute_result"
    }
   ],
   "source": [
    "times.Torcida"
   ]
  },
  {
   "cell_type": "code",
   "execution_count": 71,
   "metadata": {},
   "outputs": [
    {
     "data": {
      "text/plain": [
       "True"
      ]
     },
     "execution_count": 71,
     "metadata": {},
     "output_type": "execute_result"
    }
   ],
   "source": [
    "times.Torcida is times['Torcida']"
   ]
  },
  {
   "cell_type": "markdown",
   "metadata": {},
   "source": [
    "Tal como acontece com os ``Series`` a sintaxe estilo dicionário também pode ser usada para modificar o ``DataFrame`` ou adicionar uma nova coluna."
   ]
  },
  {
   "cell_type": "code",
   "execution_count": 72,
   "metadata": {},
   "outputs": [
    {
     "data": {
      "text/html": [
       "<div>\n",
       "<style scoped>\n",
       "    .dataframe tbody tr th:only-of-type {\n",
       "        vertical-align: middle;\n",
       "    }\n",
       "\n",
       "    .dataframe tbody tr th {\n",
       "        vertical-align: top;\n",
       "    }\n",
       "\n",
       "    .dataframe thead th {\n",
       "        text-align: right;\n",
       "    }\n",
       "</style>\n",
       "<table border=\"1\" class=\"dataframe\">\n",
       "  <thead>\n",
       "    <tr style=\"text-align: right;\">\n",
       "      <th></th>\n",
       "      <th>Títulos</th>\n",
       "      <th>Torcida</th>\n",
       "      <th>TitulosPorTorcedor</th>\n",
       "    </tr>\n",
       "  </thead>\n",
       "  <tbody>\n",
       "    <tr>\n",
       "      <th>Athletico-PR</th>\n",
       "      <td>1</td>\n",
       "      <td>NaN</td>\n",
       "      <td>NaN</td>\n",
       "    </tr>\n",
       "    <tr>\n",
       "      <th>Atlético-MG</th>\n",
       "      <td>3</td>\n",
       "      <td>9219199.0</td>\n",
       "      <td>3.254079e-07</td>\n",
       "    </tr>\n",
       "    <tr>\n",
       "      <th>Bahia</th>\n",
       "      <td>2</td>\n",
       "      <td>7718400.0</td>\n",
       "      <td>2.591211e-07</td>\n",
       "    </tr>\n",
       "    <tr>\n",
       "      <th>Botafogo</th>\n",
       "      <td>2</td>\n",
       "      <td>4288000.0</td>\n",
       "      <td>4.664179e-07</td>\n",
       "    </tr>\n",
       "    <tr>\n",
       "      <th>Corinthians</th>\n",
       "      <td>7</td>\n",
       "      <td>30444799.0</td>\n",
       "      <td>2.299243e-07</td>\n",
       "    </tr>\n",
       "    <tr>\n",
       "      <th>Coritiba</th>\n",
       "      <td>1</td>\n",
       "      <td>NaN</td>\n",
       "      <td>NaN</td>\n",
       "    </tr>\n",
       "    <tr>\n",
       "      <th>Cruzeiro</th>\n",
       "      <td>4</td>\n",
       "      <td>13078400.0</td>\n",
       "      <td>3.058478e-07</td>\n",
       "    </tr>\n",
       "    <tr>\n",
       "      <th>Flamengo</th>\n",
       "      <td>8</td>\n",
       "      <td>46953599.0</td>\n",
       "      <td>1.703810e-07</td>\n",
       "    </tr>\n",
       "    <tr>\n",
       "      <th>Fluminense</th>\n",
       "      <td>4</td>\n",
       "      <td>7289600.0</td>\n",
       "      <td>5.487270e-07</td>\n",
       "    </tr>\n",
       "    <tr>\n",
       "      <th>Grêmio</th>\n",
       "      <td>2</td>\n",
       "      <td>9862400.0</td>\n",
       "      <td>2.027904e-07</td>\n",
       "    </tr>\n",
       "    <tr>\n",
       "      <th>Guarani</th>\n",
       "      <td>1</td>\n",
       "      <td>NaN</td>\n",
       "      <td>NaN</td>\n",
       "    </tr>\n",
       "    <tr>\n",
       "      <th>Internacional</th>\n",
       "      <td>3</td>\n",
       "      <td>7504000.0</td>\n",
       "      <td>3.997868e-07</td>\n",
       "    </tr>\n",
       "    <tr>\n",
       "      <th>Palmeiras</th>\n",
       "      <td>12</td>\n",
       "      <td>20225600.0</td>\n",
       "      <td>5.933075e-07</td>\n",
       "    </tr>\n",
       "    <tr>\n",
       "      <th>Santos</th>\n",
       "      <td>8</td>\n",
       "      <td>6646400.0</td>\n",
       "      <td>1.203659e-06</td>\n",
       "    </tr>\n",
       "    <tr>\n",
       "      <th>Sport</th>\n",
       "      <td>1</td>\n",
       "      <td>4073600.0</td>\n",
       "      <td>2.454831e-07</td>\n",
       "    </tr>\n",
       "    <tr>\n",
       "      <th>São Paulo</th>\n",
       "      <td>6</td>\n",
       "      <td>22225800.0</td>\n",
       "      <td>2.699565e-07</td>\n",
       "    </tr>\n",
       "    <tr>\n",
       "      <th>Vasco da Gama</th>\n",
       "      <td>4</td>\n",
       "      <td>13292800.0</td>\n",
       "      <td>3.009148e-07</td>\n",
       "    </tr>\n",
       "  </tbody>\n",
       "</table>\n",
       "</div>"
      ],
      "text/plain": [
       "               Títulos     Torcida  TitulosPorTorcedor\n",
       "Athletico-PR         1         NaN                 NaN\n",
       "Atlético-MG          3   9219199.0        3.254079e-07\n",
       "Bahia                2   7718400.0        2.591211e-07\n",
       "Botafogo             2   4288000.0        4.664179e-07\n",
       "Corinthians          7  30444799.0        2.299243e-07\n",
       "Coritiba             1         NaN                 NaN\n",
       "Cruzeiro             4  13078400.0        3.058478e-07\n",
       "Flamengo             8  46953599.0        1.703810e-07\n",
       "Fluminense           4   7289600.0        5.487270e-07\n",
       "Grêmio               2   9862400.0        2.027904e-07\n",
       "Guarani              1         NaN                 NaN\n",
       "Internacional        3   7504000.0        3.997868e-07\n",
       "Palmeiras           12  20225600.0        5.933075e-07\n",
       "Santos               8   6646400.0        1.203659e-06\n",
       "Sport                1   4073600.0        2.454831e-07\n",
       "São Paulo            6  22225800.0        2.699565e-07\n",
       "Vasco da Gama        4  13292800.0        3.009148e-07"
      ]
     },
     "execution_count": 72,
     "metadata": {},
     "output_type": "execute_result"
    }
   ],
   "source": [
    "times['TitulosPorTorcedor'] = times.Títulos / times.Torcida\n",
    "times"
   ]
  },
  {
   "cell_type": "markdown",
   "metadata": {},
   "source": [
    "O ``DataFrame``  também pode sere tratado como um array bidimensional aprimorado."
   ]
  },
  {
   "cell_type": "code",
   "execution_count": 73,
   "metadata": {},
   "outputs": [
    {
     "data": {
      "text/plain": [
       "array([[1.00000000e+00,            nan,            nan],\n",
       "       [3.00000000e+00, 9.21919900e+06, 3.25407880e-07],\n",
       "       [2.00000000e+00, 7.71840000e+06, 2.59121061e-07],\n",
       "       [2.00000000e+00, 4.28800000e+06, 4.66417910e-07],\n",
       "       [7.00000000e+00, 3.04447990e+07, 2.29924330e-07],\n",
       "       [1.00000000e+00,            nan,            nan],\n",
       "       [4.00000000e+00, 1.30784000e+07, 3.05847810e-07],\n",
       "       [8.00000000e+00, 4.69535990e+07, 1.70380975e-07],\n",
       "       [4.00000000e+00, 7.28960000e+06, 5.48726953e-07],\n",
       "       [2.00000000e+00, 9.86240000e+06, 2.02790396e-07],\n",
       "       [1.00000000e+00,            nan,            nan],\n",
       "       [3.00000000e+00, 7.50400000e+06, 3.99786780e-07],\n",
       "       [1.20000000e+01, 2.02256000e+07, 5.93307491e-07],\n",
       "       [8.00000000e+00, 6.64640000e+06, 1.20365912e-06],\n",
       "       [1.00000000e+00, 4.07360000e+06, 2.45483111e-07],\n",
       "       [6.00000000e+00, 2.22258000e+07, 2.69956537e-07],\n",
       "       [4.00000000e+00, 1.32928000e+07, 3.00914781e-07]])"
      ]
     },
     "execution_count": 73,
     "metadata": {},
     "output_type": "execute_result"
    }
   ],
   "source": [
    "times.values"
   ]
  },
  {
   "cell_type": "markdown",
   "metadata": {},
   "source": [
    "Pensando o ``DataFrame``como uma matriz bidimensional, podemos aplicar diversas formas de manipular o _ndarray_ ao ``DataFrame``."
   ]
  },
  {
   "cell_type": "code",
   "execution_count": 74,
   "metadata": {},
   "outputs": [
    {
     "data": {
      "text/html": [
       "<div>\n",
       "<style scoped>\n",
       "    .dataframe tbody tr th:only-of-type {\n",
       "        vertical-align: middle;\n",
       "    }\n",
       "\n",
       "    .dataframe tbody tr th {\n",
       "        vertical-align: top;\n",
       "    }\n",
       "\n",
       "    .dataframe thead th {\n",
       "        text-align: right;\n",
       "    }\n",
       "</style>\n",
       "<table border=\"1\" class=\"dataframe\">\n",
       "  <thead>\n",
       "    <tr style=\"text-align: right;\">\n",
       "      <th></th>\n",
       "      <th>Athletico-PR</th>\n",
       "      <th>Atlético-MG</th>\n",
       "      <th>Bahia</th>\n",
       "      <th>Botafogo</th>\n",
       "      <th>Corinthians</th>\n",
       "      <th>Coritiba</th>\n",
       "      <th>Cruzeiro</th>\n",
       "      <th>Flamengo</th>\n",
       "      <th>Fluminense</th>\n",
       "      <th>Grêmio</th>\n",
       "      <th>Guarani</th>\n",
       "      <th>Internacional</th>\n",
       "      <th>Palmeiras</th>\n",
       "      <th>Santos</th>\n",
       "      <th>Sport</th>\n",
       "      <th>São Paulo</th>\n",
       "      <th>Vasco da Gama</th>\n",
       "    </tr>\n",
       "  </thead>\n",
       "  <tbody>\n",
       "    <tr>\n",
       "      <th>Títulos</th>\n",
       "      <td>1.0</td>\n",
       "      <td>3.000000e+00</td>\n",
       "      <td>2.000000e+00</td>\n",
       "      <td>2.000000e+00</td>\n",
       "      <td>7.000000e+00</td>\n",
       "      <td>1.0</td>\n",
       "      <td>4.000000e+00</td>\n",
       "      <td>8.000000e+00</td>\n",
       "      <td>4.000000e+00</td>\n",
       "      <td>2.000000e+00</td>\n",
       "      <td>1.0</td>\n",
       "      <td>3.000000e+00</td>\n",
       "      <td>1.200000e+01</td>\n",
       "      <td>8.000000e+00</td>\n",
       "      <td>1.000000e+00</td>\n",
       "      <td>6.000000e+00</td>\n",
       "      <td>4.000000e+00</td>\n",
       "    </tr>\n",
       "    <tr>\n",
       "      <th>Torcida</th>\n",
       "      <td>NaN</td>\n",
       "      <td>9.219199e+06</td>\n",
       "      <td>7.718400e+06</td>\n",
       "      <td>4.288000e+06</td>\n",
       "      <td>3.044480e+07</td>\n",
       "      <td>NaN</td>\n",
       "      <td>1.307840e+07</td>\n",
       "      <td>4.695360e+07</td>\n",
       "      <td>7.289600e+06</td>\n",
       "      <td>9.862400e+06</td>\n",
       "      <td>NaN</td>\n",
       "      <td>7.504000e+06</td>\n",
       "      <td>2.022560e+07</td>\n",
       "      <td>6.646400e+06</td>\n",
       "      <td>4.073600e+06</td>\n",
       "      <td>2.222580e+07</td>\n",
       "      <td>1.329280e+07</td>\n",
       "    </tr>\n",
       "    <tr>\n",
       "      <th>TitulosPorTorcedor</th>\n",
       "      <td>NaN</td>\n",
       "      <td>3.254079e-07</td>\n",
       "      <td>2.591211e-07</td>\n",
       "      <td>4.664179e-07</td>\n",
       "      <td>2.299243e-07</td>\n",
       "      <td>NaN</td>\n",
       "      <td>3.058478e-07</td>\n",
       "      <td>1.703810e-07</td>\n",
       "      <td>5.487270e-07</td>\n",
       "      <td>2.027904e-07</td>\n",
       "      <td>NaN</td>\n",
       "      <td>3.997868e-07</td>\n",
       "      <td>5.933075e-07</td>\n",
       "      <td>1.203659e-06</td>\n",
       "      <td>2.454831e-07</td>\n",
       "      <td>2.699565e-07</td>\n",
       "      <td>3.009148e-07</td>\n",
       "    </tr>\n",
       "  </tbody>\n",
       "</table>\n",
       "</div>"
      ],
      "text/plain": [
       "                    Athletico-PR   Atlético-MG         Bahia      Botafogo  \\\n",
       "Títulos                      1.0  3.000000e+00  2.000000e+00  2.000000e+00   \n",
       "Torcida                      NaN  9.219199e+06  7.718400e+06  4.288000e+06   \n",
       "TitulosPorTorcedor           NaN  3.254079e-07  2.591211e-07  4.664179e-07   \n",
       "\n",
       "                     Corinthians  Coritiba      Cruzeiro      Flamengo  \\\n",
       "Títulos             7.000000e+00       1.0  4.000000e+00  8.000000e+00   \n",
       "Torcida             3.044480e+07       NaN  1.307840e+07  4.695360e+07   \n",
       "TitulosPorTorcedor  2.299243e-07       NaN  3.058478e-07  1.703810e-07   \n",
       "\n",
       "                      Fluminense        Grêmio  Guarani  Internacional  \\\n",
       "Títulos             4.000000e+00  2.000000e+00      1.0   3.000000e+00   \n",
       "Torcida             7.289600e+06  9.862400e+06      NaN   7.504000e+06   \n",
       "TitulosPorTorcedor  5.487270e-07  2.027904e-07      NaN   3.997868e-07   \n",
       "\n",
       "                       Palmeiras        Santos         Sport     São Paulo  \\\n",
       "Títulos             1.200000e+01  8.000000e+00  1.000000e+00  6.000000e+00   \n",
       "Torcida             2.022560e+07  6.646400e+06  4.073600e+06  2.222580e+07   \n",
       "TitulosPorTorcedor  5.933075e-07  1.203659e-06  2.454831e-07  2.699565e-07   \n",
       "\n",
       "                    Vasco da Gama  \n",
       "Títulos              4.000000e+00  \n",
       "Torcida              1.329280e+07  \n",
       "TitulosPorTorcedor   3.009148e-07  "
      ]
     },
     "execution_count": 74,
     "metadata": {},
     "output_type": "execute_result"
    }
   ],
   "source": [
    "times.T"
   ]
  },
  {
   "cell_type": "markdown",
   "metadata": {},
   "source": [
    "Quando se trata de indexação de objetos ``DataFrame``, entretanto, fica claro que a indexação de colunas no estilo de dicionário impede nossa capacidade de simplesmente tratá-la como uma matriz __NumPy__."
   ]
  },
  {
   "cell_type": "code",
   "execution_count": 75,
   "metadata": {},
   "outputs": [
    {
     "data": {
      "text/plain": [
       "array([8.00000000e+00, 4.69535990e+07, 1.70380975e-07])"
      ]
     },
     "execution_count": 75,
     "metadata": {},
     "output_type": "execute_result"
    }
   ],
   "source": [
    "times.values[7]"
   ]
  },
  {
   "cell_type": "markdown",
   "metadata": {},
   "source": [
    "Na realidade, quando passamos um único índice, estamos nos referindo a uma coluna."
   ]
  },
  {
   "cell_type": "code",
   "execution_count": 78,
   "metadata": {},
   "outputs": [
    {
     "data": {
      "text/plain": [
       "Athletico-PR      1\n",
       "Atlético-MG       3\n",
       "Bahia             2\n",
       "Botafogo          2\n",
       "Corinthians       7\n",
       "Coritiba          1\n",
       "Cruzeiro          4\n",
       "Flamengo          8\n",
       "Fluminense        4\n",
       "Grêmio            2\n",
       "Guarani           1\n",
       "Internacional     3\n",
       "Palmeiras        12\n",
       "Santos            8\n",
       "Sport             1\n",
       "São Paulo         6\n",
       "Vasco da Gama     4\n",
       "Name: Títulos, dtype: int64"
      ]
     },
     "execution_count": 78,
     "metadata": {},
     "output_type": "execute_result"
    }
   ],
   "source": [
    "times['Títulos']"
   ]
  },
  {
   "cell_type": "markdown",
   "metadata": {},
   "source": [
    "Portanto, para indexação em estilo array, precisamos utilizar outros recursos: os indexadores ``loc`` e ``iloc``. \n",
    "\n",
    "Usando o indexador ``iloc``, podemos indexar o array subjacente como se fosse um array NumPy simples (usando o índice implícito no estilo Python), mas o índice ``DataFrame`` e os rótulos das colunas são mantidos no resultado."
   ]
  },
  {
   "cell_type": "code",
   "execution_count": 79,
   "metadata": {},
   "outputs": [
    {
     "data": {
      "text/plain": [
       "Títulos               8.000000e+00\n",
       "Torcida               4.695360e+07\n",
       "TitulosPorTorcedor    1.703810e-07\n",
       "Name: Flamengo, dtype: float64"
      ]
     },
     "execution_count": 79,
     "metadata": {},
     "output_type": "execute_result"
    }
   ],
   "source": [
    "times.iloc[7]"
   ]
  },
  {
   "cell_type": "markdown",
   "metadata": {},
   "source": [
    "Da mesma forma, usando o indexador ``loc``, podemos indexar os dados subjacentes em um estilo semelhante a um array, mas usando o índice explícito e os nomes das colunas."
   ]
  },
  {
   "cell_type": "code",
   "execution_count": 80,
   "metadata": {},
   "outputs": [
    {
     "data": {
      "text/html": [
       "<div>\n",
       "<style scoped>\n",
       "    .dataframe tbody tr th:only-of-type {\n",
       "        vertical-align: middle;\n",
       "    }\n",
       "\n",
       "    .dataframe tbody tr th {\n",
       "        vertical-align: top;\n",
       "    }\n",
       "\n",
       "    .dataframe thead th {\n",
       "        text-align: right;\n",
       "    }\n",
       "</style>\n",
       "<table border=\"1\" class=\"dataframe\">\n",
       "  <thead>\n",
       "    <tr style=\"text-align: right;\">\n",
       "      <th></th>\n",
       "      <th>Títulos</th>\n",
       "      <th>Torcida</th>\n",
       "    </tr>\n",
       "  </thead>\n",
       "  <tbody>\n",
       "    <tr>\n",
       "      <th>Athletico-PR</th>\n",
       "      <td>1</td>\n",
       "      <td>NaN</td>\n",
       "    </tr>\n",
       "    <tr>\n",
       "      <th>Atlético-MG</th>\n",
       "      <td>3</td>\n",
       "      <td>9219199.0</td>\n",
       "    </tr>\n",
       "    <tr>\n",
       "      <th>Bahia</th>\n",
       "      <td>2</td>\n",
       "      <td>7718400.0</td>\n",
       "    </tr>\n",
       "  </tbody>\n",
       "</table>\n",
       "</div>"
      ],
      "text/plain": [
       "              Títulos    Torcida\n",
       "Athletico-PR        1        NaN\n",
       "Atlético-MG         3  9219199.0\n",
       "Bahia               2  7718400.0"
      ]
     },
     "execution_count": 80,
     "metadata": {},
     "output_type": "execute_result"
    }
   ],
   "source": [
    "times.loc[:'Bahia', :'Torcida']"
   ]
  },
  {
   "cell_type": "markdown",
   "metadata": {},
   "source": [
    "## Operando com dados em __Pandas__\n",
    "\n",
    "Uma das peças essenciais do __NumPy__ é a capacidade de realizar operações rápidas entre elementos, tanto com aritmética básica (adição, subtração, multiplicação, etc.) quanto com operações mais sofisticadas (funções trigonométricas, funções exponenciais e logarítmicas, etc.). \n",
    "\n",
    "O __Pandas__ herda grande parte dessa funcionalidade do __NumPy__. No entanto, o __Pandas__ inclui algumas alterações úteis: \n",
    "\n",
    "* Para operações unárias como negação e funções trigonométricas as _ufuncs_ preservarão rótulos de índice e coluna na saída. \n",
    "* Para operações binárias como adição e multiplicação, o Pandas alinhará automaticamente os índices ao passar os objetos para o _ufunc_. \n",
    "\n",
    "Vamos tentar entender como isto melhora o processamento em relação a os _ndarrays_ de __NumPy__. "
   ]
  },
  {
   "cell_type": "markdown",
   "metadata": {},
   "source": [
    "Como o __Pandas__ foi projetado para funcionar com __NumPy__, qualquer _ufunc_ __NumPy__ funcionará em objetos __Pandas__, sejam  ``Series`` ou ``DataFrame``. "
   ]
  },
  {
   "cell_type": "code",
   "execution_count": 81,
   "metadata": {},
   "outputs": [
    {
     "data": {
      "text/plain": [
       "0    2.708868\n",
       "1    0.218431\n",
       "2    2.335902\n",
       "3    1.560924\n",
       "4    2.270484\n",
       "5    1.057771\n",
       "6    0.800147\n",
       "7    2.196231\n",
       "8    0.635348\n",
       "9    1.251486\n",
       "dtype: float64"
      ]
     },
     "execution_count": 81,
     "metadata": {},
     "output_type": "execute_result"
    }
   ],
   "source": [
    "pSerie = pd.Series(np.random.uniform(0, np.pi, 10))\n",
    "pSerie"
   ]
  },
  {
   "cell_type": "code",
   "execution_count": 82,
   "metadata": {},
   "outputs": [
    {
     "data": {
      "text/html": [
       "<div>\n",
       "<style scoped>\n",
       "    .dataframe tbody tr th:only-of-type {\n",
       "        vertical-align: middle;\n",
       "    }\n",
       "\n",
       "    .dataframe tbody tr th {\n",
       "        vertical-align: top;\n",
       "    }\n",
       "\n",
       "    .dataframe thead th {\n",
       "        text-align: right;\n",
       "    }\n",
       "</style>\n",
       "<table border=\"1\" class=\"dataframe\">\n",
       "  <thead>\n",
       "    <tr style=\"text-align: right;\">\n",
       "      <th></th>\n",
       "      <th>alpha</th>\n",
       "      <th>beta</th>\n",
       "      <th>gamma</th>\n",
       "      <th>delta</th>\n",
       "      <th>gamma</th>\n",
       "    </tr>\n",
       "  </thead>\n",
       "  <tbody>\n",
       "    <tr>\n",
       "      <th>0</th>\n",
       "      <td>152</td>\n",
       "      <td>73</td>\n",
       "      <td>181</td>\n",
       "      <td>218</td>\n",
       "      <td>233</td>\n",
       "    </tr>\n",
       "    <tr>\n",
       "      <th>1</th>\n",
       "      <td>130</td>\n",
       "      <td>251</td>\n",
       "      <td>209</td>\n",
       "      <td>124</td>\n",
       "      <td>172</td>\n",
       "    </tr>\n",
       "    <tr>\n",
       "      <th>2</th>\n",
       "      <td>2</td>\n",
       "      <td>124</td>\n",
       "      <td>116</td>\n",
       "      <td>121</td>\n",
       "      <td>8</td>\n",
       "    </tr>\n",
       "    <tr>\n",
       "      <th>3</th>\n",
       "      <td>217</td>\n",
       "      <td>203</td>\n",
       "      <td>94</td>\n",
       "      <td>124</td>\n",
       "      <td>100</td>\n",
       "    </tr>\n",
       "    <tr>\n",
       "      <th>4</th>\n",
       "      <td>98</td>\n",
       "      <td>7</td>\n",
       "      <td>80</td>\n",
       "      <td>184</td>\n",
       "      <td>173</td>\n",
       "    </tr>\n",
       "  </tbody>\n",
       "</table>\n",
       "</div>"
      ],
      "text/plain": [
       "   alpha  beta  gamma  delta  gamma\n",
       "0    152    73    181    218    233\n",
       "1    130   251    209    124    172\n",
       "2      2   124    116    121      8\n",
       "3    217   203     94    124    100\n",
       "4     98     7     80    184    173"
      ]
     },
     "execution_count": 82,
     "metadata": {},
     "output_type": "execute_result"
    }
   ],
   "source": [
    "pDataFrame = pd.DataFrame(np.random.randint(0, 256, (5, 5)),\n",
    "                  columns=['alpha', 'beta', 'gamma', 'delta', 'gamma'])\n",
    "pDataFrame"
   ]
  },
  {
   "cell_type": "markdown",
   "metadata": {},
   "source": [
    "Se aplicarmos uma __NumPy__ _ufunc_ em qualquer um desses objetos, o resultado será outro objeto __Pandas__ com os mesmos índices."
   ]
  },
  {
   "cell_type": "code",
   "execution_count": 83,
   "metadata": {},
   "outputs": [
    {
     "data": {
      "text/html": [
       "<div>\n",
       "<style scoped>\n",
       "    .dataframe tbody tr th:only-of-type {\n",
       "        vertical-align: middle;\n",
       "    }\n",
       "\n",
       "    .dataframe tbody tr th {\n",
       "        vertical-align: top;\n",
       "    }\n",
       "\n",
       "    .dataframe thead th {\n",
       "        text-align: right;\n",
       "    }\n",
       "</style>\n",
       "<table border=\"1\" class=\"dataframe\">\n",
       "  <thead>\n",
       "    <tr style=\"text-align: right;\">\n",
       "      <th></th>\n",
       "      <th>alpha</th>\n",
       "      <th>beta</th>\n",
       "      <th>gamma</th>\n",
       "      <th>delta</th>\n",
       "      <th>gamma</th>\n",
       "    </tr>\n",
       "  </thead>\n",
       "  <tbody>\n",
       "    <tr>\n",
       "      <th>0</th>\n",
       "      <td>5.030438</td>\n",
       "      <td>4.304065</td>\n",
       "      <td>5.204007</td>\n",
       "      <td>5.389072</td>\n",
       "      <td>5.455321</td>\n",
       "    </tr>\n",
       "    <tr>\n",
       "      <th>1</th>\n",
       "      <td>4.875197</td>\n",
       "      <td>5.529429</td>\n",
       "      <td>5.347108</td>\n",
       "      <td>4.828314</td>\n",
       "      <td>5.153292</td>\n",
       "    </tr>\n",
       "    <tr>\n",
       "      <th>2</th>\n",
       "      <td>1.098612</td>\n",
       "      <td>4.828314</td>\n",
       "      <td>4.762174</td>\n",
       "      <td>4.804021</td>\n",
       "      <td>2.197225</td>\n",
       "    </tr>\n",
       "    <tr>\n",
       "      <th>3</th>\n",
       "      <td>5.384495</td>\n",
       "      <td>5.318120</td>\n",
       "      <td>4.553877</td>\n",
       "      <td>4.828314</td>\n",
       "      <td>4.615121</td>\n",
       "    </tr>\n",
       "    <tr>\n",
       "      <th>4</th>\n",
       "      <td>4.595120</td>\n",
       "      <td>2.079442</td>\n",
       "      <td>4.394449</td>\n",
       "      <td>5.220356</td>\n",
       "      <td>5.159055</td>\n",
       "    </tr>\n",
       "  </tbody>\n",
       "</table>\n",
       "</div>"
      ],
      "text/plain": [
       "      alpha      beta     gamma     delta     gamma\n",
       "0  5.030438  4.304065  5.204007  5.389072  5.455321\n",
       "1  4.875197  5.529429  5.347108  4.828314  5.153292\n",
       "2  1.098612  4.828314  4.762174  4.804021  2.197225\n",
       "3  5.384495  5.318120  4.553877  4.828314  4.615121\n",
       "4  4.595120  2.079442  4.394449  5.220356  5.159055"
      ]
     },
     "execution_count": 83,
     "metadata": {},
     "output_type": "execute_result"
    }
   ],
   "source": [
    "np.log1p(pDataFrame)"
   ]
  },
  {
   "cell_type": "code",
   "execution_count": 84,
   "metadata": {},
   "outputs": [
    {
     "data": {
      "text/plain": [
       "0    0.419346\n",
       "1    0.216699\n",
       "2    0.721309\n",
       "3    0.999951\n",
       "4    0.765043\n",
       "5    0.871264\n",
       "6    0.717459\n",
       "7    0.810709\n",
       "8    0.593457\n",
       "9    0.949452\n",
       "dtype: float64"
      ]
     },
     "execution_count": 84,
     "metadata": {},
     "output_type": "execute_result"
    }
   ],
   "source": [
    "np.sin(pSerie)"
   ]
  },
  {
   "cell_type": "markdown",
   "metadata": {},
   "source": [
    "### UFuncs: alinhamento do índice\n",
    "\n",
    "Para operações binárias em dois objetos ``Series`` ou ``DataFrame``, o __Pandas__ alinhará os índices no processo de execução da operação.\n",
    "\n",
    "Imaginemos que temos acesso a um conjunto de dados simples contendo a altura em polegadas e o peso em libras de 25.000 humanos diferentes de 18 anos de idade. Este conjunto de dados pode ser usado, por exemplo, para construir um modelo que pode prever as alturas ou pesos de um ser humano. \n",
    "\n",
    "Os dados utilizados neste exemplo estão disponíveis na plataforma [Kaggle](https://www.kaggle.com/datasets/burnoutminer/heights-and-weights-dataset?resource=download). Inicialmente vamos trabalhar um pequeno subconjunto destes dados. "
   ]
  },
  {
   "cell_type": "code",
   "execution_count": 85,
   "metadata": {},
   "outputs": [
    {
     "data": {
      "text/html": [
       "<div>\n",
       "<style scoped>\n",
       "    .dataframe tbody tr th:only-of-type {\n",
       "        vertical-align: middle;\n",
       "    }\n",
       "\n",
       "    .dataframe tbody tr th {\n",
       "        vertical-align: top;\n",
       "    }\n",
       "\n",
       "    .dataframe thead th {\n",
       "        text-align: right;\n",
       "    }\n",
       "</style>\n",
       "<table border=\"1\" class=\"dataframe\">\n",
       "  <thead>\n",
       "    <tr style=\"text-align: right;\">\n",
       "      <th></th>\n",
       "      <th>altura</th>\n",
       "      <th>peso</th>\n",
       "    </tr>\n",
       "  </thead>\n",
       "  <tbody>\n",
       "    <tr>\n",
       "      <th>0</th>\n",
       "      <td>65.78331</td>\n",
       "      <td>112.9925</td>\n",
       "    </tr>\n",
       "    <tr>\n",
       "      <th>1</th>\n",
       "      <td>71.51521</td>\n",
       "      <td>136.4873</td>\n",
       "    </tr>\n",
       "    <tr>\n",
       "      <th>2</th>\n",
       "      <td>69.39874</td>\n",
       "      <td>153.0269</td>\n",
       "    </tr>\n",
       "    <tr>\n",
       "      <th>3</th>\n",
       "      <td>68.21660</td>\n",
       "      <td>142.3354</td>\n",
       "    </tr>\n",
       "    <tr>\n",
       "      <th>4</th>\n",
       "      <td>67.78781</td>\n",
       "      <td>144.2971</td>\n",
       "    </tr>\n",
       "    <tr>\n",
       "      <th>5</th>\n",
       "      <td>68.69784</td>\n",
       "      <td>123.3024</td>\n",
       "    </tr>\n",
       "    <tr>\n",
       "      <th>6</th>\n",
       "      <td>69.80204</td>\n",
       "      <td>141.4947</td>\n",
       "    </tr>\n",
       "    <tr>\n",
       "      <th>7</th>\n",
       "      <td>70.01472</td>\n",
       "      <td>136.4623</td>\n",
       "    </tr>\n",
       "    <tr>\n",
       "      <th>8</th>\n",
       "      <td>67.90265</td>\n",
       "      <td>112.3723</td>\n",
       "    </tr>\n",
       "    <tr>\n",
       "      <th>9</th>\n",
       "      <td>66.78236</td>\n",
       "      <td>120.6672</td>\n",
       "    </tr>\n",
       "  </tbody>\n",
       "</table>\n",
       "</div>"
      ],
      "text/plain": [
       "     altura      peso\n",
       "0  65.78331  112.9925\n",
       "1  71.51521  136.4873\n",
       "2  69.39874  153.0269\n",
       "3  68.21660  142.3354\n",
       "4  67.78781  144.2971\n",
       "5  68.69784  123.3024\n",
       "6  69.80204  141.4947\n",
       "7  70.01472  136.4623\n",
       "8  67.90265  112.3723\n",
       "9  66.78236  120.6672"
      ]
     },
     "execution_count": 85,
     "metadata": {},
     "output_type": "execute_result"
    }
   ],
   "source": [
    "dados = [(65.78331,112.9925), (71.51521,136.4873), (69.39874,153.0269), (68.2166,142.3354), (67.78781,144.2971),\n",
    " (68.69784,123.3024), (69.80204,141.4947), (70.01472,136.4623), (67.90265,112.3723), (66.78236,120.6672)]\n",
    "\n",
    "dataSet = pd.DataFrame(dados, columns=['altura', 'peso'])   \n",
    "dataSet"
   ]
  },
  {
   "cell_type": "markdown",
   "metadata": {},
   "source": [
    "Com este ``DataFrame`` podemos calcular a relação peso altura de cada um dos indivíduos cadastrados. "
   ]
  },
  {
   "cell_type": "code",
   "execution_count": 86,
   "metadata": {},
   "outputs": [
    {
     "data": {
      "text/html": [
       "<div>\n",
       "<style scoped>\n",
       "    .dataframe tbody tr th:only-of-type {\n",
       "        vertical-align: middle;\n",
       "    }\n",
       "\n",
       "    .dataframe tbody tr th {\n",
       "        vertical-align: top;\n",
       "    }\n",
       "\n",
       "    .dataframe thead th {\n",
       "        text-align: right;\n",
       "    }\n",
       "</style>\n",
       "<table border=\"1\" class=\"dataframe\">\n",
       "  <thead>\n",
       "    <tr style=\"text-align: right;\">\n",
       "      <th></th>\n",
       "      <th>altura</th>\n",
       "      <th>peso</th>\n",
       "      <th>altura/peso</th>\n",
       "    </tr>\n",
       "  </thead>\n",
       "  <tbody>\n",
       "    <tr>\n",
       "      <th>0</th>\n",
       "      <td>65.78331</td>\n",
       "      <td>112.9925</td>\n",
       "      <td>0.582192</td>\n",
       "    </tr>\n",
       "    <tr>\n",
       "      <th>1</th>\n",
       "      <td>71.51521</td>\n",
       "      <td>136.4873</td>\n",
       "      <td>0.523970</td>\n",
       "    </tr>\n",
       "    <tr>\n",
       "      <th>2</th>\n",
       "      <td>69.39874</td>\n",
       "      <td>153.0269</td>\n",
       "      <td>0.453507</td>\n",
       "    </tr>\n",
       "    <tr>\n",
       "      <th>3</th>\n",
       "      <td>68.21660</td>\n",
       "      <td>142.3354</td>\n",
       "      <td>0.479267</td>\n",
       "    </tr>\n",
       "    <tr>\n",
       "      <th>4</th>\n",
       "      <td>67.78781</td>\n",
       "      <td>144.2971</td>\n",
       "      <td>0.469779</td>\n",
       "    </tr>\n",
       "    <tr>\n",
       "      <th>5</th>\n",
       "      <td>68.69784</td>\n",
       "      <td>123.3024</td>\n",
       "      <td>0.557149</td>\n",
       "    </tr>\n",
       "    <tr>\n",
       "      <th>6</th>\n",
       "      <td>69.80204</td>\n",
       "      <td>141.4947</td>\n",
       "      <td>0.493319</td>\n",
       "    </tr>\n",
       "    <tr>\n",
       "      <th>7</th>\n",
       "      <td>70.01472</td>\n",
       "      <td>136.4623</td>\n",
       "      <td>0.513070</td>\n",
       "    </tr>\n",
       "    <tr>\n",
       "      <th>8</th>\n",
       "      <td>67.90265</td>\n",
       "      <td>112.3723</td>\n",
       "      <td>0.604265</td>\n",
       "    </tr>\n",
       "    <tr>\n",
       "      <th>9</th>\n",
       "      <td>66.78236</td>\n",
       "      <td>120.6672</td>\n",
       "      <td>0.553443</td>\n",
       "    </tr>\n",
       "  </tbody>\n",
       "</table>\n",
       "</div>"
      ],
      "text/plain": [
       "     altura      peso  altura/peso\n",
       "0  65.78331  112.9925     0.582192\n",
       "1  71.51521  136.4873     0.523970\n",
       "2  69.39874  153.0269     0.453507\n",
       "3  68.21660  142.3354     0.479267\n",
       "4  67.78781  144.2971     0.469779\n",
       "5  68.69784  123.3024     0.557149\n",
       "6  69.80204  141.4947     0.493319\n",
       "7  70.01472  136.4623     0.513070\n",
       "8  67.90265  112.3723     0.604265\n",
       "9  66.78236  120.6672     0.553443"
      ]
     },
     "execution_count": 86,
     "metadata": {},
     "output_type": "execute_result"
    }
   ],
   "source": [
    "dataSet[\"altura/peso\"] = dataSet.altura / dataSet.peso\n",
    "dataSet"
   ]
  },
  {
   "cell_type": "markdown",
   "metadata": {},
   "source": [
    "Entretanto, se o mesmo conjunto de dados estivesse incompleto."
   ]
  },
  {
   "cell_type": "code",
   "execution_count": 87,
   "metadata": {},
   "outputs": [
    {
     "name": "stdout",
     "output_type": "stream",
     "text": [
      "p01    112.9925\n",
      "p03    153.0269\n",
      "p04    142.3354\n",
      "p06    123.3024\n",
      "p07    141.4947\n",
      "p09    112.3723\n",
      "p10    120.6672\n",
      "dtype: float64\n",
      "p01    65.78331\n",
      "p02    71.51521\n",
      "p04    68.21660\n",
      "p05    67.78781\n",
      "p06    68.69784\n",
      "p07    69.80204\n",
      "p08    70.01472\n",
      "p10    66.78236\n",
      "dtype: float64\n"
     ]
    }
   ],
   "source": [
    "#dados = [(65.78331,112.9925), (71.51521,136.4873), (69.39874,153.0269), (68.2166,142.3354), (67.78781,144.2971),\n",
    "# (68.69784,123.3024), (69.80204,141.4947), (70.01472,136.4623), (67.90265,112.3723), (66.78236,120.6672)]\n",
    "\n",
    "pesoSer = pd.Series([112.9925, 153.0269, 142.3354, 123.3024, 141.4947, 112.3723, 120.6672],\n",
    "                    index = [\"p01\", \"p03\", \"p04\", \"p06\", \"p07\", \"p09\", \"p10\"])\n",
    "alturaSer = pd.Series([65.78331, 71.51521, 68.2166, 67.78781,\n",
    "                       68.69784, 69.80204, 70.01472,66.78236],\n",
    "                        index = [\"p01\", \"p02\", \"p04\", \"p05\", \"p06\", \"p07\", \"p08\", \"p10\"])\n",
    "print(pesoSer)\n",
    "print(alturaSer)"
   ]
  },
  {
   "cell_type": "code",
   "execution_count": 88,
   "metadata": {},
   "outputs": [
    {
     "data": {
      "text/html": [
       "<div>\n",
       "<style scoped>\n",
       "    .dataframe tbody tr th:only-of-type {\n",
       "        vertical-align: middle;\n",
       "    }\n",
       "\n",
       "    .dataframe tbody tr th {\n",
       "        vertical-align: top;\n",
       "    }\n",
       "\n",
       "    .dataframe thead th {\n",
       "        text-align: right;\n",
       "    }\n",
       "</style>\n",
       "<table border=\"1\" class=\"dataframe\">\n",
       "  <thead>\n",
       "    <tr style=\"text-align: right;\">\n",
       "      <th></th>\n",
       "      <th>peso</th>\n",
       "      <th>altura</th>\n",
       "    </tr>\n",
       "  </thead>\n",
       "  <tbody>\n",
       "    <tr>\n",
       "      <th>p01</th>\n",
       "      <td>112.9925</td>\n",
       "      <td>65.78331</td>\n",
       "    </tr>\n",
       "    <tr>\n",
       "      <th>p02</th>\n",
       "      <td>NaN</td>\n",
       "      <td>71.51521</td>\n",
       "    </tr>\n",
       "    <tr>\n",
       "      <th>p03</th>\n",
       "      <td>153.0269</td>\n",
       "      <td>NaN</td>\n",
       "    </tr>\n",
       "    <tr>\n",
       "      <th>p04</th>\n",
       "      <td>142.3354</td>\n",
       "      <td>68.21660</td>\n",
       "    </tr>\n",
       "    <tr>\n",
       "      <th>p05</th>\n",
       "      <td>NaN</td>\n",
       "      <td>67.78781</td>\n",
       "    </tr>\n",
       "    <tr>\n",
       "      <th>p06</th>\n",
       "      <td>123.3024</td>\n",
       "      <td>68.69784</td>\n",
       "    </tr>\n",
       "    <tr>\n",
       "      <th>p07</th>\n",
       "      <td>141.4947</td>\n",
       "      <td>69.80204</td>\n",
       "    </tr>\n",
       "    <tr>\n",
       "      <th>p08</th>\n",
       "      <td>NaN</td>\n",
       "      <td>70.01472</td>\n",
       "    </tr>\n",
       "    <tr>\n",
       "      <th>p09</th>\n",
       "      <td>112.3723</td>\n",
       "      <td>NaN</td>\n",
       "    </tr>\n",
       "    <tr>\n",
       "      <th>p10</th>\n",
       "      <td>120.6672</td>\n",
       "      <td>66.78236</td>\n",
       "    </tr>\n",
       "  </tbody>\n",
       "</table>\n",
       "</div>"
      ],
      "text/plain": [
       "         peso    altura\n",
       "p01  112.9925  65.78331\n",
       "p02       NaN  71.51521\n",
       "p03  153.0269       NaN\n",
       "p04  142.3354  68.21660\n",
       "p05       NaN  67.78781\n",
       "p06  123.3024  68.69784\n",
       "p07  141.4947  69.80204\n",
       "p08       NaN  70.01472\n",
       "p09  112.3723       NaN\n",
       "p10  120.6672  66.78236"
      ]
     },
     "execution_count": 88,
     "metadata": {},
     "output_type": "execute_result"
    }
   ],
   "source": [
    "dataSet = pd.DataFrame({\"peso\":pesoSer, \"altura\":alturaSer})\n",
    "dataSet"
   ]
  },
  {
   "cell_type": "markdown",
   "metadata": {},
   "source": [
    "Tanto conseguimos calcular a relação entre altura e peso a partir dos objetos ``Series`` ..."
   ]
  },
  {
   "cell_type": "code",
   "execution_count": 90,
   "metadata": {},
   "outputs": [
    {
     "data": {
      "text/plain": [
       "p01    0.582192\n",
       "p02         NaN\n",
       "p03         NaN\n",
       "p04    0.479267\n",
       "p05         NaN\n",
       "p06    0.557149\n",
       "p07    0.493319\n",
       "p08         NaN\n",
       "p09         NaN\n",
       "p10    0.553443\n",
       "dtype: float64"
      ]
     },
     "execution_count": 90,
     "metadata": {},
     "output_type": "execute_result"
    }
   ],
   "source": [
    "#alturaPesoSer = dataSet.altura / dataSet.peso\n",
    "alturaPesoSer = alturaSer / pesoSer\n",
    "alturaPesoSer"
   ]
  },
  {
   "cell_type": "markdown",
   "metadata": {},
   "source": [
    "quanto a partir das colunas do ``DataFrame``."
   ]
  },
  {
   "cell_type": "code",
   "execution_count": 91,
   "metadata": {},
   "outputs": [
    {
     "data": {
      "text/html": [
       "<div>\n",
       "<style scoped>\n",
       "    .dataframe tbody tr th:only-of-type {\n",
       "        vertical-align: middle;\n",
       "    }\n",
       "\n",
       "    .dataframe tbody tr th {\n",
       "        vertical-align: top;\n",
       "    }\n",
       "\n",
       "    .dataframe thead th {\n",
       "        text-align: right;\n",
       "    }\n",
       "</style>\n",
       "<table border=\"1\" class=\"dataframe\">\n",
       "  <thead>\n",
       "    <tr style=\"text-align: right;\">\n",
       "      <th></th>\n",
       "      <th>peso</th>\n",
       "      <th>altura</th>\n",
       "      <th>altura/peso</th>\n",
       "    </tr>\n",
       "  </thead>\n",
       "  <tbody>\n",
       "    <tr>\n",
       "      <th>p01</th>\n",
       "      <td>112.9925</td>\n",
       "      <td>65.78331</td>\n",
       "      <td>0.582192</td>\n",
       "    </tr>\n",
       "    <tr>\n",
       "      <th>p02</th>\n",
       "      <td>NaN</td>\n",
       "      <td>71.51521</td>\n",
       "      <td>NaN</td>\n",
       "    </tr>\n",
       "    <tr>\n",
       "      <th>p03</th>\n",
       "      <td>153.0269</td>\n",
       "      <td>NaN</td>\n",
       "      <td>NaN</td>\n",
       "    </tr>\n",
       "    <tr>\n",
       "      <th>p04</th>\n",
       "      <td>142.3354</td>\n",
       "      <td>68.21660</td>\n",
       "      <td>0.479267</td>\n",
       "    </tr>\n",
       "    <tr>\n",
       "      <th>p05</th>\n",
       "      <td>NaN</td>\n",
       "      <td>67.78781</td>\n",
       "      <td>NaN</td>\n",
       "    </tr>\n",
       "    <tr>\n",
       "      <th>p06</th>\n",
       "      <td>123.3024</td>\n",
       "      <td>68.69784</td>\n",
       "      <td>0.557149</td>\n",
       "    </tr>\n",
       "    <tr>\n",
       "      <th>p07</th>\n",
       "      <td>141.4947</td>\n",
       "      <td>69.80204</td>\n",
       "      <td>0.493319</td>\n",
       "    </tr>\n",
       "    <tr>\n",
       "      <th>p08</th>\n",
       "      <td>NaN</td>\n",
       "      <td>70.01472</td>\n",
       "      <td>NaN</td>\n",
       "    </tr>\n",
       "    <tr>\n",
       "      <th>p09</th>\n",
       "      <td>112.3723</td>\n",
       "      <td>NaN</td>\n",
       "      <td>NaN</td>\n",
       "    </tr>\n",
       "    <tr>\n",
       "      <th>p10</th>\n",
       "      <td>120.6672</td>\n",
       "      <td>66.78236</td>\n",
       "      <td>0.553443</td>\n",
       "    </tr>\n",
       "  </tbody>\n",
       "</table>\n",
       "</div>"
      ],
      "text/plain": [
       "         peso    altura  altura/peso\n",
       "p01  112.9925  65.78331     0.582192\n",
       "p02       NaN  71.51521          NaN\n",
       "p03  153.0269       NaN          NaN\n",
       "p04  142.3354  68.21660     0.479267\n",
       "p05       NaN  67.78781          NaN\n",
       "p06  123.3024  68.69784     0.557149\n",
       "p07  141.4947  69.80204     0.493319\n",
       "p08       NaN  70.01472          NaN\n",
       "p09  112.3723       NaN          NaN\n",
       "p10  120.6672  66.78236     0.553443"
      ]
     },
     "execution_count": 91,
     "metadata": {},
     "output_type": "execute_result"
    }
   ],
   "source": [
    "dataSet[\"altura/peso\"] = dataSet.altura / dataSet.peso\n",
    "dataSet"
   ]
  },
  {
   "cell_type": "markdown",
   "metadata": {},
   "source": [
    "Qualquer item para o qual um ou outro objeto não tenha uma entrada é marcado com ``NaN``, ou \"Não é um número\", que é como o __Pandas__ marca os dados ausentes. \n",
    "\n",
    "Esta correspondência de índice é implementada desta forma para qualquer uma das expressões aritméticas integradas do Python; quaisquer valores ausentes são preenchidos com NaN por padrão.\n",
    "\n",
    "Veja outros exemplos."
   ]
  },
  {
   "cell_type": "code",
   "execution_count": 95,
   "metadata": {},
   "outputs": [
    {
     "name": "stdout",
     "output_type": "stream",
     "text": [
      "[[199 147  67 201 156]\n",
      " [123  55  93  87  35]\n",
      " [108  69 150 154 173]\n",
      " [ 93 118 193 101 245]\n",
      " [ 64 175  28 224 134]]\n",
      "3192\n"
     ]
    }
   ],
   "source": [
    "img = np.random.randint(0, 256, (5, 5), dtype=np.uint8)\n",
    "print(img)\n",
    "print(img.sum())\n"
   ]
  },
  {
   "cell_type": "code",
   "execution_count": 98,
   "metadata": {},
   "outputs": [
    {
     "name": "stdout",
     "output_type": "stream",
     "text": [
      "     C01  C02  C03  C04  C05\n",
      "L01  199  147   67  201  156\n",
      "L02  123   55   93   87   35\n",
      "L03  108   69  150  154  173\n",
      "L04   93  118  193  101  245\n",
      "L05   64  175   28  224  134\n",
      "C01    587\n",
      "C02    564\n",
      "C03    531\n",
      "C04    767\n",
      "C05    743\n",
      "dtype: uint64\n"
     ]
    }
   ],
   "source": [
    "img = pd.DataFrame(img, columns=['C01', 'C02', 'C03', 'C04', 'C05'],\n",
    "                   index=['L01', 'L02', 'L03', 'L04', 'L05'])\n",
    "print(img)\n",
    "print(img.sum(axis=0))"
   ]
  },
  {
   "cell_type": "code",
   "execution_count": 99,
   "metadata": {},
   "outputs": [
    {
     "name": "stdout",
     "output_type": "stream",
     "text": [
      "     C02  C03  C04\n",
      "L02    1    1    1\n",
      "L03    1    1    1\n",
      "L04    1    1    1\n"
     ]
    }
   ],
   "source": [
    "masc = np.ones((3, 3), dtype=np.uint8)\n",
    "masc = pd.DataFrame(masc, columns=['C02', 'C03', 'C04'],\n",
    "                   index=['L02', 'L03', 'L04'])\n",
    "\n",
    "print(masc)"
   ]
  },
  {
   "cell_type": "code",
   "execution_count": 100,
   "metadata": {},
   "outputs": [
    {
     "name": "stdout",
     "output_type": "stream",
     "text": [
      "     C01    C02    C03    C04  C05\n",
      "L01  NaN    NaN    NaN    NaN  NaN\n",
      "L02  NaN   55.0   93.0   87.0  NaN\n",
      "L03  NaN   69.0  150.0  154.0  NaN\n",
      "L04  NaN  118.0  193.0  101.0  NaN\n",
      "L05  NaN    NaN    NaN    NaN  NaN\n",
      "1020.0\n"
     ]
    }
   ],
   "source": [
    "imgMasc = img * masc\n",
    "print(imgMasc)\n",
    "print(imgMasc.sum().sum())"
   ]
  },
  {
   "cell_type": "markdown",
   "metadata": {},
   "source": [
    " Podemos usar ainda o método aritmético do objeto associado e passar o ``fill_value`` desejado para ser usado no lugar das entradas ausentes."
   ]
  },
  {
   "cell_type": "code",
   "execution_count": 101,
   "metadata": {},
   "outputs": [
    {
     "name": "stdout",
     "output_type": "stream",
     "text": [
      "     C01    C02    C03    C04  C05\n",
      "L01  0.0    0.0    0.0    0.0  0.0\n",
      "L02  0.0   55.0   93.0   87.0  0.0\n",
      "L03  0.0   69.0  150.0  154.0  0.0\n",
      "L04  0.0  118.0  193.0  101.0  0.0\n",
      "L05  0.0    0.0    0.0    0.0  0.0\n"
     ]
    }
   ],
   "source": [
    "imgMasc = img.mul(masc, fill_value=0)\n",
    "print(imgMasc)"
   ]
  },
  {
   "cell_type": "markdown",
   "metadata": {},
   "source": [
    "__Pandas__, da mesma forma que __NumPy__, fornece métodos específicos que implementam a sobrecarga dos operadores aritméticos tradicionais, expandindo suas possibilidades de uso. \n",
    "\n",
    "| Operador        | Método Pandas                         |\n",
    "|-----------------|---------------------------------------|\n",
    "| ``+``           | ``add()``                             |\n",
    "| ``-``           | ``sub()``, ``subtract()``             |\n",
    "| ``*``           | ``mul()``, ``multiply()``             |\n",
    "| ``/``           | ``truediv()``, ``div()``, ``divide()``|\n",
    "| ``//``          | ``floordiv()``                        |\n",
    "| ``%``           | ``mod()``                             |\n",
    "| ``**``          | ``pow()``                             |"
   ]
  },
  {
   "cell_type": "markdown",
   "metadata": {},
   "source": [
    "Podemos utilizar estes operadores também para manipular objetos ``Series`` e ``DataFrame`` juntos. "
   ]
  },
  {
   "cell_type": "code",
   "execution_count": 102,
   "metadata": {},
   "outputs": [
    {
     "name": "stdout",
     "output_type": "stream",
     "text": [
      "55.0\n",
      "C02    55.0\n",
      "C03    55.0\n",
      "C04    55.0\n",
      "dtype: float64\n"
     ]
    }
   ],
   "source": [
    "min = imgMasc['L02':'L04'].min()\n",
    "min = min['C02':'C04'].min()\n",
    "print(min)\n",
    "min = pd.Series(min, index=['C02', 'C03', 'C04'])\n",
    "print(min)"
   ]
  },
  {
   "cell_type": "code",
   "execution_count": 103,
   "metadata": {},
   "outputs": [
    {
     "name": "stdout",
     "output_type": "stream",
     "text": [
      "     C01   C02    C03   C04  C05\n",
      "L01  NaN -55.0  -55.0 -55.0  NaN\n",
      "L02  NaN   0.0   38.0  32.0  NaN\n",
      "L03  NaN  14.0   95.0  99.0  NaN\n",
      "L04  NaN  63.0  138.0  46.0  NaN\n",
      "L05  NaN -55.0  -55.0 -55.0  NaN\n"
     ]
    }
   ],
   "source": [
    "imgNorm = imgMasc - min\n",
    "print(imgNorm)"
   ]
  },
  {
   "cell_type": "markdown",
   "metadata": {},
   "source": [
    "De acordo com as regras de _broadcasting_ do __NumPy__, que abordamos na aula anterior, a subtração entre uma matriz bidimensional e um array unidimensional é aplicada por linhas.\n",
    "\n",
    "No Pandas, a convenção funciona de forma semelhante em linhas por padrão:"
   ]
  },
  {
   "cell_type": "code",
   "execution_count": 104,
   "metadata": {},
   "outputs": [
    {
     "name": "stdout",
     "output_type": "stream",
     "text": [
      "[[-55. -55. -55.]\n",
      " [  0.  38.  32.]\n",
      " [ 14.  95.  99.]\n",
      " [ 63. 138.  46.]\n",
      " [-55. -55. -55.]]\n"
     ]
    }
   ],
   "source": [
    "#npyImgNorm = imgMasc.values - min.values    # Numpy array\n",
    "npyImgNorm = imgMasc.values[:,1:4] - min.values   # Numpy array\n",
    "print(npyImgNorm)"
   ]
  },
  {
   "cell_type": "markdown",
   "metadata": {},
   "source": [
    "Repare que neste como em outros exemplos que envolvam operações entre ``DataFrame`` e ``Series`` os índices são alinhados automaticamente.\n",
    "\n",
    "Entretanto, ee preferir operar em colunas, você pode usar os métodos do objeto, mencionados anteriormente, especificando a palavra-chave ``axis``."
   ]
  },
  {
   "cell_type": "code",
   "execution_count": 105,
   "metadata": {},
   "outputs": [
    {
     "name": "stdout",
     "output_type": "stream",
     "text": [
      "      C01    C02    C03    C04   C05\n",
      "L01   NaN    NaN    NaN    NaN   NaN\n",
      "L02 -16.0   39.0   77.0   71.0 -16.0\n",
      "L03 -16.0   53.0  134.0  138.0 -16.0\n",
      "L04 -16.0  102.0  177.0   85.0 -16.0\n",
      "L05   NaN    NaN    NaN    NaN   NaN\n"
     ]
    }
   ],
   "source": [
    "\n",
    "min = pd.Series(16, index=['L02', 'L03', 'L04'])\n",
    "imgNorm = imgMasc.subtract(min, axis=0)\n",
    "print(imgNorm)"
   ]
  },
  {
   "cell_type": "code",
   "execution_count": null,
   "metadata": {},
   "outputs": [],
   "source": []
  }
 ],
 "metadata": {
  "kernelspec": {
   "display_name": "Python 3 (ipykernel)",
   "language": "python",
   "name": "python3"
  },
  "language_info": {
   "codemirror_mode": {
    "name": "ipython",
    "version": 3
   },
   "file_extension": ".py",
   "mimetype": "text/x-python",
   "name": "python",
   "nbconvert_exporter": "python",
   "pygments_lexer": "ipython3",
   "version": "3.10.13"
  }
 },
 "nbformat": 4,
 "nbformat_minor": 2
}
