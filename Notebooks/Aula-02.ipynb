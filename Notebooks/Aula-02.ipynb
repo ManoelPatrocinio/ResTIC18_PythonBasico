{
 "cells": [
  {
   "cell_type": "markdown",
   "metadata": {},
   "source": [
    "# Módulo de Programação Python: Introdução à Linguagem\n",
    "\n",
    "# Segundo Encontro\n",
    "\n",
    "## Apresentação de Python: Estruturas de controle de fluxo\n",
    "\n",
    "<img align=\"center\" style=\"padding-right:10px;\" src=\"Figuras/aula-02_fig_01.png\">"
   ]
  },
  {
   "cell_type": "markdown",
   "metadata": {},
   "source": [
    "__Objetivo__: Explorar o uso de tipos de dados avançados em python: dicionários e conjuntos. Explorar a implementação de estruturas de controle de fluxo, estruturas condicionais e de repetição, em python. "
   ]
  },
  {
   "cell_type": "markdown",
   "metadata": {},
   "source": [
    "#### Tipos de dados estruturados nativos \n",
    "\n",
    "Além dos tipos mais simples __Python__ fornece um conjunto de tipos de dados estruturados muito rico e interessante. \n",
    "\n",
    "| Nome      | Exemplo                   | Descrição                              | \n",
    "|-----------|---------------------------|--------------------------------------- |\n",
    "| `list`    | `[1, 2, 3]`               | Coleção ordenada                       |\n",
    "| `tuple`   | `(1, 2, 3)`               | Coleção imutável ordenada             |\n",
    "| `dict`    | `{'a':1, 'b':2, 'c':3}`   | Mapeamento do tipo (chave, valor)      |\n",
    "| `set`     | `{1, 2, 3}`               | Coleção não ordenada de valores únicos |\n",
    "\n",
    "Vamos continuar a nos debruçar sobre cada um destes tipos. \n",
    "\n",
    "Na aula anterior apresentamos listas e tuplas."
   ]
  },
  {
   "cell_type": "code",
   "execution_count": 1,
   "metadata": {},
   "outputs": [
    {
     "name": "stdout",
     "output_type": "stream",
     "text": [
      "L_int = [1, 2, 3, 4]\n",
      "L_str = ['Nome', 'EMail', 'CPF']\n",
      "L_mix = [1, 'Nome', 3.14]\n",
      "L_list_int = [[1, 2, 3], [4, 5, 6]]\n",
      "l_list = [[1, 2, 3, 4], ['Nome', 'EMail', 'CPF'], [1, 'Nome', 3.14], [[1, 2, 3], [4, 5, 6]]]\n"
     ]
    }
   ],
   "source": [
    "L_int = [1, 2, 3, 4]                # Lista de inteiros\n",
    "L_str = ['Nome', 'EMail', 'CPF']    # Lista de strings\n",
    "L_mix = [1, 'Nome', 3.14]           # Lista mista\n",
    "L_list_int = [[1, 2, 3], [4, 5, 6]]     # Lista de listas de inteiros\n",
    "l_list  = [L_int, L_str, L_mix, L_list_int]  # Lista de listas\n",
    "\n",
    "print('L_int =', L_int)\n",
    "print('L_str =', L_str)\n",
    "print('L_mix =', L_mix)\n",
    "print('L_list_int =', L_list_int)\n",
    "print('l_list =', l_list)"
   ]
  },
  {
   "cell_type": "code",
   "execution_count": 2,
   "metadata": {},
   "outputs": [
    {
     "name": "stdout",
     "output_type": "stream",
     "text": [
      "point2D = (1.0, 1.0)\n",
      "point3D = (1.0, 1.0, 1.0)\n",
      "registro = ('Nome', 'EMail', 'CPF')\n",
      "tupla_tuplas = ((1.0, 1.0), (1.0, 1.0, 1.0), ('Nome', 'EMail', 'CPF'))\n"
     ]
    }
   ],
   "source": [
    "point2D = (1.0, 1.0)\n",
    "point3D = (1.0, 1.0, 1.0)\n",
    "registro = ('Nome', 'EMail', 'CPF')\n",
    "tupla_tuplas = (point2D, point3D, registro)\n",
    "print('point2D =', point2D)\n",
    "print('point3D =', point3D)\n",
    "print('registro =', registro)\n",
    "print('tupla_tuplas =', tupla_tuplas)"
   ]
  },
  {
   "cell_type": "code",
   "execution_count": 3,
   "metadata": {},
   "outputs": [
    {
     "name": "stdout",
     "output_type": "stream",
     "text": [
      "lista_tuplas = [(1.0, 1.0), (1.0, 1.0, 1.0), ('Nome', 'EMail', 'CPF')]\n",
      "tupla_listas = ([1, 2, 3, 4], ['Nome', 'EMail', 'CPF'], [1, 'Nome', 3.14], [[1, 2, 3], [4, 5, 6]])\n"
     ]
    }
   ],
   "source": [
    "lista_tuplas = [point2D, point3D, registro]\n",
    "tupla_listas = (L_int, L_str, L_mix, L_list_int)\n",
    "print('lista_tuplas =', lista_tuplas)\n",
    "print('tupla_listas =', tupla_listas)"
   ]
  },
  {
   "cell_type": "code",
   "execution_count": 4,
   "metadata": {},
   "outputs": [
    {
     "name": "stdout",
     "output_type": "stream",
     "text": [
      "L_int = [1, 2, 3, 4]\n",
      "L_int = ['Nome', 2, 3, 4]\n"
     ]
    }
   ],
   "source": [
    "#litas são mutáveis\n",
    "print('L_int =', L_int)\n",
    "L_int[0] = 'Nome'\n",
    "print('L_int =', L_int)"
   ]
  },
  {
   "cell_type": "code",
   "execution_count": 5,
   "metadata": {},
   "outputs": [
    {
     "name": "stdout",
     "output_type": "stream",
     "text": [
      "point2D = (1.0, 1.0)\n",
      "TypeError: 'tuple' object does not support item assignment\n",
      "point2D = (1.0, 1.0)\n"
     ]
    }
   ],
   "source": [
    "#tuplas são inmutáveis\n",
    "print('point2D =', point2D)\n",
    "try:\n",
    "    point2D[0] = 2.0\n",
    "except TypeError as err:\n",
    "    print('TypeError:', err)\n",
    "print('point2D =', point2D)"
   ]
  },
  {
   "cell_type": "markdown",
   "metadata": {},
   "source": [
    "##### Dicionários\n",
    "\n",
    "Este é, provavelmente, o tipo mais interessante entre os tipos de dados estruturados nativos de __Python__. \n",
    "\n",
    "O dicionário não parece com quase nada do que encontramos em outras linguagens mais tradicionais. Para declarar um dicionário utilizamos um conjunto de pares chave valor, no formato `{chave:valor, }`, separados por vírgula e delimitado por chaves. \n",
    "\n",
    "O acesso aos elementos do dicionário utiliza mais uma vez índices, mas desta vez não se trata de um mecanismo de indexação numérico começando em zero. Os índices dos dicionários são as chaves. \n",
    "\n",
    "Os dicionários são tipos de dados mutáveis.\n",
    "\n",
    "Veja os seguintes exemplos:"
   ]
  },
  {
   "cell_type": "code",
   "execution_count": 6,
   "metadata": {},
   "outputs": [
    {
     "name": "stdout",
     "output_type": "stream",
     "text": [
      "Nome:  Jonas\n",
      "Registro completo:  {'Nome': 'Juninho', 'SobreNome': 'Oliveira', 'Idade': 25, 'Altura': 1.85, 'Peso': 88.3}\n",
      "dict_keys(['Nome', 'SobreNome', 'Idade', 'Altura', 'Peso'])\n",
      "dict_values(['Juninho', 'Oliveira', 25, 1.85, 88.3])\n"
     ]
    }
   ],
   "source": [
    "# Declarando um dicionário\n",
    "meuReg = {'Nome': \"Jonas\", 'SobreNome': \"Oliveira\", \"Idade\":25, \"Altura\":1.85}\n",
    "# Acessando um elemento do dicionário\n",
    "print(\"Nome: \", meuReg['Nome'])\n",
    "# Os dicionarios são mutáveis\n",
    "# Modificando um elemento do dicionario\n",
    "meuReg['Nome'] = \"Juninho\"\n",
    "# Adicionando um novo elemento\n",
    "meuReg['Peso'] = 88.3\n",
    "# Imprimindo o dicionário\n",
    "print(\"Registro completo: \", meuReg)\n",
    "print(meuReg.keys())\n",
    "print(meuReg.values())\n"
   ]
  },
  {
   "cell_type": "markdown",
   "metadata": {},
   "source": [
    "##### Conjuntos\n",
    "\n",
    "Finalmente os conjuntos são declarados como as listas, substituindo os colchetes por chaves. \n",
    "\n",
    "Para os matemáticos pode ficar mais simples entender este tipo de dado se os associamos a conjuntos matemáticos, para os quais estão definidos uma série de operações bem conhecidas. \n",
    "\n",
    "Os conjuntos, embora mutáveis, não são ordenados. Portanto, não há espaço para indexação. A indexação e o slicing não podem alterar ou acessar um item de um conjunto, pois um conjunto python não oferece suporte para indexação em conjuntos.\n",
    "\n",
    "Veja os exemplos a seguir:"
   ]
  },
  {
   "cell_type": "code",
   "execution_count": 7,
   "metadata": {},
   "outputs": [
    {
     "name": "stdout",
     "output_type": "stream",
     "text": [
      "TypeError: 'set' object is not subscriptable\n",
      "Conjunto P,  {2, 4, 6, 8, 10}\n",
      "Conjunto I,  {1, 3, 5, 7, 9}\n",
      "União,  {1, 2, 3, 4, 5, 6, 7, 8, 9, 10}\n",
      "Intersecção,  set()\n",
      "Deferença,  {2, 4, 6, 8, 10}\n",
      "Deferença,  {1, 3, 5, 7, 9}\n"
     ]
    }
   ],
   "source": [
    "# Declarando conjuntos\n",
    "#P = { 2, 4, 5, 6, 8, 10}\n",
    "P = { 2, 4, 6, 8, 10}\n",
    "I = {1, 3, 5, 7 , 9}\n",
    "try:\n",
    "    print(\"P[0] = \", P[0])\n",
    "except TypeError as err:\n",
    "    print('TypeError:', err)\n",
    "# União de conjuntos\n",
    "num = P.union(I) # equivalente a P | I\n",
    "nulo = I.intersection(P) # equivalente a I & P\n",
    "difPdeI = P.difference(I) # equivalente a P - I\n",
    "difIdeP = I.difference(P) # equivalente a I - P\n",
    "print(\"Conjunto P, \", P)\n",
    "print(\"Conjunto I, \", I)\n",
    "print(\"União, \", num)\n",
    "print(\"Intersecção, \", nulo )\n",
    "print(\"Deferença, \", difPdeI)\n",
    "print(\"Deferença, \", difIdeP)"
   ]
  },
  {
   "cell_type": "markdown",
   "metadata": {},
   "source": [
    "#### Estruturas de controle de fluxo\n",
    "\n",
    "Com o conteúdo apresentado até aqui somos capasses de entender um pouco o __Python__ e brincar, de forma bastante limitada, com um interpretador como o __IPython__. \n",
    "\n",
    "Para andar soltos no mundo, implementando algoritmos, se faz necessário entender como controlar uma sequência de comandos de forma a executar determinados blocos de acordo com condições específicas, ou então de forma repetitiva, recorrente ou recursiva. \n",
    "\n",
    "Nos próximos tópicos abordaremos de forma rápida estruturas condicionais, como __if__, __elif__ e __else__, e estruturas de repetição, incluindo os tradicionais __for__ e __while__.\n",
    "\n",
    "##### Estrutura condicional: if - elif - else:\n",
    "\n",
    "Estruturas condicionadas, geralmente conhecidas como comandos `if-then`, permitem que o código execute um determinado bloco de instruções apenas se uma determinada condição for satisfeita. \n",
    "\n",
    "Em __Python__ se introduz a tradicional estrutura `if-else`, acrescentando apenas o `elif` que é uma contração para quando seja necessário utilizar um `else if` (o clássico `if` aninhado). \n",
    "\n",
    "Veja alguns exemplos simples:"
   ]
  },
  {
   "cell_type": "code",
   "execution_count": 8,
   "metadata": {},
   "outputs": [
    {
     "name": "stdout",
     "output_type": "stream",
     "text": [
      "x =  0.0\n",
      "x =  0.0\n",
      "x =  1\n",
      "1 positivo\n"
     ]
    }
   ],
   "source": [
    "# podemos utilizar uma variável bool diretamente\n",
    "#condição = True\n",
    "condição = False\n",
    "# veja como usar uma condição if simples\n",
    "x = 0.0\n",
    "print(\"x = \", x)\n",
    "\n",
    "#if condição:\n",
    "if condição:\n",
    "    x = 3.14\n",
    "# Após a estrutura condicional\n",
    "print(\"x = \", x)\n",
    "\n",
    "# Podemos utilizar também uma condição com duas alternativas\n",
    "if x > 0:\n",
    "    x = -1\n",
    "else:\n",
    "    x = 1\n",
    "# Após a nova estrutura condicional    \n",
    "print(\"x = \", x)\n",
    "\n",
    "# Ou estruturas condicionais aninhadas\n",
    "if x == 0:\n",
    "    print(x, \"zero\")\n",
    "elif x > 0:\n",
    "    print(x, \"positivo\")\n",
    "elif x < 0:\n",
    "    print(x, \"negativo\")\n",
    "else:\n",
    "    print(x, \"não é um valor numérico...\")"
   ]
  },
  {
   "cell_type": "code",
   "execution_count": 9,
   "metadata": {},
   "outputs": [
    {
     "name": "stdout",
     "output_type": "stream",
     "text": [
      "Voce quer ir na festa?\n",
      "Ta muito novinho. Vai dormir que é melhor.\n"
     ]
    }
   ],
   "source": [
    "print(\"Voce quer ir na festa?\")\n",
    "idade = int(input(\"Qual a sua idade? \"))\n",
    "\n",
    "if idade > 70:\n",
    "    print(\"Você está muito velho para festa!!! Vai tomar seu remedio e dormir.\")\n",
    "elif idade < 1:\n",
    "    print(\"Nem saiu das fraldas e está querendo ir para a farra!!\")\n",
    "elif idade >= 18:\n",
    "    print(\"Bem vindo na festa!\")\n",
    "else: \n",
    "    print(\"Ta muito novinho. Vai dormir que é melhor.\")"
   ]
  },
  {
   "cell_type": "markdown",
   "metadata": {},
   "source": [
    "Da versão __3.10__ em diante, o __Python__ implementou um recurso semelhante ao `switch-case` chamado “correspondência de padrões estruturais”. Você pode implementar esse recurso com as palavras-chave `match-case`.\n",
    "\n",
    "Algumas pessoas debatem se match e case são ou não palavras-chave em Python. Isso ocorre porque você pode usar ambos como nomes de variáveis ​​e funções. Mas isso é outra história para outro dia.\n",
    "\n",
    "Você pode referir-se a ambas as palavras-chave como \"palavras-chave suaves\", se desejar.\n",
    "\n",
    "Vejam como se fazia antes do `match-case`"
   ]
  },
  {
   "cell_type": "code",
   "execution_count": 10,
   "metadata": {},
   "outputs": [
    {
     "name": "stdout",
     "output_type": "stream",
     "text": [
      "Segunda-feira\n"
     ]
    }
   ],
   "source": [
    "diaSemana = 1\n",
    "\n",
    "if diaSemana == 1:\n",
    "    print(\"Segunda-feira\")\n",
    "elif diaSemana == 2:\n",
    "    print(\"Terça-feira\")\n",
    "elif diaSemana == 3:\n",
    "    print(\"Quarta-feira\")\n",
    "elif diaSemana == 4:\n",
    "    print(\"Quinta-feira\")\n",
    "elif diaSemana == 5:\n",
    "    print(\"Sexta-feira\")\n",
    "elif diaSemana == 6:\n",
    "    print(\"Sábado\")\n",
    "elif diaSemana == 7:\n",
    "    print(\"Domingo\")\n",
    "else:\n",
    "    print(\"Dia inválido\")"
   ]
  },
  {
   "cell_type": "markdown",
   "metadata": {},
   "source": [
    "Para escrever instruções switch você pode usar a sintaxe abaixo:\n",
    "```\n",
    "match term:\n",
    "    case pattern-1:\n",
    "         action-1\n",
    "    case pattern-2:\n",
    "         action-2\n",
    "    case pattern-3:\n",
    "         action-3\n",
    "    case _:\n",
    "        action-default\n",
    "```\n",
    "Veja que o símbolo de sublinhado é utilizado para definir um caso padrão."
   ]
  },
  {
   "cell_type": "code",
   "execution_count": 11,
   "metadata": {},
   "outputs": [
    {
     "name": "stdout",
     "output_type": "stream",
     "text": [
      "Segunda-feira\n"
     ]
    }
   ],
   "source": [
    "diaSemana = 1\n",
    "\n",
    "match diaSemana:\n",
    "    case 1:\n",
    "        print(\"Segunda-feira\")\n",
    "    case 2:\n",
    "        print(\"Terça-feira\")\n",
    "    case 3:\n",
    "        print(\"Quarta-feira\")\n",
    "    case 4:\n",
    "        print(\"Quinta-feira\")\n",
    "    case 5:\n",
    "        print(\"Sexta-feira\")\n",
    "    case 6:\n",
    "        print(\"Sábado\")\n",
    "    case 7:\n",
    "        print(\"Domingo\")\n",
    "    case _:\n",
    "        print(\"Dia inválido\")"
   ]
  },
  {
   "cell_type": "markdown",
   "metadata": {},
   "source": [
    "## Estrutura de repetição for\n",
    "\n",
    "Estruturas de repetição ou laços, são utilizados para executar um determinado bloco de instruções repetidas vezes. O tradicional construtor de estruturas de repetição `for` está disponível com uma abordagem um pouco diferentes. Veja um exemplo simples em __Python__:"
   ]
  },
  {
   "cell_type": "code",
   "execution_count": 12,
   "metadata": {},
   "outputs": [
    {
     "name": "stdout",
     "output_type": "stream",
     "text": [
      "PpI: [ 1 3 5 7 9 ]\n"
     ]
    }
   ],
   "source": [
    "PpI = [1, 3, 5, 7, 9]\n",
    "print(\"PpI: [ \", end='')\n",
    "for x in PpI:\n",
    "    print(x, end=' ')  # imprimindo todos os elementos na mesma linha\n",
    "print(\"]\")"
   ]
  },
  {
   "cell_type": "markdown",
   "metadata": {},
   "source": [
    "Reparem que neste exemplo utilizamos o operador `in` para ligar a variável de controle do laço `x`, com o conjunto de valores possíveis (pode se ler \"para cada valor x que pertencem àlista PpI). \n",
    "\n",
    "Veja um outro exemplo:"
   ]
  },
  {
   "cell_type": "code",
   "execution_count": 13,
   "metadata": {},
   "outputs": [
    {
     "name": "stdout",
     "output_type": "stream",
     "text": [
      "ovos\n",
      "farinha\n",
      "leite\n",
      "maças\n"
     ]
    }
   ],
   "source": [
    "listaCompras = ['ovos', 'farinha', 'leite', 'maças']\n",
    "for item in listaCompras:\n",
    "    print(item)"
   ]
  },
  {
   "cell_type": "markdown",
   "metadata": {},
   "source": [
    "Seria interessanto podermos enumerar os itens da lista, sobre tudo no contexto de uma lista de compras. A função `enumerate()` pode ajudar. Esta função gera um iterador, a partir da lista, que retorna uma dupla contendo o cada elemento precedido de seu índice.\n",
    "\n",
    "Veja p exemplo:"
   ]
  },
  {
   "cell_type": "code",
   "execution_count": 14,
   "metadata": {},
   "outputs": [
    {
     "name": "stdout",
     "output_type": "stream",
     "text": [
      "(0, 'ovos')\n",
      "(1, 'farinha')\n",
      "(2, 'leite')\n",
      "(3, 'maças')\n"
     ]
    }
   ],
   "source": [
    "for dupla in enumerate(listaCompras):\n",
    "    print(dupla)"
   ]
  },
  {
   "cell_type": "code",
   "execution_count": 15,
   "metadata": {},
   "outputs": [
    {
     "name": "stdout",
     "output_type": "stream",
     "text": [
      "0 - ovos\n",
      "1 - farinha\n",
      "2 - leite\n",
      "3 - maças\n"
     ]
    }
   ],
   "source": [
    "for dupla in enumerate(listaCompras):\n",
    "    print(dupla[0], '-', dupla[1])"
   ]
  },
  {
   "cell_type": "code",
   "execution_count": 16,
   "metadata": {},
   "outputs": [
    {
     "name": "stdout",
     "output_type": "stream",
     "text": [
      "1 - ovos\n",
      "2 - farinha\n",
      "3 - leite\n",
      "4 - maças\n"
     ]
    }
   ],
   "source": [
    "for dupla in enumerate(listaCompras):\n",
    "    print(dupla[0]+1, '-', dupla[1])"
   ]
  },
  {
   "cell_type": "code",
   "execution_count": 17,
   "metadata": {},
   "outputs": [
    {
     "name": "stdout",
     "output_type": "stream",
     "text": [
      "1 - ovos\n",
      "2 - farinha\n",
      "3 - leite\n",
      "4 - maças\n"
     ]
    }
   ],
   "source": [
    "for index, valor in enumerate(listaCompras):\n",
    "    print(index + 1, '-', valor)"
   ]
  },
  {
   "cell_type": "markdown",
   "metadata": {},
   "source": [
    "O mesmo código poderia ser implementado utilizando a função `range()`.\n",
    "\n",
    "A função `range()` retora um _itarator_ ed números inteiros. "
   ]
  },
  {
   "cell_type": "code",
   "execution_count": 18,
   "metadata": {},
   "outputs": [
    {
     "name": "stdout",
     "output_type": "stream",
     "text": [
      "<class 'range'>\n",
      "range(0, 10)\n",
      "[0, 1, 2, 3, 4, 5, 6, 7, 8, 9]\n"
     ]
    },
    {
     "data": {
      "text/plain": [
       "['__bool__',\n",
       " '__class__',\n",
       " '__contains__',\n",
       " '__delattr__',\n",
       " '__dir__',\n",
       " '__doc__',\n",
       " '__eq__',\n",
       " '__format__',\n",
       " '__ge__',\n",
       " '__getattribute__',\n",
       " '__getitem__',\n",
       " '__gt__',\n",
       " '__hash__',\n",
       " '__init__',\n",
       " '__init_subclass__',\n",
       " '__iter__',\n",
       " '__le__',\n",
       " '__len__',\n",
       " '__lt__',\n",
       " '__ne__',\n",
       " '__new__',\n",
       " '__reduce__',\n",
       " '__reduce_ex__',\n",
       " '__repr__',\n",
       " '__reversed__',\n",
       " '__setattr__',\n",
       " '__sizeof__',\n",
       " '__str__',\n",
       " '__subclasshook__',\n",
       " 'count',\n",
       " 'index',\n",
       " 'start',\n",
       " 'step',\n",
       " 'stop']"
      ]
     },
     "execution_count": 18,
     "metadata": {},
     "output_type": "execute_result"
    }
   ],
   "source": [
    "itera = range(10)\n",
    "print(type(itera))\n",
    "print(itera)\n",
    "print(list(itera))\n",
    "dir(itera)"
   ]
  },
  {
   "cell_type": "markdown",
   "metadata": {},
   "source": [
    "Como vimos no exemplo anterior, o iterador precisa um perámetro de entrada que representa o fim do processo iterativo. o iterador gera uma sequencia de números inteiros que começa em 0 e vai até o valor final, que não está incluído.\n",
    "Para visualizar os valores gerados podemos transaformar o iterador numa lista:  "
   ]
  },
  {
   "cell_type": "code",
   "execution_count": 19,
   "metadata": {},
   "outputs": [
    {
     "name": "stdout",
     "output_type": "stream",
     "text": [
      "range(  10  ) -  <class 'range'> :  [0, 1, 2, 3, 4, 5, 6, 7, 8, 9]\n"
     ]
    }
   ],
   "source": [
    "# a função range retorna um iterator de números inteiros\n",
    "# pode ser usada definindo apenas o valor final, que não estara incluido \n",
    "fim = 10\n",
    "itera = range(fim)\n",
    "print(\"range( \", fim, \" ) - \", type(itera), \": \", list(itera))"
   ]
  },
  {
   "cell_type": "markdown",
   "metadata": {},
   "source": [
    "O valor inicial do iterador pode ser modificado. Com isto será necessário passar dois parâmetros para a função."
   ]
  },
  {
   "cell_type": "code",
   "execution_count": 20,
   "metadata": {},
   "outputs": [
    {
     "name": "stdout",
     "output_type": "stream",
     "text": [
      "range(  2 ,  10  ) -  <class 'range'> :  [2, 3, 4, 5, 6, 7, 8, 9]\n"
     ]
    }
   ],
   "source": [
    "# pode ser definindo também o valor inicial, que estara incluido \n",
    "ini = 2\n",
    "itera = range(ini, fim)\n",
    "print(\"range( \", ini, \", \", fim, \" ) - \", type(itera), \": \", list(itera))"
   ]
  },
  {
   "cell_type": "markdown",
   "metadata": {},
   "source": [
    "Repare que o valor inicial está incluído na sequencia gerada. \n",
    "\n",
    "Pose-se definir ainda um valor para o incremento que, por padrão, é um. "
   ]
  },
  {
   "cell_type": "code",
   "execution_count": 21,
   "metadata": {},
   "outputs": [
    {
     "name": "stdout",
     "output_type": "stream",
     "text": [
      "range(  2 ,  10 ,  2  ) -  <class 'range'> :  [2, 4, 6, 8]\n"
     ]
    }
   ],
   "source": [
    "# pode ainda ser definindo também o valor do incremento\n",
    "passo = 2\n",
    "itera = range(ini, fim, passo)\n",
    "print(\"range( \", ini, \", \", fim, \", \", passo, \" ) - \", type(itera), \": \", list(itera))"
   ]
  },
  {
   "cell_type": "markdown",
   "metadata": {},
   "source": [
    "Veja como fica o exemplo da lista anterior utilizando `range()`"
   ]
  },
  {
   "cell_type": "code",
   "execution_count": 22,
   "metadata": {},
   "outputs": [
    {
     "name": "stdout",
     "output_type": "stream",
     "text": [
      "PpI: [  1 3 5 7 9 ]\n",
      "\n",
      "1 ovos\n",
      "2 farinha\n",
      "3 leite\n",
      "4 maças\n"
     ]
    }
   ],
   "source": [
    "# No caso da lista de inteiros\n",
    "print(\"PpI: [ \", end=' ')\n",
    "for i in range(len(PpI)):\n",
    "    print(PpI[i], end=' ')\n",
    "print(\"]\")\n",
    "\n",
    "print()\n",
    "\n",
    "# No caso da lista de compras\n",
    "for i in range(len(listaCompras)):\n",
    "    print(i+1, listaCompras[i])"
   ]
  },
  {
   "cell_type": "markdown",
   "metadata": {},
   "source": [
    "O modelo de repetição for é muito útil para iterar sobre sequências, como listas, tuplas, strings, etc. \n",
    "\n",
    "Veja os exemplo abaixo:"
   ]
  },
  {
   "cell_type": "code",
   "execution_count": 23,
   "metadata": {},
   "outputs": [
    {
     "name": "stdout",
     "output_type": "stream",
     "text": [
      "EblTmsVlr rlaa\n",
      "EblTmsVlr rlaa"
     ]
    }
   ],
   "source": [
    "Nome = \"Esbel Tomas Valero Orellana\"\n",
    "for chr in Nome[::2]:\n",
    "    print(chr, end='')\n",
    "\n",
    "print()\n",
    "\n",
    "for i in range(0, len(Nome), 2):\n",
    "    print(Nome[i], end='')"
   ]
  },
  {
   "cell_type": "code",
   "execution_count": 24,
   "metadata": {},
   "outputs": [
    {
     "name": "stdout",
     "output_type": "stream",
     "text": [
      "1 2 3 4 5 \n",
      "1 2 3 4 5 "
     ]
    }
   ],
   "source": [
    "tupla = (1, 2, 3, 4, 5)\n",
    "for i in tupla:\n",
    "    print(i, end=' ')\n",
    "\n",
    "print()\n",
    "\n",
    "for i in range(len(tupla)):\n",
    "    print(tupla[i], end=' ')"
   ]
  },
  {
   "cell_type": "code",
   "execution_count": 25,
   "metadata": {},
   "outputs": [
    {
     "name": "stdout",
     "output_type": "stream",
     "text": [
      "2 4 5 6 8 10 "
     ]
    }
   ],
   "source": [
    "P = { 2, 4, 5, 6, 8, 10}\n",
    "for i in P:\n",
    "    print(i, end=' ')"
   ]
  },
  {
   "cell_type": "markdown",
   "metadata": {},
   "source": [
    "Como  fazer para percorrer dicionarios?"
   ]
  },
  {
   "cell_type": "code",
   "execution_count": 26,
   "metadata": {},
   "outputs": [
    {
     "name": "stdout",
     "output_type": "stream",
     "text": [
      "Por padrão percoremos as chaves do dicionário\n",
      "Nome SobreNome Idade Altura \n",
      "Podemos indicar que queremos percorrer as chaves de forma explícita\n",
      "Nome SobreNome Idade Altura \n",
      "Podemos indicar que queremos percorrer os valores de forma explícita\n",
      "Jonas Oliveira 25 1.85 \n",
      "Podemos indicar que queremos percorrer os itens de forma explícita\n",
      "Nome : Jonas SobreNome : Oliveira Idade : 25 Altura : 1.85 "
     ]
    }
   ],
   "source": [
    "dic = {'Nome': \"Jonas\", 'SobreNome': \"Oliveira\", \"Idade\":25, \"Altura\":1.85}\n",
    "print(\"Por padrão percoremos as chaves do dicionário\")\n",
    "for i in dic:\n",
    "    print(i, end=' ') \n",
    "\n",
    "print()\n",
    "print(\"Podemos indicar que queremos percorrer as chaves de forma explícita\")\n",
    "\n",
    "for i in dic.keys():\n",
    "    print(i, end=' ')\n",
    "\n",
    "print()\n",
    "print(\"Podemos indicar que queremos percorrer os valores de forma explícita\")\n",
    "\n",
    "for i in dic.values():\n",
    "    print(i, end=' ')\n",
    "\n",
    "print()\n",
    "print(\"Podemos indicar que queremos percorrer os itens de forma explícita\")\n",
    "\n",
    "for chave, valor in dic.items():\n",
    "    print(chave,':', valor, end=' ')\n"
   ]
  },
  {
   "cell_type": "code",
   "execution_count": 27,
   "metadata": {},
   "outputs": [
    {
     "name": "stdout",
     "output_type": "stream",
     "text": [
      "Vamos calcular o fatorial de um número.\n",
      "1 -- 1\n",
      "2 -- 2\n",
      "3 -- 6\n",
      "4 -- 24\n",
      "5 -- 120\n",
      "6 -- 720\n",
      "7 -- 5040\n",
      "8 -- 40320\n",
      "9 -- 362880\n",
      "10 -- 3628800\n",
      "11 -- 39916800\n",
      "12 -- 479001600\n",
      "12 ! =  479001600\n",
      "12 ! =  3628800\n",
      "12 -- 12\n",
      "11 -- 132\n",
      "10 -- 1320\n",
      "9 -- 11880\n",
      "8 -- 95040\n",
      "7 -- 665280\n",
      "6 -- 3991680\n",
      "5 -- 19958400\n",
      "4 -- 79833600\n",
      "3 -- 239500800\n",
      "2 -- 479001600\n",
      "1 -- 479001600\n",
      "12 ! =  479001600\n"
     ]
    }
   ],
   "source": [
    "print(\"Vamos calcular o fatorial de um número.\")\n",
    "n = input(\"Entre com um valor inteiro: \")\n",
    "n = int(n)\n",
    "fat = 1\n",
    "for x in range(1, n+1):\n",
    "    fat *= x\n",
    "    print(x, \"--\", fat)\n",
    "print(n,\"! = \", fat)\n",
    "fat = 1*2*3*4*5*6*7*8*9*10\n",
    "print(n,\"! = \", fat)\n",
    "fat = 1\n",
    "for x in range(n, 0, -1):\n",
    "    fat *= x\n",
    "    print(x, \"--\", fat)\n",
    "print(n,\"! = \", fat)"
   ]
  },
  {
   "cell_type": "markdown",
   "metadata": {},
   "source": [
    "##### Estrutura de repetição while\n",
    "\n",
    "A estrutura `while`, como em __C/C++__, repete um bloco de código enquanto uma determinada condição for satisfeita. \n",
    "\n",
    "Veja o exemplo:"
   ]
  },
  {
   "cell_type": "code",
   "execution_count": 28,
   "metadata": {},
   "outputs": [
    {
     "name": "stdout",
     "output_type": "stream",
     "text": [
      "PpI: [ 1 3 5 7 9 ]\n",
      "PpI: [ 1 3 5 7 9 ]\n"
     ]
    }
   ],
   "source": [
    "#Estrutura de repetição controlada por contador\n",
    "i = 0 #inicializando o contador\n",
    "print(\"PpI: [ \", end='')\n",
    "while i < len(PpI): # verificandop a condição de parada\n",
    "    print(PpI[i], end=' ')\n",
    "    i += 1 #incrementando o contador\n",
    "print(\"]\")\n",
    "\n",
    "#Estrutura de repetição controlada por sentinela\n",
    "i = 0 #inicializando o contador\n",
    "print(\"PpI: [ \", end='')\n",
    "while True:\n",
    "    try:\n",
    "        print(PpI[i], end=' ')\n",
    "    except:\n",
    "        break\n",
    "    i += 1 #incrementando o contador\n",
    "print(\"]\")"
   ]
  },
  {
   "cell_type": "markdown",
   "metadata": {},
   "source": [
    "Como vimos no exemplo anterior as estruturas de repetição podem ter sua execução modificada pelo uso de duas instruções: `break` e `continue`. Veja como modificar o código do laço `for` apresentado na seção anterior: "
   ]
  },
  {
   "cell_type": "code",
   "execution_count": 29,
   "metadata": {},
   "outputs": [
    {
     "name": "stdout",
     "output_type": "stream",
     "text": [
      "PpI: [3 7 ]\n"
     ]
    }
   ],
   "source": [
    "print(\"PpI: [\", end='')\n",
    "for i in range(len(PpI)):\n",
    "    if i%2 == 0 :\n",
    "        continue #pula para o fim da iteração atual e vai para a próxima iteração\n",
    "    print(PpI[i], end=' ')\n",
    "print(\"]\")"
   ]
  },
  {
   "cell_type": "markdown",
   "metadata": {},
   "source": [
    "Uma outra característica que pode ser comentada sobre as estruturas de repetição em __Python__ é a possibilidade de utilizar um estrutura `else` no final, tanto dos laços `for` quanto dos `while`. \n",
    "\n",
    "A utilização prática ou mesmo a necessidade de se ter este recurso desperta muitas dúvidas entre os programadores. Vamos apenas colocar um exemplo para documentar o uso do mesmo."
   ]
  },
  {
   "cell_type": "code",
   "execution_count": 30,
   "metadata": {},
   "outputs": [
    {
     "name": "stdout",
     "output_type": "stream",
     "text": [
      "PpI: [ 1 3 5 "
     ]
    }
   ],
   "source": [
    "# Uma situação sismples baseada no exemplo anterior\n",
    "print(\"PpI: [\", end=' ')\n",
    "for i in range(len(PpI)):\n",
    "    if i > 2:\n",
    "        break # sai completamente da execução do laço\n",
    "    print(PpI[i], end=' ')  \n",
    "else: \n",
    "    print(\"]\")"
   ]
  },
  {
   "cell_type": "code",
   "execution_count": null,
   "metadata": {},
   "outputs": [],
   "source": []
  }
 ],
 "metadata": {
  "kernelspec": {
   "display_name": "Python 3 (ipykernel)",
   "language": "python",
   "name": "python3"
  },
  "language_info": {
   "codemirror_mode": {
    "name": "ipython",
    "version": 3
   },
   "file_extension": ".py",
   "mimetype": "text/x-python",
   "name": "python",
   "nbconvert_exporter": "python",
   "pygments_lexer": "ipython3",
   "version": "3.10.13"
  }
 },
 "nbformat": 4,
 "nbformat_minor": 4
}
