{
 "cells": [
  {
   "cell_type": "markdown",
   "metadata": {},
   "source": [
    "1. Escreva um programa que leia o lado de um quadrado e então imprima o quadrado com asteriscos. Seu programa deve funcionar com quadrados de todos os tamanhos entre 1 e 20 (incluíndo 1 e 20). Por exemplo, se seu programa lesse um tamanho 4, deveria imprimir: \n",
    "```\n",
    "\n",
    "  ****\n",
    "  ****\n",
    "  ****\n",
    "  ****\n",
    "  \n",
    "```"
   ]
  },
  {
   "cell_type": "code",
   "execution_count": 2,
   "metadata": {},
   "outputs": [
    {
     "name": "stdout",
     "output_type": "stream",
     "text": [
      "****\n",
      "****\n",
      "****\n",
      "****\n"
     ]
    }
   ],
   "source": [
    "# Fazer aqui\n",
    "n = int(input(\"Entre o tamanho do padrão: \"))\n",
    "while n < 1 or n > 20:\n",
    "    print(\"O tamanho deve ser entre 1 e 20\")\n",
    "    n = int(input(\"Entre o tamanho do padrão: \"))\n",
    "for i in range(1, n+1):\n",
    "    print(\"*\" * n)        "
   ]
  },
  {
   "cell_type": "markdown",
   "metadata": {},
   "source": [
    "2. Modifique o programa do exercício anterior para imprimir um quadrado vazado. Por exemplo, se seu programa lesse um tamanho 5, deveria imprimir:\n",
    "\n",
    "```\n",
    "\n",
    "  *****\n",
    "  *   *\n",
    "  *   *\n",
    "  *   *\n",
    "  *****\n",
    "  \n",
    "```"
   ]
  },
  {
   "cell_type": "code",
   "execution_count": 4,
   "metadata": {},
   "outputs": [
    {
     "name": "stdout",
     "output_type": "stream",
     "text": [
      "****\n",
      "*  *\n",
      "*  *\n",
      "****\n"
     ]
    }
   ],
   "source": [
    "# Fazer aqui\n",
    "print(\"*\" * n)\n",
    "for i in range(2, n):\n",
    "    print(\"*\" + \" \" * (n-2) + \"*\")\n",
    "print(\"*\" * n)"
   ]
  },
  {
   "cell_type": "markdown",
   "metadata": {},
   "source": [
    "3. Modifique o programa anterior para imprimir os seguintes padrões. Por exemplo, se seu programa lesse um tamanho 5, deveria imprimir:\n",
    "\n",
    "```\n",
    "\n",
    "  *\n",
    "  **\n",
    "  ***\n",
    "  ****\n",
    "  *****\n",
    "\n",
    "      *\n",
    "     **\n",
    "    ***\n",
    "   ****\n",
    "  *****\n",
    "\n",
    "  *****\n",
    "  ****\n",
    "  ***\n",
    "  **\n",
    "  *\n",
    "\n",
    "  *****\n",
    "   ****\n",
    "    ***\n",
    "     **\n",
    "      *\n",
    "\n",
    "```"
   ]
  },
  {
   "cell_type": "code",
   "execution_count": 10,
   "metadata": {},
   "outputs": [
    {
     "name": "stdout",
     "output_type": "stream",
     "text": [
      "*\n",
      "**\n",
      "***\n",
      "****\n",
      "\n",
      "   *\n",
      "  **\n",
      " ***\n",
      "****\n",
      "\n",
      "****\n",
      "***\n",
      "**\n",
      "*\n",
      "\n",
      "****\n",
      " ***\n",
      "  **\n",
      "   *\n"
     ]
    }
   ],
   "source": [
    "# Fazer aqui\n",
    "for i in range(1, n+1):\n",
    "    print(\"*\" * i)\n",
    "print()\n",
    "for i in range(1, n+1):\n",
    "    print(\" \" * (n-i) + \"*\" * i)\n",
    "print()\n",
    "for i in range(n, 0, -1):\n",
    "    print(\"*\" * i)\n",
    "print()\n",
    "for i in range(n, 0, -1):\n",
    "    print(\" \" * (n-i) + \"*\" * i)    "
   ]
  },
  {
   "cell_type": "markdown",
   "metadata": {},
   "source": [
    "4. Modifique o programa anterior para imprimir os seguintes padrões. Por exemplo, se seu programa lesse um tamanho 5, deveria imprimir:\n",
    "\n",
    "```\n",
    "\n",
    "      * *\n",
    "     ** **\n",
    "    *** ***\n",
    "   **** ****\n",
    "  ***** *****\n",
    "\n",
    "  ***** *****\n",
    "   **** ****\n",
    "    *** ***\n",
    "     ** **\n",
    "      * *\n",
    "\n",
    "  *         *\n",
    "  **       **\n",
    "  ***     *** \n",
    "  ****   ****\n",
    "  ***** *****\n",
    "\n",
    "  ***** *****\n",
    "  ****   ****\n",
    "  ***     ***\n",
    "  **       **\n",
    "  *         *\n",
    "\n",
    "```"
   ]
  },
  {
   "cell_type": "code",
   "execution_count": 21,
   "metadata": {},
   "outputs": [
    {
     "name": "stdout",
     "output_type": "stream",
     "text": [
      "   * *\n",
      "  ** **\n",
      " *** ***\n",
      "**** ****\n",
      "\n",
      "**** ****\n",
      " *** ***\n",
      "  ** **\n",
      "   * *\n",
      "\n",
      "*       *\n",
      "**     **\n",
      "***   ***\n",
      "**** ****\n",
      "\n",
      "**** ****\n",
      "***   ***\n",
      "**     **\n",
      "*       *\n"
     ]
    }
   ],
   "source": [
    "# Fazer aqui\n",
    "for i in range(1, n+1):\n",
    "    print(\" \" * (n-i) + \"*\" * i + \" \" + \"*\" * i)\n",
    "print()\n",
    "for i in range(0, n):\n",
    "    print(\" \" * i + \"*\" * (n-i) + \" \" + \"*\" * (n-i))\n",
    "print()\n",
    "for i in range(1, n+1):\n",
    "    print(\"*\" * i + \" \" * (n-i) + \" \" + \" \" *(n-i) + \"*\" * i)\n",
    "print()\n",
    "for i in range(0, n):\n",
    "    print(\"*\" * (n - i) + \" \" * (i) + \" \" + \" \" *(i) + \"*\" * (n - i))"
   ]
  }
 ],
 "metadata": {
  "kernelspec": {
   "display_name": "Python 3 (ipykernel)",
   "language": "python",
   "name": "python3"
  },
  "language_info": {
   "codemirror_mode": {
    "name": "ipython",
    "version": 3
   },
   "file_extension": ".py",
   "mimetype": "text/x-python",
   "name": "python",
   "nbconvert_exporter": "python",
   "pygments_lexer": "ipython3",
   "version": "3.10.13"
  }
 },
 "nbformat": 4,
 "nbformat_minor": 2
}
