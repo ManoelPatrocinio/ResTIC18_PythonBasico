{
 "cells": [
  {
   "cell_type": "markdown",
   "metadata": {},
   "source": [
    "# Módulo de Programação Python\n",
    "\n",
    "# Trilha Python - Aula 21: Modulos e Pacotes - Avançado\n",
    "\n",
    "<img align=\"center\" style=\"padding-right:10px;\" src=\"Figuras/aula-25_fig_01.png\">"
   ]
  },
  {
   "cell_type": "markdown",
   "metadata": {},
   "source": [
    "## Uma breve discussão sobre a importância de visualização de dados.\n",
    "\n",
    "O quarteto de _Anscombe_ é formado por quatro conjuntos de dados que, se analisados utilizando descritores estatísticos simples, são quase idênticos. Entretanto estes conjuntos possuem distribuições muito diferentes, o que pode ser constatado  quando representadas graficamente. \n",
    "\n",
    "Cada conjunto de dados consiste em onze pares ``(x, y)`` e foram construídos em 1973, pelo estatístico _Francis Anscombe_, para demonstrar a importância de representar graficamente os dados ao analisá-los e o efeito de outliers e outras observações, nas propriedades estatísticas. \n",
    "\n",
    "O autor descreveu seu artigo como tendo o objetivo de contrariar a impressão entre os estatísticos de que \"os cálculos numéricos são exatos, mas os gráficos são aproximados\"."
   ]
  },
  {
   "cell_type": "code",
   "execution_count": 1,
   "metadata": {},
   "outputs": [],
   "source": [
    "# Quarteto de Anscombe\n",
    "QA_x1 = [10.0, 8.0, 13.0, 9.0, 11.0, 14.0, 6.0, 4.0, 12.0, 7.0, 5.0]\n",
    "QA_y1 = [8.04, 6.95, 7.58, 8.81, 8.33, 9.96, 7.24, 4.26, 10.84, 4.82, 5.68]\n",
    "\n",
    "QA_x2 = [10.0, 8.0, 13.0, 9.0, 11.0, 14.0, 6.0, 4.0, 12.0, 7.0, 5.0]\n",
    "QA_y2 = [9.14, 8.14, 8.74, 8.77, 9.26, 8.10, 6.13, 3.10, 9.13, 7.26, 4.74]\n",
    "\n",
    "QA_x3 = [10.0, 8.0, 13.0, 9.0, 11.0, 14.0, 6.0, 4.0, 12.0, 7.0, 5.0]\n",
    "QA_y3 = [7.46, 6.77, 12.74, 7.11, 7.81, 8.84, 6.08, 5.39, 8.15, 6.42, 5.73]\n",
    "\n",
    "QA_x4 = [8.0, 8.0, 8.0, 8.0, 8.0, 8.0, 8.0, 19.0, 8.0, 8.0, 8.0]\n",
    "QA_y4 = [6.58, 5.76, 7.71, 8.84, 8.47, 7.04, 5.25, 12.50, 5.56, 7.91, 6.89]"
   ]
  },
  {
   "cell_type": "code",
   "execution_count": 2,
   "metadata": {},
   "outputs": [
    {
     "name": "stdout",
     "output_type": "stream",
     "text": [
      "Intel MKL WARNING: Support of Intel(R) Streaming SIMD Extensions 4.2 (Intel(R) SSE4.2) enabled only processors has been deprecated. Intel oneAPI Math Kernel Library 2025.0 will require Intel(R) Advanced Vector Extensions (Intel(R) AVX) instructions.\n",
      "Intel MKL WARNING: Support of Intel(R) Streaming SIMD Extensions 4.2 (Intel(R) SSE4.2) enabled only processors has been deprecated. Intel oneAPI Math Kernel Library 2025.0 will require Intel(R) Advanced Vector Extensions (Intel(R) AVX) instructions.\n"
     ]
    }
   ],
   "source": [
    "# Vamos converter cada quarteto em um ndarray\n",
    "import numpy as np\n",
    "QA_x1 = np.array(QA_x1)\n",
    "QA_y1 = np.array(QA_y1)\n",
    "QA_x2 = np.array(QA_x2)\n",
    "QA_y2 = np.array(QA_y2)\n",
    "QA_x3 = np.array(QA_x3)\n",
    "QA_y3 = np.array(QA_y3)\n",
    "QA_x4 = np.array(QA_x4)\n",
    "QA_y4 = np.array(QA_y4)"
   ]
  },
  {
   "cell_type": "markdown",
   "metadata": {},
   "source": [
    "Inicialmente podemos tentar visualizar estes dados na forma de uma tabela. Vamos construir um  data frame com eles."
   ]
  },
  {
   "cell_type": "code",
   "execution_count": 3,
   "metadata": {},
   "outputs": [
    {
     "data": {
      "text/html": [
       "<div>\n",
       "<style scoped>\n",
       "    .dataframe tbody tr th:only-of-type {\n",
       "        vertical-align: middle;\n",
       "    }\n",
       "\n",
       "    .dataframe tbody tr th {\n",
       "        vertical-align: top;\n",
       "    }\n",
       "\n",
       "    .dataframe thead tr th {\n",
       "        text-align: left;\n",
       "    }\n",
       "\n",
       "    .dataframe thead tr:last-of-type th {\n",
       "        text-align: right;\n",
       "    }\n",
       "</style>\n",
       "<table border=\"1\" class=\"dataframe\">\n",
       "  <thead>\n",
       "    <tr>\n",
       "      <th>Quarteto</th>\n",
       "      <th colspan=\"2\" halign=\"left\">I</th>\n",
       "      <th colspan=\"2\" halign=\"left\">II</th>\n",
       "      <th colspan=\"2\" halign=\"left\">III</th>\n",
       "      <th colspan=\"2\" halign=\"left\">IV</th>\n",
       "    </tr>\n",
       "    <tr>\n",
       "      <th>Coordenada</th>\n",
       "      <th>x</th>\n",
       "      <th>y</th>\n",
       "      <th>x</th>\n",
       "      <th>y</th>\n",
       "      <th>x</th>\n",
       "      <th>y</th>\n",
       "      <th>x</th>\n",
       "      <th>y</th>\n",
       "    </tr>\n",
       "    <tr>\n",
       "      <th>Obs.</th>\n",
       "      <th></th>\n",
       "      <th></th>\n",
       "      <th></th>\n",
       "      <th></th>\n",
       "      <th></th>\n",
       "      <th></th>\n",
       "      <th></th>\n",
       "      <th></th>\n",
       "    </tr>\n",
       "  </thead>\n",
       "  <tbody>\n",
       "    <tr>\n",
       "      <th>1</th>\n",
       "      <td>10.0</td>\n",
       "      <td>8.04</td>\n",
       "      <td>10.0</td>\n",
       "      <td>9.14</td>\n",
       "      <td>10.0</td>\n",
       "      <td>7.46</td>\n",
       "      <td>8.0</td>\n",
       "      <td>6.58</td>\n",
       "    </tr>\n",
       "    <tr>\n",
       "      <th>2</th>\n",
       "      <td>8.0</td>\n",
       "      <td>6.95</td>\n",
       "      <td>8.0</td>\n",
       "      <td>8.14</td>\n",
       "      <td>8.0</td>\n",
       "      <td>6.77</td>\n",
       "      <td>8.0</td>\n",
       "      <td>5.76</td>\n",
       "    </tr>\n",
       "    <tr>\n",
       "      <th>3</th>\n",
       "      <td>13.0</td>\n",
       "      <td>7.58</td>\n",
       "      <td>13.0</td>\n",
       "      <td>8.74</td>\n",
       "      <td>13.0</td>\n",
       "      <td>12.74</td>\n",
       "      <td>8.0</td>\n",
       "      <td>7.71</td>\n",
       "    </tr>\n",
       "    <tr>\n",
       "      <th>4</th>\n",
       "      <td>9.0</td>\n",
       "      <td>8.81</td>\n",
       "      <td>9.0</td>\n",
       "      <td>8.77</td>\n",
       "      <td>9.0</td>\n",
       "      <td>7.11</td>\n",
       "      <td>8.0</td>\n",
       "      <td>8.84</td>\n",
       "    </tr>\n",
       "    <tr>\n",
       "      <th>5</th>\n",
       "      <td>11.0</td>\n",
       "      <td>8.33</td>\n",
       "      <td>11.0</td>\n",
       "      <td>9.26</td>\n",
       "      <td>11.0</td>\n",
       "      <td>7.81</td>\n",
       "      <td>8.0</td>\n",
       "      <td>8.47</td>\n",
       "    </tr>\n",
       "    <tr>\n",
       "      <th>6</th>\n",
       "      <td>14.0</td>\n",
       "      <td>9.96</td>\n",
       "      <td>14.0</td>\n",
       "      <td>8.10</td>\n",
       "      <td>14.0</td>\n",
       "      <td>8.84</td>\n",
       "      <td>8.0</td>\n",
       "      <td>7.04</td>\n",
       "    </tr>\n",
       "    <tr>\n",
       "      <th>7</th>\n",
       "      <td>6.0</td>\n",
       "      <td>7.24</td>\n",
       "      <td>6.0</td>\n",
       "      <td>6.13</td>\n",
       "      <td>6.0</td>\n",
       "      <td>6.08</td>\n",
       "      <td>8.0</td>\n",
       "      <td>5.25</td>\n",
       "    </tr>\n",
       "    <tr>\n",
       "      <th>8</th>\n",
       "      <td>4.0</td>\n",
       "      <td>4.26</td>\n",
       "      <td>4.0</td>\n",
       "      <td>3.10</td>\n",
       "      <td>4.0</td>\n",
       "      <td>5.39</td>\n",
       "      <td>19.0</td>\n",
       "      <td>12.50</td>\n",
       "    </tr>\n",
       "    <tr>\n",
       "      <th>9</th>\n",
       "      <td>12.0</td>\n",
       "      <td>10.84</td>\n",
       "      <td>12.0</td>\n",
       "      <td>9.13</td>\n",
       "      <td>12.0</td>\n",
       "      <td>8.15</td>\n",
       "      <td>8.0</td>\n",
       "      <td>5.56</td>\n",
       "    </tr>\n",
       "    <tr>\n",
       "      <th>10</th>\n",
       "      <td>7.0</td>\n",
       "      <td>4.82</td>\n",
       "      <td>7.0</td>\n",
       "      <td>7.26</td>\n",
       "      <td>7.0</td>\n",
       "      <td>6.42</td>\n",
       "      <td>8.0</td>\n",
       "      <td>7.91</td>\n",
       "    </tr>\n",
       "    <tr>\n",
       "      <th>11</th>\n",
       "      <td>5.0</td>\n",
       "      <td>5.68</td>\n",
       "      <td>5.0</td>\n",
       "      <td>4.74</td>\n",
       "      <td>5.0</td>\n",
       "      <td>5.73</td>\n",
       "      <td>8.0</td>\n",
       "      <td>6.89</td>\n",
       "    </tr>\n",
       "  </tbody>\n",
       "</table>\n",
       "</div>"
      ],
      "text/plain": [
       "Quarteto       I           II         III           IV       \n",
       "Coordenada     x      y     x     y     x      y     x      y\n",
       "Obs.                                                         \n",
       "1           10.0   8.04  10.0  9.14  10.0   7.46   8.0   6.58\n",
       "2            8.0   6.95   8.0  8.14   8.0   6.77   8.0   5.76\n",
       "3           13.0   7.58  13.0  8.74  13.0  12.74   8.0   7.71\n",
       "4            9.0   8.81   9.0  8.77   9.0   7.11   8.0   8.84\n",
       "5           11.0   8.33  11.0  9.26  11.0   7.81   8.0   8.47\n",
       "6           14.0   9.96  14.0  8.10  14.0   8.84   8.0   7.04\n",
       "7            6.0   7.24   6.0  6.13   6.0   6.08   8.0   5.25\n",
       "8            4.0   4.26   4.0  3.10   4.0   5.39  19.0  12.50\n",
       "9           12.0  10.84  12.0  9.13  12.0   8.15   8.0   5.56\n",
       "10           7.0   4.82   7.0  7.26   7.0   6.42   8.0   7.91\n",
       "11           5.0   5.68   5.0  4.74   5.0   5.73   8.0   6.89"
      ]
     },
     "execution_count": 3,
     "metadata": {},
     "output_type": "execute_result"
    }
   ],
   "source": [
    "import pandas as pd\n",
    "#from IPython.display import HTML\n",
    "\n",
    "colunas = pd.MultiIndex.from_product((['I', 'II', 'III', 'IV'], ['x', 'y']), names=['Quarteto', 'Coordenada'])\n",
    "index = [str(i) for i in range(1,12)]\n",
    "index = pd.Index(index, name=\"Obs. \")\n",
    "QA = pd.DataFrame(np.array([QA_x1, QA_y1, QA_x2, QA_y2, QA_x3, QA_y3, QA_x4, QA_y4]).T, \n",
    "                  columns=colunas, index=index)\n",
    "#HTML(QA.to_html(index=False))\n",
    "#print(QA.to_string(index=False))\n",
    "QA"
   ]
  },
  {
   "cell_type": "markdown",
   "metadata": {},
   "source": [
    "Podemos fazer algumas observações básicas deste conjunto de dados:\n",
    "* Podemos constatar que os valores de ``x`` das três primeiras séries são os mesmos; \n",
    "* Os valores de ``x`` da última série são todos 8 menos um que é 19;\n",
    "* Os valores de ``x`` são inteiros enquanto que os valores de ``y`` não;\n",
    "* Na terceira coluna de valores de ``y`` se destaca o valor ``12.7``, que é maior que os restantes valores da coluna; "
   ]
  },
  {
   "cell_type": "markdown",
   "metadata": {},
   "source": [
    "Entretanto uma análise mais detalhada surge quando valiamos as séries desde o ponto de vista estatístico."
   ]
  },
  {
   "cell_type": "code",
   "execution_count": 4,
   "metadata": {},
   "outputs": [
    {
     "data": {
      "text/html": [
       "<div>\n",
       "<style scoped>\n",
       "    .dataframe tbody tr th:only-of-type {\n",
       "        vertical-align: middle;\n",
       "    }\n",
       "\n",
       "    .dataframe tbody tr th {\n",
       "        vertical-align: top;\n",
       "    }\n",
       "\n",
       "    .dataframe thead tr th {\n",
       "        text-align: left;\n",
       "    }\n",
       "\n",
       "    .dataframe thead tr:last-of-type th {\n",
       "        text-align: right;\n",
       "    }\n",
       "</style>\n",
       "<table border=\"1\" class=\"dataframe\">\n",
       "  <thead>\n",
       "    <tr>\n",
       "      <th>Quarteto</th>\n",
       "      <th colspan=\"2\" halign=\"left\">I</th>\n",
       "      <th colspan=\"2\" halign=\"left\">II</th>\n",
       "      <th colspan=\"2\" halign=\"left\">III</th>\n",
       "      <th colspan=\"2\" halign=\"left\">IV</th>\n",
       "    </tr>\n",
       "    <tr>\n",
       "      <th>Coordenada</th>\n",
       "      <th>x</th>\n",
       "      <th>y</th>\n",
       "      <th>x</th>\n",
       "      <th>y</th>\n",
       "      <th>x</th>\n",
       "      <th>y</th>\n",
       "      <th>x</th>\n",
       "      <th>y</th>\n",
       "    </tr>\n",
       "    <tr>\n",
       "      <th>Obs.</th>\n",
       "      <th></th>\n",
       "      <th></th>\n",
       "      <th></th>\n",
       "      <th></th>\n",
       "      <th></th>\n",
       "      <th></th>\n",
       "      <th></th>\n",
       "      <th></th>\n",
       "    </tr>\n",
       "  </thead>\n",
       "  <tbody>\n",
       "    <tr>\n",
       "      <th>1</th>\n",
       "      <td>10.000000</td>\n",
       "      <td>8.040000</td>\n",
       "      <td>10.000000</td>\n",
       "      <td>9.140000</td>\n",
       "      <td>10.000000</td>\n",
       "      <td>7.460000</td>\n",
       "      <td>8.000000</td>\n",
       "      <td>6.580000</td>\n",
       "    </tr>\n",
       "    <tr>\n",
       "      <th>2</th>\n",
       "      <td>8.000000</td>\n",
       "      <td>6.950000</td>\n",
       "      <td>8.000000</td>\n",
       "      <td>8.140000</td>\n",
       "      <td>8.000000</td>\n",
       "      <td>6.770000</td>\n",
       "      <td>8.000000</td>\n",
       "      <td>5.760000</td>\n",
       "    </tr>\n",
       "    <tr>\n",
       "      <th>3</th>\n",
       "      <td>13.000000</td>\n",
       "      <td>7.580000</td>\n",
       "      <td>13.000000</td>\n",
       "      <td>8.740000</td>\n",
       "      <td>13.000000</td>\n",
       "      <td>12.740000</td>\n",
       "      <td>8.000000</td>\n",
       "      <td>7.710000</td>\n",
       "    </tr>\n",
       "    <tr>\n",
       "      <th>4</th>\n",
       "      <td>9.000000</td>\n",
       "      <td>8.810000</td>\n",
       "      <td>9.000000</td>\n",
       "      <td>8.770000</td>\n",
       "      <td>9.000000</td>\n",
       "      <td>7.110000</td>\n",
       "      <td>8.000000</td>\n",
       "      <td>8.840000</td>\n",
       "    </tr>\n",
       "    <tr>\n",
       "      <th>5</th>\n",
       "      <td>11.000000</td>\n",
       "      <td>8.330000</td>\n",
       "      <td>11.000000</td>\n",
       "      <td>9.260000</td>\n",
       "      <td>11.000000</td>\n",
       "      <td>7.810000</td>\n",
       "      <td>8.000000</td>\n",
       "      <td>8.470000</td>\n",
       "    </tr>\n",
       "    <tr>\n",
       "      <th>6</th>\n",
       "      <td>14.000000</td>\n",
       "      <td>9.960000</td>\n",
       "      <td>14.000000</td>\n",
       "      <td>8.100000</td>\n",
       "      <td>14.000000</td>\n",
       "      <td>8.840000</td>\n",
       "      <td>8.000000</td>\n",
       "      <td>7.040000</td>\n",
       "    </tr>\n",
       "    <tr>\n",
       "      <th>7</th>\n",
       "      <td>6.000000</td>\n",
       "      <td>7.240000</td>\n",
       "      <td>6.000000</td>\n",
       "      <td>6.130000</td>\n",
       "      <td>6.000000</td>\n",
       "      <td>6.080000</td>\n",
       "      <td>8.000000</td>\n",
       "      <td>5.250000</td>\n",
       "    </tr>\n",
       "    <tr>\n",
       "      <th>8</th>\n",
       "      <td>4.000000</td>\n",
       "      <td>4.260000</td>\n",
       "      <td>4.000000</td>\n",
       "      <td>3.100000</td>\n",
       "      <td>4.000000</td>\n",
       "      <td>5.390000</td>\n",
       "      <td>19.000000</td>\n",
       "      <td>12.500000</td>\n",
       "    </tr>\n",
       "    <tr>\n",
       "      <th>9</th>\n",
       "      <td>12.000000</td>\n",
       "      <td>10.840000</td>\n",
       "      <td>12.000000</td>\n",
       "      <td>9.130000</td>\n",
       "      <td>12.000000</td>\n",
       "      <td>8.150000</td>\n",
       "      <td>8.000000</td>\n",
       "      <td>5.560000</td>\n",
       "    </tr>\n",
       "    <tr>\n",
       "      <th>10</th>\n",
       "      <td>7.000000</td>\n",
       "      <td>4.820000</td>\n",
       "      <td>7.000000</td>\n",
       "      <td>7.260000</td>\n",
       "      <td>7.000000</td>\n",
       "      <td>6.420000</td>\n",
       "      <td>8.000000</td>\n",
       "      <td>7.910000</td>\n",
       "    </tr>\n",
       "    <tr>\n",
       "      <th>11</th>\n",
       "      <td>5.000000</td>\n",
       "      <td>5.680000</td>\n",
       "      <td>5.000000</td>\n",
       "      <td>4.740000</td>\n",
       "      <td>5.000000</td>\n",
       "      <td>5.730000</td>\n",
       "      <td>8.000000</td>\n",
       "      <td>6.890000</td>\n",
       "    </tr>\n",
       "    <tr>\n",
       "      <th>Mean</th>\n",
       "      <td>9.000000</td>\n",
       "      <td>7.500909</td>\n",
       "      <td>9.000000</td>\n",
       "      <td>7.500909</td>\n",
       "      <td>9.000000</td>\n",
       "      <td>7.500000</td>\n",
       "      <td>9.000000</td>\n",
       "      <td>7.500909</td>\n",
       "    </tr>\n",
       "    <tr>\n",
       "      <th>Std</th>\n",
       "      <td>3.162278</td>\n",
       "      <td>1.937024</td>\n",
       "      <td>3.162278</td>\n",
       "      <td>1.937109</td>\n",
       "      <td>3.162278</td>\n",
       "      <td>1.935933</td>\n",
       "      <td>3.162278</td>\n",
       "      <td>1.936081</td>\n",
       "    </tr>\n",
       "    <tr>\n",
       "      <th>Var</th>\n",
       "      <td>11.788128</td>\n",
       "      <td>5.820684</td>\n",
       "      <td>11.788128</td>\n",
       "      <td>5.820912</td>\n",
       "      <td>11.788128</td>\n",
       "      <td>5.816966</td>\n",
       "      <td>11.788128</td>\n",
       "      <td>5.818142</td>\n",
       "    </tr>\n",
       "  </tbody>\n",
       "</table>\n",
       "</div>"
      ],
      "text/plain": [
       "Quarteto            I                    II                  III             \\\n",
       "Coordenada          x          y          x         y          x          y   \n",
       "Obs.                                                                          \n",
       "1           10.000000   8.040000  10.000000  9.140000  10.000000   7.460000   \n",
       "2            8.000000   6.950000   8.000000  8.140000   8.000000   6.770000   \n",
       "3           13.000000   7.580000  13.000000  8.740000  13.000000  12.740000   \n",
       "4            9.000000   8.810000   9.000000  8.770000   9.000000   7.110000   \n",
       "5           11.000000   8.330000  11.000000  9.260000  11.000000   7.810000   \n",
       "6           14.000000   9.960000  14.000000  8.100000  14.000000   8.840000   \n",
       "7            6.000000   7.240000   6.000000  6.130000   6.000000   6.080000   \n",
       "8            4.000000   4.260000   4.000000  3.100000   4.000000   5.390000   \n",
       "9           12.000000  10.840000  12.000000  9.130000  12.000000   8.150000   \n",
       "10           7.000000   4.820000   7.000000  7.260000   7.000000   6.420000   \n",
       "11           5.000000   5.680000   5.000000  4.740000   5.000000   5.730000   \n",
       "Mean         9.000000   7.500909   9.000000  7.500909   9.000000   7.500000   \n",
       "Std          3.162278   1.937024   3.162278  1.937109   3.162278   1.935933   \n",
       "Var         11.788128   5.820684  11.788128  5.820912  11.788128   5.816966   \n",
       "\n",
       "Quarteto           IV             \n",
       "Coordenada          x          y  \n",
       "Obs.                              \n",
       "1            8.000000   6.580000  \n",
       "2            8.000000   5.760000  \n",
       "3            8.000000   7.710000  \n",
       "4            8.000000   8.840000  \n",
       "5            8.000000   8.470000  \n",
       "6            8.000000   7.040000  \n",
       "7            8.000000   5.250000  \n",
       "8           19.000000  12.500000  \n",
       "9            8.000000   5.560000  \n",
       "10           8.000000   7.910000  \n",
       "11           8.000000   6.890000  \n",
       "Mean         9.000000   7.500909  \n",
       "Std          3.162278   1.936081  \n",
       "Var         11.788128   5.818142  "
      ]
     },
     "execution_count": 4,
     "metadata": {},
     "output_type": "execute_result"
    }
   ],
   "source": [
    "#QA.mean()\n",
    "QA.loc[\"Mean\", :] = QA.mean() \n",
    "QA.loc[\"Std\", :] = QA.std()\n",
    "QA.loc[\"Var\", :] = QA.var()\n",
    "QA"
   ]
  },
  {
   "cell_type": "markdown",
   "metadata": {},
   "source": [
    "Veja que temos agora um conjunto de descritores básicos que parecem indicar um porte semelhança entre as quatro séries.\n",
    "\n",
    "Outra análise pertinente, neste ponto, é se existe algum tipo de correlação entre ``x`` e ``y``."
   ]
  },
  {
   "cell_type": "code",
   "execution_count": 5,
   "metadata": {},
   "outputs": [
    {
     "name": "stdout",
     "output_type": "stream",
     "text": [
      "Intel MKL WARNING: Support of Intel(R) Streaming SIMD Extensions 4.2 (Intel(R) SSE4.2) enabled only processors has been deprecated. Intel oneAPI Math Kernel Library 2025.0 will require Intel(R) Advanced Vector Extensions (Intel(R) AVX) instructions.\n",
      "Intel MKL WARNING: Support of Intel(R) Streaming SIMD Extensions 4.2 (Intel(R) SSE4.2) enabled only processors has been deprecated. Intel oneAPI Math Kernel Library 2025.0 will require Intel(R) Advanced Vector Extensions (Intel(R) AVX) instructions.\n",
      "Intel MKL WARNING: Support of Intel(R) Streaming SIMD Extensions 4.2 (Intel(R) SSE4.2) enabled only processors has been deprecated. Intel oneAPI Math Kernel Library 2025.0 will require Intel(R) Advanced Vector Extensions (Intel(R) AVX) instructions.\n",
      "Intel MKL WARNING: Support of Intel(R) Streaming SIMD Extensions 4.2 (Intel(R) SSE4.2) enabled only processors has been deprecated. Intel oneAPI Math Kernel Library 2025.0 will require Intel(R) Advanced Vector Extensions (Intel(R) AVX) instructions.\n",
      "Intel MKL WARNING: Support of Intel(R) Streaming SIMD Extensions 4.2 (Intel(R) SSE4.2) enabled only processors has been deprecated. Intel oneAPI Math Kernel Library 2025.0 will require Intel(R) Advanced Vector Extensions (Intel(R) AVX) instructions.\n",
      "Intel MKL WARNING: Support of Intel(R) Streaming SIMD Extensions 4.2 (Intel(R) SSE4.2) enabled only processors has been deprecated. Intel oneAPI Math Kernel Library 2025.0 will require Intel(R) Advanced Vector Extensions (Intel(R) AVX) instructions.\n",
      "Intel MKL WARNING: Support of Intel(R) Streaming SIMD Extensions 4.2 (Intel(R) SSE4.2) enabled only processors has been deprecated. Intel oneAPI Math Kernel Library 2025.0 will require Intel(R) Advanced Vector Extensions (Intel(R) AVX) instructions.\n",
      "Intel MKL WARNING: Support of Intel(R) Streaming SIMD Extensions 4.2 (Intel(R) SSE4.2) enabled only processors has been deprecated. Intel oneAPI Math Kernel Library 2025.0 will require Intel(R) Advanced Vector Extensions (Intel(R) AVX) instructions.\n"
     ]
    },
    {
     "data": {
      "text/html": [
       "<div>\n",
       "<style scoped>\n",
       "    .dataframe tbody tr th:only-of-type {\n",
       "        vertical-align: middle;\n",
       "    }\n",
       "\n",
       "    .dataframe tbody tr th {\n",
       "        vertical-align: top;\n",
       "    }\n",
       "\n",
       "    .dataframe thead tr th {\n",
       "        text-align: left;\n",
       "    }\n",
       "\n",
       "    .dataframe thead tr:last-of-type th {\n",
       "        text-align: right;\n",
       "    }\n",
       "</style>\n",
       "<table border=\"1\" class=\"dataframe\">\n",
       "  <thead>\n",
       "    <tr>\n",
       "      <th>Quarteto</th>\n",
       "      <th colspan=\"2\" halign=\"left\">I</th>\n",
       "      <th colspan=\"2\" halign=\"left\">II</th>\n",
       "      <th colspan=\"2\" halign=\"left\">III</th>\n",
       "      <th colspan=\"2\" halign=\"left\">IV</th>\n",
       "    </tr>\n",
       "    <tr>\n",
       "      <th>Coordenada</th>\n",
       "      <th>x</th>\n",
       "      <th>y</th>\n",
       "      <th>x</th>\n",
       "      <th>y</th>\n",
       "      <th>x</th>\n",
       "      <th>y</th>\n",
       "      <th>x</th>\n",
       "      <th>y</th>\n",
       "    </tr>\n",
       "    <tr>\n",
       "      <th>Obs.</th>\n",
       "      <th></th>\n",
       "      <th></th>\n",
       "      <th></th>\n",
       "      <th></th>\n",
       "      <th></th>\n",
       "      <th></th>\n",
       "      <th></th>\n",
       "      <th></th>\n",
       "    </tr>\n",
       "  </thead>\n",
       "  <tbody>\n",
       "    <tr>\n",
       "      <th>1</th>\n",
       "      <td>10.000000</td>\n",
       "      <td>8.040000</td>\n",
       "      <td>10.000000</td>\n",
       "      <td>9.140000</td>\n",
       "      <td>10.000000</td>\n",
       "      <td>7.460000</td>\n",
       "      <td>8.000000</td>\n",
       "      <td>6.580000</td>\n",
       "    </tr>\n",
       "    <tr>\n",
       "      <th>2</th>\n",
       "      <td>8.000000</td>\n",
       "      <td>6.950000</td>\n",
       "      <td>8.000000</td>\n",
       "      <td>8.140000</td>\n",
       "      <td>8.000000</td>\n",
       "      <td>6.770000</td>\n",
       "      <td>8.000000</td>\n",
       "      <td>5.760000</td>\n",
       "    </tr>\n",
       "    <tr>\n",
       "      <th>3</th>\n",
       "      <td>13.000000</td>\n",
       "      <td>7.580000</td>\n",
       "      <td>13.000000</td>\n",
       "      <td>8.740000</td>\n",
       "      <td>13.000000</td>\n",
       "      <td>12.740000</td>\n",
       "      <td>8.000000</td>\n",
       "      <td>7.710000</td>\n",
       "    </tr>\n",
       "    <tr>\n",
       "      <th>4</th>\n",
       "      <td>9.000000</td>\n",
       "      <td>8.810000</td>\n",
       "      <td>9.000000</td>\n",
       "      <td>8.770000</td>\n",
       "      <td>9.000000</td>\n",
       "      <td>7.110000</td>\n",
       "      <td>8.000000</td>\n",
       "      <td>8.840000</td>\n",
       "    </tr>\n",
       "    <tr>\n",
       "      <th>5</th>\n",
       "      <td>11.000000</td>\n",
       "      <td>8.330000</td>\n",
       "      <td>11.000000</td>\n",
       "      <td>9.260000</td>\n",
       "      <td>11.000000</td>\n",
       "      <td>7.810000</td>\n",
       "      <td>8.000000</td>\n",
       "      <td>8.470000</td>\n",
       "    </tr>\n",
       "    <tr>\n",
       "      <th>6</th>\n",
       "      <td>14.000000</td>\n",
       "      <td>9.960000</td>\n",
       "      <td>14.000000</td>\n",
       "      <td>8.100000</td>\n",
       "      <td>14.000000</td>\n",
       "      <td>8.840000</td>\n",
       "      <td>8.000000</td>\n",
       "      <td>7.040000</td>\n",
       "    </tr>\n",
       "    <tr>\n",
       "      <th>7</th>\n",
       "      <td>6.000000</td>\n",
       "      <td>7.240000</td>\n",
       "      <td>6.000000</td>\n",
       "      <td>6.130000</td>\n",
       "      <td>6.000000</td>\n",
       "      <td>6.080000</td>\n",
       "      <td>8.000000</td>\n",
       "      <td>5.250000</td>\n",
       "    </tr>\n",
       "    <tr>\n",
       "      <th>8</th>\n",
       "      <td>4.000000</td>\n",
       "      <td>4.260000</td>\n",
       "      <td>4.000000</td>\n",
       "      <td>3.100000</td>\n",
       "      <td>4.000000</td>\n",
       "      <td>5.390000</td>\n",
       "      <td>19.000000</td>\n",
       "      <td>12.500000</td>\n",
       "    </tr>\n",
       "    <tr>\n",
       "      <th>9</th>\n",
       "      <td>12.000000</td>\n",
       "      <td>10.840000</td>\n",
       "      <td>12.000000</td>\n",
       "      <td>9.130000</td>\n",
       "      <td>12.000000</td>\n",
       "      <td>8.150000</td>\n",
       "      <td>8.000000</td>\n",
       "      <td>5.560000</td>\n",
       "    </tr>\n",
       "    <tr>\n",
       "      <th>10</th>\n",
       "      <td>7.000000</td>\n",
       "      <td>4.820000</td>\n",
       "      <td>7.000000</td>\n",
       "      <td>7.260000</td>\n",
       "      <td>7.000000</td>\n",
       "      <td>6.420000</td>\n",
       "      <td>8.000000</td>\n",
       "      <td>7.910000</td>\n",
       "    </tr>\n",
       "    <tr>\n",
       "      <th>11</th>\n",
       "      <td>5.000000</td>\n",
       "      <td>5.680000</td>\n",
       "      <td>5.000000</td>\n",
       "      <td>4.740000</td>\n",
       "      <td>5.000000</td>\n",
       "      <td>5.730000</td>\n",
       "      <td>8.000000</td>\n",
       "      <td>6.890000</td>\n",
       "    </tr>\n",
       "    <tr>\n",
       "      <th>Mean</th>\n",
       "      <td>9.000000</td>\n",
       "      <td>7.500909</td>\n",
       "      <td>9.000000</td>\n",
       "      <td>7.500909</td>\n",
       "      <td>9.000000</td>\n",
       "      <td>7.500000</td>\n",
       "      <td>9.000000</td>\n",
       "      <td>7.500909</td>\n",
       "    </tr>\n",
       "    <tr>\n",
       "      <th>Std</th>\n",
       "      <td>3.162278</td>\n",
       "      <td>1.937024</td>\n",
       "      <td>3.162278</td>\n",
       "      <td>1.937109</td>\n",
       "      <td>3.162278</td>\n",
       "      <td>1.935933</td>\n",
       "      <td>3.162278</td>\n",
       "      <td>1.936081</td>\n",
       "    </tr>\n",
       "    <tr>\n",
       "      <th>Var</th>\n",
       "      <td>11.788128</td>\n",
       "      <td>5.820684</td>\n",
       "      <td>11.788128</td>\n",
       "      <td>5.820912</td>\n",
       "      <td>11.788128</td>\n",
       "      <td>5.816966</td>\n",
       "      <td>11.788128</td>\n",
       "      <td>5.818142</td>\n",
       "    </tr>\n",
       "    <tr>\n",
       "      <th>Corr</th>\n",
       "      <td>0.816421</td>\n",
       "      <td>0.816421</td>\n",
       "      <td>0.816237</td>\n",
       "      <td>0.816237</td>\n",
       "      <td>0.816287</td>\n",
       "      <td>0.816287</td>\n",
       "      <td>0.816521</td>\n",
       "      <td>0.816521</td>\n",
       "    </tr>\n",
       "  </tbody>\n",
       "</table>\n",
       "</div>"
      ],
      "text/plain": [
       "Quarteto            I                    II                  III             \\\n",
       "Coordenada          x          y          x         y          x          y   \n",
       "Obs.                                                                          \n",
       "1           10.000000   8.040000  10.000000  9.140000  10.000000   7.460000   \n",
       "2            8.000000   6.950000   8.000000  8.140000   8.000000   6.770000   \n",
       "3           13.000000   7.580000  13.000000  8.740000  13.000000  12.740000   \n",
       "4            9.000000   8.810000   9.000000  8.770000   9.000000   7.110000   \n",
       "5           11.000000   8.330000  11.000000  9.260000  11.000000   7.810000   \n",
       "6           14.000000   9.960000  14.000000  8.100000  14.000000   8.840000   \n",
       "7            6.000000   7.240000   6.000000  6.130000   6.000000   6.080000   \n",
       "8            4.000000   4.260000   4.000000  3.100000   4.000000   5.390000   \n",
       "9           12.000000  10.840000  12.000000  9.130000  12.000000   8.150000   \n",
       "10           7.000000   4.820000   7.000000  7.260000   7.000000   6.420000   \n",
       "11           5.000000   5.680000   5.000000  4.740000   5.000000   5.730000   \n",
       "Mean         9.000000   7.500909   9.000000  7.500909   9.000000   7.500000   \n",
       "Std          3.162278   1.937024   3.162278  1.937109   3.162278   1.935933   \n",
       "Var         11.788128   5.820684  11.788128  5.820912  11.788128   5.816966   \n",
       "Corr         0.816421   0.816421   0.816237  0.816237   0.816287   0.816287   \n",
       "\n",
       "Quarteto           IV             \n",
       "Coordenada          x          y  \n",
       "Obs.                              \n",
       "1            8.000000   6.580000  \n",
       "2            8.000000   5.760000  \n",
       "3            8.000000   7.710000  \n",
       "4            8.000000   8.840000  \n",
       "5            8.000000   8.470000  \n",
       "6            8.000000   7.040000  \n",
       "7            8.000000   5.250000  \n",
       "8           19.000000  12.500000  \n",
       "9            8.000000   5.560000  \n",
       "10           8.000000   7.910000  \n",
       "11           8.000000   6.890000  \n",
       "Mean         9.000000   7.500909  \n",
       "Std          3.162278   1.936081  \n",
       "Var         11.788128   5.818142  \n",
       "Corr         0.816521   0.816521  "
      ]
     },
     "execution_count": 5,
     "metadata": {},
     "output_type": "execute_result"
    }
   ],
   "source": [
    "QA.loc[\"Corr\", ('I', 'x')] = np.corrcoef(QA.loc['1':'11', ('I', 'x')], QA.loc['1':'11', ('I', 'y')])[0,1]\n",
    "QA.loc[\"Corr\", ('II', 'x')] = np.corrcoef(QA.loc['1':'11', ('II', 'x')], QA.loc['1':'11', ('II', 'y')])[0,1]\n",
    "QA.loc[\"Corr\", ('III', 'x')] = np.corrcoef(QA.loc['1':'11', ('III', 'x')], QA.loc['1':'11', ('III', 'y')])[0,1]\n",
    "QA.loc[\"Corr\", ('IV', 'x')] = np.corrcoef(QA.loc['1':'11', ('IV', 'x')], QA.loc['1':'11', ('IV', 'y')])[0,1]\n",
    "QA.loc[\"Corr\", ('I', 'y')] = np.corrcoef(QA.loc['1':'11', ('I', 'y')], QA.loc['1':'11', ('I', 'x')])[0,1]\n",
    "QA.loc[\"Corr\", ('II', 'y')] = np.corrcoef(QA.loc['1':'11', ('II', 'y')], QA.loc['1':'11', ('II', 'x')])[0,1]\n",
    "QA.loc[\"Corr\", ('III', 'y')] = np.corrcoef(QA.loc['1':'11', ('III', 'y')], QA.loc['1':'11', ('III', 'x')])[0,1]\n",
    "QA.loc[\"Corr\", ('IV', 'y')] = np.corrcoef(QA.loc['1':'11', ('IV', 'y')], QA.loc['1':'11', ('IV', 'x')])[0,1]\n",
    "QA"
   ]
  },
  {
   "cell_type": "markdown",
   "metadata": {},
   "source": [
    "Um coeficiente de correlação próximo de um indica uma forte correlação entre as variáveis. Desta forma podemos supor que existe alguma relação funcional do tipo $y = f(x)$. Podemos, inicialmente, propor uma função linear e a mais simples é $f(x) = ax+b$. Como estimar qual a função, desta família de funções, que melhor se ajusta aos dados de cada série? A regressão linear fornece um mecanismo, não apenas para estimar os coeficientes desta função mas também uma estimativa de quão bom este ajuste é. \n",
    "\n",
    "<img align=\"center\" style=\"padding-right:10px;\" src=\"Figuras/aula-25_fig_02.webp\">"
   ]
  },
  {
   "cell_type": "markdown",
   "metadata": {},
   "source": [
    "Regressão Linear não está dentro do escopo deste curso mas vamos tentar entender, de forma rápida, como implementar uma.   "
   ]
  },
  {
   "cell_type": "code",
   "execution_count": 6,
   "metadata": {},
   "outputs": [],
   "source": [
    "#Importe os pacotes e classes que você precisa.\n",
    "#pip install scikit-learn\n",
    "from sklearn.linear_model import LinearRegression"
   ]
  },
  {
   "cell_type": "code",
   "execution_count": 7,
   "metadata": {},
   "outputs": [],
   "source": [
    "# Forneça dados para trabalhar e, eventualmente, faça as transformações apropriadas.\n",
    "x = QA.values[0:11, 0].reshape(-1, 1)\n",
    "y = QA.values[0:11, 1]"
   ]
  },
  {
   "cell_type": "markdown",
   "metadata": {},
   "source": [
    "Repare no ``reshape`` que utilizamos em ``x``. Agora, você tem duas matrizes: a entrada, ``x``, e a saída, ``y``. O array ``x`` deve ser bidimensional, ou mais precisamente, deve ter uma coluna e quantas linhas forem necessárias. Isto para podermos utilizar estas entradas na classe ``LinearRegression``. Agora temos "
   ]
  },
  {
   "cell_type": "code",
   "execution_count": 8,
   "metadata": {},
   "outputs": [
    {
     "data": {
      "text/plain": [
       "array([[10.],\n",
       "       [ 8.],\n",
       "       [13.],\n",
       "       [ 9.],\n",
       "       [11.],\n",
       "       [14.],\n",
       "       [ 6.],\n",
       "       [ 4.],\n",
       "       [12.],\n",
       "       [ 7.],\n",
       "       [ 5.]])"
      ]
     },
     "execution_count": 8,
     "metadata": {},
     "output_type": "execute_result"
    }
   ],
   "source": [
    "x"
   ]
  },
  {
   "cell_type": "code",
   "execution_count": 9,
   "metadata": {},
   "outputs": [
    {
     "data": {
      "text/plain": [
       "array([ 8.04,  6.95,  7.58,  8.81,  8.33,  9.96,  7.24,  4.26, 10.84,\n",
       "        4.82,  5.68])"
      ]
     },
     "execution_count": 9,
     "metadata": {},
     "output_type": "execute_result"
    }
   ],
   "source": [
    "y"
   ]
  },
  {
   "cell_type": "code",
   "execution_count": 10,
   "metadata": {},
   "outputs": [],
   "source": [
    "# Crie um modelo de regressão e ajuste-o aos dados existentes.\n",
    "QA1_model = LinearRegression()"
   ]
  },
  {
   "cell_type": "code",
   "execution_count": 11,
   "metadata": {},
   "outputs": [
    {
     "data": {
      "text/html": [
       "<style>#sk-container-id-1 {\n",
       "  /* Definition of color scheme common for light and dark mode */\n",
       "  --sklearn-color-text: black;\n",
       "  --sklearn-color-line: gray;\n",
       "  /* Definition of color scheme for unfitted estimators */\n",
       "  --sklearn-color-unfitted-level-0: #fff5e6;\n",
       "  --sklearn-color-unfitted-level-1: #f6e4d2;\n",
       "  --sklearn-color-unfitted-level-2: #ffe0b3;\n",
       "  --sklearn-color-unfitted-level-3: chocolate;\n",
       "  /* Definition of color scheme for fitted estimators */\n",
       "  --sklearn-color-fitted-level-0: #f0f8ff;\n",
       "  --sklearn-color-fitted-level-1: #d4ebff;\n",
       "  --sklearn-color-fitted-level-2: #b3dbfd;\n",
       "  --sklearn-color-fitted-level-3: cornflowerblue;\n",
       "\n",
       "  /* Specific color for light theme */\n",
       "  --sklearn-color-text-on-default-background: var(--sg-text-color, var(--theme-code-foreground, var(--jp-content-font-color1, black)));\n",
       "  --sklearn-color-background: var(--sg-background-color, var(--theme-background, var(--jp-layout-color0, white)));\n",
       "  --sklearn-color-border-box: var(--sg-text-color, var(--theme-code-foreground, var(--jp-content-font-color1, black)));\n",
       "  --sklearn-color-icon: #696969;\n",
       "\n",
       "  @media (prefers-color-scheme: dark) {\n",
       "    /* Redefinition of color scheme for dark theme */\n",
       "    --sklearn-color-text-on-default-background: var(--sg-text-color, var(--theme-code-foreground, var(--jp-content-font-color1, white)));\n",
       "    --sklearn-color-background: var(--sg-background-color, var(--theme-background, var(--jp-layout-color0, #111)));\n",
       "    --sklearn-color-border-box: var(--sg-text-color, var(--theme-code-foreground, var(--jp-content-font-color1, white)));\n",
       "    --sklearn-color-icon: #878787;\n",
       "  }\n",
       "}\n",
       "\n",
       "#sk-container-id-1 {\n",
       "  color: var(--sklearn-color-text);\n",
       "}\n",
       "\n",
       "#sk-container-id-1 pre {\n",
       "  padding: 0;\n",
       "}\n",
       "\n",
       "#sk-container-id-1 input.sk-hidden--visually {\n",
       "  border: 0;\n",
       "  clip: rect(1px 1px 1px 1px);\n",
       "  clip: rect(1px, 1px, 1px, 1px);\n",
       "  height: 1px;\n",
       "  margin: -1px;\n",
       "  overflow: hidden;\n",
       "  padding: 0;\n",
       "  position: absolute;\n",
       "  width: 1px;\n",
       "}\n",
       "\n",
       "#sk-container-id-1 div.sk-dashed-wrapped {\n",
       "  border: 1px dashed var(--sklearn-color-line);\n",
       "  margin: 0 0.4em 0.5em 0.4em;\n",
       "  box-sizing: border-box;\n",
       "  padding-bottom: 0.4em;\n",
       "  background-color: var(--sklearn-color-background);\n",
       "}\n",
       "\n",
       "#sk-container-id-1 div.sk-container {\n",
       "  /* jupyter's `normalize.less` sets `[hidden] { display: none; }`\n",
       "     but bootstrap.min.css set `[hidden] { display: none !important; }`\n",
       "     so we also need the `!important` here to be able to override the\n",
       "     default hidden behavior on the sphinx rendered scikit-learn.org.\n",
       "     See: https://github.com/scikit-learn/scikit-learn/issues/21755 */\n",
       "  display: inline-block !important;\n",
       "  position: relative;\n",
       "}\n",
       "\n",
       "#sk-container-id-1 div.sk-text-repr-fallback {\n",
       "  display: none;\n",
       "}\n",
       "\n",
       "div.sk-parallel-item,\n",
       "div.sk-serial,\n",
       "div.sk-item {\n",
       "  /* draw centered vertical line to link estimators */\n",
       "  background-image: linear-gradient(var(--sklearn-color-text-on-default-background), var(--sklearn-color-text-on-default-background));\n",
       "  background-size: 2px 100%;\n",
       "  background-repeat: no-repeat;\n",
       "  background-position: center center;\n",
       "}\n",
       "\n",
       "/* Parallel-specific style estimator block */\n",
       "\n",
       "#sk-container-id-1 div.sk-parallel-item::after {\n",
       "  content: \"\";\n",
       "  width: 100%;\n",
       "  border-bottom: 2px solid var(--sklearn-color-text-on-default-background);\n",
       "  flex-grow: 1;\n",
       "}\n",
       "\n",
       "#sk-container-id-1 div.sk-parallel {\n",
       "  display: flex;\n",
       "  align-items: stretch;\n",
       "  justify-content: center;\n",
       "  background-color: var(--sklearn-color-background);\n",
       "  position: relative;\n",
       "}\n",
       "\n",
       "#sk-container-id-1 div.sk-parallel-item {\n",
       "  display: flex;\n",
       "  flex-direction: column;\n",
       "}\n",
       "\n",
       "#sk-container-id-1 div.sk-parallel-item:first-child::after {\n",
       "  align-self: flex-end;\n",
       "  width: 50%;\n",
       "}\n",
       "\n",
       "#sk-container-id-1 div.sk-parallel-item:last-child::after {\n",
       "  align-self: flex-start;\n",
       "  width: 50%;\n",
       "}\n",
       "\n",
       "#sk-container-id-1 div.sk-parallel-item:only-child::after {\n",
       "  width: 0;\n",
       "}\n",
       "\n",
       "/* Serial-specific style estimator block */\n",
       "\n",
       "#sk-container-id-1 div.sk-serial {\n",
       "  display: flex;\n",
       "  flex-direction: column;\n",
       "  align-items: center;\n",
       "  background-color: var(--sklearn-color-background);\n",
       "  padding-right: 1em;\n",
       "  padding-left: 1em;\n",
       "}\n",
       "\n",
       "\n",
       "/* Toggleable style: style used for estimator/Pipeline/ColumnTransformer box that is\n",
       "clickable and can be expanded/collapsed.\n",
       "- Pipeline and ColumnTransformer use this feature and define the default style\n",
       "- Estimators will overwrite some part of the style using the `sk-estimator` class\n",
       "*/\n",
       "\n",
       "/* Pipeline and ColumnTransformer style (default) */\n",
       "\n",
       "#sk-container-id-1 div.sk-toggleable {\n",
       "  /* Default theme specific background. It is overwritten whether we have a\n",
       "  specific estimator or a Pipeline/ColumnTransformer */\n",
       "  background-color: var(--sklearn-color-background);\n",
       "}\n",
       "\n",
       "/* Toggleable label */\n",
       "#sk-container-id-1 label.sk-toggleable__label {\n",
       "  cursor: pointer;\n",
       "  display: block;\n",
       "  width: 100%;\n",
       "  margin-bottom: 0;\n",
       "  padding: 0.5em;\n",
       "  box-sizing: border-box;\n",
       "  text-align: center;\n",
       "}\n",
       "\n",
       "#sk-container-id-1 label.sk-toggleable__label-arrow:before {\n",
       "  /* Arrow on the left of the label */\n",
       "  content: \"▸\";\n",
       "  float: left;\n",
       "  margin-right: 0.25em;\n",
       "  color: var(--sklearn-color-icon);\n",
       "}\n",
       "\n",
       "#sk-container-id-1 label.sk-toggleable__label-arrow:hover:before {\n",
       "  color: var(--sklearn-color-text);\n",
       "}\n",
       "\n",
       "/* Toggleable content - dropdown */\n",
       "\n",
       "#sk-container-id-1 div.sk-toggleable__content {\n",
       "  max-height: 0;\n",
       "  max-width: 0;\n",
       "  overflow: hidden;\n",
       "  text-align: left;\n",
       "  /* unfitted */\n",
       "  background-color: var(--sklearn-color-unfitted-level-0);\n",
       "}\n",
       "\n",
       "#sk-container-id-1 div.sk-toggleable__content.fitted {\n",
       "  /* fitted */\n",
       "  background-color: var(--sklearn-color-fitted-level-0);\n",
       "}\n",
       "\n",
       "#sk-container-id-1 div.sk-toggleable__content pre {\n",
       "  margin: 0.2em;\n",
       "  border-radius: 0.25em;\n",
       "  color: var(--sklearn-color-text);\n",
       "  /* unfitted */\n",
       "  background-color: var(--sklearn-color-unfitted-level-0);\n",
       "}\n",
       "\n",
       "#sk-container-id-1 div.sk-toggleable__content.fitted pre {\n",
       "  /* unfitted */\n",
       "  background-color: var(--sklearn-color-fitted-level-0);\n",
       "}\n",
       "\n",
       "#sk-container-id-1 input.sk-toggleable__control:checked~div.sk-toggleable__content {\n",
       "  /* Expand drop-down */\n",
       "  max-height: 200px;\n",
       "  max-width: 100%;\n",
       "  overflow: auto;\n",
       "}\n",
       "\n",
       "#sk-container-id-1 input.sk-toggleable__control:checked~label.sk-toggleable__label-arrow:before {\n",
       "  content: \"▾\";\n",
       "}\n",
       "\n",
       "/* Pipeline/ColumnTransformer-specific style */\n",
       "\n",
       "#sk-container-id-1 div.sk-label input.sk-toggleable__control:checked~label.sk-toggleable__label {\n",
       "  color: var(--sklearn-color-text);\n",
       "  background-color: var(--sklearn-color-unfitted-level-2);\n",
       "}\n",
       "\n",
       "#sk-container-id-1 div.sk-label.fitted input.sk-toggleable__control:checked~label.sk-toggleable__label {\n",
       "  background-color: var(--sklearn-color-fitted-level-2);\n",
       "}\n",
       "\n",
       "/* Estimator-specific style */\n",
       "\n",
       "/* Colorize estimator box */\n",
       "#sk-container-id-1 div.sk-estimator input.sk-toggleable__control:checked~label.sk-toggleable__label {\n",
       "  /* unfitted */\n",
       "  background-color: var(--sklearn-color-unfitted-level-2);\n",
       "}\n",
       "\n",
       "#sk-container-id-1 div.sk-estimator.fitted input.sk-toggleable__control:checked~label.sk-toggleable__label {\n",
       "  /* fitted */\n",
       "  background-color: var(--sklearn-color-fitted-level-2);\n",
       "}\n",
       "\n",
       "#sk-container-id-1 div.sk-label label.sk-toggleable__label,\n",
       "#sk-container-id-1 div.sk-label label {\n",
       "  /* The background is the default theme color */\n",
       "  color: var(--sklearn-color-text-on-default-background);\n",
       "}\n",
       "\n",
       "/* On hover, darken the color of the background */\n",
       "#sk-container-id-1 div.sk-label:hover label.sk-toggleable__label {\n",
       "  color: var(--sklearn-color-text);\n",
       "  background-color: var(--sklearn-color-unfitted-level-2);\n",
       "}\n",
       "\n",
       "/* Label box, darken color on hover, fitted */\n",
       "#sk-container-id-1 div.sk-label.fitted:hover label.sk-toggleable__label.fitted {\n",
       "  color: var(--sklearn-color-text);\n",
       "  background-color: var(--sklearn-color-fitted-level-2);\n",
       "}\n",
       "\n",
       "/* Estimator label */\n",
       "\n",
       "#sk-container-id-1 div.sk-label label {\n",
       "  font-family: monospace;\n",
       "  font-weight: bold;\n",
       "  display: inline-block;\n",
       "  line-height: 1.2em;\n",
       "}\n",
       "\n",
       "#sk-container-id-1 div.sk-label-container {\n",
       "  text-align: center;\n",
       "}\n",
       "\n",
       "/* Estimator-specific */\n",
       "#sk-container-id-1 div.sk-estimator {\n",
       "  font-family: monospace;\n",
       "  border: 1px dotted var(--sklearn-color-border-box);\n",
       "  border-radius: 0.25em;\n",
       "  box-sizing: border-box;\n",
       "  margin-bottom: 0.5em;\n",
       "  /* unfitted */\n",
       "  background-color: var(--sklearn-color-unfitted-level-0);\n",
       "}\n",
       "\n",
       "#sk-container-id-1 div.sk-estimator.fitted {\n",
       "  /* fitted */\n",
       "  background-color: var(--sklearn-color-fitted-level-0);\n",
       "}\n",
       "\n",
       "/* on hover */\n",
       "#sk-container-id-1 div.sk-estimator:hover {\n",
       "  /* unfitted */\n",
       "  background-color: var(--sklearn-color-unfitted-level-2);\n",
       "}\n",
       "\n",
       "#sk-container-id-1 div.sk-estimator.fitted:hover {\n",
       "  /* fitted */\n",
       "  background-color: var(--sklearn-color-fitted-level-2);\n",
       "}\n",
       "\n",
       "/* Specification for estimator info (e.g. \"i\" and \"?\") */\n",
       "\n",
       "/* Common style for \"i\" and \"?\" */\n",
       "\n",
       ".sk-estimator-doc-link,\n",
       "a:link.sk-estimator-doc-link,\n",
       "a:visited.sk-estimator-doc-link {\n",
       "  float: right;\n",
       "  font-size: smaller;\n",
       "  line-height: 1em;\n",
       "  font-family: monospace;\n",
       "  background-color: var(--sklearn-color-background);\n",
       "  border-radius: 1em;\n",
       "  height: 1em;\n",
       "  width: 1em;\n",
       "  text-decoration: none !important;\n",
       "  margin-left: 1ex;\n",
       "  /* unfitted */\n",
       "  border: var(--sklearn-color-unfitted-level-1) 1pt solid;\n",
       "  color: var(--sklearn-color-unfitted-level-1);\n",
       "}\n",
       "\n",
       ".sk-estimator-doc-link.fitted,\n",
       "a:link.sk-estimator-doc-link.fitted,\n",
       "a:visited.sk-estimator-doc-link.fitted {\n",
       "  /* fitted */\n",
       "  border: var(--sklearn-color-fitted-level-1) 1pt solid;\n",
       "  color: var(--sklearn-color-fitted-level-1);\n",
       "}\n",
       "\n",
       "/* On hover */\n",
       "div.sk-estimator:hover .sk-estimator-doc-link:hover,\n",
       ".sk-estimator-doc-link:hover,\n",
       "div.sk-label-container:hover .sk-estimator-doc-link:hover,\n",
       ".sk-estimator-doc-link:hover {\n",
       "  /* unfitted */\n",
       "  background-color: var(--sklearn-color-unfitted-level-3);\n",
       "  color: var(--sklearn-color-background);\n",
       "  text-decoration: none;\n",
       "}\n",
       "\n",
       "div.sk-estimator.fitted:hover .sk-estimator-doc-link.fitted:hover,\n",
       ".sk-estimator-doc-link.fitted:hover,\n",
       "div.sk-label-container:hover .sk-estimator-doc-link.fitted:hover,\n",
       ".sk-estimator-doc-link.fitted:hover {\n",
       "  /* fitted */\n",
       "  background-color: var(--sklearn-color-fitted-level-3);\n",
       "  color: var(--sklearn-color-background);\n",
       "  text-decoration: none;\n",
       "}\n",
       "\n",
       "/* Span, style for the box shown on hovering the info icon */\n",
       ".sk-estimator-doc-link span {\n",
       "  display: none;\n",
       "  z-index: 9999;\n",
       "  position: relative;\n",
       "  font-weight: normal;\n",
       "  right: .2ex;\n",
       "  padding: .5ex;\n",
       "  margin: .5ex;\n",
       "  width: min-content;\n",
       "  min-width: 20ex;\n",
       "  max-width: 50ex;\n",
       "  color: var(--sklearn-color-text);\n",
       "  box-shadow: 2pt 2pt 4pt #999;\n",
       "  /* unfitted */\n",
       "  background: var(--sklearn-color-unfitted-level-0);\n",
       "  border: .5pt solid var(--sklearn-color-unfitted-level-3);\n",
       "}\n",
       "\n",
       ".sk-estimator-doc-link.fitted span {\n",
       "  /* fitted */\n",
       "  background: var(--sklearn-color-fitted-level-0);\n",
       "  border: var(--sklearn-color-fitted-level-3);\n",
       "}\n",
       "\n",
       ".sk-estimator-doc-link:hover span {\n",
       "  display: block;\n",
       "}\n",
       "\n",
       "/* \"?\"-specific style due to the `<a>` HTML tag */\n",
       "\n",
       "#sk-container-id-1 a.estimator_doc_link {\n",
       "  float: right;\n",
       "  font-size: 1rem;\n",
       "  line-height: 1em;\n",
       "  font-family: monospace;\n",
       "  background-color: var(--sklearn-color-background);\n",
       "  border-radius: 1rem;\n",
       "  height: 1rem;\n",
       "  width: 1rem;\n",
       "  text-decoration: none;\n",
       "  /* unfitted */\n",
       "  color: var(--sklearn-color-unfitted-level-1);\n",
       "  border: var(--sklearn-color-unfitted-level-1) 1pt solid;\n",
       "}\n",
       "\n",
       "#sk-container-id-1 a.estimator_doc_link.fitted {\n",
       "  /* fitted */\n",
       "  border: var(--sklearn-color-fitted-level-1) 1pt solid;\n",
       "  color: var(--sklearn-color-fitted-level-1);\n",
       "}\n",
       "\n",
       "/* On hover */\n",
       "#sk-container-id-1 a.estimator_doc_link:hover {\n",
       "  /* unfitted */\n",
       "  background-color: var(--sklearn-color-unfitted-level-3);\n",
       "  color: var(--sklearn-color-background);\n",
       "  text-decoration: none;\n",
       "}\n",
       "\n",
       "#sk-container-id-1 a.estimator_doc_link.fitted:hover {\n",
       "  /* fitted */\n",
       "  background-color: var(--sklearn-color-fitted-level-3);\n",
       "}\n",
       "</style><div id=\"sk-container-id-1\" class=\"sk-top-container\"><div class=\"sk-text-repr-fallback\"><pre>LinearRegression()</pre><b>In a Jupyter environment, please rerun this cell to show the HTML representation or trust the notebook. <br />On GitHub, the HTML representation is unable to render, please try loading this page with nbviewer.org.</b></div><div class=\"sk-container\" hidden><div class=\"sk-item\"><div class=\"sk-estimator fitted sk-toggleable\"><input class=\"sk-toggleable__control sk-hidden--visually\" id=\"sk-estimator-id-1\" type=\"checkbox\" checked><label for=\"sk-estimator-id-1\" class=\"sk-toggleable__label fitted sk-toggleable__label-arrow fitted\">&nbsp;&nbsp;LinearRegression<a class=\"sk-estimator-doc-link fitted\" rel=\"noreferrer\" target=\"_blank\" href=\"https://scikit-learn.org/1.4/modules/generated/sklearn.linear_model.LinearRegression.html\">?<span>Documentation for LinearRegression</span></a><span class=\"sk-estimator-doc-link fitted\">i<span>Fitted</span></span></label><div class=\"sk-toggleable__content fitted\"><pre>LinearRegression()</pre></div> </div></div></div></div>"
      ],
      "text/plain": [
       "LinearRegression()"
      ]
     },
     "execution_count": 11,
     "metadata": {},
     "output_type": "execute_result"
    }
   ],
   "source": [
    "QA1_model.fit(x, y)"
   ]
  },
  {
   "cell_type": "code",
   "execution_count": 12,
   "metadata": {},
   "outputs": [
    {
     "name": "stdout",
     "output_type": "stream",
     "text": [
      "coefficient of determination: 0.6665424595087748\n"
     ]
    }
   ],
   "source": [
    "# Verifique os resultados do ajuste do modelo para saber se o modelo é satisfatório.\n",
    "r_sq = QA1_model.score(x, y)\n",
    "print(f\"coefficient of determination: {r_sq}\")"
   ]
  },
  {
   "cell_type": "markdown",
   "metadata": {},
   "source": [
    "O método ``model.score(features,target)`` retorna o $R^2$ do nosso modelo, que é a __porcentagem da variância explicada das previsões do modelo__. Este parâmetro é calculado comparando o modelo ajustado com uma linha de base constante que é escolhida tomando a média dos dados e traçando uma linha horizontal. O $R^2$ é sempre menor ou iguais a 1 e um valor mais alto é preferido."
   ]
  },
  {
   "cell_type": "code",
   "execution_count": 13,
   "metadata": {},
   "outputs": [
    {
     "name": "stdout",
     "output_type": "stream",
     "text": [
      "intercept: 3.0000909090909094\n"
     ]
    }
   ],
   "source": [
    "print(f\"intercept: {QA1_model.intercept_}\")"
   ]
  },
  {
   "cell_type": "code",
   "execution_count": 14,
   "metadata": {},
   "outputs": [
    {
     "name": "stdout",
     "output_type": "stream",
     "text": [
      "slope: [0.50009091]\n"
     ]
    }
   ],
   "source": [
    "print(f\"slope: {QA1_model.coef_}\")"
   ]
  },
  {
   "cell_type": "markdown",
   "metadata": {},
   "source": [
    "Ou seja, a função $f(x) = 0.5x + 3$ descreve a relação entre nossos dados ``x`` e ``y`` no que parece ser um bom ajuste de dados.\n",
    "\n",
    "Podemos agora aplicar o mesmo para avaliar os resultados.\n"
   ]
  },
  {
   "cell_type": "code",
   "execution_count": 15,
   "metadata": {},
   "outputs": [
    {
     "name": "stdout",
     "output_type": "stream",
     "text": [
      "predicted response: [ 4.50036364  4.9478134   5.39526316  5.84271292  6.29016268  6.73761244\n",
      "  7.1850622   7.63251196  8.07996172  8.52741148  8.97486124  9.422311\n",
      "  9.86976077 10.31721053 10.76466029 11.21211005 11.65955981 12.10700957\n",
      " 12.55445933 13.00190909]\n"
     ]
    }
   ],
   "source": [
    "# Vamos escolher o menor e o maior valor de x de todas as series\n",
    "x_min = QA.values[0:11, 0::2].min()\n",
    "x_max = QA.values[0:11, 0::2].max()\n",
    "(x_min, x_max)\n",
    "# gerar um conjunto de valores de x para predizer os valores de y\n",
    "QA_x1_pred = np.linspace(x_min - 1, x_max + 1, 20).reshape(-1, 1)\n",
    "# Aplique o modelo para previsões.\n",
    "QA_y1_pred = QA1_model.predict(QA_x1_pred)\n",
    "print(f\"predicted response: {QA_y1_pred}\")"
   ]
  },
  {
   "cell_type": "markdown",
   "metadata": {},
   "source": [
    "Podemos aplicar este mesmo método para as restantes séries. "
   ]
  },
  {
   "cell_type": "code",
   "execution_count": 16,
   "metadata": {},
   "outputs": [
    {
     "name": "stdout",
     "output_type": "stream",
     "text": [
      "coefficient of determination: 0.6662420337274844\n",
      "intercept: 3.000909090909089\n",
      "slope: [0.5]\n"
     ]
    }
   ],
   "source": [
    "#Para a QA2\n",
    "x = QA.values[0:11, 2].reshape(-1, 1)\n",
    "y = QA.values[0:11, 3]\n",
    "QA2_model = LinearRegression()\n",
    "QA2_model.fit(x, y)\n",
    "r_sq = QA2_model.score(x, y)\n",
    "print(f\"coefficient of determination: {r_sq}\")\n",
    "print(f\"intercept: {QA2_model.intercept_}\")\n",
    "print(f\"slope: {QA2_model.coef_}\")\n",
    "QA_x2_pred = np.linspace(x_min - 1, x_max + 1, 20).reshape(-1, 1)\n",
    "QA_y2_pred = QA2_model.predict(QA_x2_pred)"
   ]
  },
  {
   "cell_type": "code",
   "execution_count": 17,
   "metadata": {},
   "outputs": [
    {
     "name": "stdout",
     "output_type": "stream",
     "text": [
      "coefficient of determination: 0.6663240410665592\n",
      "intercept: 3.002454545454545\n",
      "slope: [0.49972727]\n"
     ]
    }
   ],
   "source": [
    "#Para a QA3\n",
    "x = QA.values[0:11, 4].reshape(-1, 1)\n",
    "y = QA.values[0:11, 5]\n",
    "QA3_model = LinearRegression()\n",
    "QA3_model.fit(x, y)\n",
    "r_sq = QA3_model.score(x, y)\n",
    "print(f\"coefficient of determination: {r_sq}\")\n",
    "print(f\"intercept: {QA3_model.intercept_}\")\n",
    "print(f\"slope: {QA3_model.coef_}\")\n",
    "QA_x3_pred = np.linspace(x_min - 1, x_max + 1, 20).reshape(-1, 1)\n",
    "QA_y3_pred = QA3_model.predict(QA_x3_pred)"
   ]
  },
  {
   "cell_type": "code",
   "execution_count": 18,
   "metadata": {},
   "outputs": [
    {
     "name": "stdout",
     "output_type": "stream",
     "text": [
      "coefficient of determination: 0.6667072568984653\n",
      "intercept: 3.0017272727272726\n",
      "slope: [0.49990909]\n"
     ]
    }
   ],
   "source": [
    "#Para a QA4\n",
    "x = QA.values[0:11, 6].reshape(-1, 1)\n",
    "y = QA.values[0:11, 7]\n",
    "QA4_model = LinearRegression()\n",
    "QA4_model.fit(x, y)\n",
    "r_sq = QA4_model.score(x, y)\n",
    "print(f\"coefficient of determination: {r_sq}\")\n",
    "print(f\"intercept: {QA4_model.intercept_}\")\n",
    "print(f\"slope: {QA4_model.coef_}\")\n",
    "QA_x4_pred = np.linspace(x_min - 1, x_max + 1, 20).reshape(-1, 1)\n",
    "QA_y4_pred = QA4_model.predict(QA_x4_pred)"
   ]
  },
  {
   "cell_type": "markdown",
   "metadata": {},
   "source": [
    "Podemos então dicer que a função $f(x) = 0.5x + 3$ descreve a relação entre nossos dados ``x`` e ``y`` no que parece ser um bom ajuste de dados, para todas as quatro séries.\n",
    "\n",
    "Como ficam estes dados num gráfico?"
   ]
  },
  {
   "cell_type": "markdown",
   "metadata": {},
   "source": [
    "### Visualização de dados com Matplotlib"
   ]
  },
  {
   "cell_type": "markdown",
   "metadata": {},
   "source": [
    "__Matplotlib__ é uma biblioteca de plotagem 2D/3D para __Python__ que foi projetado para usar o tipo de dados __NumPy__ e pode ser usada para gerar gráficos dentro de um programa Python."
   ]
  },
  {
   "cell_type": "code",
   "execution_count": 19,
   "metadata": {},
   "outputs": [],
   "source": [
    "#pip install ipympl\n",
    "import matplotlib.pyplot as plt\n",
    "plt.style.use('classic')\n",
    "%matplotlib widget"
   ]
  },
  {
   "cell_type": "markdown",
   "metadata": {},
   "source": [
    "Usaremos a diretiva `plt.style` para escolher estilos estéticos apropriados para nossas figuras. Vamos definir inicialmente o estilo `classic`, o que garante que os gráficos que criamos usem o estilo clássico do `Matplotlib`:"
   ]
  },
  {
   "cell_type": "code",
   "execution_count": 20,
   "metadata": {},
   "outputs": [],
   "source": [
    "plt.style.use('classic')"
   ]
  },
  {
   "cell_type": "markdown",
   "metadata": {},
   "source": [
    "Podemos agora ver, por exemplo, como fica o gráfico dos nossos modelos ajustados."
   ]
  },
  {
   "cell_type": "code",
   "execution_count": 21,
   "metadata": {},
   "outputs": [
    {
     "data": {
      "text/plain": [
       "[<matplotlib.lines.Line2D at 0x7fb171db2020>]"
      ]
     },
     "execution_count": 21,
     "metadata": {},
     "output_type": "execute_result"
    },
    {
     "data": {
      "application/vnd.jupyter.widget-view+json": {
       "model_id": "e0ad0e0637cc4e3c806a1f451ffba95a",
       "version_major": 2,
       "version_minor": 0
      },
      "image/png": "[encoded data removed]",
      "text/html": [
       "\n",
       "            <div style=\"display: inline-block;\">\n",
       "                <div class=\"jupyter-widgets widget-label\" style=\"text-align: center;\">\n",
       "                    Figure\n",
       "                </div>\n",
       "                <img src='data:image/png;base64,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' width=640.0/>\n",
       "            </div>\n",
       "        "
      ],
      "text/plain": [
       "Canvas(toolbar=Toolbar(toolitems=[('Home', 'Reset original view', 'home', 'home'), ('Back', 'Back to previous …"
      ]
     },
     "metadata": {},
     "output_type": "display_data"
    }
   ],
   "source": [
    "fig = plt.figure()\n",
    "plt.plot(QA_x1_pred, QA_y1_pred, '-', label='QA1_model')\n",
    "plt.plot(QA_x2_pred, QA_y2_pred, '-', label='QA2_model')\n",
    "plt.plot(QA_x3_pred, QA_y3_pred, '-', label='QA3_model')\n",
    "plt.plot(QA_x4_pred, QA_y4_pred, '-', label='QA4_model')"
   ]
  },
  {
   "cell_type": "markdown",
   "metadata": {},
   "source": [
    "O modo _widget_ incorpora o recurso de podermos salvar o gráfico diretamente como uma imagem num arquivo. Entretanto, também é possível salvar o mesmo utilizando os recursos da biblioteca. "
   ]
  },
  {
   "cell_type": "code",
   "execution_count": 22,
   "metadata": {},
   "outputs": [
    {
     "data": {
      "image/png": "[encoded data removed]",
      "text/plain": [
       "<IPython.core.display.Image object>"
      ]
     },
     "execution_count": 22,
     "metadata": {},
     "output_type": "execute_result"
    }
   ],
   "source": [
    "fig.savefig(\"my_figure.png\")\n",
    "from IPython.display import Image\n",
    "Image('my_figure.png')"
   ]
  },
  {
   "cell_type": "markdown",
   "metadata": {},
   "source": [
    "Veja quais formatos de arquivos são suportados."
   ]
  },
  {
   "cell_type": "code",
   "execution_count": 23,
   "metadata": {},
   "outputs": [
    {
     "data": {
      "text/plain": [
       "{'eps': 'Encapsulated Postscript',\n",
       " 'jpg': 'Joint Photographic Experts Group',\n",
       " 'jpeg': 'Joint Photographic Experts Group',\n",
       " 'pdf': 'Portable Document Format',\n",
       " 'pgf': 'PGF code for LaTeX',\n",
       " 'png': 'Portable Network Graphics',\n",
       " 'ps': 'Postscript',\n",
       " 'raw': 'Raw RGBA bitmap',\n",
       " 'rgba': 'Raw RGBA bitmap',\n",
       " 'svg': 'Scalable Vector Graphics',\n",
       " 'svgz': 'Scalable Vector Graphics',\n",
       " 'tif': 'Tagged Image File Format',\n",
       " 'tiff': 'Tagged Image File Format',\n",
       " 'webp': 'WebP Image Format'}"
      ]
     },
     "execution_count": 23,
     "metadata": {},
     "output_type": "execute_result"
    }
   ],
   "source": [
    "fig.canvas.get_supported_filetypes()"
   ]
  },
  {
   "cell_type": "markdown",
   "metadata": {},
   "source": [
    "#### Interface MATLAB-style  ####\n",
    "\n",
    "__Matplotlib__ foi originalmente criado como uma alternativa __Python__ para usuários do __MATLAB__, e grande parte de sua sintaxe reflete esse fato. As ferramentas estilo __MATLAB__ estão contidas na interface ``pyplot`` (``plt``). Por exemplo, o código a seguir provavelmente parecerá bastante familiar aos usuários do MATLAB."
   ]
  },
  {
   "cell_type": "code",
   "execution_count": 24,
   "metadata": {},
   "outputs": [
    {
     "data": {
      "application/vnd.jupyter.widget-view+json": {
       "model_id": "a90d957eb46045928d818da7c9af1fca",
       "version_major": 2,
       "version_minor": 0
      },
      "image/png": "[encoded data removed]",
      "text/html": [
       "\n",
       "            <div style=\"display: inline-block;\">\n",
       "                <div class=\"jupyter-widgets widget-label\" style=\"text-align: center;\">\n",
       "                    Figure\n",
       "                </div>\n",
       "                <img src='data:image/png;base64,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' width=640.0/>\n",
       "            </div>\n",
       "        "
      ],
      "text/plain": [
       "Canvas(toolbar=Toolbar(toolitems=[('Home', 'Reset original view', 'home', 'home'), ('Back', 'Back to previous …"
      ]
     },
     "metadata": {},
     "output_type": "display_data"
    }
   ],
   "source": [
    "plt.figure()\n",
    "\n",
    "# crie o primeiro dos dois painéis e defina o eixo atual\n",
    "plt.subplot(2,2,1) # (rows, columns, panel number)\n",
    "plt.plot(QA_x1_pred, QA_y1_pred, '-', label='QA1_model');\n",
    "\n",
    "# crie o segundo painel e defina o eixo atual\n",
    "plt.subplot(2,2,2)\n",
    "plt.plot(QA_x2_pred, QA_y2_pred, '-', label='QA2_model');\n",
    "\n",
    "# crie o terceiro painel e defina o eixo atual\n",
    "plt.subplot(2,2,3)\n",
    "plt.plot(QA_x3_pred, QA_y3_pred, '-', label='QA3_model');\n",
    "\n",
    "# crie o quarto painel e defina o eixo atual\n",
    "plt.subplot(2,2,4)\n",
    "plt.plot(QA_x4_pred, QA_y4_pred, '-', label='QA4_model');"
   ]
  },
  {
   "cell_type": "markdown",
   "metadata": {},
   "source": [
    "É importante observar que essa interface mantém o controle da figura e dos eixos “atuais”, onde todos os comandos `plt` são aplicados. Você pode obter uma referência a eles usando as rotinas \n",
    "* `plt.gcf()` (obter valor atual) e\n",
    "* `plt.gca()` (obter eixos atuais).\n"
   ]
  },
  {
   "cell_type": "markdown",
   "metadata": {},
   "source": [
    "Embora essa interface seja rápida e conveniente para gráficos simples, é fácil encontrar problemas. Por exemplo, uma vez criado o segundo painel, como podemos voltar e adicionar algo ao primeiro? Isso é possível na interface estilo __MATLAB__, mas é um pouco desajeitado. Felizmente, existe uma maneira melhor."
   ]
  },
  {
   "cell_type": "markdown",
   "metadata": {},
   "source": [
    "#### Interface orientada a objetos\n",
    "\n",
    "A interface orientada a objetos está disponível para situações mais complicadas e para quando você deseja ter mais controle sobre sua figura.\n",
    "\n",
    "Em vez de depender de alguma referência de uma figura ou eixos \"ativos\", na interface orientada a objetos as funções de plotagem são __métodos__ de objetos ``Figura`` e ``Eixos`` explícitos."
   ]
  },
  {
   "cell_type": "code",
   "execution_count": 25,
   "metadata": {},
   "outputs": [
    {
     "data": {
      "text/plain": [
       "[<matplotlib.lines.Line2D at 0x7fb1610490f0>]"
      ]
     },
     "execution_count": 25,
     "metadata": {},
     "output_type": "execute_result"
    },
    {
     "data": {
      "application/vnd.jupyter.widget-view+json": {
       "model_id": "51bf9b33c2b34fe085ff49ad49a5d61b",
       "version_major": 2,
       "version_minor": 0
      },
      "image/png": "[encoded data removed]",
      "text/html": [
       "\n",
       "            <div style=\"display: inline-block;\">\n",
       "                <div class=\"jupyter-widgets widget-label\" style=\"text-align: center;\">\n",
       "                    Figure\n",
       "                </div>\n",
       "                <img src='data:image/png;base64,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' width=640.0/>\n",
       "            </div>\n",
       "        "
      ],
      "text/plain": [
       "Canvas(toolbar=Toolbar(toolitems=[('Home', 'Reset original view', 'home', 'home'), ('Back', 'Back to previous …"
      ]
     },
     "metadata": {},
     "output_type": "display_data"
    }
   ],
   "source": [
    "# Primeiro crie uma grade de gráficos\n",
    "# ax será um array de dois por dois objetos Axes\n",
    "fig, ax = plt.subplots(2, 2)\n",
    "# Chama o método plot() no objeto apropriado\n",
    "ax[0,0].plot(QA_x1_pred, QA_y1_pred, '-', label='QA1_model')\n",
    "ax[0,1].plot(QA_x2_pred, QA_y2_pred, '-', label='QA2_model')\n",
    "ax[1,0].plot(QA_x3_pred, QA_y3_pred, '-', label='QA3_model')\n",
    "ax[1,1].plot(QA_x4_pred, QA_y4_pred, '-', label='QA4_model')\n",
    "#plt.show()"
   ]
  },
  {
   "cell_type": "markdown",
   "metadata": {},
   "source": [
    "Para gráficos mais simples, a escolha de qual estilo usar é em grande parte uma questão de preferência, mas a abordagem orientada a objetos pode se tornar uma necessidade à medida que os gráficos se tornam mais complicados.\n",
    "\n",
    "Ao longo desta aula, alternaremos entre as interfaces estilo MATLAB e orientadas a objetos, dependendo do que for mais conveniente.\n",
    "\n",
    "Na maioria dos casos, a diferença é tão pequena quanto mudar ``plt.plot()`` para ``ax.plot()``, mas existem algumas dicas que iremos destacar à medida que surgirem nas seções seguintes."
   ]
  },
  {
   "cell_type": "markdown",
   "metadata": {},
   "source": [
    "### Gráficos de linhas simples\n",
    "\n",
    "Talvez o mais simples de todos os gráficos seja a visualização de uma única função $y = f(x)$.\n",
    "\n",
    "Para todos os gráficos do __Matplotlib__, começamos criando uma figura e um eixo.\n",
    "Na sua forma mais simples, uma figura e eixos podem ser criados da seguinte forma."
   ]
  },
  {
   "cell_type": "code",
   "execution_count": null,
   "metadata": {},
   "outputs": [],
   "source": [
    "fig = plt.figure()\n",
    "ax = plt.axes()"
   ]
  },
  {
   "cell_type": "markdown",
   "metadata": {},
   "source": [
    "No __Matplotlib__, a ``figure`` (uma instância da classe ``plt.Figure``) pode ser pensada como um único contêiner que contém todos os objetos que representam eixos, gráficos, texto e rótulos.\n",
    "\n",
    "Os ``axes`` (uma instância da classe ``plt.Axes``) é o que vemos acima: uma caixa delimitadora com marcas de seleção e rótulos, que eventualmente conterá os elementos do gráfico que compõem nossa visualização.\n",
    "\n",
    "Frequentemente utilizaremos o nome da variável ``fig`` para nos referirmos a uma instância de figura, e ``ax`` para nos referirmos a uma instância de eixos ou grupo de instâncias de eixos.\n",
    "\n",
    "Depois de criarmos os eixos, podemos usar a função ``ax.plot`` para plotar alguns dados."
   ]
  },
  {
   "cell_type": "code",
   "execution_count": null,
   "metadata": {},
   "outputs": [],
   "source": [
    "plt.close(fig)\n",
    "fig = plt.figure()\n",
    "ax = plt.axes()\n",
    "\n",
    "x = np.linspace(0, 2*np.pi, 100)\n",
    "ax.plot(x, np.sin(x));"
   ]
  },
  {
   "cell_type": "markdown",
   "metadata": {},
   "source": [
    "Alternativamente, podemos usar a interface __MATLAB__ e deixar a figura e os eixos serem criados para nós em segundo plano."
   ]
  },
  {
   "cell_type": "code",
   "execution_count": null,
   "metadata": {},
   "outputs": [],
   "source": [
    "plt.close(fig)\n",
    "plt.figure()\n",
    "plt.plot(x, np.sin(x));"
   ]
  },
  {
   "cell_type": "code",
   "execution_count": null,
   "metadata": {},
   "outputs": [],
   "source": [
    "plt.close('all')\n",
    "plt.figure()\n",
    "plt.plot(x, np.sin(x))\n",
    "plt.plot(x, np.cos(x));"
   ]
  },
  {
   "cell_type": "markdown",
   "metadata": {},
   "source": [
    "### Ajustando o gráfico: cores e estilos de linha\n",
    "\n",
    "O primeiro ajuste que você pode querer fazer em um gráfico é controlar as cores e estilos das linhas.\n",
    "\n",
    "A função ``plt.plot()`` recebe argumentos adicionais que podem ser usados para especificá-los.\n",
    "\n",
    "Para ajustar a cor, você pode usar a palavra-chave ``color``, que aceita um argumento de string representando praticamente qualquer cor imaginável.\n",
    "\n",
    "A cor pode ser especificada de várias maneiras"
   ]
  },
  {
   "cell_type": "code",
   "execution_count": null,
   "metadata": {},
   "outputs": [],
   "source": [
    "plt.close('all')\n",
    "plt.figure()\n",
    "plt.plot(x, np.sin(x - 0), color='blue')        # specify color by name\n",
    "plt.plot(x, np.sin(x - 1), color='g')           # short color code (rgbcmyk)\n",
    "plt.plot(x, np.sin(x - 2), color='0.75')        # Grayscale between 0 and 1\n",
    "plt.plot(x, np.sin(x - 3), color='#FFDD44')     # Hex code (RRGGBB from 00 to FF)\n",
    "plt.plot(x, np.sin(x - 4), color=(1.0,0.2,0.3)) # RGB tuple, values 0 to 1\n",
    "plt.plot(x, np.sin(x - 5), color='chartreuse'); # all HTML color names supported"
   ]
  },
  {
   "cell_type": "markdown",
   "metadata": {},
   "source": [
    "Se nenhuma cor for especificada, o __Matplotlib__ percorrerá automaticamente um conjunto de cores padrão para várias linhas.\n",
    "\n",
    "Da mesma forma, o estilo da linha pode ser ajustado usando a palavra-chave ``linestyle``."
   ]
  },
  {
   "cell_type": "code",
   "execution_count": null,
   "metadata": {},
   "outputs": [],
   "source": [
    "plt.close('all')\n",
    "plt.figure()\n",
    "plt.plot(x, x + 0, linestyle='solid')\n",
    "plt.plot(x, x + 1, linestyle='dashed')\n",
    "plt.plot(x, x + 2, linestyle='dashdot')\n",
    "plt.plot(x, x + 3, linestyle='dotted');\n",
    "\n",
    "# For short, you can use the following codes:\n",
    "plt.plot(x, x + 4, linestyle='-')  # solid\n",
    "plt.plot(x, x + 5, linestyle='--') # dashed\n",
    "plt.plot(x, x + 6, linestyle='-.') # dashdot\n",
    "plt.plot(x, x + 7, linestyle=':');  # dotted"
   ]
  },
  {
   "cell_type": "markdown",
   "metadata": {},
   "source": [
    "Se você quiser ser extremamente conciso, esses códigos ``linestyle`` e ``color`` podem ser combinados em um único argumento sem palavra-chave para a função ``plt.plot()``"
   ]
  },
  {
   "cell_type": "code",
   "execution_count": null,
   "metadata": {},
   "outputs": [],
   "source": [
    "plt.close('all')\n",
    "plt.figure()\n",
    "plt.plot(x, x + 0, '-g')  # solid green\n",
    "plt.plot(x, x + 1, '--c') # dashed cyan\n",
    "plt.plot(x, x + 2, '-.k') # dashdot black\n",
    "plt.plot(x, x + 3, ':r');  # dotted red"
   ]
  },
  {
   "cell_type": "markdown",
   "metadata": {},
   "source": [
    "### Ajustando o gráfico: limites dos eixos\n",
    "\n",
    "O __Matplotlib__ faz escolhe de forma automática os limites dos eixos padrão para o seu gráfico. Os limites padrão são, de forma geral, feitos de forma apropriada. Entretanto, às vezes é bom ter um controle mais preciso destes limites.\n",
    "A maneira mais básica de ajustar os limites dos eixos é usar os métodos ``plt.xlim()`` e ``plt.ylim()``."
   ]
  },
  {
   "cell_type": "code",
   "execution_count": null,
   "metadata": {},
   "outputs": [],
   "source": [
    "plt.close('all')\n",
    "plt.figure()\n",
    "plt.plot(x, np.sin(x))\n",
    "plt.plot(x, np.cos(x))\n",
    "xmin = x.min() - 1\n",
    "xmax = x.max() + 1\n",
    "ymin = -1.1\n",
    "ymax = 1.1\n",
    "plt.xlim(xmin, xmax)\n",
    "plt.ylim(ymin, ymax);"
   ]
  },
  {
   "cell_type": "markdown",
   "metadata": {},
   "source": [
    "Se por algum motivo você quiser que qualquer um dos eixos seja exibido ao contrário, você pode simplesmente inverter a ordem dos argumentos."
   ]
  },
  {
   "cell_type": "code",
   "execution_count": null,
   "metadata": {},
   "outputs": [],
   "source": [
    "plt.close('all')\n",
    "plt.figure()\n",
    "plt.plot(x, np.sin(x))\n",
    "plt.plot(x, np.cos(x))\n",
    "xmin = x.min() - 1\n",
    "xmax = x.max() + 1\n",
    "ymin = -1.1\n",
    "ymax = 1.1\n",
    "plt.xlim(xmax, xmin)\n",
    "plt.ylim(ymax, ymin);"
   ]
  },
  {
   "cell_type": "markdown",
   "metadata": {},
   "source": [
    "Outro método muito útil para esta finalidade é ``plt.axis()``.\n",
    "\n",
    "(Cuidado aqui para não confundir entre ``axes`` com um _e_ e ``axis`` com um _i_)\n",
    "\n",
    "O método ``plt.axis()`` permite que você defina os limites ``x`` e ``y`` com uma única chamada, passando uma lista que especifica ``[xmin, xmax, ymin, ymax] ``"
   ]
  },
  {
   "cell_type": "code",
   "execution_count": null,
   "metadata": {},
   "outputs": [],
   "source": [
    "plt.close('all')\n",
    "plt.figure(\"Nome da figura\")\n",
    "plt.plot(x, np.sin(x))\n",
    "plt.plot(x, np.cos(x))\n",
    "plt.axis([xmin, xmax, ymax, ymin]);"
   ]
  },
  {
   "cell_type": "markdown",
   "metadata": {},
   "source": [
    "O método plt.axis() vai além disso, permitindo que você faça coisas como restringir automaticamente os limites do gráfico atual ..."
   ]
  },
  {
   "cell_type": "code",
   "execution_count": null,
   "metadata": {},
   "outputs": [],
   "source": [
    "plt.close('all')\n",
    "plt.figure()\n",
    "plt.plot(x, np.sin(x))\n",
    "plt.plot(x, np.cos(x))\n",
    "plt.axis('tight');"
   ]
  },
  {
   "cell_type": "markdown",
   "metadata": {},
   "source": [
    "... ou garantir uma proporção de proporções iguais para que na sua tela, ou seja, que uma unidade em ``x`` seja igual a uma unidade em ``y``."
   ]
  },
  {
   "cell_type": "code",
   "execution_count": null,
   "metadata": {},
   "outputs": [],
   "source": [
    "plt.close('all')\n",
    "plt.figure()\n",
    "plt.plot(x, np.sin(x))\n",
    "plt.plot(x, np.cos(x))\n",
    "plt.axis('equal');"
   ]
  },
  {
   "cell_type": "markdown",
   "metadata": {},
   "source": [
    "### Ajustando o gráfico: adicionando rótulos\n",
    "\n",
    "Títulos e rótulos de eixo são os rótulos mais simples configurar já que existem métodos que podem ser usados para defini-los rapidamente."
   ]
  },
  {
   "cell_type": "code",
   "execution_count": null,
   "metadata": {},
   "outputs": [],
   "source": [
    "plt.close('all')\n",
    "plt.figure()\n",
    "plt.plot(x, np.sin(x), label='$\\sin(x)$')\n",
    "plt.plot(x, np.cos(x), label='$\\cos(x)$')\n",
    "plt.axis('tight');\n",
    "plt.title(\"Funções Trigonométricas\")\n",
    "plt.xlabel(\"x\")\n",
    "plt.ylabel(\"$f(x)$\");"
   ]
  },
  {
   "cell_type": "markdown",
   "metadata": {},
   "source": [
    "A posição, tamanho e estilo desses rótulos podem ser ajustados usando argumentos opcionais para a função. \n",
    "\n",
    "Quando múltiplas curvas estão sendo mostradas dentro de um único eixo, pode ser útil criar uma legenda de plotagem que rotule cada uma.\n",
    "Novamente, o __Matplotlib__ possui uma maneira integrada de criar rapidamente tal legenda.\n",
    "Isso é feito através do método ``plt.legend()``.\n",
    "Embora existam várias maneiras válidas de usar este recurso, o mais simples é especificar o rótulo de cada curva usando a palavra-chave ``label`` da função ``plot``."
   ]
  },
  {
   "cell_type": "code",
   "execution_count": null,
   "metadata": {},
   "outputs": [],
   "source": [
    "plt.close('all')\n",
    "plt.figure()\n",
    "plt.plot(x, np.sin(x), label='$\\sin(x)$')\n",
    "plt.plot(x, np.cos(x), label='$\\cos(x)$')\n",
    "plt.axis('equal');\n",
    "plt.title(\"Funções Trigonométricas\")\n",
    "plt.xlabel(\"x\")\n",
    "plt.ylabel(\"$f(x)$\");\n",
    "plt.legend();"
   ]
  },
  {
   "cell_type": "markdown",
   "metadata": {},
   "source": [
    "Como você pode ver, a função ``plt.legend()`` rastreia o estilo e a cor da linha e combina-os com o rótulo correto."
   ]
  },
  {
   "cell_type": "markdown",
   "metadata": {},
   "source": [
    "Embora a maioria das funções ``plt`` sejam traduzidas diretamente para métodos ``ax`` (como ``plt.plot()`` → ``ax.plot()``, ``plt.legend()`` → ``ax.legend()``, etc.), este não é o caso para todos os comandos.\n",
    "Em particular, as funções para definir limites, rótulos e títulos foram ligeiramente modificadas.\n",
    "Para fazer a tradução entre funções no estilo __MATLAB__ e métodos orientados a objetos, faça as seguintes alterações:\n",
    "\n",
    "- ``plt.xlabel()`` → ``ax.set_xlabel()``\n",
    "- ``plt.ylabel()`` → ``ax.set_ylabel()``\n",
    "- ``plt.xlim()`` → ``ax.set_xlim()``\n",
    "- ``plt.ylim()`` → ``ax.set_ylim()``\n",
    "- ``plt.title()`` → ``ax.set_title()``\n",
    "\n",
    "Na interface orientada a objetos para plotagem, em vez de chamar essas funções individualmente, geralmente é mais conveniente usar o método ``ax.set()`` para definir todas essas propriedades de uma vez."
   ]
  },
  {
   "cell_type": "code",
   "execution_count": null,
   "metadata": {},
   "outputs": [],
   "source": [
    "plt.close('all')\n",
    "fig = plt.figure()\n",
    "ax = plt.axes()\n",
    "ax.plot(x, np.sin(x), label='$\\sin(x)$')\n",
    "ax.plot(x, np.cos(x), label='$\\cos(x)$')\n",
    "ax.set_aspect('equal')\n",
    "ax.set(xlabel='x', ylabel='$f(x)$',\n",
    "       title='Funções Trigonométricas');\n",
    "ax.legend();"
   ]
  },
  {
   "cell_type": "markdown",
   "metadata": {},
   "source": [
    "# Gráficos de dispersão simples\n",
    "\n",
    "Outro tipo de gráfico comumente usado é o gráfico de dispersão simples, um primo próximo do gráfico de linhas.\n",
    "Em vez de os pontos serem unidos por segmentos de linha, aqui os pontos são representados individualmente com um ponto, círculo ou outra forma.\n",
    "\n",
    "A função ``plt.plot``, que utilizamos para gerar gráficos de linha, também pode ser utilizada para gerar gráficos de dispersão.  "
   ]
  },
  {
   "cell_type": "code",
   "execution_count": null,
   "metadata": {},
   "outputs": [],
   "source": [
    "plt.close('all')\n",
    "plt.figure()\n",
    "plt.plot(x[::4], np.sin(x[::4]), 'o', color = 'black', label='$\\sin(x)$')\n",
    "#plt.plot(x, np.cos(x), label='$\\cos(x)$')\n",
    "plt.axis('tight');\n",
    "plt.title(\"Funções Trigonométricas\")\n",
    "plt.xlabel(\"x\")\n",
    "plt.ylabel(\"$f(x)$\");\n",
    "plt.legend();"
   ]
  },
  {
   "cell_type": "markdown",
   "metadata": {},
   "source": [
    "O novo argumento na chamada de função é um caractere que representa o tipo de símbolo usado para a plotagem. Assim como você pode especificar opções como ``'-'``, ``'--'`` para controlar o estilo da linha, o estilo do marcador tem seu próprio conjunto de códigos de string curtos."
   ]
  },
  {
   "cell_type": "code",
   "execution_count": null,
   "metadata": {},
   "outputs": [],
   "source": [
    "plt.close('all')\n",
    "plt.figure()\n",
    "rng = np.random.RandomState(0)\n",
    "for marker in ['o', '.', ',', 'x', '+', 'v', '^', '<', '>', 's', 'd']:\n",
    "    plt.plot(rng.rand(5), rng.rand(5), marker,\n",
    "             label=\"marker='{0}'\".format(marker))\n",
    "plt.legend(numpoints=1)\n",
    "plt.xlim(0, 1.8);"
   ]
  },
  {
   "cell_type": "markdown",
   "metadata": {},
   "source": [
    "### Gráficos de dispersão com ``plt.scatter``\n",
    "\n",
    "Um segundo método mais poderoso de criar gráficos de dispersão é a função ``plt.scatter``, que pode ser usada de forma muito semelhante à função ``plt.plot``."
   ]
  },
  {
   "cell_type": "code",
   "execution_count": null,
   "metadata": {},
   "outputs": [],
   "source": [
    "plt.close('all')\n",
    "plt.figure()\n",
    "plt.scatter(x[::4], np.sin(x[::4]), marker='o', label='$\\sin(x)$')\n",
    "#plt.plot(x[::4], np.sin(x[::4]), 'o', color = 'black', label='$\\sin(x)$')\n",
    "#plt.plot(x, np.cos(x), label='$\\cos(x)$')\n",
    "plt.axis('tight');\n",
    "plt.title(\"Funções Trigonométricas\")\n",
    "plt.xlabel(\"x\")\n",
    "plt.ylabel(\"$f(x)$\");\n",
    "plt.legend(numpoints=1);"
   ]
  },
  {
   "cell_type": "markdown",
   "metadata": {},
   "source": [
    "A principal diferença entre ``plt.scatter`` e ``plt.plot`` é que ele pode ser usado para criar gráficos de dispersão onde as propriedades de cada ponto individual (tamanho, cor da face, cor da borda, etc.) podem ser controlados individualmente ou mapeados para dados.\n",
    "\n",
    "Vamos mostrar isso criando um gráfico de dispersão aleatório com pontos de várias cores e tamanhos.\n",
    "Para ver melhor os resultados sobrepostos, também usaremos a palavra-chave ``alpha`` para ajustar o nível de transparência"
   ]
  },
  {
   "cell_type": "code",
   "execution_count": null,
   "metadata": {},
   "outputs": [],
   "source": [
    "plt.close('all')\n",
    "plt.figure()\n",
    "rng = np.random.RandomState(0)\n",
    "x = rng.randn(100)\n",
    "y = rng.randn(100)\n",
    "colors = rng.rand(100)\n",
    "sizes = 1000 * rng.rand(100)\n",
    "\n",
    "plt.scatter(x, y, c=colors, s=sizes, alpha=0.3,\n",
    "            cmap='viridis')\n",
    "plt.colorbar();  # show color scale"
   ]
  },
  {
   "cell_type": "markdown",
   "metadata": {},
   "source": [
    "Repare que o argumento color é automaticamente mapeado para uma escala de cores (mostrada aqui pelo comando ``colorbar()``), e que o argumento size é dado em pixels.\n",
    "Desta forma, a cor e o tamanho dos pontos podem ser utilizados para transmitir informações na visualização, a fim de visualizar dados multidimensionais.\n",
    "\n",
    "Por exemplo, podemos usar os dados Iris do Scikit-Learn, onde cada amostra é um dos três tipos de flores cujo tamanho de pétalas e sépalas foi cuidadosamente medido."
   ]
  },
  {
   "cell_type": "code",
   "execution_count": null,
   "metadata": {},
   "outputs": [],
   "source": [
    "from sklearn.datasets import load_iris\n",
    "iris = load_iris()\n",
    "features = iris.data.T\n",
    "plt.close('all')\n",
    "plt.figure()\n",
    "plt.scatter(features[0], features[1], alpha=0.2,\n",
    "            s=100*features[3], c=iris.target, cmap='viridis')\n",
    "plt.xlabel(iris.feature_names[0])\n",
    "plt.ylabel(iris.feature_names[1]);"
   ]
  },
  {
   "cell_type": "markdown",
   "metadata": {},
   "source": [
    "Podemos ver que este gráfico de dispersão nos deu a capacidade de explorar simultaneamente quatro dimensões diferentes dos dados: a localização (x, y) de cada ponto corresponde ao comprimento e largura da sépala, o tamanho do ponto está relacionado à largura da pétala e a cor está relacionada à espécie específica de flor. Gráficos de dispersão multicoloridos e com vários recursos como este podem ser úteis tanto para exploração quanto para apresentação de dados."
   ]
  },
  {
   "cell_type": "markdown",
   "metadata": {},
   "source": [
    "Além dos diferentes recursos disponíveis em ``plt.plot`` e ``plt.scatter``, por que você escolheria usar um em vez do outro? Embora isso não importe tanto para pequenas quantidades de dados, já que os conjuntos de dados ficam maiores que alguns milhares de pontos, ``plt.plot`` pode ser visivelmente mais eficiente que ``plt.scatter``.\n",
    "A razão é que ``plt.scatter`` tem a capacidade de renderizar um tamanho e/ou cor diferente para cada ponto, então o renderizador deve fazer o trabalho extra de construir cada ponto individualmente.\n",
    "Em ``plt.plot``, por outro lado, os pontos são sempre essencialmente clones uns dos outros, portanto o trabalho de determinar a aparência dos pontos é feito apenas uma vez para todo o conjunto de dados.\n",
    "Para grandes conjuntos de dados, a diferença entre os dois pode levar a um desempenho muito diferente e, por esta razão, ``plt.plot`` deve ser preferido a ``plt.scatter`` para grandes conjuntos de dados."
   ]
  },
  {
   "cell_type": "markdown",
   "metadata": {},
   "source": [
    "### Voltando ao Quarteto de Anscombe\n",
    "\n",
    "Vamos então refazer concluir a análise do quarteto de Anscombe criando uma visualização de cada série junto com ajuste que fizemos da cada um, utilizando a regressão linear. Misturamos aqui um gráfico de linha com um gráfico de dispersão em cada subplot. "
   ]
  },
  {
   "cell_type": "markdown",
   "metadata": {},
   "source": [
    "Primeiramente utilizamos o estilo __MATLAB__."
   ]
  },
  {
   "cell_type": "code",
   "execution_count": null,
   "metadata": {},
   "outputs": [],
   "source": [
    "plt.close('all')\n",
    "plt.figure(\"Figura 1: Quarteto de Anscombe\")\n",
    "\n",
    "# crie o primeiro dos dois painéis e defina o eixo atual\n",
    "plt.subplot(2,2,1) # (rows, columns, panel number)\n",
    "plt.plot(QA_x1_pred, QA_y1_pred, '-', label='QA1_model');\n",
    "plt.scatter(QA_x1, QA_y1, marker='o', label='QA1', color = 'red')\n",
    "#plt.xlabel('x')\n",
    "plt.ylabel('y')\n",
    "plt.title('QA1')\n",
    "#plt.legend()\n",
    "\n",
    "# crie o segundo painel e defina o eixo atual\n",
    "plt.subplot(2,2,2)\n",
    "plt.plot(QA_x2_pred, QA_y2_pred, '-', label='QA2_model');\n",
    "plt.scatter(QA_x2, QA_y2, marker='o', label='QA1', color = 'red')\n",
    "#plt.xlabel('x')\n",
    "plt.ylabel('y')\n",
    "plt.title('QA2')\n",
    "\n",
    "# crie o terceiro painel e defina o eixo atual\n",
    "plt.subplot(2,2,3)\n",
    "plt.plot(QA_x3_pred, QA_y3_pred, '-', label='QA3_model');\n",
    "plt.scatter(QA_x3, QA_y3, marker='o', label='QA1', color = 'red')\n",
    "plt.xlabel('x')\n",
    "plt.ylabel('y')\n",
    "plt.title('QA3')\n",
    "\n",
    "# crie o quarto painel e defina o eixo atual\n",
    "plt.subplot(2,2,4)\n",
    "plt.plot(QA_x4_pred, QA_y4_pred, '-', label='QA4_model');\n",
    "plt.scatter(QA_x4, QA_y4, marker='o', label='QA1', color = 'red')\n",
    "plt.xlabel('x')\n",
    "plt.ylabel('y')\n",
    "plt.title('QA4')"
   ]
  },
  {
   "cell_type": "markdown",
   "metadata": {},
   "source": [
    "Agora com a interface orientada a objetos"
   ]
  },
  {
   "cell_type": "code",
   "execution_count": null,
   "metadata": {},
   "outputs": [],
   "source": [
    "# Primeiro crie uma grade de gráficos\n",
    "# ax será um array de dois por dois objetos Axes\n",
    "fig, ax = plt.subplots(2, 2, sharex='col', sharey='row')\n",
    "# Chama o método plot() no objeto apropriado\n",
    "ax[0,0].plot(QA_x1_pred, QA_y1_pred, '-', label='QA1_model')\n",
    "ax[0,0].scatter(QA_x1, QA_y1, marker='o', label='QA1', color = 'red')\n",
    "ax[0,0].set(ylabel='$f(x)$', title='QA1');\n",
    "ax[0,1].plot(QA_x2_pred, QA_y2_pred, '-', label='QA2_model')\n",
    "ax[0,1].scatter(QA_x2, QA_y2, marker='o', label='QA1', color = 'red')\n",
    "ax[0,1].set(title='QA2');\n",
    "ax[1,0].plot(QA_x3_pred, QA_y3_pred, '-', label='QA3_model')\n",
    "ax[1,0].scatter(QA_x3, QA_y3, marker='o', label='QA1', color = 'red')\n",
    "ax[1,0].set(xlabel='x', ylabel='$f(x)$', title='QA3');\n",
    "ax[1,1].plot(QA_x4_pred, QA_y4_pred, '-', label='QA4_model')\n",
    "ax[1,1].scatter(QA_x4, QA_y4, marker='o', label='QA1', color = 'red')\n",
    "ax[1,1].set(xlabel='x', title='QA4');\n",
    "#plt.show()"
   ]
  }
 ],
 "metadata": {
  "kernelspec": {
   "display_name": "Python 3 (ipykernel)",
   "language": "python",
   "name": "python3"
  },
  "language_info": {
   "codemirror_mode": {
    "name": "ipython",
    "version": 3
   },
   "file_extension": ".py",
   "mimetype": "text/x-python",
   "name": "python",
   "nbconvert_exporter": "python",
   "pygments_lexer": "ipython3",
   "version": "3.10.13"
  }
 },
 "nbformat": 4,
 "nbformat_minor": 2
}
