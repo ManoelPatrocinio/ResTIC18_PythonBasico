{
 "cells": [
  {
   "cell_type": "markdown",
   "metadata": {},
   "source": [
    "<img align=\"center\" style=\"padding-right:10px;\" src=\"Figuras/IP-01-fig_01.png\">\n",
    "\n",
    "# INSTRUÇÃO PRÁTICA - IP-P007\n",
    "## PP - PROGRAMAÇÃO EM PYTHON\n",
    "### OBJETIVOS DA ATIVIDADE\n",
    "\n",
    "Revisar e consolidar o conteúdo de __Pandas__ avançado."
   ]
  },
  {
   "cell_type": "markdown",
   "metadata": {},
   "source": [
    "__Exercício 1: Carregando e analisando um DataSet__\n",
    "\n",
    "* Neste link do [Instituto Nacional de Meteorologia](https://portal.inmet.gov.br/dadoshistoricos) podem ser baixados os dados coletados pelas estações meteorológicos por ano. \n",
    "1. Baixe os dados de 2003, 2013 e 2023 e escolha um estação para a qual existam dados nestes três anos. Veja que o arquivo ``.zip`` que é disponibilizado para cada ano, contem os dados de cada estação em arquivos ``csv`` separados. Converse com as outras equipes para ninguém pegar a mesma estação. \n",
    "2. Carregue os dados das três estações em ``DataFrame``s separados e analise a estrutura dos mesmos utilizando o método ``head()``. \n"
   ]
  },
  {
   "cell_type": "markdown",
   "metadata": {},
   "source": [
    "__Exercício 2: Juntando os datasets__\n",
    "\n",
    "* Com base nos datasets carregados na forma de ``Dataframes``\n",
    "1. Construa um novo ``DataFrame`` juntando os mesmos e utilizando um ``MultiIndex`` como índice formado pelos os anos, os messes de cada ano e os dias de cada mes.\n",
    "2. Construa um novo ``DataFrame`` modificando o anterior para utiliza um ``MultiIndex`` como colunas contendo os parâmetros agrupados (precipitações, pressão, radiação, temperatura, umidade, velocidade do vento ) "
   ]
  },
  {
   "cell_type": "markdown",
   "metadata": {},
   "source": [
    "__Exercício 3: Analisando os DataFrame__\n",
    "\n",
    "*  Com base nos três ``DataFrame`` carregados:\n",
    "1. Analisando as colunas relacionadas e precipitações e temperaturas, compare as médias, os valores mínimos e máximos em cada um dos anos. \n",
    "2. Compare os mesmos dados do exercício anterior mas para o mes de Janeiro de cada um dos três anos. \n",
    "3. Considere uma aproximação para as estações do ano no brasil dada por: Verão (Janeiro, Fevereiro e Março), Outono (Abril, Maio e Junho), Inverno (Julho, Agosto e Setembro) Primavera (Outubro, Novembro e Dezembro). Compare as informações sobre temperatura e precipitações medias em cada uma das estações dos três anos. \n",
    "4. Repare que os dados de cada estação são monitorando de hora em hora. Considere os intervalos de um dia como sendo: Madrugada (00:00 a 06:00), Manha (06:00 a 12:00), Tarde (12:00 a 18:00) e Noite (18:00 a 00:00). Compare as informações sobre temperatura e precipitações medias para o dia 28 de setembro  em cada um dos intervalos do dia dos três anos.\n",
    "   "
   ]
  }
 ],
 "metadata": {
  "kernelspec": {
   "display_name": "Python 3 (ipykernel)",
   "language": "python",
   "name": "python3"
  },
  "language_info": {
   "codemirror_mode": {
    "name": "ipython",
    "version": 3
   },
   "file_extension": ".py",
   "mimetype": "text/x-python",
   "name": "python",
   "nbconvert_exporter": "python",
   "pygments_lexer": "ipython3",
   "version": "3.10.13"
  }
 },
 "nbformat": 4,
 "nbformat_minor": 2
}
