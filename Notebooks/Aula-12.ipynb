{
 "cells": [
  {
   "cell_type": "markdown",
   "metadata": {},
   "source": [
    "# Módulo de Programação Python\n",
    "\n",
    "# Trilha Python - Aula 7: Utilizando NumPy - Avançado\n",
    "\n",
    "<img align=\"center\" style=\"padding-right:10px;\" src=\"Figuras/aula-12_fig_01.png\">"
   ]
  },
  {
   "cell_type": "markdown",
   "metadata": {},
   "source": [
    "__Objetivo__:  Trabalhar com pacotes e módulos disponíveis em python: __Numpy__. Aprender a trabalhar de forma eficiente com __NumPy__ arrays utilizando as funções universais (_ufunc_) e outros recursos avançados."
   ]
  },
  {
   "cell_type": "markdown",
   "metadata": {},
   "source": [
    "## Calculando com _ndarrays_\n",
    "\n",
    "Como já foi discutido antes, a __NumPy__ é muito utilizada, não apenas pelas características dos objetos de tipo _ndarray_, nela implementados. O conjunto de operações e funções para trabalhar com os _ndarray_ são um importante diferencial. \n",
    "\n",
    "Operações com arrays envolvem, na maior parte das linguagens de programação, a utilização de laços ou estruturas de repetição para percorrer os elementos dos mesmos. \n",
    "\n",
    "A implementação de operações vetoriais, disponíveis para o processamento de _ndarrays_ na __NumPy__, representam um diferencial importante na hora de processar estruturas de grande porte. \n",
    "\n",
    "Na aula anterior tentamos utilizar _ndarrays_ para implementar multiplicação de matrizes e o resultado não foi muito promisor. \n",
    "\n",
    "Vejamos outro exemplo para entender melhor a questão."
   ]
  },
  {
   "cell_type": "code",
   "execution_count": 1,
   "metadata": {},
   "outputs": [
    {
     "name": "stdout",
     "output_type": "stream",
     "text": [
      "Intel MKL WARNING: Support of Intel(R) Streaming SIMD Extensions 4.2 (Intel(R) SSE4.2) enabled only processors has been deprecated. Intel oneAPI Math Kernel Library 2025.0 will require Intel(R) Advanced Vector Extensions (Intel(R) AVX) instructions.\n",
      "Intel MKL WARNING: Support of Intel(R) Streaming SIMD Extensions 4.2 (Intel(R) SSE4.2) enabled only processors has been deprecated. Intel oneAPI Math Kernel Library 2025.0 will require Intel(R) Advanced Vector Extensions (Intel(R) AVX) instructions.\n"
     ]
    }
   ],
   "source": [
    "import numpy as np\n",
    "from random import uniform"
   ]
  },
  {
   "cell_type": "markdown",
   "metadata": {},
   "source": [
    "Vamos criar uma lista muito grande com valores aleatórios entre 1 e 100. Utilizaremos o módulo ``uniform`` do pacote ``random``.  "
   ]
  },
  {
   "cell_type": "code",
   "execution_count": 2,
   "metadata": {},
   "outputs": [
    {
     "name": "stdout",
     "output_type": "stream",
     "text": [
      "[30.204336659912087, 69.93043321780024, 65.67417712941352]  ... [40.175592611014565, 76.69854823317009, 20.70558442887602]\n",
      "len(lista) = 1000000\n"
     ]
    }
   ],
   "source": [
    "lista = [uniform(1, 100) for _ in range(1000000)]\n",
    "print(lista[:3], \" ...\", lista[-3:])\n",
    "print(\"len(lista) =\", len(lista))"
   ]
  },
  {
   "cell_type": "markdown",
   "metadata": {},
   "source": [
    "Agora vamos testar o custo computacional de calcular o inverso de cada um dos valores das listas. "
   ]
  },
  {
   "cell_type": "code",
   "execution_count": 3,
   "metadata": {},
   "outputs": [
    {
     "name": "stdout",
     "output_type": "stream",
     "text": [
      "[0.033107828563148804, 0.014299925711677958, 0.015226684881478774]  ... [0.024890734274466916, 0.013038056430480473, 0.048296149448715846]\n",
      "49.2 ms ± 1.09 ms per loop (mean ± std. dev. of 7 runs, 10 loops each)\n"
     ]
    }
   ],
   "source": [
    "lista_inv = [1/x for x in lista]\n",
    "print(lista_inv[:3], \" ...\", lista_inv[-3:])\n",
    "\n",
    "%timeit lista_inv = [1/x for x in lista]\n"
   ]
  },
  {
   "cell_type": "markdown",
   "metadata": {},
   "source": [
    "Podemos fazer o mesmo experimento utilizando _ndarrays_.  "
   ]
  },
  {
   "cell_type": "code",
   "execution_count": 4,
   "metadata": {},
   "outputs": [
    {
     "name": "stdout",
     "output_type": "stream",
     "text": [
      "[30.20433666 69.93043322 65.67417713]  ... [40.17559261 76.69854823 20.70558443]\n",
      "len(array) = 1000000\n"
     ]
    }
   ],
   "source": [
    "#array = np.random.uniform(1,100,1000000)\n",
    "array = np.array(lista)\n",
    "print(array[:3], \" ...\", array[-3:])\n",
    "print(\"len(array) =\", len(array))"
   ]
  },
  {
   "cell_type": "code",
   "execution_count": 5,
   "metadata": {},
   "outputs": [
    {
     "name": "stdout",
     "output_type": "stream",
     "text": [
      "[0.03310783 0.01429993 0.01522668]  ... [0.02489073 0.01303806 0.04829615]\n",
      "216 ms ± 4.86 ms per loop (mean ± std. dev. of 7 runs, 1 loop each)\n"
     ]
    }
   ],
   "source": [
    "def inv(x):\n",
    "    y = np.empty_like(x)\n",
    "    for i in range(len(x)):\n",
    "        y[i] = 1/x[i]\n",
    "    return y\n",
    "\n",
    "array_inv = inv(array)\n",
    "\n",
    "print(array_inv[:3], \" ...\", array_inv[-3:])\n",
    "\n",
    "%timeit array_inv = inv(array)"
   ]
  },
  {
   "cell_type": "markdown",
   "metadata": {},
   "source": [
    "Vejam que o desempenho com _ndarrays_ é pior que com listas. Este não era o resultado esperado. \n",
    "\n",
    "Entretanto, __NumPy__ disponibiliza uma interface apropriada que permite introduzir operações vetoriais, o que acelera significativamente o processamento de _ndarrays_ de grande porte. Compare o resultado anterior com o do exemplo a seguir."
   ]
  },
  {
   "cell_type": "code",
   "execution_count": 6,
   "metadata": {},
   "outputs": [
    {
     "name": "stdout",
     "output_type": "stream",
     "text": [
      "[30.20433666 69.93043322 65.67417713]  ... [40.17559261 76.69854823 20.70558443]\n",
      "[0.03310783 0.01429993 0.01522668]  ... [0.02489073 0.01303806 0.04829615]\n",
      "414 µs ± 73.6 µs per loop (mean ± std. dev. of 7 runs, 1,000 loops each)\n"
     ]
    }
   ],
   "source": [
    "#array = np.random.uniform(1,100,1000000)\n",
    "array = np.array(lista)\n",
    "print(array[:3], \" ...\", array[-3:])\n",
    "\n",
    "array_inv = 1.0/array\n",
    "print(array_inv[:3], \" ...\", array_inv[-3:])\n",
    "\n",
    "%timeit array_inv = (1.0/array)"
   ]
  },
  {
   "cell_type": "markdown",
   "metadata": {},
   "source": [
    "As operações vetoriais são implementadas em __NumPy__ através das chamadas _ufuncs_. As _ufuncs_ são eficientes e flexíveis, permitindo realizar, de forma rápida, operações entre escalares e arrays, assim como operações entre arrays. \n",
    "\n",
    "Realizar os cálculos utilizando _ufuncs_ é sempre mais eficiente a implementação do mesmo cálculo utilizando estruturas de repetição. Veja os operadores aritméticos implementados em __NumPy__ através de _ufuncs_ nos exemplos a seguir.\n",
    "\n",
    "| Operador\t    | _ufunc_ equivalente | Descrição                           |\n",
    "|---------------|---------------------|---------------------------------------|\n",
    "|``+``          |``np.add``           |Adição de dois arrays ou de um array com um escalar         |\n",
    "|``-``          |``np.subtract``      |Substração de dois arrays ou de um array com um escalar      |\n",
    "|``-``          |``np.negative``      |Negativo unário           |\n",
    "|``*``          |``np.multiply``      |Multiplicação de dois arrays ou de um array por um escalar   |\n",
    "|``/``          |``np.divide``        |Divisão de dois arrays ou de um array por um escalar       |\n",
    "|``//``         |``np.floor_divide``  |Divisão truncada de dois arrays ou de um array por um escalar  |\n",
    "|``**``         |``np.power``         |Exponenciação  |\n",
    "|``%``          |``np.mod``           |Resto da divisão |"
   ]
  },
  {
   "cell_type": "code",
   "execution_count": 8,
   "metadata": {},
   "outputs": [
    {
     "name": "stdout",
     "output_type": "stream",
     "text": [
      "[5 7 9]\n",
      "[5 7 9]\n",
      "________________\n",
      "[11 12 13]\n",
      "[11 12 13]\n"
     ]
    }
   ],
   "source": [
    "# Adição de arrays\n",
    "x = np.array([1,2,3])\n",
    "y = np.array([4,5,6])\n",
    "z = x + y\n",
    "print(z)\n",
    "\n",
    "# este operador adição é implementado como uma _ufunc_ (função universal) ``np.add``\n",
    "print(np.add(x,y))\n",
    "print(\"________________\")\n",
    "# Adição de array e escalar\n",
    "z = x + 10\n",
    "print(z)\n",
    "print(np.add(x,10))"
   ]
  },
  {
   "cell_type": "code",
   "execution_count": 9,
   "metadata": {},
   "outputs": [
    {
     "name": "stdout",
     "output_type": "stream",
     "text": [
      "[-3 -3 -3]\n",
      "[-3 -3 -3]\n",
      "________________\n",
      "[-9 -8 -7]\n",
      "[-9 -8 -7]\n"
     ]
    }
   ],
   "source": [
    "# substração de arrays\n",
    "z = x - y\n",
    "print(z)\n",
    "\n",
    "# este operador substração é implementado como uma _ufunc_ (função universal) ``np.subtract``\n",
    "print(np.subtract(x,y))\n",
    "print(\"________________\")\n",
    "# substração de array e escalar\n",
    "z = x - 10\n",
    "print(z)\n",
    "print(np.subtract(x,10))"
   ]
  },
  {
   "cell_type": "code",
   "execution_count": 10,
   "metadata": {},
   "outputs": [
    {
     "name": "stdout",
     "output_type": "stream",
     "text": [
      "[9 8 7]\n",
      "[-9 -8 -7]\n"
     ]
    }
   ],
   "source": [
    "# negativo\n",
    "z = -z\n",
    "print(z)\n",
    "\n",
    "# este operador negativo é implementado como uma _ufunc_ (função universal) ``np.negative``\n",
    "print(np.negative(z))"
   ]
  },
  {
   "cell_type": "code",
   "execution_count": 11,
   "metadata": {},
   "outputs": [
    {
     "name": "stdout",
     "output_type": "stream",
     "text": [
      "[ 4 10 18]\n",
      "[ 4 10 18]\n",
      "________________\n",
      "[2 4 6]\n",
      "[2 4 6]\n"
     ]
    }
   ],
   "source": [
    "# multiplicação de arrays\n",
    "z = x * y\n",
    "print(z)\n",
    "\n",
    "# este operador multiplicação é implementado como uma _ufunc_ (função universal) ``np.multiply``\n",
    "print(np.multiply(x,y))\n",
    "print(\"________________\")\n",
    "# multiplicação de array e escalar\n",
    "z = 2 * x\n",
    "print(z)\n",
    "print(np.multiply(2,x))"
   ]
  },
  {
   "cell_type": "code",
   "execution_count": 12,
   "metadata": {},
   "outputs": [
    {
     "name": "stdout",
     "output_type": "stream",
     "text": [
      "[0.25 0.4  0.5 ]\n",
      "[0.25 0.4  0.5 ]\n",
      "________________\n",
      "[0.5 1.  1.5]\n",
      "[0.5 1.  1.5]\n"
     ]
    }
   ],
   "source": [
    "# divisão de arrays\n",
    "z = x / y\n",
    "print(z)\n",
    "# este operador divisão é implementado como uma _ufunc_ (função universal) ``np.divide``\n",
    "print(np.divide(x,y))\n",
    "print(\"________________\")\n",
    "# divisão de array e escalar\n",
    "z = x / 2\n",
    "print(z)\n",
    "print(np.divide(x,2))\n"
   ]
  },
  {
   "cell_type": "code",
   "execution_count": 13,
   "metadata": {},
   "outputs": [
    {
     "name": "stdout",
     "output_type": "stream",
     "text": [
      "[0 0 0]\n",
      "[0 0 0]\n",
      "________________\n",
      "[0 1 1]\n",
      "[0 1 1]\n"
     ]
    }
   ],
   "source": [
    "# divisão truncada de arrays\n",
    "z = x // y\n",
    "print(z)\n",
    "# este operador divisão é implementado como uma _ufunc_ (função universal) ``np.divide``\n",
    "print(np.floor_divide(x,y))\n",
    "print(\"________________\")\n",
    "# divisão truncada de array e escalar\n",
    "z = x // 2\n",
    "print(z)\n",
    "print(np.floor_divide(x,2))"
   ]
  },
  {
   "cell_type": "code",
   "execution_count": 14,
   "metadata": {},
   "outputs": [
    {
     "name": "stdout",
     "output_type": "stream",
     "text": [
      "[  1  32 729]\n",
      "[  1  32 729]\n",
      "________________\n",
      "[1 4 9]\n",
      "[1 4 9]\n"
     ]
    }
   ],
   "source": [
    "# exponenciação de arrays\n",
    "z = x ** y\n",
    "print(z)\n",
    "# este operador divisão é implementado como uma _ufunc_ (função universal) ``np.power``\n",
    "print(np.power(x,y))\n",
    "print(\"________________\")\n",
    "# exponenciação de array e escalar\n",
    "z = x ** 2\n",
    "print(z)\n",
    "print(np.power(x,2))"
   ]
  },
  {
   "cell_type": "code",
   "execution_count": 15,
   "metadata": {},
   "outputs": [
    {
     "name": "stdout",
     "output_type": "stream",
     "text": [
      "[1 2 3]\n",
      "[1 2 3]\n",
      "________________\n",
      "[1 0 1]\n",
      "[1 0 1]\n"
     ]
    }
   ],
   "source": [
    "# resto da divisão de arrays\n",
    "z = x % y\n",
    "print(z)\n",
    "# este operador divisão é implementado como uma _ufunc_ (função universal) ``np.mod``\n",
    "print(np.mod(x,y))\n",
    "print(\"________________\")\n",
    "# resto da divisão de array e escalar\n",
    "z = x % 2\n",
    "print(z)\n",
    "print(np.mod(x,2))"
   ]
  },
  {
   "cell_type": "markdown",
   "metadata": {},
   "source": [
    "Além deste conjunto básico de operadores, implementados na furma de _unfunc_ que sobrecarregam os operadores aritméticos tradicionais, __NumPy__ disponibiliza um conjunto adicional de funções:\n",
    "\n",
    "|Nome da Função     |   Descrição                                   |\n",
    "|:-------------------:|-----------------------------------------------|\n",
    "| ``np.abs``<br>ou<br>``np.absolute``| Retorna o valor absoluto dos elementos do<br>_ndarray_. Também funciona com _ndarrays_ de<br>números complexos.     |"
   ]
  },
  {
   "cell_type": "code",
   "execution_count": 16,
   "metadata": {},
   "outputs": [
    {
     "name": "stdout",
     "output_type": "stream",
     "text": [
      "[1.2 2.3 3.4]\n",
      "[1.2 2.3 3.4]\n",
      "[1.2 2.3 3.4]\n",
      "[1.41421356 2.82842712 4.24264069]\n"
     ]
    }
   ],
   "source": [
    "# valor absoluto \n",
    "x = np.array([-1.2,2.3,-3.4])\n",
    "z = np.abs(x)\n",
    "print(z)\n",
    "# este operador divisão é implementado como uma _ufunc_ (função universal) ``np.absolute``\n",
    "print(np.absolute(x))\n",
    "#ou\n",
    "print(np.abs(x))\n",
    "# No caso de números complexos, o valor absoluto é a magnitude\n",
    "x = np.array([-1+1j,2-2j,-3+3j])\n",
    "z = np.abs(x)\n",
    "print(z)\n"
   ]
  },
  {
   "cell_type": "markdown",
   "metadata": {},
   "source": [
    "Funções Trigonométricas\n",
    "\n",
    "|Nome da Função     |   Descrição                                     |\n",
    "|:-------------------:|-----------------------------------------------|\n",
    "| ``np.sin``          | Retorna o seno dos elementos do array         |\n",
    "| ``np.cos``          | Retorna p cosseno dos elementos do array      |\n",
    "| ``np.tan``          | Retorna a tangente dos elementos do array     |\n",
    "| ``np.arcsin``       | Retorna o arco-seno dos elementos do array    |\n",
    "| ``np.arccos``       | Retorna o arco-cosseno dos elementos do array |\n",
    "| ``np.arctan``       | Retorna a arco-tangente dos elementos do array    |"
   ]
  },
  {
   "cell_type": "code",
   "execution_count": 17,
   "metadata": {},
   "outputs": [
    {
     "name": "stdout",
     "output_type": "stream",
     "text": [
      "[  0.  15.  30.  45.  60.  75.  90. 105. 120. 135. 150. 165. 180. 195.\n",
      " 210. 225. 240. 255. 270. 285. 300. 315. 330. 345. 360.]\n"
     ]
    }
   ],
   "source": [
    "ang = np.linspace(0,2*np.pi,25) # ângulos em radianos\n",
    "#print(ang)\n",
    "print(np.rad2deg(ang)) # ângulos em graus\n"
   ]
  },
  {
   "cell_type": "code",
   "execution_count": 18,
   "metadata": {},
   "outputs": [
    {
     "name": "stdout",
     "output_type": "stream",
     "text": [
      "Seno: \n",
      " [ 0.00000000e+00  2.58819045e-01  5.00000000e-01  7.07106781e-01\n",
      "  8.66025404e-01  9.65925826e-01  1.00000000e+00  9.65925826e-01\n",
      "  8.66025404e-01  7.07106781e-01  5.00000000e-01  2.58819045e-01\n",
      "  1.22464680e-16 -2.58819045e-01 -5.00000000e-01 -7.07106781e-01\n",
      " -8.66025404e-01 -9.65925826e-01 -1.00000000e+00 -9.65925826e-01\n",
      " -8.66025404e-01 -7.07106781e-01 -5.00000000e-01 -2.58819045e-01\n",
      " -2.44929360e-16]\n",
      "Cosseno: \n",
      " [ 1.00000000e+00  9.65925826e-01  8.66025404e-01  7.07106781e-01\n",
      "  5.00000000e-01  2.58819045e-01  6.12323400e-17 -2.58819045e-01\n",
      " -5.00000000e-01 -7.07106781e-01 -8.66025404e-01 -9.65925826e-01\n",
      " -1.00000000e+00 -9.65925826e-01 -8.66025404e-01 -7.07106781e-01\n",
      " -5.00000000e-01 -2.58819045e-01 -1.83697020e-16  2.58819045e-01\n",
      "  5.00000000e-01  7.07106781e-01  8.66025404e-01  9.65925826e-01\n",
      "  1.00000000e+00]\n",
      "Tangente: \n",
      " [ 0.00000000e+00  2.67949192e-01  5.77350269e-01  1.00000000e+00\n",
      "  1.73205081e+00  3.73205081e+00  1.63312394e+16 -3.73205081e+00\n",
      " -1.73205081e+00 -1.00000000e+00 -5.77350269e-01 -2.67949192e-01\n",
      " -1.22464680e-16  2.67949192e-01  5.77350269e-01  1.00000000e+00\n",
      "  1.73205081e+00  3.73205081e+00  5.44374645e+15 -3.73205081e+00\n",
      " -1.73205081e+00 -1.00000000e+00 -5.77350269e-01 -2.67949192e-01\n",
      " -2.44929360e-16]\n"
     ]
    }
   ],
   "source": [
    "print(\"Seno: \\n\", np.sin(ang))\n",
    "print(\"Cosseno: \\n\", np.cos(ang))\n",
    "print(\"Tangente: \\n\", np.tan(ang))"
   ]
  },
  {
   "cell_type": "code",
   "execution_count": 19,
   "metadata": {},
   "outputs": [
    {
     "name": "stdout",
     "output_type": "stream",
     "text": [
      "Arco seno: \n",
      " [ 0.00000000e+00  1.50000000e+01  3.00000000e+01  4.50000000e+01\n",
      "  6.00000000e+01  7.50000000e+01  9.00000000e+01  7.50000000e+01\n",
      "  6.00000000e+01  4.50000000e+01  3.00000000e+01  1.50000000e+01\n",
      "  7.01670930e-15 -1.50000000e+01 -3.00000000e+01 -4.50000000e+01\n",
      " -6.00000000e+01 -7.50000000e+01 -9.00000000e+01 -7.50000000e+01\n",
      " -6.00000000e+01 -4.50000000e+01 -3.00000000e+01 -1.50000000e+01\n",
      " -1.40334186e-14]\n",
      "Arco cosseno: \n",
      " [  0.  15.  30.  45.  60.  75.  90. 105. 120. 135. 150. 165. 180. 165.\n",
      " 150. 135. 120. 105.  90.  75.  60.  45.  30.  15.   0.]\n",
      "Arco tangente: \n",
      " [ 0.00000000e+00  1.50000000e+01  3.00000000e+01  4.50000000e+01\n",
      "  6.00000000e+01  7.50000000e+01  9.00000000e+01 -7.50000000e+01\n",
      " -6.00000000e+01 -4.50000000e+01 -3.00000000e+01 -1.50000000e+01\n",
      " -7.01670930e-15  1.50000000e+01  3.00000000e+01  4.50000000e+01\n",
      "  6.00000000e+01  7.50000000e+01  9.00000000e+01 -7.50000000e+01\n",
      " -6.00000000e+01 -4.50000000e+01 -3.00000000e+01 -1.50000000e+01\n",
      " -1.40334186e-14]\n"
     ]
    }
   ],
   "source": [
    "print(\"Arco seno: \\n\", np.rad2deg(np.arcsin(np.sin(ang))))\n",
    "print(\"Arco cosseno: \\n\", np.rad2deg(np.arccos(np.cos(ang))))\n",
    "print(\"Arco tangente: \\n\", np.rad2deg(np.arctan(np.tan(ang))))"
   ]
  },
  {
   "cell_type": "markdown",
   "metadata": {},
   "source": [
    "Funções exponenciais e logarítmicas\n",
    "\n",
    "|Nome da Função     |   Descrição                                     |\n",
    "|:-------------------:|-----------------------------------------------|\n",
    "| ``np.exp``          | Retorna $e^x$         |\n",
    "| ``np.exp2``         | Retorna $2^x$      |\n",
    "| ``np.power``        | Retorna $a^x$     |\n",
    "| ``np.ln``           | Retorna $\\log_e x$ ou simplesmente $\\ln x$    |\n",
    "| ``np.log2``         | Retorna $\\log_2 x$  |\n",
    "| ``np.log10``        | Retorna $\\log_{10} x$ |"
   ]
  },
  {
   "cell_type": "code",
   "execution_count": 20,
   "metadata": {},
   "outputs": [
    {
     "name": "stdout",
     "output_type": "stream",
     "text": [
      "Exponencial (e**x): \n",
      " [ 2.71828183  7.3890561  20.08553692]\n",
      "Exponencial (2**x): \n",
      " [2. 4. 8.]\n",
      "Exponencial (10**x): \n",
      " [  10  100 1000]\n"
     ]
    }
   ],
   "source": [
    "x = np.array([1,2,3])\n",
    "print(\"Exponencial (e**x): \\n\", np.exp(x))\n",
    "print(\"Exponencial (2**x): \\n\", np.exp2(x))\n",
    "print(\"Exponencial (10**x): \\n\", np.power(10,x))"
   ]
  },
  {
   "cell_type": "code",
   "execution_count": 21,
   "metadata": {},
   "outputs": [
    {
     "name": "stdout",
     "output_type": "stream",
     "text": [
      "Logaritmo natural: \n",
      " [1. 2. 3.]\n",
      "Logaritmo base 2: \n",
      " [1. 2. 3.]\n",
      "Logaritmo base 10: \n",
      " [1. 2. 3.]\n"
     ]
    }
   ],
   "source": [
    "print(\"Logaritmo natural: \\n\", np.log(np.exp(x)))\n",
    "print(\"Logaritmo base 2: \\n\", np.log2(np.exp2(x)))\n",
    "print(\"Logaritmo base 10: \\n\", np.log10(np.power(10,x)))"
   ]
  },
  {
   "cell_type": "code",
   "execution_count": 22,
   "metadata": {},
   "outputs": [
    {
     "name": "stdout",
     "output_type": "stream",
     "text": [
      "Logaritmo base 3: \n",
      " [1. 2. 3.]\n"
     ]
    }
   ],
   "source": [
    "#outros logaritmos\n",
    "#log base 3 de x pode ser calculado como log(x)/log(3)\n",
    "print(\"Logaritmo base 3: \\n\", np.log(np.power(3,x))/np.log(3))"
   ]
  },
  {
   "cell_type": "markdown",
   "metadata": {},
   "source": [
    "As limitações impostas pela aritmética de ponto flutuante faz com que, em alguns casos, seja necessário utilizar artifícios matemáticos para melhorar a precisão dos resultados. Para estes casos a __NumPy__ disponibiliza funções especiais como a utilizada no seguinte exemplo. "
   ]
  },
  {
   "cell_type": "code",
   "execution_count": 23,
   "metadata": {},
   "outputs": [
    {
     "name": "stdout",
     "output_type": "stream",
     "text": [
      "Exponencial (e**x): \n",
      " [1.         1.0010005  1.01005017 1.10517092]\n",
      "Exponencial (e**x - 1): \n",
      " [0.         0.0010005  0.01005017 0.10517092]\n",
      "Logaritmo natural (1 + x): \n",
      " [0.         0.0009995  0.00995033 0.09531018]\n"
     ]
    }
   ],
   "source": [
    "x = np.array([0, 0.001, 0.01, 0.1])\n",
    "print(\"Exponencial (e**x): \\n\", np.exp(x))\n",
    "print(\"Exponencial (e**x - 1): \\n\", np.expm1(x))\n",
    "#print(\"Logaritmo natural: \\n\", np.log(x))\n",
    "print(\"Logaritmo natural (1 + x): \\n\", np.log1p(x))"
   ]
  },
  {
   "cell_type": "markdown",
   "metadata": {},
   "source": [
    "Para valores do argumento muito pequenos estas funções conseguem retornar um resultado com maior precisão. "
   ]
  },
  {
   "cell_type": "markdown",
   "metadata": {},
   "source": [
    "MAs vamos retomar o exemplo do final da aula anterior \n",
    "\n",
    "Relembrando a definição de GEMM que implementa a seguinte operação\n",
    "\n",
    "$C = \\alpha AB + \\beta C$ \n",
    "\n",
    "De forma que:\n",
    "\n",
    "$C[i,j] = \\alpha \\sum_{k=0}^{k<l} {A[i,k] B[k,j]} + \\beta C[i,j]$\n",
    "\n",
    "Vamos primeiramente revisar a implementação baseada exclusivamente no uso de estruturas de repetição."
   ]
  },
  {
   "cell_type": "code",
   "execution_count": 24,
   "metadata": {},
   "outputs": [],
   "source": [
    "#Esta é uma implementação específica para ndarrays\n",
    "def GEMM_loops(alpha, A, B, beta, C):\n",
    "    ma, la = A.shape\n",
    "    lb, nb = B.shape\n",
    "    mc, nc = C.shape\n",
    "    if (ma != mc) or (la != lb) or (nb != nc):\n",
    "        return C\n",
    "    \n",
    "    for i in range(mc):\n",
    "        for j in range(nc):\n",
    "            val = 0\n",
    "            for k in range(la):\n",
    "                val += A[i,k]*B[k,j]\n",
    "            C[i,j] = alpha*val + beta*C[i,j]\n",
    "    return C"
   ]
  },
  {
   "cell_type": "code",
   "execution_count": 25,
   "metadata": {},
   "outputs": [],
   "source": [
    "# Dada uma matriz A de n linhas e l colunas\n",
    "n = 256\n",
    "l = 128\n",
    "A = np.random.random((n,l))\n",
    "#A = np.ones((n,l))\n",
    "# Uma matriz B de l linhas e n colunas\n",
    "m = 256\n",
    "B = np.random.random((l,m))\n",
    "#B= np.ones((l,m))\n",
    "# Uma matriz C de n linhas e m colunas\n",
    "#C = np.ones((n,m))\n",
    "#C = np.zeros((n,m))\n",
    "C = np.random.random((n,m))\n",
    "# E os escalares alpha e beta\n",
    "alpha = 0.5\n",
    "#alpha = 1.0\n",
    "beta = 1.5\n",
    "#beta = 1.0\n",
    "#print(A)\n",
    "#print(B)\n",
    "#print(C)"
   ]
  },
  {
   "cell_type": "code",
   "execution_count": 26,
   "metadata": {},
   "outputs": [
    {
     "name": "stdout",
     "output_type": "stream",
     "text": [
      "2.69 s ± 19.2 ms per loop (mean ± std. dev. of 7 runs, 1 loop each)\n"
     ]
    }
   ],
   "source": [
    "C1 = C.copy()\n",
    "%timeit Z = GEMM_loops(alpha, A, B, beta, C1)\n",
    "C1 = GEMM_loops(alpha, A, B, beta, C1)"
   ]
  },
  {
   "cell_type": "markdown",
   "metadata": {},
   "source": [
    "Podemos então tentar usar a _ufunc_ para melhorar o desempenho"
   ]
  },
  {
   "cell_type": "code",
   "execution_count": 27,
   "metadata": {},
   "outputs": [],
   "source": [
    "def GEMM_ufunc1(alpha, A, B, beta, C):\n",
    "    ma, la = A.shape\n",
    "    lb, nb = B.shape\n",
    "    mc, nc = C.shape\n",
    "    if (ma != mc) or (la != lb) or (nb != nc):\n",
    "        return C\n",
    "    \n",
    "    C = beta * C\n",
    "    for i in range(mc):\n",
    "        for j in range(nc):\n",
    "            val = 0\n",
    "            for k in range(la):\n",
    "                val += A[i,k]*B[k,j]\n",
    "            C[i,j] += alpha*val\n",
    "\n",
    "    return C"
   ]
  },
  {
   "cell_type": "code",
   "execution_count": 28,
   "metadata": {},
   "outputs": [
    {
     "name": "stdout",
     "output_type": "stream",
     "text": [
      "2.71 s ± 34.3 ms per loop (mean ± std. dev. of 7 runs, 1 loop each)\n"
     ]
    }
   ],
   "source": [
    "C2 = C.copy()\n",
    "%timeit Z = GEMM_ufunc1(alpha, A, B, beta, C2)\n",
    "C2= GEMM_ufunc1(alpha, A, B, beta, C2)"
   ]
  },
  {
   "cell_type": "code",
   "execution_count": 29,
   "metadata": {},
   "outputs": [],
   "source": [
    "def GEMM_ufunc2(alpha, A, B, beta, C):\n",
    "    ma, la = A.shape\n",
    "    lb, nb = B.shape\n",
    "    mc, nc = C.shape\n",
    "    if (ma != mc) or (la != lb) or (nb != nc):\n",
    "        return C\n",
    "    \n",
    "    C = beta * C\n",
    "    for i in range(mc):\n",
    "        for j in range(nc):\n",
    "            C_ = A[i,:] * B[:,j].T\n",
    "            val = 0\n",
    "            for k in range(la):\n",
    "                val += C_[k]\n",
    "            C[i,j] += alpha*val\n",
    "    \n",
    "    return C"
   ]
  },
  {
   "cell_type": "code",
   "execution_count": 30,
   "metadata": {},
   "outputs": [
    {
     "name": "stdout",
     "output_type": "stream",
     "text": [
      "1.23 s ± 8.28 ms per loop (mean ± std. dev. of 7 runs, 1 loop each)\n"
     ]
    }
   ],
   "source": [
    "C3 = C.copy()\n",
    "%timeit Z = GEMM_ufunc2(alpha, A, B, beta, C3)\n",
    "C3= GEMM_ufunc2(alpha, A, B, beta, C3)"
   ]
  },
  {
   "cell_type": "markdown",
   "metadata": {},
   "source": [
    "Queda significativa no tempo total de processamento. Podemos melhorar ainda mais?"
   ]
  },
  {
   "cell_type": "markdown",
   "metadata": {},
   "source": [
    "Quando trabalhamos com uma grande quantidade de dados, muitas vezes se faz necessário começar par fazer uma análise estatística dos mesmos, \n",
    "\n",
    "Algumas métricas utilizadas em estatística, como as medidas de valor central ou as medidas de espalhamento, ou ainda medidas de correlação, podem ser um necessárias.\n",
    "\n",
    "De forma geral a média e o desvio pdrão é bom ponto de partida. \n",
    "\n",
    "__NumPy__ disponibiliza funções de agregação integradas rápidas para trabalhar em _ndarrays_ que são muito relevantes, por exemplo, para este tipo de análises."
   ]
  },
  {
   "cell_type": "markdown",
   "metadata": {},
   "source": [
    "Podemos começar pelo algoritmo simples, que já foi utilizado anteriormente, para calcular a soma de um conjunto de elementos, por exemplo, para calcular a média do conjunto. \n",
    "\n",
    "Se os valores estão numa lista, podemos utilizar a função ``sum``"
   ]
  },
  {
   "cell_type": "code",
   "execution_count": 31,
   "metadata": {},
   "outputs": [
    {
     "name": "stdout",
     "output_type": "stream",
     "text": [
      "255.7764421459208\n"
     ]
    }
   ],
   "source": [
    "from random import random   \n",
    "matSize = 512\n",
    "vetX = [random() for i in range(matSize)]\n",
    "soma = sum(vetX)\n",
    "print(soma)"
   ]
  },
  {
   "cell_type": "markdown",
   "metadata": {},
   "source": [
    "Podemos obter o mesmo resultado utilizando os recursos da __NumPy__, particularmente a função ``sum`` "
   ]
  },
  {
   "cell_type": "code",
   "execution_count": 32,
   "metadata": {},
   "outputs": [
    {
     "name": "stdout",
     "output_type": "stream",
     "text": [
      "255.7764421459209\n"
     ]
    }
   ],
   "source": [
    "#import numpy as np\n",
    "x = np.array(vetX)\n",
    "soma = np.sum(x)\n",
    "print(soma)"
   ]
  },
  {
   "cell_type": "markdown",
   "metadata": {},
   "source": [
    "Vamos comparar o desempenho destas duas implementações."
   ]
  },
  {
   "cell_type": "code",
   "execution_count": 34,
   "metadata": {},
   "outputs": [
    {
     "name": "stdout",
     "output_type": "stream",
     "text": [
      "3.73 ms ± 35.4 µs per loop (mean ± std. dev. of 7 runs, 100 loops each)\n",
      "207 µs ± 3.86 µs per loop (mean ± std. dev. of 7 runs, 10,000 loops each)\n"
     ]
    }
   ],
   "source": [
    "matSize = 1000000\n",
    "vetX = [random() for i in range(matSize)]\n",
    "x = np.array(vetX)\n",
    "%timeit sum(vetX)\n",
    "%timeit np.sum(x)"
   ]
  },
  {
   "cell_type": "markdown",
   "metadata": {},
   "source": [
    "Repare que esta função pode ser utilizada na nossa implementação da para _ndarrays_ do __GEMM__."
   ]
  },
  {
   "cell_type": "code",
   "execution_count": 36,
   "metadata": {},
   "outputs": [],
   "source": [
    "def GEMM_ufunc3(alpha, A, B, beta, C):\n",
    "    ma, la = A.shape\n",
    "    lb, nb = B.shape\n",
    "    mc, nc = C.shape\n",
    "    if (ma != mc) or (la != lb) or (nb != nc):\n",
    "        return C\n",
    "    \n",
    "    C = beta * C\n",
    "    for i in range(mc):\n",
    "        for j in range(nc):\n",
    "            C[i,j] += alpha*np.sum(A[i,:] * B[:,j].T)\n",
    "    \n",
    "    return C"
   ]
  },
  {
   "cell_type": "code",
   "execution_count": 37,
   "metadata": {},
   "outputs": [
    {
     "name": "stdout",
     "output_type": "stream",
     "text": [
      "292 ms ± 1.68 ms per loop (mean ± std. dev. of 7 runs, 1 loop each)\n"
     ]
    }
   ],
   "source": [
    "C4 = C.copy()\n",
    "%timeit Z = GEMM_ufunc3(alpha, A, B, beta, C4)\n",
    "C4= GEMM_ufunc3(alpha, A, B, beta, C4)"
   ]
  },
  {
   "cell_type": "markdown",
   "metadata": {},
   "source": [
    "No exercício da prova do módulo anterior utilizamos as funções ``min`` e ``max``, que também tem implementações muito eficientes na __NumPy__"
   ]
  },
  {
   "cell_type": "code",
   "execution_count": 38,
   "metadata": {},
   "outputs": [
    {
     "name": "stdout",
     "output_type": "stream",
     "text": [
      "0.9999999253427423\n",
      "0.9999999253427423\n",
      "11.1 ms ± 29.6 µs per loop (mean ± std. dev. of 7 runs, 100 loops each)\n",
      "319 µs ± 1.49 µs per loop (mean ± std. dev. of 7 runs, 1,000 loops each)\n"
     ]
    }
   ],
   "source": [
    "print(max(vetX))\n",
    "print(np.max(x))\n",
    "%timeit max(vetX)\n",
    "%timeit np.max(x)"
   ]
  },
  {
   "cell_type": "code",
   "execution_count": 39,
   "metadata": {},
   "outputs": [
    {
     "name": "stdout",
     "output_type": "stream",
     "text": [
      "4.2970861580116093e-07\n",
      "4.2970861580116093e-07\n",
      "10.7 ms ± 46.8 µs per loop (mean ± std. dev. of 7 runs, 100 loops each)\n",
      "318 µs ± 1.76 µs per loop (mean ± std. dev. of 7 runs, 1,000 loops each)\n"
     ]
    }
   ],
   "source": [
    "print(min(vetX))\n",
    "print(np.min(x))\n",
    "%timeit min(vetX)\n",
    "%timeit np.min(x)"
   ]
  },
  {
   "cell_type": "markdown",
   "metadata": {},
   "source": [
    "Este tipo de funções são chamadas de funções agregadoras. Outras funções de agregação estão disponíveis. A maioria delas uma versão segura para __NaN__, que calcula o resultado ignorando os valores ausentes, que são marcados pelo valor __NaN__ de ponto flutuante. Algumas dessas funções seguras para NaN não foram adicionadas até o NumPy 1.8, portanto, não estarão disponíveis em versões mais antigas do NumPy. Veja a tabela a seguir.\n",
    "\n",
    "|Função             |   Versão __NaN-__safe  | Descrição                                  |\n",
    "|-------------------|---------------------|-----------------------------------------------|\n",
    "| ``np.sum``        | ``np.nansum``       | Calcula a soma dos elementos                  |\n",
    "| ``np.prod``       | ``np.nanprod``      | Calcula o produto dos elementos               |\n",
    "| ``np.mean``       | ``np.nanmean``      | Calcula o valor médio                         |\n",
    "| ``np.std``        | ``np.nanstd``       | Calcula o desvio padrão                       |\n",
    "| ``np.var``        | ``np.nanvar``       | Calcula a variância                              |\n",
    "| ``np.min``        | ``np.nanmin``       | Retorna o valor mínimo                            |\n",
    "| ``np.max``        | ``np.nanmax``       | Retorna o valor máximo                            |\n",
    "| ``np.argmin``     | ``np.nanargmin``    | Retorna o índice de valor mínimo                   |\n",
    "| ``np.argmax``     | ``np.nanargmax``    | Retorna o índice de valor máximo                   |\n",
    "| ``np.median``     | ``np.nanmedian``    | Calcula a mediana                    |\n",
    "| ``np.percentile`` | ``np.nanpercentile``| Calcula os percentil      |\n",
    "| ``np.any``        | N/A                 | Avalie se algum elemento é verdadeiro        |\n",
    "| ``np.all``        | N/A                 | Avalie se todos os elementos são verdadeiros        |"
   ]
  },
  {
   "cell_type": "markdown",
   "metadata": {},
   "source": [
    "Estas funções permitam trabalhar com arrays multidimensionais."
   ]
  },
  {
   "cell_type": "code",
   "execution_count": 41,
   "metadata": {},
   "outputs": [
    {
     "name": "stdout",
     "output_type": "stream",
     "text": [
      "[[0.07848294 0.27831902 0.34138839]\n",
      " [0.51152062 0.31571995 0.81675993]\n",
      " [0.34907165 0.45089438 0.31167847]]\n",
      "Soma:  3.4538353411643734\n",
      "Máximo:  0.8167599329447964\n",
      "Índice do máximo:  5\n",
      "Mínimo:  0.07848294481490259\n",
      "Índice do mínimo:  0\n",
      "Média:  0.38375948235159707\n",
      "Mediana:  0.34138838870458654\n",
      "Desvio padrão:  0.19016205228013458\n"
     ]
    }
   ],
   "source": [
    "A = np.random.random((3,3))\n",
    "print(A)\n",
    "print(\"Soma: \", np.sum(A))\n",
    "print(\"Máximo: \", np.max(A))\n",
    "print(\"Índice do máximo: \", np.argmax(A))\n",
    "print(\"Mínimo: \", np.min(A))\n",
    "print(\"Índice do mínimo: \", np.argmin(A))\n",
    "print(\"Média: \", np.mean(A))\n",
    "print(\"Mediana: \", np.median(A))\n",
    "print(\"Desvio padrão: \", np.std(A))\n"
   ]
  },
  {
   "cell_type": "markdown",
   "metadata": {},
   "source": [
    "As funções de agregação pode receber também um argumento adicional que especifica o eixo ao longo do qual a agregação deve ser calculada. Por exemplo, podemos encontrar o valor máximo de cada coluna especificando ``axis=0``, e de cada linha especificando ``axis=1``"
   ]
  },
  {
   "cell_type": "code",
   "execution_count": 42,
   "metadata": {},
   "outputs": [
    {
     "name": "stdout",
     "output_type": "stream",
     "text": [
      "[[0.07848294 0.27831902 0.34138839]\n",
      " [0.51152062 0.31571995 0.81675993]\n",
      " [0.34907165 0.45089438 0.31167847]]\n",
      "Soma:  [0.93907521 1.04493334 1.46982679]\n",
      "Máximo:  [0.51152062 0.45089438 0.81675993]\n",
      "Índice do máximo:  [1 2 1]\n",
      "Mínimo:  [0.07848294 0.27831902 0.31167847]\n",
      "Índice do mínimo:  [0 0 2]\n",
      "Média:  [0.31302507 0.34831111 0.48994226]\n",
      "Mediana:  [0.34907165 0.31571995 0.34138839]\n",
      "Desvio padrão:  [0.1786149  0.07412693 0.23141307]\n"
     ]
    }
   ],
   "source": [
    "print(A)\n",
    "print(\"Soma: \", np.sum(A, axis=0))\n",
    "print(\"Máximo: \", np.max(A, axis=0))\n",
    "print(\"Índice do máximo: \", np.argmax(A, axis=0))\n",
    "print(\"Mínimo: \", np.min(A, axis=0))\n",
    "print(\"Índice do mínimo: \", np.argmin(A, axis=0))\n",
    "print(\"Média: \", np.mean(A, axis=0))\n",
    "print(\"Mediana: \", np.median(A, axis=0))\n",
    "print(\"Desvio padrão: \", np.std(A, axis=0))"
   ]
  },
  {
   "cell_type": "markdown",
   "metadata": {},
   "source": [
    "Temos ainda a implementação dos produtos vetoriais e matrizais da álgebra linear. \n",
    "\n",
    "A função ``np.dot`` implementa o produto escalar de duas matrizes. \n",
    "\n",
    "* Se ``a`` e ``b`` são matrizes 1-D, o resultado é o produto interno de vetores (sem complexa conjugada).\n",
    "\n",
    "* Se ``a`` e ``b`` forem matrizes 2-D, o resultado é uma multiplicação de matrizes, mas é preferível usar ``matmul`` ou ``a @ b``.\n",
    "\n",
    "Se ``a`` ou ``b`` for escalar, é equivalente a multiplicar e usar ``numpy.multiply(a, b)`` ou ``a * b``."
   ]
  },
  {
   "cell_type": "code",
   "execution_count": 43,
   "metadata": {},
   "outputs": [
    {
     "name": "stdout",
     "output_type": "stream",
     "text": [
      "32\n"
     ]
    }
   ],
   "source": [
    "x = np.array([1,2,3])\n",
    "y = np.array([4,5,6])\n",
    "\n",
    "z = np.dot(x,y)\n",
    "print(z)"
   ]
  },
  {
   "cell_type": "code",
   "execution_count": 44,
   "metadata": {},
   "outputs": [
    {
     "name": "stdout",
     "output_type": "stream",
     "text": [
      "[[0.63593096 0.26495285 0.38804623]\n",
      " [0.85325056 0.64093499 0.63159297]\n",
      " [0.73863102 0.52477214 0.68323269]]\n"
     ]
    }
   ],
   "source": [
    "A = np.random.random((3,3))\n",
    "B = np.random.random((3,3))\n",
    "\n",
    "C = np.dot(A,B)\n",
    "print(C)"
   ]
  },
  {
   "cell_type": "markdown",
   "metadata": {},
   "source": [
    "Podemos retomar nossa implementação a GEMM para usar o produto escalar de vetores."
   ]
  },
  {
   "cell_type": "code",
   "execution_count": 45,
   "metadata": {},
   "outputs": [],
   "source": [
    "# Dada uma matriz A de n linhas e l colunas\n",
    "n = 256\n",
    "l = 128\n",
    "A = np.random.random((n,l))\n",
    "#A = np.ones((n,l))\n",
    "# Uma matriz B de l linhas e n colunas\n",
    "m = 256\n",
    "B = np.random.random((l,m))\n",
    "#B= np.ones((l,m))\n",
    "# Uma matriz C de n linhas e m colunas\n",
    "#C = np.ones((n,m))\n",
    "#C = np.zeros((n,m))\n",
    "C = np.random.random((n,m))\n",
    "# E os escalares alpha e beta\n",
    "alpha = 0.5\n",
    "#alpha = 1.0\n",
    "beta = 1.5\n",
    "#beta = 1.0\n",
    "#print(A)\n",
    "#print(B)\n",
    "#print(C)"
   ]
  },
  {
   "cell_type": "code",
   "execution_count": 46,
   "metadata": {},
   "outputs": [],
   "source": [
    "def GEMM_ufunc4(alpha, A, B, beta, C):\n",
    "    ma, la = A.shape\n",
    "    lb, nb = B.shape\n",
    "    mc, nc = C.shape\n",
    "    if (ma != mc) or (la != lb) or (nb != nc):\n",
    "        return C\n",
    "    \n",
    "    C = beta * C\n",
    "    for i in range(mc):\n",
    "        for j in range(nc):\n",
    "            C[i,j] += alpha*np.dot(A[i,:],B[:,j].T)\n",
    "    \n",
    "    return C"
   ]
  },
  {
   "cell_type": "code",
   "execution_count": 47,
   "metadata": {},
   "outputs": [
    {
     "name": "stdout",
     "output_type": "stream",
     "text": [
      "101 ms ± 561 µs per loop (mean ± std. dev. of 7 runs, 10 loops each)\n"
     ]
    }
   ],
   "source": [
    "C5 = C.copy()\n",
    "%timeit Z = GEMM_ufunc4(alpha, A, B, beta, C5)\n",
    "C5= GEMM_ufunc4(alpha, A, B, beta, C4)"
   ]
  },
  {
   "cell_type": "code",
   "execution_count": 48,
   "metadata": {},
   "outputs": [
    {
     "name": "stdout",
     "output_type": "stream",
     "text": [
      "483 µs ± 20.1 µs per loop (mean ± std. dev. of 7 runs, 1,000 loops each)\n",
      "(256, 256)\n"
     ]
    }
   ],
   "source": [
    "%timeit Z = alpha*np.dot(A,B)+beta*C\n",
    "print((alpha*np.dot(A,B)+beta*C).shape)"
   ]
  },
  {
   "cell_type": "code",
   "execution_count": 49,
   "metadata": {},
   "outputs": [
    {
     "name": "stdout",
     "output_type": "stream",
     "text": [
      "470 µs ± 36.6 µs per loop (mean ± std. dev. of 7 runs, 1,000 loops each)\n",
      "(256, 256)\n"
     ]
    }
   ],
   "source": [
    "%timeit Z = alpha*np.matmul(A,B) + beta*C\n",
    "print((alpha*np.matmul(A,B) + beta*C).shape)"
   ]
  },
  {
   "cell_type": "code",
   "execution_count": 50,
   "metadata": {},
   "outputs": [
    {
     "name": "stdout",
     "output_type": "stream",
     "text": [
      "487 µs ± 36 µs per loop (mean ± std. dev. of 7 runs, 1,000 loops each)\n",
      "(256, 256)\n"
     ]
    }
   ],
   "source": [
    "%timeit Z = alpha*A@B + beta*C\n",
    "print((alpha*A@B + beta*C).shape)"
   ]
  },
  {
   "cell_type": "code",
   "execution_count": 51,
   "metadata": {},
   "outputs": [],
   "source": [
    "# Dada uma matriz A de n linhas e l colunas\n",
    "n = 1024\n",
    "l = 1024\n",
    "A = np.random.random((n,l))\n",
    "#A = np.ones((n,l))\n",
    "# Uma matriz B de l linhas e n colunas\n",
    "m = 1024\n",
    "B = np.random.random((l,m))\n",
    "#B= np.ones((l,m))\n",
    "# Uma matriz C de n linhas e m colunas\n",
    "#C = np.ones((n,m))\n",
    "#C = np.zeros((n,m))\n",
    "C = np.random.random((n,m))\n",
    "# E os escalares alpha e beta\n",
    "alpha = 0.5\n",
    "#alpha = 1.0\n",
    "beta = 1.5\n",
    "#beta = 1.0\n",
    "#print(A)\n",
    "#print(B)\n",
    "#print(C)"
   ]
  },
  {
   "cell_type": "code",
   "execution_count": 52,
   "metadata": {},
   "outputs": [
    {
     "name": "stdout",
     "output_type": "stream",
     "text": [
      "7.98 s ± 94.5 ms per loop (mean ± std. dev. of 7 runs, 1 loop each)\n"
     ]
    }
   ],
   "source": [
    "%timeit Z = GEMM_ufunc4(alpha, A, B, beta, C)"
   ]
  },
  {
   "cell_type": "code",
   "execution_count": 53,
   "metadata": {},
   "outputs": [
    {
     "name": "stdout",
     "output_type": "stream",
     "text": [
      "0.26937102756892234\n"
     ]
    }
   ],
   "source": [
    "gflop = (2.0*1024 + 2)*(1024**2)*1E-9\n",
    "print(gflop/7.98)"
   ]
  },
  {
   "cell_type": "code",
   "execution_count": 54,
   "metadata": {},
   "outputs": [
    {
     "name": "stdout",
     "output_type": "stream",
     "text": [
      "29 ms ± 854 µs per loop (mean ± std. dev. of 7 runs, 10 loops each)\n"
     ]
    }
   ],
   "source": [
    "%timeit Z = alpha*np.dot(A,B)+beta*C"
   ]
  },
  {
   "cell_type": "code",
   "execution_count": 55,
   "metadata": {},
   "outputs": [
    {
     "name": "stdout",
     "output_type": "stream",
     "text": [
      "74.12347586206897\n"
     ]
    }
   ],
   "source": [
    "print(gflop/(29*1E-3))"
   ]
  },
  {
   "cell_type": "code",
   "execution_count": 56,
   "metadata": {},
   "outputs": [
    {
     "name": "stdout",
     "output_type": "stream",
     "text": [
      "28.2 ms ± 650 µs per loop (mean ± std. dev. of 7 runs, 10 loops each)\n"
     ]
    }
   ],
   "source": [
    "%timeit Z = alpha*np.matmul(A,B) + beta*C"
   ]
  },
  {
   "cell_type": "code",
   "execution_count": 57,
   "metadata": {},
   "outputs": [
    {
     "name": "stdout",
     "output_type": "stream",
     "text": [
      "29.4 ms ± 690 µs per loop (mean ± std. dev. of 7 runs, 10 loops each)\n"
     ]
    }
   ],
   "source": [
    "%timeit Z = alpha*A@B + beta*C"
   ]
  },
  {
   "cell_type": "code",
   "execution_count": null,
   "metadata": {},
   "outputs": [],
   "source": []
  }
 ],
 "metadata": {
  "kernelspec": {
   "display_name": "Python 3 (ipykernel)",
   "language": "python",
   "name": "python3"
  },
  "language_info": {
   "codemirror_mode": {
    "name": "ipython",
    "version": 3
   },
   "file_extension": ".py",
   "mimetype": "text/x-python",
   "name": "python",
   "nbconvert_exporter": "python",
   "pygments_lexer": "ipython3",
   "version": "3.10.13"
  }
 },
 "nbformat": 4,
 "nbformat_minor": 4
}
