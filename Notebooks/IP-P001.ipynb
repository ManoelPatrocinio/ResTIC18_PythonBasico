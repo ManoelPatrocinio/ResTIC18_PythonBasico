{
 "cells": [
  {
   "cell_type": "markdown",
   "metadata": {},
   "source": [
    "<img align=\"center\" style=\"padding-right:10px;\" src=\"Figuras/IP-01-fig_01.png\">\n",
    "\n",
    "# INSTRUÇÃO PRÁTICA - IP-P001\n",
    "## PP - PROGRAMAÇÃO EM PYTHON\n",
    "### OBJETIVOS DA ATIVIDADE\n",
    "\n",
    "Aplicar o conceito de módulos e pacotes em __Python__, exercitar o processo de estruturação do código com ajuda dos mesmos. Criar ambientes isolados em __Python__ para desenvolvimento de projetos. Avaliar as ferramentas disponíveis para criar e gerenciar ambientes virtuais e sua integração com a IDE. Gerenciar pacotes e módulos no ambiente virtual. "
   ]
  },
  {
   "cell_type": "markdown",
   "metadata": {},
   "source": [
    "### Contextualização \n",
    "\n",
    "Como parte da avaliação realizado no final da etapa introdutória do módulo básico de __Python__ foi desenvolvida uma aplicação que envolvia a implementação de um conjunto de classes. Nesta atividade vamos rever o exercício proposto na prova à luz do conteúdo abordado nas duas primeiras aulas da trilha. "
   ]
  },
  {
   "cell_type": "markdown",
   "metadata": {},
   "source": [
    "\n",
    "__Exercício 1: Vamos montar as equipes.__ \n",
    "\n",
    "Você já interagiu e conheceu alguns dos seus colegas de residência ao longo das últimas semanas com os quais, provavelmente, já fez parte de equipes de trabalho. Nas próximas semanas vamos trabalhar no desenvolvimento de várias tarefas e projetos, visando estar preparados para encarar os desafios tecnológicos que serão apresentados mais para frente, como parte da residência. \n",
    "\n",
    "Para a continuação desta trilha __Python__ precisamos montar equipes mínimo de três e máximo de cinco pessoas. Estas equipes precisam estar formadas, e a relação dos mesmos da mesma deverá constar ná página do novo repositório que cada uma delas criará para esta trilha. No README deve constar o nome da equipe e o nome e email de cada um dos membros. O link para o repositório deverá ser postado como resposta desta atividade. O repositório deverá ser criado pelo líder do time, na sua conta do GitHub, e cada um dos membros deverão fazer um fork do repositório nas suas contas pessoais."
   ]
  },
  {
   "cell_type": "markdown",
   "metadata": {},
   "source": [
    "__Exercício 2: Preparar o ambiente virtual para um projeto__\n",
    "\n",
    "A criação de ambientes virtuais o isolados, com a ferramentas estudadas em sala de aula, podem ajudar no desenvolvimento dos projetos, cada vez mais complexos, que abordaremos nas próximas semanas. \n",
    "Teste e avalie as ferramentas que estudamos em sala de aula e sua integração com a IDE que está sendo utilizada para desenvolvimento.\n",
    "* É importante que o você consiga utilizar os ambientes criados desde VSCode ou mesmo desde o Jupyter rodando no navegador. Lembre que que o objetivo é utilizar _jupyter notebooks_, para as aulas e prototipação, e o VSCode, para desenvolvimento de aplicações, módulos e pacotes.\n",
    "* Discuta com os membros da sua equipe as suas impressões. Seria importante uniformizar as ferramentas utilizadas polo time.\n",
    "* Preparem um tutorial rápido explicando como foi criado o ambiente virtual, e sua integração com as IDEs. O objetivo é preparar um ambiente isolado que utilizarão para o próximo exercício. Acrescentem este tutorial na pasta de documentação do repositório. \n"
   ]
  },
  {
   "cell_type": "markdown",
   "metadata": {},
   "source": [
    "__Exercício 3: Trabalhando com módulos e pacotes__\n",
    "\n",
    "Revejam as implementações do exercício da prova e preparem um pacote ``datafruta`` disponibilizando as classes implementadas e o aplicativo. Lembre de criara o ``__init__.py`` e o ``__main__.py``. O módulo desenvolvido pela equipe deverão ficar disponível na pasta datafruta da _branch_ ``main`` do repositório. Cada membro da equipe deve postar qual _branch_ utilizou no desenvolvimento desta atividade.   \n",
    "   "
   ]
  },
  {
   "cell_type": "markdown",
   "metadata": {},
   "source": [
    "### Fechamento da atividade\n",
    "\n",
    "Utilizem o __Discord__ para tirar suas dúvidas sobre as atividades e interagir com os membros da sua equipe, com outros residentes, com a tutora ou com o professor;\n",
    "Garanta que seu repositório do __GitHub__ esteja atualizado com todos os branch e versão final do branch principal.\n",
    "\n",
    "<img align=\"center\" style=\"padding-right:10px;\" src=\"Figuras/IP-01-fig_02.png\">\n"
   ]
  }
 ],
 "metadata": {
  "kernelspec": {
   "display_name": "Python 3 (ipykernel)",
   "language": "python",
   "name": "python3"
  },
  "language_info": {
   "codemirror_mode": {
    "name": "ipython",
    "version": 3
   },
   "file_extension": ".py",
   "mimetype": "text/x-python",
   "name": "python",
   "nbconvert_exporter": "python",
   "pygments_lexer": "ipython3",
   "version": "3.10.13"
  }
 },
 "nbformat": 4,
 "nbformat_minor": 2
}
