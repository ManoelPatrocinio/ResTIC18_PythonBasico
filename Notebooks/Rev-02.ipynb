{
 "cells": [
  {
   "cell_type": "markdown",
   "metadata": {},
   "source": [
    "1. Implemente um programa em __Python__ faça a seguinte brincadeiras: \n",
    "    * O programa informa que \"está pensando\" em um número entre 1 e 100 e peça para você adivinhar.\n",
    "    * O programa gera então um valor inteiro aleatório entre 1 e 100 (incluindo 1 e 100) e da, no máximo, 8 oportunidades para você adivinhar. \n",
    "    * A cada tentativa o programa responde:\n",
    "        * Não o número é maior (:-(\n",
    "        * Não o número é menor (:-O \n",
    "        * Parabéns você acertou (:-)\n",
    "        * Lamento, acabaram suas oportunidades (;-)   "
   ]
  },
  {
   "cell_type": "markdown",
   "metadata": {},
   "source": [
    "2. Implemente um programa em __Python__ faça a seguinte brincadeiras: \n",
    "    * O programa pede para você pensar em um número entre 1 e 100 que ele vai adivinhar.\n",
    "    * Você pensa em um valor inteiro aleatório entre 1 e 100 (incluindo 1 e 100) e o programa tem, no máximo, 8 oportunidades para você adivinhar. \n",
    "    * A cada tentativa o programa o computador pergunta para vc se:\n",
    "        * Não o número é maior (:-(\n",
    "        * Não o número é menor (:-O \n",
    "        * Parabéns você acertou (:-)\n",
    "    * Se exceder as 8 tentativas sem acertar o computador resoponde:\n",
    "        * Que pena, acabaram minhas oportunidades (;-). Qual foi o número que você pensou?\n",
    "    * O computador deve verificar se sua resposta anteriores estão corretas e, casso você tenha enganado a aplicação ele retorna:\n",
    "        * Você trapaceou (:-(. o número x não é maior/menor que meu chute y. \n",
    "        Substitua x pelo valor pensado pelo usuário, y pelo valor tentativo dado pelo computador e maior ou menor pela resposta dada por você e que estava incorreta.  "
   ]
  }
 ],
 "metadata": {
  "kernelspec": {
   "display_name": "Python 3 (ipykernel)",
   "language": "python",
   "name": "python3"
  },
  "language_info": {
   "codemirror_mode": {
    "name": "ipython",
    "version": 3
   },
   "file_extension": ".py",
   "mimetype": "text/x-python",
   "name": "python",
   "nbconvert_exporter": "python",
   "pygments_lexer": "ipython3",
   "version": "3.10.13"
  }
 },
 "nbformat": 4,
 "nbformat_minor": 2
}
