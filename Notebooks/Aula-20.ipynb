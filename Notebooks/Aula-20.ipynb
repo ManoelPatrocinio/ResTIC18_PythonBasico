{
 "cells": [
  {
   "cell_type": "markdown",
   "metadata": {},
   "source": [
    "# Módulo de Programação Python\n",
    "\n",
    "# Trilha Python - Aula 20: Utilizando Pandas - Avançado\n",
    "\n",
    "<img align=\"center\" style=\"padding-right:10px;\" src=\"Figuras/aula-18_fig_01.png\">"
   ]
  },
  {
   "cell_type": "markdown",
   "metadata": {},
   "source": [
    "__Objetivo__:  Trabalhar com pacotes e módulos disponíveis em python: __Pandas__: Apresentar recursos do __Pandas__ para trabalhar séries. temporais.\n",
    "\n",
    "Conteúdo: Trabalhando com séries temporais. Datas e horas em __Python__. Série temporal do __Pandas__: indexação por tempo. Estruturas de dados para séries temporais em __Pandas__. Frequências e compensações. Reamostragem, mudança e janelamento."
   ]
  },
  {
   "cell_type": "markdown",
   "metadata": {},
   "source": [
    "## Trabalhando com séries temporais\n",
    "\n",
    "O __Pandas__ foi desenvolvido no contexto da modelagem financeira, portanto, como seria de esperar, ele contém um conjunto bastante extenso de ferramentas para trabalhar com datas, horas e dados indexados por tempo.\n",
    "Os dados de data e hora vêm em alguns sabores, que discutiremos aqui:\n",
    "\n",
    "- _Carimbos de hora_ fazem referência a momentos específicos (por exemplo, 4 de julho de 2015 às 7h).\n",
    "- _Intervalos de tempo_ e _períodos_ referem-se a um período de tempo entre um ponto inicial e final específico; por exemplo, o ano de 2015. Os períodos geralmente fazem referência a um caso especial de intervalos de tempo em que cada intervalo tem duração uniforme e não se sobrepõe (por exemplo, períodos de 24 horas compreendendo dias).\n",
    "- _Deltas ou durações de tempo_ referem-se a um período de tempo exato (por exemplo, uma duração de 22,56 segundos).\n",
    "\n",
    "Começaremos com uma breve discussão sobre ferramentas para lidar com datas e horas em __Python__, antes de passarmos mais especificamente para uma discussão sobre as ferramentas fornecidas pelo __Pandas__.\n",
    "\n",
    "Depois de listar alguns recursos mais aprofundados, revisaremos alguns pequenos exemplos de trabalho com dados de série temporal no __Pandas__."
   ]
  },
  {
   "cell_type": "markdown",
   "metadata": {},
   "source": [
    "## Datas e horários em Python\n",
    "\n",
    "O mundo __Python__ tem várias representações disponíveis de datas, horas, deltas e intervalos de tempo.\n",
    "\n",
    "Embora as ferramentas de série temporal fornecidas pelo __Pandas__ tendam a ser muito úteis para aplicações de ciência de dados, é útil ver sua relação com outros pacotes usados em __Python__."
   ]
  },
  {
   "cell_type": "markdown",
   "metadata": {},
   "source": [
    "### Datas e horas nativas do Python: ``datetime`` e ``dateutil``\n",
    "\n",
    "Os objetos básicos do Python para trabalhar com datas e horas residem no módulo ``datetime`` da biblioteca padrão.\n",
    "\n",
    "Junto com o módulo ``dateutil`` de terceiros, você pode usá-lo para executar rapidamente uma série de funcionalidades úteis em datas e horas.\n",
    "\n",
    "Por exemplo, você pode construir manualmente uma data usando o tipo ``datetime``."
   ]
  },
  {
   "cell_type": "code",
   "execution_count": 1,
   "metadata": {},
   "outputs": [
    {
     "data": {
      "text/plain": [
       "datetime.datetime(2024, 1, 10, 0, 0)"
      ]
     },
     "execution_count": 1,
     "metadata": {},
     "output_type": "execute_result"
    }
   ],
   "source": [
    "from datetime import datetime\n",
    "datetime(year=2024, month=1, day=10)"
   ]
  },
  {
   "cell_type": "markdown",
   "metadata": {},
   "source": [
    "Ou, usando o módulo ``dateutil``, você pode analisar datas de uma variedade de formatos de string."
   ]
  },
  {
   "cell_type": "code",
   "execution_count": 3,
   "metadata": {},
   "outputs": [
    {
     "data": {
      "text/plain": [
       "datetime.datetime(2024, 1, 7, 0, 0)"
      ]
     },
     "execution_count": 3,
     "metadata": {},
     "output_type": "execute_result"
    }
   ],
   "source": [
    "from dateutil import parser\n",
    "#date = parser.parse(\"7/1/2024\")\n",
    "date = parser.parse(\"7/1/2024\", dayfirst=True)\n",
    "date"
   ]
  },
  {
   "cell_type": "markdown",
   "metadata": {},
   "source": [
    "Depois de ter um objeto ``datetime``, você pode fazer coisas como imprimir o dia da semana."
   ]
  },
  {
   "cell_type": "code",
   "execution_count": 4,
   "metadata": {},
   "outputs": [
    {
     "data": {
      "text/plain": [
       "'Sunday'"
      ]
     },
     "execution_count": 4,
     "metadata": {},
     "output_type": "execute_result"
    }
   ],
   "source": [
    "date.strftime('%A')"
   ]
  },
  {
   "cell_type": "markdown",
   "metadata": {},
   "source": [
    "Aqui, usamos um dos códigos de formato de _string_ padrão para impressão de datas (``\"%A\"``), sobre o qual você pode ler na [seção strftime](https://docs.python. org/3/library/datetime.html#strftime-and-strptime-behavior) da [documentação de data e hora] do Python (https://docs.python.org/3/library/datetime.html).\n",
    "\n",
    "A documentação de outros utilitários de data úteis pode ser encontrada na [documentação online do dateutil](http://labix.org/python-dateutil).\n",
    "\n",
    "O poder de ``datetime`` e ``dateutil`` reside em sua flexibilidade e sintaxe fácil. Podemos usar esses objetos e seus métodos para executar facilmente praticamente qualquer operação que possa lhe interessar.\n",
    "\n",
    "Eles falham apenas quando você deseja trabalhar com grandes conjuntos de datas e horas.\n",
    "\n",
    "Assim como as listas de variáveis ​​numéricas do __Python__ são abaixo do ideal em comparação com as matrizes numéricas digitadas no estilo __NumPy__, as listas de objetos de data e hora do __Python__ são abaixo do ideal em comparação com as matrizes digitadas de datas codificadas."
   ]
  },
  {
   "cell_type": "markdown",
   "metadata": {},
   "source": [
    "### Matrizes de tempos: ``datetime64`` do NumPy\n",
    "\n",
    "Os pontos fracos do formato datetime do __Python__ inspiraram a equipe do __NumPy__ a adicionar um conjunto de tipos de dados de série temporal nativos ao __NumPy__.\n",
    "\n",
    "O dtype ``datetime64`` codifica datas como números inteiros de 64 bits e, portanto, permite que matrizes de datas sejam representadas de forma muito compacta.\n",
    "\n",
    "O ``datetime64`` requer um formato de entrada muito específico."
   ]
  },
  {
   "cell_type": "code",
   "execution_count": 5,
   "metadata": {},
   "outputs": [
    {
     "name": "stdout",
     "output_type": "stream",
     "text": [
      "Intel MKL WARNING: Support of Intel(R) Streaming SIMD Extensions 4.2 (Intel(R) SSE4.2) enabled only processors has been deprecated. Intel oneAPI Math Kernel Library 2025.0 will require Intel(R) Advanced Vector Extensions (Intel(R) AVX) instructions.\n",
      "Intel MKL WARNING: Support of Intel(R) Streaming SIMD Extensions 4.2 (Intel(R) SSE4.2) enabled only processors has been deprecated. Intel oneAPI Math Kernel Library 2025.0 will require Intel(R) Advanced Vector Extensions (Intel(R) AVX) instructions.\n"
     ]
    },
    {
     "data": {
      "text/plain": [
       "array('2024-01-10', dtype='datetime64[D]')"
      ]
     },
     "execution_count": 5,
     "metadata": {},
     "output_type": "execute_result"
    }
   ],
   "source": [
    "import numpy as np\n",
    "date = np.array('2024-01-10', dtype=np.datetime64)\n",
    "date"
   ]
  },
  {
   "cell_type": "markdown",
   "metadata": {},
   "source": [
    "Uma vez formatada esta data, no entanto, podemos realizar rapidamente operações vetorizadas nela."
   ]
  },
  {
   "cell_type": "code",
   "execution_count": 8,
   "metadata": {},
   "outputs": [
    {
     "data": {
      "text/plain": [
       "array(['2024-01-10', '2024-01-11', '2024-01-12', '2024-01-13',\n",
       "       '2024-01-14', '2024-01-15', '2024-01-16', '2024-01-17',\n",
       "       '2024-01-18', '2024-01-19', '2024-01-20', '2024-01-21'],\n",
       "      dtype='datetime64[D]')"
      ]
     },
     "execution_count": 8,
     "metadata": {},
     "output_type": "execute_result"
    }
   ],
   "source": [
    "date + np.arange(12)"
   ]
  },
  {
   "cell_type": "markdown",
   "metadata": {},
   "source": [
    "Por causa do tipo uniforme nos arrays ``datetime64`` do __NumPy__, este tipo de operação pode ser realizada muito mais rapidamente do que se estivéssemos trabalhando diretamente com os objetos ``datetime`` do Python, especialmente à medida que os arrays ficam grandes.\n",
    "\n",
    "Um detalhe dos objetos ``datetime64`` e ``timedelta64`` é que eles são construídos em uma _unidade de tempo fundamental_.\n",
    "\n",
    "Como o objeto ``datetime64`` é limitado à precisão de 64 bits, o intervalo de tempos codificáveis é $2^{64}$ vezes esta unidade fundamental.\n",
    "\n",
    "Em outras palavras, ``datetime64`` impõe uma compensação entre _resolução de tempo_ e _intervalo de tempo máximo_.\n",
    "\n",
    "Por exemplo, se você deseja uma resolução de tempo de um nanossegundo, você só tem informações suficientes para codificar um intervalo de $2^{64}$ nanossegundos, ou pouco menos de 600 anos.\n",
    "\n",
    "NumPy irá inferir a unidade desejada a partir da entrada."
   ]
  },
  {
   "cell_type": "code",
   "execution_count": 12,
   "metadata": {},
   "outputs": [
    {
     "data": {
      "text/plain": [
       "array(['2024-01-10', '2024-01-11', '2024-01-12', '2024-01-13',\n",
       "       '2024-01-14', '2024-01-15', '2024-01-16', '2024-01-17',\n",
       "       '2024-01-18', '2024-01-19'], dtype='datetime64[D]')"
      ]
     },
     "execution_count": 12,
     "metadata": {},
     "output_type": "execute_result"
    }
   ],
   "source": [
    "# aqui está uma data e hora baseada no dia\n",
    "np.datetime64('2024-01-10') + np.arange(10)"
   ]
  },
  {
   "cell_type": "code",
   "execution_count": 13,
   "metadata": {},
   "outputs": [
    {
     "data": {
      "text/plain": [
       "array(['2024-01-10T12:00', '2024-01-10T12:01', '2024-01-10T12:02',\n",
       "       '2024-01-10T12:03', '2024-01-10T12:04', '2024-01-10T12:05',\n",
       "       '2024-01-10T12:06', '2024-01-10T12:07', '2024-01-10T12:08',\n",
       "       '2024-01-10T12:09'], dtype='datetime64[m]')"
      ]
     },
     "execution_count": 13,
     "metadata": {},
     "output_type": "execute_result"
    }
   ],
   "source": [
    "#Aqui está uma data e hora baseada em minutos\n",
    "np.datetime64('2024-01-10 12:00') + np.arange(10)"
   ]
  },
  {
   "cell_type": "markdown",
   "metadata": {},
   "source": [
    "Observe que o fuso horário é automaticamente definido para a hora local no computador que executa o código.\n",
    "\n",
    "Você pode forçar qualquer unidade fundamental desejada usando um dos vários códigos de formato; por exemplo."
   ]
  },
  {
   "cell_type": "code",
   "execution_count": 14,
   "metadata": {},
   "outputs": [
    {
     "data": {
      "text/plain": [
       "numpy.datetime64('2015-07-04T12:59:59.500000000')"
      ]
     },
     "execution_count": 14,
     "metadata": {},
     "output_type": "execute_result"
    }
   ],
   "source": [
    "#aqui forçaremos um tempo baseado em nanossegundos\n",
    "np.datetime64('2015-07-04 12:59:59.50', 'ns') "
   ]
  },
  {
   "cell_type": "markdown",
   "metadata": {},
   "source": [
    "A tabela a seguir, extraída da [documentação NumPy datetime64](http://docs.scipy.org/doc/numpy/reference/arrays.datetime.html), lista os códigos de formato disponíveis junto com os intervalos de tempo relativos e absolutos que eles pode codificar"
   ]
  },
  {
   "cell_type": "markdown",
   "metadata": {},
   "source": [
    "|Código  | significado | Intervalo de tempo (relativo)  | Intervalo de tempo (absoluto)   |\n",
    "|--------|-------------|----------------------|------------------------|\n",
    "| ``Y``  | Year\t       | ± 9.2e18 years       | [9.2e18 BC, 9.2e18 AD] |\n",
    "| ``M``  | Month       | ± 7.6e17 years       | [7.6e17 BC, 7.6e17 AD] |\n",
    "| ``W``  | Week\t       | ± 1.7e17 years       | [1.7e17 BC, 1.7e17 AD] |\n",
    "| ``D``  | Day         | ± 2.5e16 years       | [2.5e16 BC, 2.5e16 AD] |\n",
    "| ``h``  | Hour        | ± 1.0e15 years       | [1.0e15 BC, 1.0e15 AD] |\n",
    "| ``m``  | Minute      | ± 1.7e13 years       | [1.7e13 BC, 1.7e13 AD] |\n",
    "| ``s``  | Second      | ± 2.9e12 years       | [ 2.9e9 BC, 2.9e9 AD]  |\n",
    "| ``ms`` | Millisecond | ± 2.9e9 years        | [ 2.9e6 BC, 2.9e6 AD]  |\n",
    "| ``us`` | Microsecond | ± 2.9e6 years        | [290301 BC, 294241 AD] |\n",
    "| ``ns`` | Nanosecond  | ± 292 years          | [ 1678 AD, 2262 AD]    |\n",
    "| ``ps`` | Picosecond  | ± 106 days           | [ 1969 AD, 1970 AD]    |\n",
    "| ``fs`` | Femtosecond | ± 2.6 hours          | [ 1969 AD, 1970 AD]    |\n",
    "| ``as`` | Attosecond  | ± 9.2 seconds        | [ 1969 AD, 1970 AD]    |"
   ]
  },
  {
   "cell_type": "markdown",
   "metadata": {},
   "source": [
    "Para os tipos de dados que vemos no mundo real, um padrão útil é ``datetime64[ns]``, pois ele pode codificar um intervalo útil de datas modernas com uma precisão adequada.\n",
    "\n",
    "Finalmente, notaremos que embora o tipo de dados ``datetime64`` resolva algumas das deficiências do tipo ``datetime`` integrado do __Python__, ele carece de muitos dos métodos e funções convenientes fornecidos por ``datetime`` e especialmente ``dateutil``.\n",
    "\n",
    "Mais informações podem ser encontradas na [documentação datetime64 do NumPy](http://docs.scipy.org/doc/numpy/reference/arrays.datetime.html)."
   ]
  },
  {
   "cell_type": "markdown",
   "metadata": {},
   "source": [
    "### Datas e horários em pandas: o melhor dos dois mundos\n",
    "\n",
    "O __Pandas__ baseia-se em todas as ferramentas que acabamos de discutir para fornecer um objeto ``Timestamp``, que combina a facilidade de uso de ``datetime`` e ``dateutil`` com o armazenamento eficiente e a interface vetorizada de ``numpy. datahora64``.\n",
    "\n",
    "A partir de um grupo desses objetos ``Timestamp``, o Pandas pode construir um ``DatetimeIndex`` que pode ser usado para indexar dados em um ``Series`` ou ``DataFrame``.\n",
    "\n",
    "Por exemplo, podemos usar as ferramentas Pandas para repetir alguns dos exemplos anteriores.\n",
    "\n",
    "Podemos analisar uma data de string com formatação flexível e usar códigos de formato para gerar o dia da semana."
   ]
  },
  {
   "cell_type": "code",
   "execution_count": 17,
   "metadata": {},
   "outputs": [
    {
     "data": {
      "text/plain": [
       "Timestamp('2024-01-10 00:00:00')"
      ]
     },
     "execution_count": 17,
     "metadata": {},
     "output_type": "execute_result"
    }
   ],
   "source": [
    "import pandas as pd\n",
    "#date = pd.to_datetime(\"10/01/2024\")\n",
    "date = pd.to_datetime(\"10/01/2024\", dayfirst=True)\n",
    "date"
   ]
  },
  {
   "cell_type": "code",
   "execution_count": 18,
   "metadata": {},
   "outputs": [
    {
     "data": {
      "text/plain": [
       "'Wednesday'"
      ]
     },
     "execution_count": 18,
     "metadata": {},
     "output_type": "execute_result"
    }
   ],
   "source": [
    "date.strftime('%A')"
   ]
  },
  {
   "cell_type": "markdown",
   "metadata": {},
   "source": [
    "Além disso, podemos fazer operações vetorizadas no estilo __NumPy__ diretamente neste mesmo objeto."
   ]
  },
  {
   "cell_type": "code",
   "execution_count": 19,
   "metadata": {},
   "outputs": [
    {
     "data": {
      "text/plain": [
       "DatetimeIndex(['2024-01-10', '2024-01-11', '2024-01-12', '2024-01-13',\n",
       "               '2024-01-14', '2024-01-15', '2024-01-16', '2024-01-17',\n",
       "               '2024-01-18', '2024-01-19', '2024-01-20', '2024-01-21'],\n",
       "              dtype='datetime64[ns]', freq=None)"
      ]
     },
     "execution_count": 19,
     "metadata": {},
     "output_type": "execute_result"
    }
   ],
   "source": [
    "date + pd.to_timedelta(np.arange(12), 'D')"
   ]
  },
  {
   "cell_type": "markdown",
   "metadata": {},
   "source": [
    "## Série temporal do Pandas: indexação por tempo\n",
    "\n",
    "As ferramentas de série temporal do __Pandas__ realmente se tornam úteis quando você começa a _indexar dados por carimbos de data/hora_.\n",
    "\n",
    "Por exemplo, podemos construir um objeto ``Series`` que possui dados indexados no tempo."
   ]
  },
  {
   "cell_type": "code",
   "execution_count": 20,
   "metadata": {},
   "outputs": [
    {
     "data": {
      "text/plain": [
       "2023-12-20     (9, 10)\n",
       "2023-12-22    (11, 12)\n",
       "2024-01-08    (13, 14)\n",
       "2024-01-10    (15, 16)\n",
       "2024-01-12    (17, 18)\n",
       "2024-01-15    (19, 20)\n",
       "dtype: object"
      ]
     },
     "execution_count": 20,
     "metadata": {},
     "output_type": "execute_result"
    }
   ],
   "source": [
    "index = pd.DatetimeIndex(['2023-12-20', '2023-12-22', \n",
    "                          '2024-01-08', '2024-01-10',\n",
    "                          '2024-01-12', '2024-01-15'])\n",
    "data = pd.Series([(9, 10), (11, 12), (13, 14), (15, 16), (17,18), (19, 20)], \n",
    "                 index=index)\n",
    "data"
   ]
  },
  {
   "cell_type": "markdown",
   "metadata": {},
   "source": [
    "Agora que temos esses dados em uma ``Series``, podemos fazer uso de qualquer um dos modos de indexação de ``Series`` que discutimos nas seções anteriores."
   ]
  },
  {
   "cell_type": "code",
   "execution_count": 21,
   "metadata": {},
   "outputs": [
    {
     "data": {
      "text/plain": [
       "2024-01-08    (13, 14)\n",
       "2024-01-10    (15, 16)\n",
       "2024-01-12    (17, 18)\n",
       "dtype: object"
      ]
     },
     "execution_count": 21,
     "metadata": {},
     "output_type": "execute_result"
    }
   ],
   "source": [
    "data['2024-01-08':'2024-01-12']"
   ]
  },
  {
   "cell_type": "markdown",
   "metadata": {},
   "source": [
    "Existem operações especiais adicionais de indexação apenas de data, como passar um ano para obter uma fatia de todos os dados desse ano"
   ]
  },
  {
   "cell_type": "code",
   "execution_count": 22,
   "metadata": {},
   "outputs": [
    {
     "data": {
      "text/plain": [
       "2024-01-08    (13, 14)\n",
       "2024-01-10    (15, 16)\n",
       "2024-01-12    (17, 18)\n",
       "2024-01-15    (19, 20)\n",
       "dtype: object"
      ]
     },
     "execution_count": 22,
     "metadata": {},
     "output_type": "execute_result"
    }
   ],
   "source": [
    "data['2024']"
   ]
  },
  {
   "cell_type": "markdown",
   "metadata": {},
   "source": [
    "## Estruturas de dados de série temporal do Pandas\n",
    "\n",
    "Esta seção apresentará as estruturas de dados fundamentais do __Pandas__ para trabalhar com dados de série temporal:\n",
    "\n",
    "- Para _time stamps_, o __Pandas__ fornece o tipo ``Timestamp``. Como mencionado antes, é essencialmente um substituto para o ``datetime`` nativo do __Python__, mas é baseado no tipo de dados mais eficiente ``numpy.datetime64``. A estrutura do índice associada é ``DatetimeIndex``.\n",
    "- Para _períodos de tempo_, o __Pandas__ fornece o tipo ``Period``. Isso codifica um intervalo de frequência fixa baseado em ``numpy.datetime64``. A estrutura de índice associada é ``PeriodIndex``.\n",
    "- Para _deltas de tempo_, o __Pandas__ fornece o tipo ``Timedelta``. ``Timedelta`` é um substituto mais eficiente para o tipo nativo ``datetime.timedelta`` do __Python__, e é baseado em ``numpy.timedelta64``. A estrutura de índice associada é ``TimedeltaIndex``."
   ]
  },
  {
   "cell_type": "markdown",
   "metadata": {},
   "source": [
    "Os mais importantes destes objetos de data/hora são os objetos ``Timestamp`` e ``DatetimeIndex``.\n",
    "\n",
    "Embora esses objetos possam ser invocados diretamente, é mais comum usar a função ``pd.to_datetime()``, que pode analisar uma ampla variedade de formatos.\n",
    "\n",
    "Passar uma única data para ``pd.to_datetime()`` gera um ``Timestamp``; passar uma série de datas por padrão produz um ``DatetimeIndex``."
   ]
  },
  {
   "cell_type": "code",
   "execution_count": 23,
   "metadata": {},
   "outputs": [
    {
     "data": {
      "text/plain": [
       "DatetimeIndex(['2023-12-20', '2023-12-22', '2024-01-08', '2024-01-10',\n",
       "               '2024-01-12'],\n",
       "              dtype='datetime64[ns]', freq=None)"
      ]
     },
     "execution_count": 23,
     "metadata": {},
     "output_type": "execute_result"
    }
   ],
   "source": [
    "dates = pd.to_datetime([datetime(2023, 12, 20), '22 of December, 2023',\n",
    "                       '2024-Jan-8', '01-10-2024', '20240112'])\n",
    "dates"
   ]
  },
  {
   "cell_type": "markdown",
   "metadata": {},
   "source": [
    "Qualquer ``DatetimeIndex`` pode ser convertido em um ``PeriodIndex`` com a função ``to_period()`` com a adição de um código de frequência; aqui usaremos ``'D'`` para indicar a frequência diária."
   ]
  },
  {
   "cell_type": "code",
   "execution_count": 24,
   "metadata": {},
   "outputs": [
    {
     "data": {
      "text/plain": [
       "PeriodIndex(['2023-12-20', '2023-12-22', '2024-01-08', '2024-01-10',\n",
       "             '2024-01-12'],\n",
       "            dtype='period[D]')"
      ]
     },
     "execution_count": 24,
     "metadata": {},
     "output_type": "execute_result"
    }
   ],
   "source": [
    "dates.to_period('D')"
   ]
  },
  {
   "cell_type": "markdown",
   "metadata": {},
   "source": [
    "Um ``TimedeltaIndex`` é criado, por exemplo, quando uma data é subtraída de outra."
   ]
  },
  {
   "cell_type": "code",
   "execution_count": 25,
   "metadata": {},
   "outputs": [
    {
     "data": {
      "text/plain": [
       "TimedeltaIndex(['0 days', '2 days', '19 days', '21 days', '23 days'], dtype='timedelta64[ns]', freq=None)"
      ]
     },
     "execution_count": 25,
     "metadata": {},
     "output_type": "execute_result"
    }
   ],
   "source": [
    "dates - dates[0]"
   ]
  },
  {
   "cell_type": "markdown",
   "metadata": {},
   "source": [
    "### Sequências regulares: ``pd.date_range()``\n",
    "\n",
    "Para tornar a criação de sequências de datas regulares mais conveniente, o __Pandas__ oferece algumas funções para esse propósito: \n",
    "* ``pd.date_range()`` para carimbos de data e hora, \n",
    "* ``pd.period_range()`` para períodos;  \n",
    "* ``pd.timedelta_range ()`` para deltas de tempo.\n",
    "\n",
    "Vimos que ``range()`` do __Python__ e ``np.arange()`` do __NumPy__ transformam um ponto inicial, um ponto final e um tamanho de passo opcional em uma sequência.\n",
    "\n",
    "Da mesma forma, ``pd.date_range()`` aceita uma data de início, uma data de término e um código de frequência opcional para criar uma sequência regular de datas.\n",
    "\n",
    "Por padrão, a frequência é de um dia."
   ]
  },
  {
   "cell_type": "code",
   "execution_count": 26,
   "metadata": {},
   "outputs": [
    {
     "data": {
      "text/plain": [
       "DatetimeIndex(['2023-12-20', '2023-12-21', '2023-12-22', '2023-12-23',\n",
       "               '2023-12-24', '2023-12-25', '2023-12-26', '2023-12-27',\n",
       "               '2023-12-28', '2023-12-29', '2023-12-30', '2023-12-31',\n",
       "               '2024-01-01', '2024-01-02', '2024-01-03', '2024-01-04',\n",
       "               '2024-01-05', '2024-01-06', '2024-01-07', '2024-01-08',\n",
       "               '2024-01-09', '2024-01-10', '2024-01-11', '2024-01-12'],\n",
       "              dtype='datetime64[ns]', freq='D')"
      ]
     },
     "execution_count": 26,
     "metadata": {},
     "output_type": "execute_result"
    }
   ],
   "source": [
    "pd.date_range('2023-12-20', '2024-01-12')"
   ]
  },
  {
   "cell_type": "markdown",
   "metadata": {},
   "source": [
    "De forma alternativa, o intervalo de datas pode ser especificado não com um início e um ponto final, mas com um ponto inicial e um número de períodos."
   ]
  },
  {
   "cell_type": "code",
   "execution_count": 27,
   "metadata": {},
   "outputs": [
    {
     "data": {
      "text/plain": [
       "DatetimeIndex(['2023-12-20', '2023-12-21', '2023-12-22', '2023-12-23',\n",
       "               '2023-12-24', '2023-12-25', '2023-12-26', '2023-12-27',\n",
       "               '2023-12-28', '2023-12-29', '2023-12-30', '2023-12-31',\n",
       "               '2024-01-01', '2024-01-02', '2024-01-03', '2024-01-04',\n",
       "               '2024-01-05', '2024-01-06', '2024-01-07', '2024-01-08',\n",
       "               '2024-01-09', '2024-01-10', '2024-01-11', '2024-01-12'],\n",
       "              dtype='datetime64[ns]', freq='D')"
      ]
     },
     "execution_count": 27,
     "metadata": {},
     "output_type": "execute_result"
    }
   ],
   "source": [
    "pd.date_range('2023-12-20', periods=24)"
   ]
  },
  {
   "cell_type": "markdown",
   "metadata": {},
   "source": [
    "O espaçamento pode ser modificado alterando o argumento ``freq``, cujo padrão é ``D``."
   ]
  },
  {
   "cell_type": "code",
   "execution_count": 28,
   "metadata": {},
   "outputs": [
    {
     "data": {
      "text/plain": [
       "DatetimeIndex(['2023-01-10 08:00:00', '2023-01-10 09:00:00',\n",
       "               '2023-01-10 10:00:00', '2023-01-10 11:00:00',\n",
       "               '2023-01-10 12:00:00', '2023-01-10 13:00:00',\n",
       "               '2023-01-10 14:00:00', '2023-01-10 15:00:00'],\n",
       "              dtype='datetime64[ns]', freq='H')"
      ]
     },
     "execution_count": 28,
     "metadata": {},
     "output_type": "execute_result"
    }
   ],
   "source": [
    "pd.date_range('2023-01-10-08:00', periods=8, freq='H')"
   ]
  },
  {
   "cell_type": "markdown",
   "metadata": {},
   "source": [
    "Para criar sequências regulares de valores ``Period`` ou ``Timedelta``, pode ser utilizadas funções, muito semelhantes, ``pd.period_range()`` e ``pd.timedelta_range()``."
   ]
  },
  {
   "cell_type": "code",
   "execution_count": 29,
   "metadata": {},
   "outputs": [
    {
     "data": {
      "text/plain": [
       "PeriodIndex(['2024-01', '2024-02', '2024-03', '2024-04', '2024-05', '2024-06',\n",
       "             '2024-07', '2024-08'],\n",
       "            dtype='period[M]')"
      ]
     },
     "execution_count": 29,
     "metadata": {},
     "output_type": "execute_result"
    }
   ],
   "source": [
    "pd.period_range('2024-01', periods=8, freq='M')"
   ]
  },
  {
   "cell_type": "code",
   "execution_count": 30,
   "metadata": {},
   "outputs": [
    {
     "data": {
      "text/plain": [
       "TimedeltaIndex(['0 days 00:00:00', '0 days 01:00:00', '0 days 02:00:00',\n",
       "                '0 days 03:00:00', '0 days 04:00:00', '0 days 05:00:00',\n",
       "                '0 days 06:00:00', '0 days 07:00:00', '0 days 08:00:00',\n",
       "                '0 days 09:00:00'],\n",
       "               dtype='timedelta64[ns]', freq='H')"
      ]
     },
     "execution_count": 30,
     "metadata": {},
     "output_type": "execute_result"
    }
   ],
   "source": [
    "pd.timedelta_range(0, periods=10, freq='H')"
   ]
  },
  {
   "cell_type": "markdown",
   "metadata": {},
   "source": [
    "Tudo isso requer uma compreensão dos códigos de frequência do __Pandas__."
   ]
  },
  {
   "cell_type": "markdown",
   "metadata": {},
   "source": [
    "## Frequencies and Offsets\n",
    "\n",
    "Fundamental to these __Pandas__ time series tools is the concept of a frequency or date offset.\n",
    "Just as we saw the ``D`` (day) and ``H`` (hour) codes above, we can use such codes to specify any desired frequency spacing.\n",
    "The following table summarizes the main codes available."
   ]
  },
  {
   "cell_type": "markdown",
   "metadata": {},
   "source": [
    "| Código | O que faz           | Código | O que faz            |\n",
    "|--------|---------------------|--------|----------------------|\n",
    "| ``D``  | Diário              | ``B``  | Business day         |\n",
    "| ``W``  | Semanal             |        |                      |\n",
    "| ``M``  | Month en            | ``BM`` | Business month end   |\n",
    "| ``Q``  | Quarter en          | ``BQ`` | Business quarter end |\n",
    "| ``A``  | Year e              | ``BA`` | Business year end    |\n",
    "| ``H``  | Hora                | ``BH`` | Business hours       |\n",
    "| ``T``  | Minutos             |        |                      |\n",
    "| ``S``  | Segundos            |        |                      |\n",
    "| ``L``  | Milissegundos       |        |                      |\n",
    "| ``U``  | Microssegundos      |        |                      |\n",
    "| ``N``  | nanossegundos       |        |                      |"
   ]
  },
  {
   "cell_type": "markdown",
   "metadata": {},
   "source": [
    "As frequências mensais, trimestrais e anuais são todas marcadas no final do período especificado.\n",
    "Ao adicionar um sufixo ``S`` a qualquer um deles, eles serão marcados no início"
   ]
  },
  {
   "cell_type": "markdown",
   "metadata": {},
   "source": [
    "| Códig   | O que faz              | Código  | O que faz              |\n",
    "|---------|------------------------|---------|------------------------|\n",
    "| ``MS``  | Month start            |``BMS``  | Business month start   |\n",
    "| ``QS``  | Quarter start          |``BQS``  | Business quarter start |\n",
    "| ``AS``  | Year start             |``BAS``  | Business year start    |"
   ]
  },
  {
   "cell_type": "markdown",
   "metadata": {},
   "source": [
    "Além disso, você pode alterar o mês usado para marcar qualquer código trimestral ou anual adicionando um código de mês de três letras como sufixo:\n",
    "\n",
    "- ``Q-JAN``, ``BQ-FEB``, ``QS-MAR``, ``BQS-APR``, etc.\n",
    "- ``A-JAN``, ``BA-FEB``, ``AS-MAR``, ``BAS-APR``, etc.\n",
    "\n",
    "Da mesma forma, o ponto de divisão da frequência semanal pode ser modificado adicionando um código de três letras para o dia da semana:\n",
    "\n",
    "- ``W-SUN``, ``W-MON``, ``W-TUE``, ``W-WED``, etc.\n",
    "\n",
    "Além disso, os códigos podem ser combinados com números para especificar outras frequências.\n",
    "\n",
    "Por exemplo, para uma frequência de 2 horas e 30 minutos, podemos combinar os códigos de hora (``H``) e minuto (``T``) da seguinte forma:"
   ]
  },
  {
   "cell_type": "code",
   "execution_count": 31,
   "metadata": {},
   "outputs": [
    {
     "data": {
      "text/plain": [
       "TimedeltaIndex(['0 days 00:00:00', '0 days 02:30:00', '0 days 05:00:00',\n",
       "                '0 days 07:30:00', '0 days 10:00:00', '0 days 12:30:00',\n",
       "                '0 days 15:00:00', '0 days 17:30:00', '0 days 20:00:00'],\n",
       "               dtype='timedelta64[ns]', freq='150T')"
      ]
     },
     "execution_count": 31,
     "metadata": {},
     "output_type": "execute_result"
    }
   ],
   "source": [
    "pd.timedelta_range(0, periods=9, freq=\"2H30T\")"
   ]
  },
  {
   "cell_type": "markdown",
   "metadata": {},
   "source": [
    "Todos esses códigos curtos referem-se a instâncias específicas de deslocamento de séries temporais do __Pandas__, que podem ser encontradas no módulo ``pd.tseries.offsets``.\n",
    "\n",
    "Por exemplo, podemos criar um deslocamento de dias úteis diretamente da seguinte forma."
   ]
  },
  {
   "cell_type": "code",
   "execution_count": 32,
   "metadata": {},
   "outputs": [
    {
     "data": {
      "text/plain": [
       "DatetimeIndex(['2024-01-08', '2024-01-09', '2024-01-10', '2024-01-11',\n",
       "               '2024-01-12', '2024-01-15', '2024-01-16', '2024-01-17',\n",
       "               '2024-01-18', '2024-01-19'],\n",
       "              dtype='datetime64[ns]', freq='B')"
      ]
     },
     "execution_count": 32,
     "metadata": {},
     "output_type": "execute_result"
    }
   ],
   "source": [
    "from pandas.tseries.offsets import BDay\n",
    "pd.date_range('2024-01-08', periods=10, freq=BDay())"
   ]
  },
  {
   "cell_type": "markdown",
   "metadata": {},
   "source": [
    "Para obter mais informações sobre o uso de frequências e deslocamentos, consulte a [seção \"DateOffset\"](http://pandas.pydata.org/pandas-docs/stable/timeseries.html#dateoffset-objects) da documentação do Pandas."
   ]
  },
  {
   "cell_type": "markdown",
   "metadata": {},
   "source": [
    "## Reamostragem, deslocamento e janelamento\n",
    "\n",
    "A capacidade de usar datas e horas como índices para organizar e acessar dados intuitivamente é uma parte importante das ferramentas de série temporal do __Pandas__.\n",
    "Os benefícios dos dados indexados em geral (alinhamento automático durante as operações, divisão e acesso intuitivo aos dados, etc.) ainda se aplicam, e o __Pandas__ fornece várias operações adicionais específicas de séries temporais.\n",
    "\n",
    "Daremos uma olhada em alguns deles aqui, usando alguns dados de preços de ações como exemplo.\n",
    "Como o __Pandas__ foi desenvolvido em grande parte num contexto financeiro, inclui algumas ferramentas muito específicas para dados financeiros.\n",
    "\n",
    "Por exemplo, o pacote ``pandas-datareader`` que o acompanha, sabe como importar dados financeiros de uma série de fontes disponíveis, incluindo Yahoo Finance, Google Finance e outras."
   ]
  },
  {
   "cell_type": "code",
   "execution_count": 33,
   "metadata": {},
   "outputs": [
    {
     "name": "stdout",
     "output_type": "stream",
     "text": [
      "0.10.0\n"
     ]
    }
   ],
   "source": [
    "import pandas_datareader as pdr\n",
    "print(pdr.__version__)"
   ]
  },
  {
   "cell_type": "code",
   "execution_count": 34,
   "metadata": {},
   "outputs": [
    {
     "data": {
      "text/html": [
       "<div>\n",
       "<style scoped>\n",
       "    .dataframe tbody tr th:only-of-type {\n",
       "        vertical-align: middle;\n",
       "    }\n",
       "\n",
       "    .dataframe tbody tr th {\n",
       "        vertical-align: top;\n",
       "    }\n",
       "\n",
       "    .dataframe thead th {\n",
       "        text-align: right;\n",
       "    }\n",
       "</style>\n",
       "<table border=\"1\" class=\"dataframe\">\n",
       "  <thead>\n",
       "    <tr style=\"text-align: right;\">\n",
       "      <th></th>\n",
       "      <th>Open</th>\n",
       "      <th>High</th>\n",
       "      <th>Low</th>\n",
       "      <th>Close</th>\n",
       "      <th>Volume</th>\n",
       "    </tr>\n",
       "    <tr>\n",
       "      <th>Date</th>\n",
       "      <th></th>\n",
       "      <th></th>\n",
       "      <th></th>\n",
       "      <th></th>\n",
       "      <th></th>\n",
       "    </tr>\n",
       "  </thead>\n",
       "  <tbody>\n",
       "    <tr>\n",
       "      <th>2021-12-31</th>\n",
       "      <td>36385.85</td>\n",
       "      <td>36484.94</td>\n",
       "      <td>36303.97</td>\n",
       "      <td>36338.30</td>\n",
       "      <td>257462417</td>\n",
       "    </tr>\n",
       "    <tr>\n",
       "      <th>2021-12-30</th>\n",
       "      <td>36522.48</td>\n",
       "      <td>36679.44</td>\n",
       "      <td>36372.13</td>\n",
       "      <td>36398.08</td>\n",
       "      <td>241218115</td>\n",
       "    </tr>\n",
       "    <tr>\n",
       "      <th>2021-12-29</th>\n",
       "      <td>36421.14</td>\n",
       "      <td>36571.55</td>\n",
       "      <td>36396.19</td>\n",
       "      <td>36488.63</td>\n",
       "      <td>251970628</td>\n",
       "    </tr>\n",
       "    <tr>\n",
       "      <th>2021-12-28</th>\n",
       "      <td>36302.99</td>\n",
       "      <td>36527.26</td>\n",
       "      <td>36302.99</td>\n",
       "      <td>36398.21</td>\n",
       "      <td>286735174</td>\n",
       "    </tr>\n",
       "    <tr>\n",
       "      <th>2021-12-27</th>\n",
       "      <td>35954.48</td>\n",
       "      <td>36306.61</td>\n",
       "      <td>35954.48</td>\n",
       "      <td>36302.38</td>\n",
       "      <td>285471040</td>\n",
       "    </tr>\n",
       "  </tbody>\n",
       "</table>\n",
       "</div>"
      ],
      "text/plain": [
       "                Open      High       Low     Close     Volume\n",
       "Date                                                         \n",
       "2021-12-31  36385.85  36484.94  36303.97  36338.30  257462417\n",
       "2021-12-30  36522.48  36679.44  36372.13  36398.08  241218115\n",
       "2021-12-29  36421.14  36571.55  36396.19  36488.63  251970628\n",
       "2021-12-28  36302.99  36527.26  36302.99  36398.21  286735174\n",
       "2021-12-27  35954.48  36306.61  35954.48  36302.38  285471040"
      ]
     },
     "execution_count": 34,
     "metadata": {},
     "output_type": "execute_result"
    }
   ],
   "source": [
    "from pandas_datareader import data\n",
    "\n",
    "stooq = data.DataReader('^DJI', start='2012', end='2022',\n",
    "                       data_source='stooq')\n",
    "stooq.head()"
   ]
  },
  {
   "cell_type": "markdown",
   "metadata": {},
   "source": [
    "Para simplificar, usaremos apenas o preço de fechamento"
   ]
  },
  {
   "cell_type": "code",
   "execution_count": 35,
   "metadata": {},
   "outputs": [],
   "source": [
    "stooq = stooq['Close']"
   ]
  },
  {
   "cell_type": "code",
   "execution_count": 36,
   "metadata": {},
   "outputs": [],
   "source": [
    "%matplotlib inline\n",
    "import matplotlib.pyplot as plt\n",
    "import seaborn; seaborn.set()"
   ]
  },
  {
   "cell_type": "code",
   "execution_count": 37,
   "metadata": {},
   "outputs": [
    {
     "data": {
      "text/plain": [
       "<Axes: xlabel='Date'>"
      ]
     },
     "execution_count": 37,
     "metadata": {},
     "output_type": "execute_result"
    },
    {
     "data": {
      "image/png": "[encoded data removed]",
      "text/plain": [
       "<Figure size 640x480 with 1 Axes>"
      ]
     },
     "metadata": {},
     "output_type": "display_data"
    }
   ],
   "source": [
    "stooq.plot()"
   ]
  },
  {
   "cell_type": "markdown",
   "metadata": {},
   "source": [
    "### Reamostragem e conversão de frequências\n",
    "\n",
    "Uma necessidade comum de dados de séries temporais é a reamostragem em uma frequência maior ou menor.\n",
    "\n",
    "Isso pode ser feito usando o método ``resample()``, ou o método muito mais simples ``asfreq()``.\n",
    "\n",
    "A principal diferença entre os dois é que ``resample()`` é fundamentalmente uma _agregação de dados_, enquanto ``asfreq()`` é basicamente uma _seleção de dados_.\n",
    "\n",
    "Dando uma olhada no preço de fechamento, vamos comparar o que os dois retornam quando reduzimos a amostragem dos dados.\n",
    "Aqui vamos reamostrar os dados no final do ano comercial."
   ]
  },
  {
   "cell_type": "code",
   "execution_count": 38,
   "metadata": {},
   "outputs": [
    {
     "data": {
      "image/png": "[encoded data removed]",
      "text/plain": [
       "<Figure size 640x480 with 1 Axes>"
      ]
     },
     "metadata": {},
     "output_type": "display_data"
    }
   ],
   "source": [
    "stooq.plot(alpha=0.5, style='-')\n",
    "stooq.resample('BA').mean().plot(style=':')\n",
    "stooq.asfreq('BA').plot(style='--');\n",
    "plt.legend(['input', 'resample', 'asfreq'],\n",
    "           loc='upper left');"
   ]
  },
  {
   "cell_type": "code",
   "execution_count": null,
   "metadata": {},
   "outputs": [],
   "source": []
  }
 ],
 "metadata": {
  "kernelspec": {
   "display_name": "Python 3 (ipykernel)",
   "language": "python",
   "name": "python3"
  },
  "language_info": {
   "codemirror_mode": {
    "name": "ipython",
    "version": 3
   },
   "file_extension": ".py",
   "mimetype": "text/x-python",
   "name": "python",
   "nbconvert_exporter": "python",
   "pygments_lexer": "ipython3",
   "version": "3.10.13"
  }
 },
 "nbformat": 4,
 "nbformat_minor": 2
}
