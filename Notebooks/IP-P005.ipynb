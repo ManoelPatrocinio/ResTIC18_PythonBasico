{
 "cells": [
  {
   "cell_type": "markdown",
   "metadata": {},
   "source": [
    "<img align=\"center\" style=\"padding-right:10px;\" src=\"Figuras/IP-01-fig_01.png\">\n",
    "\n",
    "# INSTRUÇÃO PRÁTICA - IP-P005\n",
    "## PP - PROGRAMAÇÃO EM PYTHON\n",
    "### OBJETIVOS DA ATIVIDADE\n",
    "Trabalhar com __Pandas__ e suas funcionalidades e características básicas. Aplicar os recursos e funcionalidades básicas para operar com tabelas de dados em __Pandas__."
   ]
  },
  {
   "cell_type": "markdown",
   "metadata": {},
   "source": [
    "__Exercício 1: Criando um conjunto de dados__\n",
    "\n",
    "Vimos em sala de aula como trabalhar com objetos ``Series`` e ``DataFrames`` e as vantagens de se trabalhar com conjuntos de dados armazenados em versões aprimoradas de matrizes _ndarrays_ de __NumPy__ nas quais as linhas e colunas são identificadas com rótulos em vez de simples índices inteiros.\n",
    "\n",
    "Vamos criar nosso primeiro conjunto de dados para análise:\n",
    "* Utilizando apenas os membros da equipe com _\"cobaias\"_ vamos coletar as seguintes informações:\n",
    "    * identificador: Para fazermos uma pesquisa sem expor os dados pessoais cada membro da equipe será identificado por um código de tipo string formado pela tic18Py seguido dos três primeiros números do CPF e os dois último números do ano de nascimento. Exemplo tic18Py06472;\n",
    "    * Idade: Um número inteiro com a idade do membro da equipe;\n",
    "    * Formação: Um código formado por números inteiros que significam:\n",
    "        * 0: Formação técnica.\n",
    "        * 1: Formação técnica graduação em andamento\n",
    "        * 2: Graduação em andamento\n",
    "        * 3: Graduação concluída\n",
    "    * Área de formação Geral: Se a resposta anterior for diferente de zero, um código formado por números inteiros que significam:\n",
    "        * 0: Engenharia\n",
    "        * 1: Computação\n",
    "    * Área de formação específica: Se a resposta a pergunta anterior for 0 ou 1 este campo será uma string com o curso específico que está sendo cursado;\n",
    "    * Andamento da graduação: S a resposta para Formação for 1 ou 2 colocar aqui um valor de ponto flutuante indicando o percentual de curso concluído;   \n",
    "    * Tempo de formado: Se a resposta para Formação for 3 colocar aqui um valor inteiro com a quantidade de anos de formado;\n",
    "    * Tinha experiência prévia em programação? (True ou False)\n",
    "    \n",
    "\n",
    "Colete estas informações, pode ser manualmente, e crie listas com as mesmas. Aqueles campos para os que não se aplique resposta no questionário preencha com ``None``."
   ]
  },
  {
   "cell_type": "code",
   "execution_count": null,
   "metadata": {},
   "outputs": [],
   "source": [
    "identificador = []\n",
    "idade = []\n",
    "formação = []\n",
    "formaçãoGeral = []\n",
    "formaçãoEspecífica = []\n",
    "andamentoGraduação = []\n",
    "tempoFormação = []\n",
    "experiênciaPrevia = []"
   ]
  },
  {
   "cell_type": "markdown",
   "metadata": {},
   "source": [
    "__Exercício 2: Trabalhando com ``Series``__\n",
    "\n",
    "Vamos criar um objeto ``Index`` utilizando a lista de identificador. Utilizando este objeto vamos converter cada uma das listas, geradas no exercício anterior, em objetos da classe ``Series``. Com base nos objetos criados:\n",
    "* Determine qual a idade média dos membros da equipe, qual ou quais os membros mais jovens e qual o quais os membros mais velhos. \n",
    "* Identifique se, pelo perfil de formação dos membros da equipe, os membros são predominantemente técnicos, graduandos ou graduados.\n",
    "* De acordo com a lista de Formação Geral identifique se e equipe é formada maioritariamente por engenheiros ou por formados em algum curso da área de computação. "
   ]
  },
  {
   "cell_type": "code",
   "execution_count": 1,
   "metadata": {},
   "outputs": [
    {
     "name": "stdout",
     "output_type": "stream",
     "text": [
      "Intel MKL WARNING: Support of Intel(R) Streaming SIMD Extensions 4.2 (Intel(R) SSE4.2) enabled only processors has been deprecated. Intel oneAPI Math Kernel Library 2025.0 will require Intel(R) Advanced Vector Extensions (Intel(R) AVX) instructions.\n",
      "Intel MKL WARNING: Support of Intel(R) Streaming SIMD Extensions 4.2 (Intel(R) SSE4.2) enabled only processors has been deprecated. Intel oneAPI Math Kernel Library 2025.0 will require Intel(R) Advanced Vector Extensions (Intel(R) AVX) instructions.\n",
      "1.26.2\n",
      "2.1.4\n"
     ]
    }
   ],
   "source": [
    "import numpy as np\n",
    "import pandas as pd\n",
    "print(np.__version__ )\n",
    "print(pd.__version__ )"
   ]
  },
  {
   "cell_type": "markdown",
   "metadata": {},
   "source": [
    "__Exercício 3: Trabalhando com ``DataFrames``__\n",
    "\n",
    "Crie um ``DataFrame`` utilizando as informações coletadas. Utilize o mesmo ``Index`` do exercício anterior e de nomes apropriados às colunas. Você pode criar o objeto a partir das listas coletadas ou dos objetos ``Series``. Veja como foi feito o tratamento de dados faltando. \n",
    "* Extraia as informações do exercício anterior mas agora a partir do ``DataFrame``.\n",
    "* A coluna que armazena a formação específica pode conter diferentes rótulos. Proponha uma estratégia pára tratar os dados nesta coluna. Leve em consideração que os dados coletados até aqui são poucos mas que esta tabela pode ser escalada para analisar todos os residentes da trilha __Python__ ou, eventualmente, das outras trilhas. "
   ]
  },
  {
   "cell_type": "code",
   "execution_count": null,
   "metadata": {},
   "outputs": [],
   "source": [
    "# Gerando DataFrame"
   ]
  },
  {
   "cell_type": "markdown",
   "metadata": {},
   "source": [
    "__Exercício 3: Trabalhando com ``MultiIndex``__\n",
    "\n",
    "Agora vamos criar uma nova dimensão dos dados considerando cada trilha por separado. Agrupe os índices por trilha __Python__, __.Net__ e __Java__. Para testar o funcionamento troque com colegas de outras equipes as listas coletadas e utilize elas para preencher os dados das duas novas dimensões. \n",
    "* Extraia as informações do exercício anterior mas agora a partir do ``DataFrame`` com ``MultiIndex`` de forma a caraterizar o perfil dos alunos da residencia.\n",
    "* Repita o procedimento anterior mas, desta vez, para cada turma por separado buscando caracterizar os alunos de cada trilha."
   ]
  },
  {
   "cell_type": "code",
   "execution_count": null,
   "metadata": {},
   "outputs": [],
   "source": [
    "# Gerando MultiIndex"
   ]
  }
 ],
 "metadata": {
  "kernelspec": {
   "display_name": "Python 3 (ipykernel)",
   "language": "python",
   "name": "python3"
  },
  "language_info": {
   "codemirror_mode": {
    "name": "ipython",
    "version": 3
   },
   "file_extension": ".py",
   "mimetype": "text/x-python",
   "name": "python",
   "nbconvert_exporter": "python",
   "pygments_lexer": "ipython3",
   "version": "3.10.13"
  }
 },
 "nbformat": 4,
 "nbformat_minor": 2
}
