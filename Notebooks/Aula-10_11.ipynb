{
 "cells": [
  {
   "cell_type": "markdown",
   "metadata": {},
   "source": [
    "# Módulo de Programação Python\n",
    "\n",
    "# Trilha Python - Aula 10/11: Revisão e Resolução de Problemas \n",
    "\n",
    "<img align=\"center\" style=\"padding-right:10px;\" src=\"Figuras/aula-10_fig_01.png\">"
   ]
  },
  {
   "cell_type": "markdown",
   "metadata": {},
   "source": [
    "__Objetivo__: \n",
    "\n",
    "Revisar e consolidar o conteúdo de pacotes e módulos, ambientes isoladas e aspectos básicos de NumPy"
   ]
  },
  {
   "cell_type": "markdown",
   "metadata": {},
   "source": [
    "## Revisão da atividade de avaliação\n",
    "\n",
    "Na conclusão do módulo anterior foi proposta uma tarefa que consistia em implementar uma serie de classes a partir de uma classe abstrata. Métodos estatísticos simples foram propostos para serem implementados nestas classes, com base no métodos abstratos definidos na superclasse.  "
   ]
  },
  {
   "cell_type": "markdown",
   "metadata": {},
   "source": [
    "__Exercício 1: Revisando as implementações propostas.__\n",
    "\n",
    "Vamos revisar algumas das implementações que foram propostas e discutir alternativas e melhorias."
   ]
  },
  {
   "cell_type": "markdown",
   "metadata": {},
   "source": [
    "__Exercício 2: Novos métodos estatísticos__\n",
    "\n",
    "Em termos de análise estatístico os métodos propostos ainda são bastante pobres. Vamos pesquisar e propor um novo conjunto de métodos que permitam analisar e processar a lista usando novas métricas nos casos que seja possível.\n",
    "\n",
    "* Médias e medidas de valor central:\n",
    "    * Média aritmética dos dados [ ]\n",
    "    * Média aritmética dos dados [ ]\n",
    "    * Média geométrica dos dados [ ]\n",
    "    * Média harmônica dos dados  [ ]\n",
    "    * Mediana (valor do meio) dos dados [x]\n",
    "    * Mediana inferior dos dados [ ]\n",
    "    * Mediana superior dos dados [ ]\n",
    "\n",
    "* Medidas de espalhamento\n",
    "    * Desvio padrão populacional dos dados [ ]\n",
    "    * Variância populacional dos dados [ ]\n",
    "    * Desvio padrão amostral dos dados [ ]\n",
    "    * Variância amostral dos dados [ ] \n",
    "\n",
    "Procure a definição destas métricas para fazer sua implementação. Vamos comparar mais tarde com implementações prontas e disponíveis na __NumPY__.  "
   ]
  },
  {
   "cell_type": "markdown",
   "metadata": {},
   "source": [
    "__Exercício 3: Implementações baseadas no uso de listas e baseadas em _ndarrays_ .__\n",
    "\n",
    "Utilizando a classe ListaSalários como base, faça uma avaliação de vantagens e desvantagens de utilizar um _ndarray_ no lugar de uma lista para armazenar os valores. Que tipo de testes poderiamos propor para comparar estas implementações."
   ]
  },
  {
   "cell_type": "markdown",
   "metadata": {},
   "source": [
    "__Exercício 4: Novas classes.__\n",
    "\n",
    "Desenhe a classe ``ListaNotas`` para armazenar uma lista de notas em uma disciplina. Que novos métodos poderia ter a classe?"
   ]
  }
 ],
 "metadata": {
  "kernelspec": {
   "display_name": "Python 3 (ipykernel)",
   "language": "python",
   "name": "python3"
  },
  "language_info": {
   "codemirror_mode": {
    "name": "ipython",
    "version": 3
   },
   "file_extension": ".py",
   "mimetype": "text/x-python",
   "name": "python",
   "nbconvert_exporter": "python",
   "pygments_lexer": "ipython3",
   "version": "3.10.13"
  }
 },
 "nbformat": 4,
 "nbformat_minor": 2
}
