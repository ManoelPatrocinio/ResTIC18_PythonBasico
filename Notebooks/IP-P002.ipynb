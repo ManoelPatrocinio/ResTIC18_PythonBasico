{
 "cells": [
  {
   "cell_type": "markdown",
   "metadata": {},
   "source": [
    "<img align=\"center\" style=\"padding-right:10px;\" src=\"Figuras/IP-01-fig_01.png\">\n",
    "\n",
    "# INSTRUÇÃO PRÁTICA - IP-P002\n",
    "## PP - PROGRAMAÇÃO EM PYTHON\n",
    "### OBJETIVOS DA ATIVIDADE\n",
    "\n",
    "Avaliar as limitações dos tipos de dados básicos em python e a alternativa oferecida pelos __ndarrays__ do pacote __NumPy__, na manipulação da grandes volumes de dados. Trabalhar com os atributos e métodos disponibilizados pelas classes do __NumPy__. Explorar as diferentes formas de acessar matrizes e vetores criados com __NumPy__.\n"
   ]
  },
  {
   "cell_type": "markdown",
   "metadata": {},
   "source": [
    "### Contextualização\n",
    "\n",
    "Na atividade anterior trabalhamos com a implementação de um conjunto de classes para armazenar diferentes tipos de dados visando a realização posterior de análise estatístico dos mesmos. Estes dados foram armazenados internamente na forma de listas __Python__. Entretanto, o desempenho do processamento das listas é uma fator limitante, particularmente quando se trabalha com grandes volumes de dados. "
   ]
  },
  {
   "cell_type": "markdown",
   "metadata": {},
   "source": [
    "__Exercício 1: avaliando o desempenho das listas__\n",
    "\n",
    "As classes ``ListaIdade`` e ``ListaSalarios``  armazenam tipos de dados inteiros e de ponto flutuante. Vamos explorar o que acontece quando trabalhamos com grandes volumes de dados.\n",
    "* Implemente uma função ``geraListaIdades`` para a qual você fornece a quantidade de itens a ser gerados e ela retorna um objeto da classe ``ListaIdade`` com idades geradas de forma aleatória. A função tem como parâmetro de entrada também a idade mínima e máxima, ou seja o intervalo em que as idades devem ser geradas. Se o usuário não fornecer o intervalo a função gera idades entre 18 e 65 anos.\n",
    "\n",
    "__Observação__: Repare que não conseguimos utilizar o método da classe ``entradaDeDados`` para adicionar as idades, geradas de forma aleatória, na lista. Será necessário então criar novos métodos ou modificar os atuais.\n",
    "\n",
    "__Sugestão__: Modificar o construtor da classe para que e possa receber uma lista de inteiros e construa a instância a partir desta lista.  \n",
    "\n",
    "__Sugestão__: Explore o pacote ``random`` e a funão ``randint`` do mesmo."
   ]
  },
  {
   "cell_type": "code",
   "execution_count": null,
   "metadata": {},
   "outputs": [],
   "source": [
    "def geraListaIdade(n, iMin = 18, iMax = 65):\n",
    "    pass"
   ]
  },
  {
   "cell_type": "markdown",
   "metadata": {},
   "source": [
    "* Implemente uma função ``geraListaSalario`` para a qual você fornece a quantidade de itens a ser gerados e ela retorna um objeto da classe ``ListaSalario`` com salários gerados de forma aleatória. A função tem como parâmetro de entrada também o salário mínimo e máximo, ou seja o intervalo em que os salários devem ser geradas. Se o usuário não fornecer o intervalo a função gera valres entre um e 10 salários mínimos.\n",
    "\n",
    "__Observação__: Repare que não conseguimos utilizar o método da classe ``entradaDeDados`` para adicionar os salários, gerados de forma aleatória, na lista. Será necessário então criar novos métodos ou modificar os atuais.\n",
    "\n",
    "__Sugestão__: Modificar o construtor da classe para que e possa receber uma lista de valores de ponto flutuante e construa a instância a partir desta lista.\n",
    "\n",
    "__Sugestão__: Explore o pacote ``random`` e a funão ``random`` do mesmo."
   ]
  },
  {
   "cell_type": "code",
   "execution_count": null,
   "metadata": {},
   "outputs": [],
   "source": [
    "# Pesquise sobre o valor do salário mínimo no Brasil\n",
    "def geraListaSalarios(n, sMin = 1000, sMax = 5000):\n",
    "    pass"
   ]
  },
  {
   "cell_type": "markdown",
   "metadata": {},
   "source": [
    "* Agora vamos testar o desempenho das classes implementadas. \n",
    "    \n",
    "    * Gere um objeto da classe ListaIdade com 5000 idades.\n",
    "    * Com ajuda do comando mágico ``%timeit`` identifique quanto tempo demora para executar o método ``mostraMediana``.\n",
    "    * Com ajuda do comando mágico ``%timeit`` identifique quanto tempo demora para executar o método ``mostraMenor``.\n",
    "    * Com ajuda do comando mágico ``%timeit`` identifique quanto tempo demora para executar o método ``mostraMaior``.\n",
    "    * Gere um objeto da classe ListaSalario com 5000 salários.\n",
    "    * Com ajuda do comando mágico ``%timeit`` identifique quanto tempo demora para executar o método ``mostraMediana``.\n",
    "    * Com ajuda do comando mágico ``%timeit`` identifique quanto tempo demora para executar o método ``mostraMenor``.\n",
    "    * Com ajuda do comando mágico ``%timeit`` identifique quanto tempo demora para executar o método ``mostraMaior``."
   ]
  },
  {
   "cell_type": "markdown",
   "metadata": {},
   "source": [
    "__Exercício 2: Utilizando NumPy__\n",
    "\n",
    "Antes de fazer modificações nas classes exploradas no exercício anterior.\n",
    "* Pesquise na documentação de __NumPy__ pelos recursos do módulo ``random`` e veja se temos uma alternativa para gerar um _ndarray_ com valores inteiros aleatórios num determinado intervalo (idade mínima e máxima).\n",
    "* Vamos criar um _ndarray_ a partir da ListaIdade criada no exercício anterior.\n",
    "* Pesquise na documentação de __NumPy__ pelos recursos do módulo ``random`` e veja se temos uma alternativa para gerar um _ndarray_ com valores de ponto flutuante aleatórios num determinado intervalo (salário mínimo e máximo).\n",
    "* Vamos criar um _ndarray_ a partir da ListaSalario criada no exercício anterior.\n",
    "* Pesquise na documentação de __NumPy__ pelos recursos disponíveis para determinar a mediana, o valor mínimo e máximo de um _ndarray_. Compare o desempenho dos recursos disponíveis com o dos métodos testados no exercício anterior."
   ]
  },
  {
   "cell_type": "markdown",
   "metadata": {},
   "source": [
    "### Fechamento da atividade\n",
    "\n",
    "Utilizem o __Discord__ para tirar suas dúvidas sobre as atividades e interagir com os membros da sua equipe, com outros residentes, com a tutora ou com o professor;\n",
    "Garanta que seu repositório do __GitHub__ esteja atualizado com todos os branch e versão final do branch principal.\n",
    "\n",
    "<img align=\"center\" style=\"padding-right:10px;\" src=\"Figuras/IP-01-fig_02.png\">"
   ]
  }
 ],
 "metadata": {
  "kernelspec": {
   "display_name": "Python 3 (ipykernel)",
   "language": "python",
   "name": "python3"
  },
  "language_info": {
   "codemirror_mode": {
    "name": "ipython",
    "version": 3
   },
   "file_extension": ".py",
   "mimetype": "text/x-python",
   "name": "python",
   "nbconvert_exporter": "python",
   "pygments_lexer": "ipython3",
   "version": "3.10.13"
  }
 },
 "nbformat": 4,
 "nbformat_minor": 2
}
