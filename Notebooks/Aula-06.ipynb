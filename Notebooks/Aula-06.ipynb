{
 "cells": [
  {
   "cell_type": "markdown",
   "metadata": {},
   "source": [
    "# Módulo de Programação Python\n",
    "\n",
    "# Trilha Python - Aula 1: Estruturando um código em Python usando módulos e pacotes\n",
    " \n",
    "<img align=\"center\" style=\"padding-right:10px;\" src=\"Figuras/aula-06_fig_01.png\">"
   ]
  },
  {
   "cell_type": "markdown",
   "metadata": {},
   "source": [
    "__Objetivo__:  Introduzir o conceito de pacotes e módulos em Python e de estruturação do código com ajuda dos mesmos. Apresentar as formas de carregar um módulo e entender o caminho de busca. Discutir  as implicações de cada uma das estratégias para importar um módulo nos escopos dos espaços de nomes (namespace) de cada módulo, em relação ao namespace do programa; "
   ]
  },
  {
   "cell_type": "markdown",
   "metadata": {},
   "source": [
    "## Módulos\n",
    "\n",
    "Módulos em __Python__ representam a unidade mais alta de organização de um programa, capas de armazenar códigos e dados para serem reutilizados. Os mecanismos disponíveis para carregar os recursos dos módulos foram pensados visando serem simples de usar e, na medida do possível, para minimizar conflitos de nomes.\n",
    "\n",
    "* Um programa em Python consiste, basicamente, em um ou mais arquivos de texto contendo declarações Python. \n",
    "* Um dos arquivo é o arquivo principal, que pode fazer uso ou não, de arquivos suplementares que são chamados de módulos. O arquivo principal passa a ser então o módulo ``__main__``.\n",
    "\n",
    "<img align=\"center\" style=\"padding-right:10px;\" src=\"Figuras/aula-06_fig_02.png\">\n"
   ]
  },
  {
   "cell_type": "markdown",
   "metadata": {},
   "source": [
    "Como funciona o processo de importar um módulo?\n",
    "\n",
    "* Procura-se o arquivo do módulo;\n",
    "* Uma vez encontrado o arquivo é compilado para _byte code_; \n",
    "    * Explore a pasta ``__pycache__`` onde estão os módulos que você está usando;\n",
    "* Se executa o módulo para gerar os objetos nele definidos;\n",
    "\n",
    "Onde e em qual ordem buscar pelos arquivos de módulos \n",
    "\n",
    "1. Na pasta da aplicação;\n",
    "2. No caminho do __PYTHONPATH__;\n",
    "3. No caminho padrão das bibliotecas;\n",
    "4. Nas pastas indicadas nos arquivos .pth;\n",
    "5. Nos sítios definidos por bibliotecas de terceiros;\n",
    "\n",
    "Podemos utilizar\n",
    "\n",
    "a. Módulos da biblioteca padrão de __Pytho__;\n",
    "\n",
    "b. Módulos desenvolvidos por terceiros;\n",
    "\n",
    "c. Nossos próprios módulos.\n"
   ]
  },
  {
   "cell_type": "markdown",
   "metadata": {},
   "source": [
    "Desta forna, criar módulos é algo que a maioria dos programadores __Python__ faz o tempo todo, mesmo sem pensar nisso: Sempre que você salva um novo script __Python__, você cria um novo módulo. \n",
    "\n",
    "Uma vez criado você pode, por exemplo, importar seu módulo em outro módulo ou executar ele com módulo ``__main__`` .\n",
    "\n",
    "Um pacote é uma coleção de módulos relacionados de alguma forma. As coisas que você importa para seus scripts da biblioteca padrão são módulos ou pacotes. Nesta aula vamos aprender como criar módulos e pacotes. "
   ]
  },
  {
   "cell_type": "markdown",
   "metadata": {},
   "source": [
    "Começamos pela criação de um módulo que é mais simples.\n",
    "\n",
    "Nesta pasta criamos o arquivo ``moduloMat.py``.\n",
    "\n",
    "Os nomes dos módulos viram variáveis quando importados. Desta forma, na hora de escolher nomes dos seus arquivos de script __Python__, a eles se aplicam as mesmas restrições que a variáveis.\n",
    "\n",
    "Os módulos podem ser importados de forma simples:\n"
   ]
  },
  {
   "cell_type": "code",
   "execution_count": 1,
   "metadata": {},
   "outputs": [
    {
     "name": "stdout",
     "output_type": "stream",
     "text": [
      "type(soma) =  <class 'int'>\n",
      "type(moduloMat) =  <class 'module'>\n",
      "type(moduloMat.soma) =  <class 'function'>\n",
      "A soma de 4 e 2 é 6\n"
     ]
    }
   ],
   "source": [
    "# variável de escopo global\n",
    "soma = 0\n",
    "# importando o módulo que implementa a função de soma\n",
    "import moduloMat\n",
    "print(\"type(soma) = \", type(soma))\n",
    "print(\"type(moduloMat) = \", type(moduloMat))\n",
    "print(\"type(moduloMat.soma) = \", type(moduloMat.soma))\n",
    "a = 4\n",
    "b = 2\n",
    "# chamando a função soma do módulo\n",
    "soma = moduloMat.soma(a, b)\n",
    "print(\"A soma de\", a, \"e\", b, \"é\", soma)"
   ]
  },
  {
   "cell_type": "markdown",
   "metadata": {},
   "source": [
    "Quando importamos um módulo com ``import`` atribuímos a uma variável todos os recursos declarados no mesmo. \n",
    "\n",
    "A variável assume o mesmo nome do módulo. Para acessar seus recursos utilizamos o nome da variável seguido de ponto e o nome do recursos que desejamos utilizar. \n",
    "\n",
    "Esta forma de importar separa, num espaço de nomes associado à variável, o espaço de nomes declarado no módulo, evitando conflitos com o espaço de nomes local. \n",
    "\n",
    "Entretanto, utilizar o nome do módulo pode ser trabalhoso, sobre tudo quando utilizamos os recursos com muita frequência e o nome é longo e complexo. Neste caso podemos utilizar uma versão alternativa do ``import`` que define um alias ."
   ]
  },
  {
   "cell_type": "code",
   "execution_count": 2,
   "metadata": {},
   "outputs": [
    {
     "name": "stdout",
     "output_type": "stream",
     "text": [
      "type(soma) =  <class 'int'>\n",
      "type(mm) =  <class 'module'>\n",
      "type(mm.soma) =  <class 'function'>\n",
      "A soma de 4 e 2 é 6\n"
     ]
    }
   ],
   "source": [
    "# variável de escopo global\n",
    "soma = 0\n",
    "# importando o módulo que implementa a função de soma\n",
    "import moduloMat as mm\n",
    "print(\"type(soma) = \", type(soma))\n",
    "print(\"type(mm) = \", type(mm))\n",
    "print(\"type(mm.soma) = \", type(mm.soma))\n",
    "a = 4\n",
    "b = 2\n",
    "# chamando a função soma do módulo\n",
    "soma = mm.soma(a, b)\n",
    "print(\"A soma de\", a, \"e\", b, \"é\", soma)"
   ]
  },
  {
   "cell_type": "markdown",
   "metadata": {},
   "source": [
    "Também é possível importar os recursos de um módulo utilizando ``from ... import``."
   ]
  },
  {
   "cell_type": "code",
   "execution_count": 3,
   "metadata": {},
   "outputs": [
    {
     "name": "stdout",
     "output_type": "stream",
     "text": [
      "type(soma) =  <class 'int'>\n",
      "type(soma) =  <class 'function'>\n",
      "A soma de 4 e 2 é 6\n"
     ]
    }
   ],
   "source": [
    "# variável de escopo global\n",
    "soma = 0\n",
    "print(\"type(soma) = \", type(soma))\n",
    "# importando o módulo que implementa a função de soma\n",
    "from moduloMat import soma\n",
    "print(\"type(soma) = \", type(soma))\n",
    "a = 4\n",
    "b = 2\n",
    "# chamando a função soma do módulo\n",
    "novaSoma = soma(a, b)\n",
    "print(\"A soma de\", a, \"e\", b, \"é\", novaSoma)"
   ]
  },
  {
   "cell_type": "markdown",
   "metadata": {},
   "source": [
    "Vejam que, neste caso, trazemos uma varável do namespace do módulo para o namespace local. O exemplo anterior mostra que este tipo de abordagem pode criar conflitos de nomes. \n",
    "Com ``from ... import`` podemos importar vário recursos e até o namespace total do módulo. "
   ]
  },
  {
   "cell_type": "code",
   "execution_count": 4,
   "metadata": {},
   "outputs": [
    {
     "name": "stdout",
     "output_type": "stream",
     "text": [
      "type(soma) =  <class 'int'>\n",
      "type(soma) =  <class 'function'>\n",
      "A soma de 4 e 2 é 6\n",
      "A multiplicação de 4 e 2 é 8\n"
     ]
    }
   ],
   "source": [
    "# variável de escopo global\n",
    "soma = 0\n",
    "print(\"type(soma) = \", type(soma))\n",
    "# importando o módulo que implementa a função de soma\n",
    "from moduloMat import *  # importa todas as funções do módulo\n",
    "print(\"type(soma) = \", type(soma))\n",
    "a = 4\n",
    "b = 2\n",
    "# chamando a função soma do módulo\n",
    "novaSoma = soma(a, b)\n",
    "print(\"A soma de\", a, \"e\", b, \"é\", novaSoma)\n",
    "print(\"A multiplicação de\", a, \"e\", b, \"é\", multiplicação(a, b))"
   ]
  },
  {
   "cell_type": "markdown",
   "metadata": {},
   "source": [
    "A utilização de módulos pode ser útil também para organizar e estruturar o desenvolvimento de um aplicativo. Veja a estrutura criada na pasta ``meuApp``. "
   ]
  },
  {
   "cell_type": "code",
   "execution_count": 5,
   "metadata": {},
   "outputs": [
    {
     "name": "stdout",
     "output_type": "stream",
     "text": [
      "__main__.py   \u001b[34m__pycache__\u001b[m\u001b[m/  interface.py  recursos.py\n"
     ]
    }
   ],
   "source": [
    "%ls meuApp"
   ]
  },
  {
   "cell_type": "markdown",
   "metadata": {},
   "source": [
    "Repare que temos Três módulos e um deles tem o incomum nome ``__main__.py``. Quando queremos empacotar uma aplicativo de forma que __Python__ saiba qual script é módulo `` __main__``, basta criar um script com este nome. Repare na implementação dos módulos.\n",
    "\n",
    "``__main__.py``\n",
    "\n",
    "<img align=\"center\" style=\"padding-right:10px;\" src=\"Figuras/aula-06_fig_03.png\">\n",
    "\n",
    "``interface.py``\n",
    "\n",
    "<img align=\"center\" style=\"padding-right:10px;\" src=\"Figuras/aula-06_fig_04.png\">\n",
    "\n",
    "``recursos.py``\n",
    "\n",
    "<img align=\"center\" style=\"padding-right:10px;\" src=\"Figuras/aula-06_fig_05.png\">"
   ]
  },
  {
   "cell_type": "markdown",
   "metadata": {},
   "source": [
    "Repare que no ``__main__.py__`` utilizamos um `.` no ``import``. Isto se deve a que o módulo não está no caminho. Vamos falar sobre como isso mais para frente no curso. Por enquanto esta sintaxes especifica para procurar o pacote na pasta local do módulo. \n",
    "\n",
    "Vamos executar o aplicativo!!!\n",
    "\n",
    "Execute num terminal, na pasta deste notebook o comando: ``python -m meuApp``\n",
    "\n",
    "<img align=\"center\" style=\"padding-right:10px;\" src=\"Figuras/aula-06_fig_06.png\">"
   ]
  },
  {
   "cell_type": "markdown",
   "metadata": {},
   "source": [
    "Esta forma de executar módulos será utilizada outras vezes e é muito útil.\n",
    "\n",
    "As vezes se faz necessário estruturar os recursos num conjunto de módulos que estão relacionados entre se. Nestes casos se pode adotar a estratégia de organizar os módulos em pacotes.  "
   ]
  },
  {
   "cell_type": "markdown",
   "metadata": {},
   "source": [
    "## Pacotes\n",
    "\n",
    "A principal diferença entre um módulo e um pacote é que um pacote é uma coleção de módulos e possui um arquivo ``__init__.py``. \n",
    "Dependendo da complexidade do pacote, ele pode ter mais de um ``__init__.py``. Vamos dar uma olhada em uma estrutura de pastas simples para tornar isso mais óbvio e, em seguida, criaremos um código para seguir a estrutura que definimos."
   ]
  },
  {
   "cell_type": "code",
   "execution_count": 6,
   "metadata": {},
   "outputs": [
    {
     "name": "stdout",
     "output_type": "stream",
     "text": [
      "Na pasta raiz deste notebook tempos uma pasta pacote: \n",
      "Aula-01.ipynb\n",
      "Aula-02.ipynb\n",
      "Aula-03.ipynb\n",
      "Aula-04.ipynb\n",
      "Aula-05.ipynb\n",
      "Aula-06.ipynb\n",
      "Aula-07.ipynb\n",
      "Aula-08.ipynb\n",
      "Aula-09.ipynb\n",
      "\u001b[34mFiguras\u001b[m\u001b[m/\n",
      "IP-P001.ipynb\n",
      "IP-P002.ipynb\n",
      "IP-P003.ipynb\n",
      "Notas Para um Curso de Introdução a POO com Python.ipynb\n",
      "PP-P001.ipynb\n",
      "README.md\n",
      "\u001b[34m__pycache__\u001b[m\u001b[m/\n",
      "main.py\n",
      "\u001b[34mmeuApp\u001b[m\u001b[m/\n",
      "moduloMat.py\n",
      "\u001b[34mpacote\u001b[m\u001b[m/\n",
      "script_001.py\n",
      "testeModuloMat.py\n"
     ]
    }
   ],
   "source": [
    "print(\"Na pasta raiz deste notebook tempos uma pasta pacote: \")\n",
    "%ls"
   ]
  },
  {
   "cell_type": "code",
   "execution_count": 7,
   "metadata": {},
   "outputs": [
    {
     "name": "stdout",
     "output_type": "stream",
     "text": [
      "Na pasta pacote temos os módulos:  classes e recursos\n",
      "Ainda temos a pasta testando\n",
      "__init__.py  __main__.py  \u001b[34m__pycache__\u001b[m\u001b[m/ classes.py   recursos.py  \u001b[34mtestando\u001b[m\u001b[m/\n"
     ]
    }
   ],
   "source": [
    "print(\"Na pasta pacote temos os módulos:  classes e recursos\")\n",
    "print(\"Ainda temos a pasta testando\")\n",
    "%ls pacote"
   ]
  },
  {
   "cell_type": "code",
   "execution_count": 8,
   "metadata": {},
   "outputs": [
    {
     "name": "stdout",
     "output_type": "stream",
     "text": [
      "Na pasta testando temos o módulo:  testes\n",
      "__init__.py  \u001b[34m__pycache__\u001b[m\u001b[m/ testes.py\n"
     ]
    }
   ],
   "source": [
    "print(\"Na pasta testando temos o módulo:  testes\")\n",
    "%ls pacote/testando"
   ]
  },
  {
   "cell_type": "markdown",
   "metadata": {},
   "source": [
    "Nas respectivas pastas do pacote tem os arquivos ``__iniy__.py``. Vamos renomear estes arquivos inicialmente. "
   ]
  },
  {
   "cell_type": "code",
   "execution_count": 9,
   "metadata": {},
   "outputs": [
    {
     "name": "stdout",
     "output_type": "stream",
     "text": [
      "Removendo o arquivo __init__.py da pasta pacote\n",
      "__main__.py  \u001b[34m__pycache__\u001b[m\u001b[m/ classes.py   init.py      recursos.py  \u001b[34mtestando\u001b[m\u001b[m/\n",
      "Removendo o arquivo __init__.py da pasta testando\n",
      "\u001b[34m__pycache__\u001b[m\u001b[m/ init.py      testes.py\n"
     ]
    }
   ],
   "source": [
    "print(\"Removendo o arquivo __init__.py da pasta pacote\")\n",
    "%mv pacote/__init__.py pacote/init.py\n",
    "%ls pacote\n",
    "print(\"Removendo o arquivo __init__.py da pasta testando\")\n",
    "%mv pacote/testando/__init__.py pacote/testando/init.py\n",
    "%ls pacote/testando\n",
    "\n"
   ]
  },
  {
   "cell_type": "markdown",
   "metadata": {},
   "source": [
    "Agora vamos implementar nossos módulos. "
   ]
  },
  {
   "cell_type": "code",
   "execution_count": 10,
   "metadata": {},
   "outputs": [
    {
     "name": "stdout",
     "output_type": "stream",
     "text": [
      "\n",
      "\n",
      "from math import atan2, sin, cos\n",
      "\n",
      "class Ponto:\n",
      "    ''' A Classe Ponto é utilizada para ilustrar a implementação de\n",
      "        classes em Python e instanciação das mesmas pela criação de\n",
      "        objetos derivados desta classe. Ela implementa um modelo de \n",
      "        ponto no plano cartesiano. \n",
      "    '''\n",
      "    # incluímos um novo atributo na definição do corpo da classe\n",
      "    contador = 0 \n",
      "    \n",
      "    \n",
      "    def __init__(self, pCar = None, pPol = None, outroPonto = None):\n",
      "        ''' \n",
      "            Inicialização de um ponto no plano. Utilizamos coordenadas cartesianas\n",
      "            e coordenadas polares para representar o ponto em relação à origem do\n",
      "            sistema de coordenadas. As coordenadas do ponto podem ser fornecidas\n",
      "            como coordenadas cartesianas, polares ou ainda como outro ponto. Caso os\n",
      "            valores não sejam definidos o ponto sera criado com \n",
      "            coordenadas na origem do sistema de coordenadas.\n",
      "            Cada ponto criado ganha um id único construído com base\n",
      "            no atributo contador. O atributo também permite contabilizar \n",
      "            quantas instâncias da classe já foram criadas. \n",
      "            O construtor pode ser chamado de três formas diferentes:\n",
      "            1. Utilizando uma dupla com as coordenadas x,y do ponto\n",
      "            em coordenadas cartesianas: \n",
      "            p1 = Ponto(pCar = (1.0,2.3)) \n",
      "            2. Utilizando uma dupla com as coordenadas rho,theta do ponto\n",
      "            em coordenadas polares:\n",
      "            p1 = Ponto(pPol = (1,3.14))\n",
      "            3. Utilizando outro ponto:\n",
      "            p2 = Ponto(outroPonto = p1)\n",
      "            4. Ou ainda sem parâmetros:\n",
      "        '''\n",
      "        if pCar: \n",
      "            x, y = pCar\n",
      "            self.__x = x \n",
      "            self.__y = y\n",
      "            self.__rho, self.__theta = Ponto.cart2pol(self.__x, self.__y)\n",
      "        elif pPol:\n",
      "            rho, theta = pPol\n",
      "            self.__rho = rho\n",
      "            self.__theta = theta\n",
      "            self.__x, self.__y = Ponto.pol2cart(self.__rho, self.__theta)\n",
      "        elif outroPonto and type(outroPonto) == 'Ponto':\n",
      "            self.__x = outroPonto.__x\n",
      "            self.__y = outroPonto.__y\n",
      "            self.__rho = outroPonto.__rho\n",
      "            self.__theta = outroPonto.__theta\n",
      "        else:\n",
      "            self.moveXYPara()\n",
      "        \n",
      "        # Acessando o atributo da classe\n",
      "        Ponto.contador += 1       # Podemos referencia assim\n",
      "        self._id = \"Ponto-\" + str(self.contador)   # ou assim\n",
      "\n",
      "    # métodos da classe\n",
      "    def cart2pol(x, y):\n",
      "        rho = (x**2 + y**2)**0.5\n",
      "        theta = atan2(y, x)\n",
      "        return rho, theta\n",
      "    \n",
      "    def pol2cart(rho, theta):\n",
      "        x = rho * cos(theta)\n",
      "        y = rho * sin(theta)\n",
      "        return x, y\n",
      "    \n",
      "    def clonarPonto(self):\n",
      "        return Ponto((self.__x, self.__y))\n",
      "        #return Ponto(pCar = (self.__x, self.__y))\n",
      "        #return Ponto(pPol = (self.__rho, self.__theta))\n",
      "        #return Ponto(None, (self.__rho, self.__theta))\n",
      "        #return Ponto(outroPonto = self)\n",
      "        #return Ponto(None, None, self)\n",
      "\n",
      "    def moveXYPara(self, x = 0, y = 0):\n",
      "        ''' Move o ponto para as novas coordenadas (x, y) definidas nos \n",
      "            parâmetros de entrada. Caso não sejam definidos os valores \n",
      "            das novas coordenadas, o ponto sera deslocado para a origem.\n",
      "        '''\n",
      "        self.__x = x\n",
      "        self.__y = y\n",
      "        self.__rho, self.__theta = Ponto.cart2pol(self.__x, self.__y)\n",
      "        \n",
      "    def moveXPara(self, x = 0):\n",
      "        '''\n",
      "        \n",
      "        '''\n",
      "        self.__x = x\n",
      "        self.__rho, self.__theta = Ponto.cart2pol(self.__x, self.__y)\n",
      "        \n",
      "    def moveYPara(self, y = 0):\n",
      "        '''\n",
      "        \n",
      "        '''\n",
      "        self.__y = y\n",
      "        self.__rho, self.__theta = Ponto.cart2pol(self.__x, self.__y)\n",
      "\n",
      "    def naOrigem(self):\n",
      "        '''Move o ponto para a origem do sistema de coordenadas cartesianas.'''\n",
      "        self.moveXYPara()       \n",
      "    \n",
      "    def moveRhoThetaPara(self, rho = 0, theta = 0):\n",
      "        '''\n",
      "        \n",
      "        '''\n",
      "        self.__rho = rho\n",
      "        self.__theta = theta\n",
      "        self.__x, self.__y = Ponto.pol2cart(self.__rho, self.__theta)\n",
      "\n",
      "    def moveRhoPara(self, rho = 0):\n",
      "        '''\n",
      "        \n",
      "        '''\n",
      "        self.__rho = rho\n",
      "        self.__x, self.__y = Ponto.pol2cart(self.__rho, self.__theta)\n",
      "\n",
      "    def moveThetaPara(self, theta = 0):\n",
      "        '''\n",
      "        \n",
      "        '''\n",
      "        self.__theta = theta\n",
      "        self.__x, self.__y = Ponto.pol2cart(self.__rho, self.__theta)\n",
      "        \n",
      "    def distânciaAté(self, outroPonto):\n",
      "        ' Calcula a distância deste ponto até um outro ponto'\n",
      "        dist = ( (self.__x - outroPonto.__x)**2 + \n",
      "                    (self.__y - outroPonto.__y)**2 )**0.5\n",
      "        return dist"
     ]
    }
   ],
   "source": [
    "%cat pacote/classes.py"
   ]
  },
  {
   "cell_type": "code",
   "execution_count": 11,
   "metadata": {},
   "outputs": [
    {
     "name": "stdout",
     "output_type": "stream",
     "text": [
      "from pacote import Ponto\n",
      "#from pacote.classes import Ponto\n",
      "\n",
      "def ordenaPontos(pontos):\n",
      "    \"\"\"Ordena uma lista de pontos em ordem crescente da distância \n",
      "    ao centro do sistema de coordenadas.\n",
      "\n",
      "    Args:\n",
      "        pontos (list): Lista de pontos\n",
      "\n",
      "    Returns:\n",
      "        list: Lista de pontos ordenada\n",
      "    \"\"\"\n",
      "    return sorted(pontos, key=lambda p: p.distânciaAté(Ponto()))"
     ]
    }
   ],
   "source": [
    "%cat pacote/recursos.py"
   ]
  },
  {
   "cell_type": "code",
   "execution_count": 12,
   "metadata": {},
   "outputs": [
    {
     "name": "stdout",
     "output_type": "stream",
     "text": [
      "def teste(p1, p2):    \n",
      "    try:\n",
      "        assert p1.distânciaAté(p2) == p2.distânciaAté(p1)\n",
      "        return True\n",
      "    except AssertionError:\n",
      "        return False"
     ]
    }
   ],
   "source": [
    "%cat pacote/testando/testes.py"
   ]
  },
  {
   "cell_type": "markdown",
   "metadata": {},
   "source": [
    "Agora vamos utilizar o pacote"
   ]
  },
  {
   "cell_type": "code",
   "execution_count": 13,
   "metadata": {},
   "outputs": [
    {
     "name": "stdout",
     "output_type": "stream",
     "text": [
      "['__doc__', '__file__', '__loader__', '__name__', '__package__', '__path__', '__spec__', 'testando']\n",
      "['__doc__', '__file__', '__loader__', '__name__', '__package__', '__path__', '__spec__']\n"
     ]
    }
   ],
   "source": [
    "import pacote\n",
    "import pacote.testando\n",
    "print(dir(pacote))\n",
    "print(dir(pacote.testando))"
   ]
  },
  {
   "cell_type": "markdown",
   "metadata": {},
   "source": [
    "Como não temos o script de inicialização do pacote a pasta vira um grande repositório de módulos difícil de utilizar."
   ]
  },
  {
   "cell_type": "code",
   "execution_count": 3,
   "metadata": {},
   "outputs": [],
   "source": [
    "from random import randint"
   ]
  },
  {
   "cell_type": "code",
   "execution_count": 16,
   "metadata": {},
   "outputs": [
    {
     "name": "stdout",
     "output_type": "stream",
     "text": [
      "9.0\n",
      "3.1622776601683795\n",
      "8.94427190999916\n",
      "10.44030650891055\n",
      "9.219544457292887\n",
      "6.708203932499369\n",
      "10.0\n",
      "10.04987562112089\n",
      "6.324555320336759\n",
      "1.4142135623730951\n",
      "1.4142135623730951\n",
      "3.1622776601683795\n",
      "6.324555320336759\n",
      "6.708203932499369\n",
      "8.94427190999916\n",
      "9.0\n",
      "9.219544457292887\n",
      "10.0\n",
      "10.04987562112089\n",
      "10.44030650891055\n",
      "True\n"
     ]
    }
   ],
   "source": [
    "import pacote.classes\n",
    "import pacote.recursos\n",
    "import pacote.testando.testes\n",
    "\n",
    "pontos = []\n",
    "for i in range(10):\n",
    "    x = randint(0, 10)\n",
    "    y = randint(0, 10)\n",
    "    pontos.append(pacote.classes.Ponto((x, y)))\n",
    "for p in pontos:\n",
    "    print(p.distânciaAté(pacote.classes.Ponto((0, 0))))\n",
    "pontosOrd = pacote.recursos.ordenaPontos(pontos)\n",
    "for p in pontosOrd:\n",
    "    print(p.distânciaAté(pacote.classes.Ponto((0, 0))))\n",
    "\n",
    "#print(pacote.teste(pontos[0], pontos[1]))\n",
    "print(pacote.testando.testes.teste(pontos[0], pontos[1]))"
   ]
  },
  {
   "cell_type": "markdown",
   "metadata": {},
   "source": [
    "Os arquivos ``__init__.py`` permitem trabalhar o conceito de pacote ao integrar todos os módulos num único namespace. Vamos recuperar o arquivo da pasta raiz do pacote. "
   ]
  },
  {
   "cell_type": "code",
   "execution_count": 17,
   "metadata": {},
   "outputs": [],
   "source": [
    "%mv pacote/init.py pacote/__init__.py"
   ]
  },
  {
   "cell_type": "code",
   "execution_count": 19,
   "metadata": {},
   "outputs": [
    {
     "name": "stdout",
     "output_type": "stream",
     "text": [
      "from . classes import Ponto\n",
      "from . recursos import ordenaPontos\n",
      "from . testando.testes import teste"
     ]
    }
   ],
   "source": [
    "%cat pacote/__init__.py"
   ]
  },
  {
   "cell_type": "markdown",
   "metadata": {},
   "source": [
    "Agora vamos usar os módulos do pacote de forma mais simples."
   ]
  },
  {
   "cell_type": "code",
   "execution_count": 1,
   "metadata": {},
   "outputs": [
    {
     "name": "stdout",
     "output_type": "stream",
     "text": [
      "Ponto\n",
      "__builtins__\n",
      "__cached__\n",
      "__doc__\n",
      "__file__\n",
      "__loader__\n",
      "__name__\n",
      "__package__\n",
      "__path__\n",
      "__spec__\n",
      "classes\n",
      "ordenaPontos\n",
      "recursos\n",
      "testando\n",
      "teste\n"
     ]
    }
   ],
   "source": [
    "import pacote\n",
    "for item in dir(pacote):\n",
    "    print(item)"
   ]
  },
  {
   "cell_type": "code",
   "execution_count": 5,
   "metadata": {},
   "outputs": [
    {
     "name": "stdout",
     "output_type": "stream",
     "text": [
      "10.63014581273465\n",
      "12.206555615733702\n",
      "6.082762530298219\n",
      "6.0\n",
      "3.0\n",
      "10.04987562112089\n",
      "12.806248474865697\n",
      "7.211102550927978\n",
      "2.23606797749979\n",
      "9.055385138137417\n",
      "2.23606797749979\n",
      "3.0\n",
      "6.0\n",
      "6.082762530298219\n",
      "7.211102550927978\n",
      "9.055385138137417\n",
      "10.04987562112089\n",
      "10.63014581273465\n",
      "12.206555615733702\n",
      "12.806248474865697\n",
      "True\n"
     ]
    }
   ],
   "source": [
    "pontos = []\n",
    "for i in range(10):\n",
    "    x = randint(0, 10)\n",
    "    y = randint(0, 10)\n",
    "    pontos.append(pacote.Ponto((x, y)))\n",
    "for p in pontos:\n",
    "    print(p.distânciaAté(pacote.Ponto((0, 0))))\n",
    "pontosOrd = pacote.ordenaPontos(pontos)\n",
    "for p in pontosOrd:\n",
    "    print(p.distânciaAté(pacote.Ponto((0, 0))))\n",
    "\n",
    "print(pacote.teste(pontos[0], pontos[1]))\n",
    "#print(pacote.testando.teste(pontos[0], pontos[1]))"
   ]
  },
  {
   "cell_type": "markdown",
   "metadata": {},
   "source": [
    "Podemos testar usar a pasta testando como um sub-módulo, se isto for interessante para a estruturação do código. Neste caso podemos comentar va última linha do arquivo ``__init__.py``, pasta rais e utilizar o arquivo ``__init__.py`` da pasta testando.  "
   ]
  },
  {
   "cell_type": "code",
   "execution_count": null,
   "metadata": {},
   "outputs": [],
   "source": [
    "%cat pacote/__init__.py"
   ]
  },
  {
   "cell_type": "code",
   "execution_count": 6,
   "metadata": {},
   "outputs": [
    {
     "name": "stdout",
     "output_type": "stream",
     "text": [
      "from . testes import teste"
     ]
    }
   ],
   "source": [
    "%mv pacote/testando/init.py pacote/testando/__init__.py\n",
    "%cat pacote/testando/__init__.py"
   ]
  },
  {
   "cell_type": "code",
   "execution_count": null,
   "metadata": {},
   "outputs": [],
   "source": [
    "import pacote\n",
    "import pacote.testando\n",
    "print(dir(pacote))\n",
    "print(dir(pacote.testando))"
   ]
  },
  {
   "cell_type": "code",
   "execution_count": null,
   "metadata": {},
   "outputs": [],
   "source": [
    "pontos = []\n",
    "for i in range(10):\n",
    "    x = randint(0, 10)\n",
    "    y = randint(0, 10)\n",
    "    pontos.append(pacote.Ponto((x, y)))\n",
    "for p in pontos:\n",
    "    print(p.distânciaAté(pacote.Ponto((0, 0))))\n",
    "pontosOrd = pacote.ordenaPontos(pontos)\n",
    "for p in pontosOrd:\n",
    "    print(p.distânciaAté(pacote.Ponto((0, 0))))\n",
    "\n",
    "#print(pacote.teste(pontos[0], pontos[1]))\n",
    "print(pacote.testando.teste(pontos[0], pontos[1]))"
   ]
  },
  {
   "cell_type": "markdown",
   "metadata": {},
   "source": [
    "Nestes exemplos o processo todo funcionou porque a pasta pacote está na raiz do notebook. O pacote também pode estar em outras localizações. Mais adiante neste curso iremos estudar como empacotar e instalar um pacote.\n",
    "\n",
    "Por enquanto vamos focar em na utilização de pacotes e módulos da biblioteca padrão e de terceiros. Mas como fazer para gerenciar os pacotes que estão instalados?"
   ]
  }
 ],
 "metadata": {
  "kernelspec": {
   "display_name": "Python 3 (ipykernel)",
   "language": "python",
   "name": "python3"
  },
  "language_info": {
   "codemirror_mode": {
    "name": "ipython",
    "version": 3
   },
   "file_extension": ".py",
   "mimetype": "text/x-python",
   "name": "python",
   "nbconvert_exporter": "python",
   "pygments_lexer": "ipython3",
   "version": "3.10.13"
  }
 },
 "nbformat": 4,
 "nbformat_minor": 2
}
