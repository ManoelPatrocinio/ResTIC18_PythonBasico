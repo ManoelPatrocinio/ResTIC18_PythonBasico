{
 "cells": [
  {
   "cell_type": "markdown",
   "metadata": {},
   "source": [
    "# Módulo de Programação Python\n",
    "\n",
    "# Trilha Python - Aula 14: Utilizando Pandas - Introdução\n",
    "\n",
    "<img align=\"center\" style=\"padding-right:10px;\" src=\"Figuras/aula-14_fig_01.png\">"
   ]
  },
  {
   "cell_type": "markdown",
   "metadata": {},
   "source": [
    "__Objetivo__:   Trabalhar com pacotes e módulos disponíveis em __Python__: __Pandas__: Discutir a importância de obter, carregar e organizar grandes volumes de dados. Apresentar Pandas e suas funcionalidades e características básicas. "
   ]
  },
  {
   "cell_type": "markdown",
   "metadata": {},
   "source": [
    "## Contextualização\n",
    "\n",
    "Até aqui discutimos sobre a importância de trabalhar com estruturas de dados eficientes para armazenar grandes volumes de dados. Nas aulas anteriores foram apresentados os arrays de tipo fixo implementados na forma de _ndarrays_ da __NumPy__. \n",
    "\n",
    "Ainda que muito eficientes para armazenar e processar dados numéricos, os _ndarrays_ apresentam limitações para análise da dados não numéricos. \n",
    "\n",
    "Imaginem, no exemplo  que construímos na aula anterior, que queremos adicionar uma etiqueta ou rótulo a cada aluno com o nome ou o e-mail. \n",
    "\n",
    "O Pandas, e em particular seus objetos ``Series`` e ``DataFrame``, baseia-se no uso de _ndarrays_ de __NumPy__ e fornece acesso eficiente a esses tipos de tarefas de \"gestão de dados\" que ocupam muito do tempo de um cientista de dados.\n",
    "\n",
    "Vamos abordar então em como utilizar  ``Series``, ``DataFrame`` e estruturas relacionadas de forma eficaz."
   ]
  },
  {
   "cell_type": "markdown",
   "metadata": {},
   "source": [
    "No ambiente virtual que utilizamos até qui temos os pacotes e módulos para rodar o _jupyter notebook_ e __NumPY__. Vamos começar então por instalar __Pandas__"
   ]
  },
  {
   "cell_type": "code",
   "execution_count": 1,
   "metadata": {},
   "outputs": [],
   "source": [
    "#pip list\n",
    "#pip freeze > requirements.txt\n",
    "#cat requirements.txt\n",
    "#pip install pandas"
   ]
  },
  {
   "cell_type": "code",
   "execution_count": 2,
   "metadata": {},
   "outputs": [
    {
     "name": "stdout",
     "output_type": "stream",
     "text": [
      "Numpy version:  1.26.2\n",
      "Pandas bersion:  2.1.4\n"
     ]
    }
   ],
   "source": [
    "import numpy as np\n",
    "import pandas as pd\n",
    "print(\"Numpy version: \", np.__version__)\n",
    "print(\"Pandas bersion: \", pd.__version__)"
   ]
  },
  {
   "cell_type": "markdown",
   "metadata": {},
   "source": [
    "Os objetos Pandas podem ser considerados versões aprimoradas de matrizes _ndarrays_ de __NumPy__ nas quais as linhas e colunas são identificadas com rótulos em vez de simples índices inteiros. \n",
    "\n",
    "Da mesma forma que __NumPy__, ___Pandas__ fornece, além das estruturas de dados, uma série de ferramentas, métodos e funcionalidades úteis .\n",
    "\n",
    "Vamos começar aprestando as estruturas básicas de __Pandas__."
   ]
  },
  {
   "cell_type": "code",
   "execution_count": 3,
   "metadata": {},
   "outputs": [
    {
     "name": "stdout",
     "output_type": "stream",
     "text": [
      "8.61 7.07 5.29 4.47 7.08 "
     ]
    }
   ],
   "source": [
    "from random import uniform\n",
    "lista = [uniform(4, 10) for _ in range(5)]\n",
    "for val in lista:\n",
    "    print(f\"{val:.2f}\", end=\" \")"
   ]
  },
  {
   "cell_type": "markdown",
   "metadata": {},
   "source": [
    "### __Pandas__ ``Series``\n",
    "\n",
    "Uma ``Series`` __Pandas__ é uma matriz unidimensional de dados indexados. \n",
    "\n",
    "De forma simples um objeto da classe ``Series`` pode ser criado a partir de uma lista ou de um _ndarray_."
   ]
  },
  {
   "cell_type": "code",
   "execution_count": 4,
   "metadata": {},
   "outputs": [
    {
     "data": {
      "text/plain": [
       "0    8.609825\n",
       "1    7.068353\n",
       "2    5.288375\n",
       "3    4.467969\n",
       "4    7.084139\n",
       "dtype: float64"
      ]
     },
     "execution_count": 4,
     "metadata": {},
     "output_type": "execute_result"
    }
   ],
   "source": [
    "dSerie = pd.Series(lista)\n",
    "dSerie"
   ]
  },
  {
   "cell_type": "code",
   "execution_count": 5,
   "metadata": {},
   "outputs": [
    {
     "data": {
      "text/plain": [
       "0    8.609825\n",
       "1    7.068353\n",
       "2    5.288375\n",
       "3    4.467969\n",
       "4    7.084139\n",
       "dtype: float64"
      ]
     },
     "execution_count": 5,
     "metadata": {},
     "output_type": "execute_result"
    }
   ],
   "source": [
    "npArray = np.array(lista)\n",
    "dSerie = pd.Series(npArray)\n",
    "dSerie"
   ]
  },
  {
   "cell_type": "markdown",
   "metadata": {},
   "source": [
    "Reparem que um objeto ``Series`` consiste em uma sequência de valores e sua correspondente sequência de índices, que podemos acessar com os atributos  ``values`` e ``index``."
   ]
  },
  {
   "cell_type": "code",
   "execution_count": 6,
   "metadata": {},
   "outputs": [
    {
     "name": "stdout",
     "output_type": "stream",
     "text": [
      "[8.60982455 7.06835273 5.28837487 4.46796915 7.08413936]\n",
      "<class 'numpy.ndarray'>\n"
     ]
    }
   ],
   "source": [
    "print(dSerie.values)\n",
    "print(type(dSerie.values))"
   ]
  },
  {
   "cell_type": "markdown",
   "metadata": {},
   "source": [
    "Já o tributo ``index`` é um objeto semelhante a um _ndarray_, de tipo ``pd.Index``."
   ]
  },
  {
   "cell_type": "code",
   "execution_count": 7,
   "metadata": {},
   "outputs": [
    {
     "name": "stdout",
     "output_type": "stream",
     "text": [
      "RangeIndex(start=0, stop=5, step=1)\n",
      "<class 'pandas.core.indexes.range.RangeIndex'>\n"
     ]
    }
   ],
   "source": [
    "print(dSerie.index)\n",
    "print(type(dSerie.index))"
   ]
  },
  {
   "cell_type": "markdown",
   "metadata": {},
   "source": [
    "Os elementos de ``dSerie`` podem ser acessado via indexação."
   ]
  },
  {
   "cell_type": "code",
   "execution_count": 8,
   "metadata": {},
   "outputs": [
    {
     "data": {
      "text/plain": [
       "8.609824548937056"
      ]
     },
     "execution_count": 8,
     "metadata": {},
     "output_type": "execute_result"
    }
   ],
   "source": [
    "dSerie[0]"
   ]
  },
  {
   "cell_type": "code",
   "execution_count": 9,
   "metadata": {},
   "outputs": [
    {
     "data": {
      "text/plain": [
       "1    7.068353\n",
       "2    5.288375\n",
       "dtype: float64"
      ]
     },
     "execution_count": 9,
     "metadata": {},
     "output_type": "execute_result"
    }
   ],
   "source": [
    "dSerie[1:3]"
   ]
  },
  {
   "cell_type": "markdown",
   "metadata": {},
   "source": [
    "Pode parecer que um objeto da classe ``Sreies`` é semelhante a um _ndarrays_, podendo usar um o outro. Mas ..."
   ]
  },
  {
   "cell_type": "code",
   "execution_count": 11,
   "metadata": {},
   "outputs": [
    {
     "name": "stdout",
     "output_type": "stream",
     "text": [
      "7.08413936032588\n",
      "-1\n"
     ]
    }
   ],
   "source": [
    "print(dSerie.values[-1])\n",
    "try:\n",
    "    print(dSerie[-1])\n",
    "except Exception as e:\n",
    "    print(e)"
   ]
  },
  {
   "cell_type": "markdown",
   "metadata": {},
   "source": [
    "Entretanto, enquanto o _ndarray_ de __NumPy__ possui um índice inteiro, definido implicitamente, usado para acessar os valores, os objetos ``Series`` de __Pandas__ possuem um índice definido explicitamente, associado ao conjunto de valores.\n",
    "\n",
    "Essa definição explícita de índice fornece recursos adicionais como, por exemplo, o fato de que o índice não precisa ser um número inteiro, mas pode consistir em valores de qualquer tipo desejado. \n",
    "\n",
    "Por exemplo, se desejarmos, podemos usar strings como índice:"
   ]
  },
  {
   "cell_type": "code",
   "execution_count": 13,
   "metadata": {},
   "outputs": [
    {
     "data": {
      "text/plain": [
       "alpha      8.609825\n",
       "beta       7.068353\n",
       "gamma      5.288375\n",
       "delta      4.467969\n",
       "epsilon    7.084139\n",
       "dtype: float64"
      ]
     },
     "execution_count": 13,
     "metadata": {},
     "output_type": "execute_result"
    }
   ],
   "source": [
    "dSerie = pd.Series(lista, index=['alpha', 'beta', 'gamma', 'delta', 'epsilon'])\n",
    "dSerie"
   ]
  },
  {
   "cell_type": "code",
   "execution_count": 14,
   "metadata": {},
   "outputs": [
    {
     "name": "stdout",
     "output_type": "stream",
     "text": [
      "7.08413936032588\n",
      "7.08413936032588\n"
     ]
    }
   ],
   "source": [
    "print(dSerie.values[-1])\n",
    "print(dSerie['epsilon'])"
   ]
  },
  {
   "cell_type": "markdown",
   "metadata": {},
   "source": [
    "Podemos inclusive usar índices inteiros não contíguos ou não sequenciais."
   ]
  },
  {
   "cell_type": "code",
   "execution_count": 15,
   "metadata": {},
   "outputs": [
    {
     "data": {
      "text/plain": [
       "99    8.609825\n",
       "87    7.068353\n",
       "65    5.288375\n",
       "43    4.467969\n",
       "21    7.084139\n",
       "dtype: float64"
      ]
     },
     "execution_count": 15,
     "metadata": {},
     "output_type": "execute_result"
    }
   ],
   "source": [
    "dSerie = pd.Series(lista, index=[99, 87, 65, 43, 21])\n",
    "dSerie"
   ]
  },
  {
   "cell_type": "code",
   "execution_count": 16,
   "metadata": {},
   "outputs": [
    {
     "name": "stdout",
     "output_type": "stream",
     "text": [
      "7.08413936032588\n",
      "7.08413936032588\n"
     ]
    }
   ],
   "source": [
    "print(dSerie.values[-1])\n",
    "print(dSerie[21])"
   ]
  },
  {
   "cell_type": "code",
   "execution_count": 17,
   "metadata": {},
   "outputs": [
    {
     "data": {
      "text/plain": [
       "0.10000    8.609825\n",
       "0.01000    7.068353\n",
       "0.00100    5.288375\n",
       "0.00010    4.467969\n",
       "0.00001    7.084139\n",
       "dtype: float64"
      ]
     },
     "execution_count": 17,
     "metadata": {},
     "output_type": "execute_result"
    }
   ],
   "source": [
    "dSerie = pd.Series(lista, index=[0.1, 0.01, 0.001, 0.0001, 0.00001])\n",
    "dSerie"
   ]
  },
  {
   "cell_type": "markdown",
   "metadata": {},
   "source": [
    "Podemos então pensar as ``Sreies`` __Pandas__ como uma forma particular e específica de dicionário __Python__. \n",
    "\n",
    "* Um dicionário __Python__ é uma estrutura que mapeia chaves arbitrárias para um conjunto de valores arbitrários\n",
    "* Um objeto ``Series`` é uma estrutura que mapeia chaves de tipo fixo para um conjunto de valores de tipo fixo. \n",
    "\n",
    "O fato de tratar de chaves e valores tipados é importante: assim como o código compilado, específico de cada tipo, por trás de um _ndarray_ __NumPy__, o torna mais eficiente do que uma lista __Python__ para determinadas operações, as informações de tipo de um ``Series`` __Pandas__ o tornam muito mais eficiente do que os dicionários __Python__ para determinadas operações.\n",
    "\n",
    "A analogia da série como dicionário pode ficar ainda mais evidente quando constatamos que podemos construir um objeto ``Series`` diretamente de um dicionário __Python__:"
   ]
  },
  {
   "cell_type": "code",
   "execution_count": 18,
   "metadata": {},
   "outputs": [
    {
     "data": {
      "text/plain": [
       "São Paulo            44411238\n",
       "Minas Gerais         20538718\n",
       "Rio de Janeiro       16054524\n",
       "Bahia                14141626\n",
       "Paraná               11444380\n",
       "Rio Grande do Sul    10882965\n",
       "Pernambuco            9058931\n",
       "Ceará                 8794957\n",
       "dtype: int64"
      ]
     },
     "execution_count": 18,
     "metadata": {},
     "output_type": "execute_result"
    }
   ],
   "source": [
    "popPorEstadoDic = { 'São Paulo': 44411238, 'Minas Gerais':20538718, 'Rio de Janeiro':16054524,\t\n",
    "                'Bahia':14141626, 'Paraná':11444380, 'Rio Grande do Sul':10882965, \n",
    "                'Pernambuco':9058931, 'Ceará':8794957}\n",
    "popPorEstadoSer = pd.Series(popPorEstadoDic)\n",
    "popPorEstadoSer"
   ]
  },
  {
   "cell_type": "markdown",
   "metadata": {},
   "source": [
    "Nesta construção é criada um objeto ``Series`` onde o índice é extraído das chaves do dicionário.\n",
    "\n",
    "Uma vez criado o acesso aos elementos repete a sintaxes típica dos dicionário __Python__."
   ]
  },
  {
   "cell_type": "code",
   "execution_count": 19,
   "metadata": {},
   "outputs": [
    {
     "name": "stdout",
     "output_type": "stream",
     "text": [
      "A população da bahia, segundo o IBGE, é de 14141626 habitantes\n"
     ]
    }
   ],
   "source": [
    "print(\"A população da Bahia, segundo o IBGE, é de\", popPorEstadoSer['Bahia'], \"habitantes\")"
   ]
  },
  {
   "cell_type": "markdown",
   "metadata": {},
   "source": [
    "Por outro lado, diferente de um dicionário, ``Series`` também suportam operações no estilo array, como _slicing_."
   ]
  },
  {
   "cell_type": "code",
   "execution_count": 20,
   "metadata": {},
   "outputs": [
    {
     "name": "stdout",
     "output_type": "stream",
     "text": [
      "Bahia                14141626\n",
      "Paraná               11444380\n",
      "Rio Grande do Sul    10882965\n",
      "Pernambuco            9058931\n",
      "dtype: int64\n"
     ]
    }
   ],
   "source": [
    "print(popPorEstadoSer['Bahia':'Pernambuco'])"
   ]
  },
  {
   "cell_type": "markdown",
   "metadata": {},
   "source": [
    "Vamos explorar então as formas de ciar ``Series``. Já vimos que podemos passar um conjunto de dados, na forma de uma lista ou de um _ndarray_. Neste caso os índices são criados como de forma sequencial como inteiros que correspondem aos índices do _ndarray_. "
   ]
  },
  {
   "cell_type": "code",
   "execution_count": 21,
   "metadata": {},
   "outputs": [
    {
     "data": {
      "text/plain": [
       "0     12\n",
       "1      8\n",
       "2      8\n",
       "3      7\n",
       "4      6\n",
       "5      4\n",
       "6      4\n",
       "7      4\n",
       "8      3\n",
       "9      3\n",
       "10     2\n",
       "11     2\n",
       "12     2\n",
       "13     1\n",
       "14     1\n",
       "15     1\n",
       "16     1\n",
       "dtype: int64"
      ]
     },
     "execution_count": 21,
     "metadata": {},
     "output_type": "execute_result"
    }
   ],
   "source": [
    "títulos = [12, 8, 8, 7, 6, 4, 4, 4, 3, 3, 2, 2, 2, 1, 1, 1, 1]\n",
    "brasileirão = pd.Series(títulos)\n",
    "brasileirão"
   ]
  },
  {
   "cell_type": "markdown",
   "metadata": {},
   "source": [
    "Mas podemos acrescentar os índices na forma de uma lista."
   ]
  },
  {
   "cell_type": "code",
   "execution_count": 22,
   "metadata": {},
   "outputs": [
    {
     "name": "stdout",
     "output_type": "stream",
     "text": [
      "Palmeiras        12\n",
      "Santos            8\n",
      "Flamengo          8\n",
      "Corinthians       7\n",
      "São Paulo         6\n",
      "Cruzeiro          4\n",
      "Fluminense        4\n",
      "Vasco             4\n",
      "Internacional     3\n",
      "Atlético-MG       3\n",
      "Bahia             2\n",
      "Botafogo          2\n",
      "Grêmio            2\n",
      "Athletico-PR      1\n",
      "Coritiba          1\n",
      "Guarani           1\n",
      "Sport             1\n",
      "dtype: int64\n"
     ]
    }
   ],
   "source": [
    "campBrasileiros = ['Palmeiras', 'Santos', 'Flamengo', 'Corinthians', 'São Paulo', \n",
    "                   'Cruzeiro', 'Fluminense', 'Vasco', 'Internacional', 'Atlético-MG',\n",
    "                    'Bahia', 'Botafogo', 'Grêmio', 'Athletico-PR', 'Coritiba', 'Guarani', 'Sport']\n",
    "₢"
   ]
  },
  {
   "cell_type": "markdown",
   "metadata": {},
   "source": [
    "Quando a lista de índices é fornecida o valor pode ser apenas um escalar. Neste caso o valor é repetido para cada índice."
   ]
  },
  {
   "cell_type": "code",
   "execution_count": 24,
   "metadata": {},
   "outputs": [
    {
     "data": {
      "text/plain": [
       "Palmeiras        1\n",
       "Santos           1\n",
       "Flamengo         1\n",
       "Corinthians      1\n",
       "São Paulo        1\n",
       "Cruzeiro         1\n",
       "Fluminense       1\n",
       "Vasco            1\n",
       "Internacional    1\n",
       "Atlético-MG      1\n",
       "Bahia            1\n",
       "Botafogo         1\n",
       "Grêmio           1\n",
       "Athletico-PR     1\n",
       "Coritiba         1\n",
       "Guarani          1\n",
       "Sport            1\n",
       "dtype: int64"
      ]
     },
     "execution_count": 24,
     "metadata": {},
     "output_type": "execute_result"
    }
   ],
   "source": [
    "brasileirão = pd.Series(1, index=campBrasileiros)\n",
    "brasileirão"
   ]
  },
  {
   "cell_type": "markdown",
   "metadata": {},
   "source": [
    "Como já vimos, os dados podem ser fornecidos na forma de um dicionário __Python__."
   ]
  },
  {
   "cell_type": "code",
   "execution_count": 31,
   "metadata": {},
   "outputs": [
    {
     "name": "stdout",
     "output_type": "stream",
     "text": [
      "2         Santos\n",
      "4    Corinthians\n",
      "3       Flamengo\n",
      "1      Palmeiras\n",
      "dtype: object\n",
      "<class 'numpy.ndarray'>\n"
     ]
    }
   ],
   "source": [
    "dicBrasileirao = {2:'Santos', 4:'Corinthians', 3:'Flamengo',  1:'Palmeiras'}\n",
    "brasileirão = pd.Series(dicBrasileirao)\n",
    "print(brasileirão)\n",
    "print(type(brasileirão.values))"
   ]
  },
  {
   "cell_type": "markdown",
   "metadata": {},
   "source": [
    "Mesmo quando fornecido um dicionário podemos escolher apenas um subconjunto dos elementos especificando uma lista de iíndices. "
   ]
  },
  {
   "cell_type": "code",
   "execution_count": 32,
   "metadata": {},
   "outputs": [
    {
     "name": "stdout",
     "output_type": "stream",
     "text": [
      "2         Santos\n",
      "3       Flamengo\n",
      "4    Corinthians\n",
      "dtype: object\n"
     ]
    }
   ],
   "source": [
    "brasileirão = pd.Series(dicBrasileirao, index=[2,3,4])\n",
    "print(brasileirão)\n"
   ]
  },
  {
   "cell_type": "code",
   "execution_count": null,
   "metadata": {},
   "outputs": [],
   "source": [
    "Palmeiras\t12\t1960, 1967, 1967, 1969, 1972, 1973, 1993, 1994, 2016, 2018, 2022 e 2023\n",
    "Santos\t8\t1961, 1962, 1963, 1964, 1965, 1968, 2002 e 2004\n",
    "Flamengo\t8\t1980, 1982, 1983, 1987, 1992, 2009, 2019 e 2020\n",
    "Corinthians\t7\t1990, 1998, 1999, 2005, 2011, 2015 e 2017\n",
    "São Paulo\t6\t1977, 1986, 1991, 2006, 2007 e 2008\n",
    "Cruzeiro\t4\t1993, 1996, 2000, 2003, 2017 e 2018\n",
    "Fluminense\t4\t1970, 1984, 2010 e 2012\n",
    "Vasco\t4\t1974, 1989, 1997 e 2000\n",
    "Internacional\t3\t1975, 1976 e 1979\n",
    "Atlético-MG\t3\t1937, 1971 e 2021\n",
    "Bahia\t2\t1959 e 1988\n",
    "Botafogo\t2\t1968 e 1995\n",
    "Grêmio\t2\t1981 e 1996\n",
    "Athletico-PR\t1\t2001\n",
    "Coritiba\t1\t1985\n",
    "Guarani\t1\t1978\n",
    "Sport\t1\t1987"
   ]
  },
  {
   "cell_type": "markdown",
   "metadata": {},
   "source": [
    "### __Pandas__ ``DataFrame``\n",
    "\n",
    "Da mesma forma que os objetos ``Series``, o ``DataFrame`` pode ser pensado como uma generalização de um _ndarray_ __NumPy__ ou como uma especialização de um dicionário __Python__.\n",
    "\n",
    "Se um objeto ``Series`` é análogo a uma matriz unidimensional com índices flexíveis, ``um DataFrame`` pode ser visto como uma estrutura análoga a uma matriz bidimensional com índices de linha e nomes de colunas flexíveis. Você pode pensar em um ``DataFrame`` como uma sequência de objetos ``Series`` alinhados. Aqui, por “alinhado” queremos dizer que eles compartilham o mesmo índice."
   ]
  },
  {
   "cell_type": "code",
   "execution_count": 33,
   "metadata": {},
   "outputs": [
    {
     "data": {
      "text/plain": [
       "Flamengo       46953599\n",
       "Corinthians    30444799\n",
       "Palmeiras      20225600\n",
       "Santos          6646400\n",
       "dtype: int64"
      ]
     },
     "execution_count": 33,
     "metadata": {},
     "output_type": "execute_result"
    }
   ],
   "source": [
    "torcidas= {'Flamengo':46953599, 'Corinthians':30444799, 'Palmeiras':20225600, 'Santos':6646400}\n",
    "torcidaSer = pd.Series(torcidas)\n",
    "torcidaSer "
   ]
  },
  {
   "cell_type": "code",
   "execution_count": 35,
   "metadata": {},
   "outputs": [
    {
     "data": {
      "text/plain": [
       "Santos          8\n",
       "Corinthians     7\n",
       "Flamengo        8\n",
       "Palmeiras      12\n",
       "dtype: int64"
      ]
     },
     "execution_count": 35,
     "metadata": {},
     "output_type": "execute_result"
    }
   ],
   "source": [
    "dicBrasileirao = {'Santos':8, 'Corinthians':7, 'Flamengo':8,  'Palmeiras':12}\n",
    "brasileirão = pd.Series(dicBrasileirao)\n",
    "brasileirão"
   ]
  },
  {
   "cell_type": "code",
   "execution_count": 36,
   "metadata": {},
   "outputs": [
    {
     "data": {
      "text/html": [
       "<div>\n",
       "<style scoped>\n",
       "    .dataframe tbody tr th:only-of-type {\n",
       "        vertical-align: middle;\n",
       "    }\n",
       "\n",
       "    .dataframe tbody tr th {\n",
       "        vertical-align: top;\n",
       "    }\n",
       "\n",
       "    .dataframe thead th {\n",
       "        text-align: right;\n",
       "    }\n",
       "</style>\n",
       "<table border=\"1\" class=\"dataframe\">\n",
       "  <thead>\n",
       "    <tr style=\"text-align: right;\">\n",
       "      <th></th>\n",
       "      <th>Títulos</th>\n",
       "      <th>Torcida</th>\n",
       "    </tr>\n",
       "  </thead>\n",
       "  <tbody>\n",
       "    <tr>\n",
       "      <th>Corinthians</th>\n",
       "      <td>7</td>\n",
       "      <td>30444799</td>\n",
       "    </tr>\n",
       "    <tr>\n",
       "      <th>Flamengo</th>\n",
       "      <td>8</td>\n",
       "      <td>46953599</td>\n",
       "    </tr>\n",
       "    <tr>\n",
       "      <th>Palmeiras</th>\n",
       "      <td>12</td>\n",
       "      <td>20225600</td>\n",
       "    </tr>\n",
       "    <tr>\n",
       "      <th>Santos</th>\n",
       "      <td>8</td>\n",
       "      <td>6646400</td>\n",
       "    </tr>\n",
       "  </tbody>\n",
       "</table>\n",
       "</div>"
      ],
      "text/plain": [
       "             Títulos   Torcida\n",
       "Corinthians        7  30444799\n",
       "Flamengo           8  46953599\n",
       "Palmeiras         12  20225600\n",
       "Santos             8   6646400"
      ]
     },
     "execution_count": 36,
     "metadata": {},
     "output_type": "execute_result"
    }
   ],
   "source": [
    "times = pd.DataFrame({'Títulos':brasileirão, 'Torcida':torcidaSer})\n",
    "times"
   ]
  },
  {
   "cell_type": "markdown",
   "metadata": {},
   "source": [
    "Assim como o objeto ``Series``, o ``DataFrame`` possui um atributo de índice que dá acesso aos rótulos das linhas."
   ]
  },
  {
   "cell_type": "code",
   "execution_count": 37,
   "metadata": {},
   "outputs": [
    {
     "data": {
      "text/plain": [
       "Index(['Corinthians', 'Flamengo', 'Palmeiras', 'Santos'], dtype='object')"
      ]
     },
     "execution_count": 37,
     "metadata": {},
     "output_type": "execute_result"
    }
   ],
   "source": [
    "times.index"
   ]
  },
  {
   "cell_type": "markdown",
   "metadata": {},
   "source": [
    "Além disso, o ``DataFrame`` possui um atributo ``columns``, que é um objeto Index que contém os rótulos das colunas."
   ]
  },
  {
   "cell_type": "code",
   "execution_count": 38,
   "metadata": {},
   "outputs": [
    {
     "data": {
      "text/plain": [
       "Index(['Títulos', 'Torcida'], dtype='object')"
      ]
     },
     "execution_count": 38,
     "metadata": {},
     "output_type": "execute_result"
    }
   ],
   "source": [
    "times.columns"
   ]
  },
  {
   "cell_type": "markdown",
   "metadata": {},
   "source": [
    "Desta forma, o ``DataFrame`` pode ser pensado como uma generalização de um _ndarray_ __NumPy__ bidimensional, onde tanto as linhas quanto as colunas possuem um índice generalizado para acessar os dados."
   ]
  },
  {
   "cell_type": "markdown",
   "metadata": {},
   "source": [
    "O primeiro exemplo mostrou como criar um ``DataFrame`` a partir de dois ``Series``. Também podemos construir um ``DataFrame`` a partir de uma lista de dicionários.\n",
    "\n"
   ]
  },
  {
   "cell_type": "code",
   "execution_count": 40,
   "metadata": {},
   "outputs": [
    {
     "data": {
      "text/html": [
       "<div>\n",
       "<style scoped>\n",
       "    .dataframe tbody tr th:only-of-type {\n",
       "        vertical-align: middle;\n",
       "    }\n",
       "\n",
       "    .dataframe tbody tr th {\n",
       "        vertical-align: top;\n",
       "    }\n",
       "\n",
       "    .dataframe thead th {\n",
       "        text-align: right;\n",
       "    }\n",
       "</style>\n",
       "<table border=\"1\" class=\"dataframe\">\n",
       "  <thead>\n",
       "    <tr style=\"text-align: right;\">\n",
       "      <th></th>\n",
       "      <th>Flamengo</th>\n",
       "      <th>Corinthians</th>\n",
       "      <th>Palmeiras</th>\n",
       "      <th>Santos</th>\n",
       "    </tr>\n",
       "  </thead>\n",
       "  <tbody>\n",
       "    <tr>\n",
       "      <th>Torcida</th>\n",
       "      <td>46953599</td>\n",
       "      <td>30444799</td>\n",
       "      <td>20225600</td>\n",
       "      <td>6646400</td>\n",
       "    </tr>\n",
       "    <tr>\n",
       "      <th>Títulos</th>\n",
       "      <td>8</td>\n",
       "      <td>7</td>\n",
       "      <td>12</td>\n",
       "      <td>8</td>\n",
       "    </tr>\n",
       "  </tbody>\n",
       "</table>\n",
       "</div>"
      ],
      "text/plain": [
       "         Flamengo  Corinthians  Palmeiras   Santos\n",
       "Torcida  46953599     30444799   20225600  6646400\n",
       "Títulos         8            7         12        8"
      ]
     },
     "execution_count": 40,
     "metadata": {},
     "output_type": "execute_result"
    }
   ],
   "source": [
    "dicBrasileirao = {'Santos':8, 'Corinthians':7, 'Flamengo':8,  'Palmeiras':12}\n",
    "torcidas= {'Flamengo':46953599, 'Corinthians':30444799, 'Palmeiras':20225600, 'Santos':6646400}\n",
    "\n",
    "times = pd.DataFrame([torcidas, dicBrasileirao], index=['Torcida', 'Títulos'])\n",
    "times"
   ]
  },
  {
   "cell_type": "markdown",
   "metadata": {},
   "source": [
    "No caso de faltarem algumas chaves nos dicionários, o __Pandas__ irá preenchê-las com valores __NaN__."
   ]
  },
  {
   "cell_type": "code",
   "execution_count": 42,
   "metadata": {},
   "outputs": [
    {
     "data": {
      "text/html": [
       "<div>\n",
       "<style scoped>\n",
       "    .dataframe tbody tr th:only-of-type {\n",
       "        vertical-align: middle;\n",
       "    }\n",
       "\n",
       "    .dataframe tbody tr th {\n",
       "        vertical-align: top;\n",
       "    }\n",
       "\n",
       "    .dataframe thead th {\n",
       "        text-align: right;\n",
       "    }\n",
       "</style>\n",
       "<table border=\"1\" class=\"dataframe\">\n",
       "  <thead>\n",
       "    <tr style=\"text-align: right;\">\n",
       "      <th></th>\n",
       "      <th>Flamengo</th>\n",
       "      <th>Corinthians</th>\n",
       "      <th>Palmeiras</th>\n",
       "      <th>Santos</th>\n",
       "      <th>São Paulo</th>\n",
       "      <th>Vasco da Gama</th>\n",
       "      <th>Cruzeiro</th>\n",
       "      <th>Grêmio</th>\n",
       "      <th>Atlético-MG</th>\n",
       "      <th>Bahia</th>\n",
       "      <th>Internacional</th>\n",
       "      <th>Fluminense</th>\n",
       "      <th>Botafogo</th>\n",
       "      <th>Sport</th>\n",
       "      <th>Athletico-PR</th>\n",
       "      <th>Coritiba</th>\n",
       "      <th>Guarani</th>\n",
       "    </tr>\n",
       "  </thead>\n",
       "  <tbody>\n",
       "    <tr>\n",
       "      <th>Torcida</th>\n",
       "      <td>46953599</td>\n",
       "      <td>30444799</td>\n",
       "      <td>20225600</td>\n",
       "      <td>6646400</td>\n",
       "      <td>22225800</td>\n",
       "      <td>13292800</td>\n",
       "      <td>13078400</td>\n",
       "      <td>9862400</td>\n",
       "      <td>9219199</td>\n",
       "      <td>7718400</td>\n",
       "      <td>7504000</td>\n",
       "      <td>7289600</td>\n",
       "      <td>4288000</td>\n",
       "      <td>4073600</td>\n",
       "      <td>NaN</td>\n",
       "      <td>NaN</td>\n",
       "      <td>NaN</td>\n",
       "    </tr>\n",
       "    <tr>\n",
       "      <th>Títulos</th>\n",
       "      <td>8</td>\n",
       "      <td>7</td>\n",
       "      <td>12</td>\n",
       "      <td>8</td>\n",
       "      <td>6</td>\n",
       "      <td>4</td>\n",
       "      <td>4</td>\n",
       "      <td>2</td>\n",
       "      <td>3</td>\n",
       "      <td>2</td>\n",
       "      <td>3</td>\n",
       "      <td>4</td>\n",
       "      <td>2</td>\n",
       "      <td>1</td>\n",
       "      <td>1.0</td>\n",
       "      <td>1.0</td>\n",
       "      <td>1.0</td>\n",
       "    </tr>\n",
       "  </tbody>\n",
       "</table>\n",
       "</div>"
      ],
      "text/plain": [
       "         Flamengo  Corinthians  Palmeiras   Santos  São Paulo  Vasco da Gama  \\\n",
       "Torcida  46953599     30444799   20225600  6646400   22225800       13292800   \n",
       "Títulos         8            7         12        8          6              4   \n",
       "\n",
       "         Cruzeiro   Grêmio  Atlético-MG    Bahia  Internacional  Fluminense  \\\n",
       "Torcida  13078400  9862400      9219199  7718400        7504000     7289600   \n",
       "Títulos         4        2            3        2              3           4   \n",
       "\n",
       "         Botafogo    Sport  Athletico-PR  Coritiba  Guarani  \n",
       "Torcida   4288000  4073600           NaN       NaN      NaN  \n",
       "Títulos         2        1           1.0       1.0      1.0  "
      ]
     },
     "execution_count": 42,
     "metadata": {},
     "output_type": "execute_result"
    }
   ],
   "source": [
    "campBrasileiros = ['Palmeiras', 'Santos', 'Flamengo', 'Corinthians', 'São Paulo', \n",
    "                   'Cruzeiro', 'Fluminense', 'Vasco da Gama', 'Internacional', 'Atlético-MG',\n",
    "                    'Bahia', 'Botafogo', 'Grêmio', 'Athletico-PR', 'Coritiba', 'Guarani', 'Sport']\n",
    "títulos = [12, 8, 8, 7, 6, 4, 4, 4, 3, 3, 2, 2, 2, 1, 1, 1, 1]\n",
    "\n",
    "for time, titulo in zip(campBrasileiros, títulos):\n",
    "    dicBrasileirao[time] = titulo\n",
    "\n",
    "times = ['Flamengo', 'Corinthians', 'São Paulo', 'Palmeiras', 'Vasco da Gama', 'Cruzeiro', \n",
    "         'Grêmio', 'Atlético-MG', 'Bahia', 'Internacional', 'Fluminense', 'Santos', 'Botafogo', 'Sport']\n",
    "\n",
    "torcida = [46953599, 30444799, 22225800, 20225600, 13292800, 13078400, 9862400, 9219199, \n",
    "           7718400, 7504000, 7289600, 6646400, 4288000, 4073600]\n",
    "\n",
    "for time, torc in zip(times, torcida):\n",
    "    torcidas[time] = torc\n",
    "\n",
    "times = pd.DataFrame([torcidas, dicBrasileirao], index=['Torcida', 'Títulos'])\n",
    "times"
   ]
  },
  {
   "cell_type": "markdown",
   "metadata": {},
   "source": [
    "Podemos utilizar também dicionários de ``Series``."
   ]
  },
  {
   "cell_type": "code",
   "execution_count": 43,
   "metadata": {},
   "outputs": [
    {
     "data": {
      "text/html": [
       "<div>\n",
       "<style scoped>\n",
       "    .dataframe tbody tr th:only-of-type {\n",
       "        vertical-align: middle;\n",
       "    }\n",
       "\n",
       "    .dataframe tbody tr th {\n",
       "        vertical-align: top;\n",
       "    }\n",
       "\n",
       "    .dataframe thead th {\n",
       "        text-align: right;\n",
       "    }\n",
       "</style>\n",
       "<table border=\"1\" class=\"dataframe\">\n",
       "  <thead>\n",
       "    <tr style=\"text-align: right;\">\n",
       "      <th></th>\n",
       "      <th>Títulos</th>\n",
       "      <th>Torcida</th>\n",
       "    </tr>\n",
       "  </thead>\n",
       "  <tbody>\n",
       "    <tr>\n",
       "      <th>Athletico-PR</th>\n",
       "      <td>1</td>\n",
       "      <td>NaN</td>\n",
       "    </tr>\n",
       "    <tr>\n",
       "      <th>Atlético-MG</th>\n",
       "      <td>3</td>\n",
       "      <td>9219199.0</td>\n",
       "    </tr>\n",
       "    <tr>\n",
       "      <th>Bahia</th>\n",
       "      <td>2</td>\n",
       "      <td>7718400.0</td>\n",
       "    </tr>\n",
       "    <tr>\n",
       "      <th>Botafogo</th>\n",
       "      <td>2</td>\n",
       "      <td>4288000.0</td>\n",
       "    </tr>\n",
       "    <tr>\n",
       "      <th>Corinthians</th>\n",
       "      <td>7</td>\n",
       "      <td>30444799.0</td>\n",
       "    </tr>\n",
       "    <tr>\n",
       "      <th>Coritiba</th>\n",
       "      <td>1</td>\n",
       "      <td>NaN</td>\n",
       "    </tr>\n",
       "    <tr>\n",
       "      <th>Cruzeiro</th>\n",
       "      <td>4</td>\n",
       "      <td>13078400.0</td>\n",
       "    </tr>\n",
       "    <tr>\n",
       "      <th>Flamengo</th>\n",
       "      <td>8</td>\n",
       "      <td>46953599.0</td>\n",
       "    </tr>\n",
       "    <tr>\n",
       "      <th>Fluminense</th>\n",
       "      <td>4</td>\n",
       "      <td>7289600.0</td>\n",
       "    </tr>\n",
       "    <tr>\n",
       "      <th>Grêmio</th>\n",
       "      <td>2</td>\n",
       "      <td>9862400.0</td>\n",
       "    </tr>\n",
       "    <tr>\n",
       "      <th>Guarani</th>\n",
       "      <td>1</td>\n",
       "      <td>NaN</td>\n",
       "    </tr>\n",
       "    <tr>\n",
       "      <th>Internacional</th>\n",
       "      <td>3</td>\n",
       "      <td>7504000.0</td>\n",
       "    </tr>\n",
       "    <tr>\n",
       "      <th>Palmeiras</th>\n",
       "      <td>12</td>\n",
       "      <td>20225600.0</td>\n",
       "    </tr>\n",
       "    <tr>\n",
       "      <th>Santos</th>\n",
       "      <td>8</td>\n",
       "      <td>6646400.0</td>\n",
       "    </tr>\n",
       "    <tr>\n",
       "      <th>Sport</th>\n",
       "      <td>1</td>\n",
       "      <td>4073600.0</td>\n",
       "    </tr>\n",
       "    <tr>\n",
       "      <th>São Paulo</th>\n",
       "      <td>6</td>\n",
       "      <td>22225800.0</td>\n",
       "    </tr>\n",
       "    <tr>\n",
       "      <th>Vasco da Gama</th>\n",
       "      <td>4</td>\n",
       "      <td>13292800.0</td>\n",
       "    </tr>\n",
       "  </tbody>\n",
       "</table>\n",
       "</div>"
      ],
      "text/plain": [
       "               Títulos     Torcida\n",
       "Athletico-PR         1         NaN\n",
       "Atlético-MG          3   9219199.0\n",
       "Bahia                2   7718400.0\n",
       "Botafogo             2   4288000.0\n",
       "Corinthians          7  30444799.0\n",
       "Coritiba             1         NaN\n",
       "Cruzeiro             4  13078400.0\n",
       "Flamengo             8  46953599.0\n",
       "Fluminense           4   7289600.0\n",
       "Grêmio               2   9862400.0\n",
       "Guarani              1         NaN\n",
       "Internacional        3   7504000.0\n",
       "Palmeiras           12  20225600.0\n",
       "Santos               8   6646400.0\n",
       "Sport                1   4073600.0\n",
       "São Paulo            6  22225800.0\n",
       "Vasco da Gama        4  13292800.0"
      ]
     },
     "execution_count": 43,
     "metadata": {},
     "output_type": "execute_result"
    }
   ],
   "source": [
    "campBrasileiros = ['Palmeiras', 'Santos', 'Flamengo', 'Corinthians', 'São Paulo', \n",
    "                   'Cruzeiro', 'Fluminense', 'Vasco da Gama', 'Internacional', 'Atlético-MG',\n",
    "                    'Bahia', 'Botafogo', 'Grêmio', 'Athletico-PR', 'Coritiba', 'Guarani', 'Sport']\n",
    "títulos = [12, 8, 8, 7, 6, 4, 4, 4, 3, 3, 2, 2, 2, 1, 1, 1, 1]\n",
    "\n",
    "for time, titulo in zip(campBrasileiros, títulos):\n",
    "    dicBrasileirao[time] = titulo\n",
    "\n",
    "timTitulos = pd.Series(dicBrasileirao)\n",
    "\n",
    "times = ['Flamengo', 'Corinthians', 'São Paulo', 'Palmeiras', 'Vasco da Gama', 'Cruzeiro', \n",
    "         'Grêmio', 'Atlético-MG', 'Bahia', 'Internacional', 'Fluminense', 'Santos', 'Botafogo', 'Sport']\n",
    "\n",
    "torcida = [46953599, 30444799, 22225800, 20225600, 13292800, 13078400, 9862400, 9219199, \n",
    "           7718400, 7504000, 7289600, 6646400, 4288000, 4073600]\n",
    "\n",
    "for time, torc in zip(times, torcida):\n",
    "    torcidas[time] = torc\n",
    "\n",
    "timTorcida = pd.Series(torcidas)\n",
    "\n",
    "times = pd.DataFrame({'Títulos':timTitulos, 'Torcida':timTorcida})\n",
    "times"
   ]
  },
  {
   "cell_type": "markdown",
   "metadata": {},
   "source": [
    "E, pensando num ``DataFrame`` como um generalização de um _ndarray_ __NumPy__ bidimensional, podemos construir um ``DataFrame`` usando uma _ndarray_."
   ]
  },
  {
   "cell_type": "code",
   "execution_count": 45,
   "metadata": {},
   "outputs": [
    {
     "name": "stdout",
     "output_type": "stream",
     "text": [
      "[[      12 20225600]\n",
      " [       8  6646400]\n",
      " [       8 46953599]\n",
      " [       7 30444799]]\n",
      "             Títulos   Torcida\n",
      "Palmeiras         12  20225600\n",
      "Santos             8   6646400\n",
      "Flamengo           8  46953599\n",
      "Corinthians        7  30444799\n"
     ]
    }
   ],
   "source": [
    "títulos = [12, 8, 8, 7]\n",
    "torcida = [20225600, 6646400, 46953599, 30444799]\n",
    "tittor = np.array([títulos, torcida])\n",
    "print(tittor.T)\n",
    "tittor = pd.DataFrame(tittor.T, columns=['Títulos', 'Torcida'], \n",
    "                      index=['Palmeiras', 'Santos', 'Flamengo', 'Corinthians'])\n",
    "\n",
    "print(tittor)"
   ]
  }
 ],
 "metadata": {
  "kernelspec": {
   "display_name": "Python 3 (ipykernel)",
   "language": "python",
   "name": "python3"
  },
  "language_info": {
   "codemirror_mode": {
    "name": "ipython",
    "version": 3
   },
   "file_extension": ".py",
   "mimetype": "text/x-python",
   "name": "python",
   "nbconvert_exporter": "python",
   "pygments_lexer": "ipython3",
   "version": "3.10.13"
  }
 },
 "nbformat": 4,
 "nbformat_minor": 2
}
