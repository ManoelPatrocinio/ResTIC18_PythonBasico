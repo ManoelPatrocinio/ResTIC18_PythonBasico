{
 "cells": [
  {
   "cell_type": "markdown",
   "metadata": {},
   "source": [
    "# Módulo de Programação Python\n",
    "\n",
    "# Trilha Python - Aula 14: Utilizando Pandas - Introdução\n",
    "\n",
    "<img align=\"center\" style=\"padding-right:10px;\" src=\"Figuras/aula-14_fig_01.png\">"
   ]
  },
  {
   "cell_type": "markdown",
   "metadata": {},
   "source": [
    "__Objetivo__:   Trabalhar com pacotes e módulos disponíveis em __Python__: __Pandas__: Apresentar os recursos e funcionalidades básicas para operar com tabelas de dados em __Pandas__."
   ]
  },
  {
   "cell_type": "markdown",
   "metadata": {},
   "source": [
    "## Tratando dados ausentes\n",
    "\n",
    "Frequentemente são utilizados exemplos simples em que os dados são limpos e compostos por valores homogêneos. Este contexto não é facilmente encontrado quando se trata de dados extraídos do mundo real. \n",
    "\n",
    "Resulta relativamente comum encontrar conjuntos de dados com dados faltando. A informação de que determinado dado está faltando pode ser apresentada de diferentes maneiras, dependendo da fonte de onde os dados são obtidos. "
   ]
  },
  {
   "cell_type": "markdown",
   "metadata": {},
   "source": [
    "Existem várias estratégias que foram desenvolvidos para indicar a presença de dados ausentes em uma tabela ou ``DataFrame``. As mais usadas se baseiam no uso de uma _máscara_, que indica globalmente valores ausentes, ou utilizam um _sentinela_, que identifica uma entrada ausente num conjunto de dados.\n",
    "\n",
    "A abordagem de mascaramento pode utilizar, por exemplo, uma matriz _booleana_ totalmente separada. Já na abordagem sentinela, o valor sentinela pode ser alguma convenção específica de dados, como indicar um valor inteiro ausente com -9999 ou pode ser uma convenção mais global, como indicar um valor de ponto flutuante ausente. com __NaN__, um valor especial que faz parte da especificação de ponto flutuante __IEEE__.\n",
    "\n",
    "Nenhuma dessas abordagens é isenta de restrições: o uso de uma matriz de máscara separada requer a alocação de uma matriz _booleana_ adicional, o que adiciona sobrecarga tanto no armazenamento quanto na computação. Um valor sentinela reduz o intervalo de valores válidos que podem ser representados e pode exigir lógica extra na aritmética da __CPU__ e __GPU__. Valores especiais comuns como __NaN__ não estão disponíveis para todos os tipos de dados.\n",
    "\n",
    "Como na maioria dos casos em que não existe uma escolha universalmente ideal, diferentes linguagens e sistemas utilizam convenções diferentes."
   ]
  },
  {
   "cell_type": "markdown",
   "metadata": {},
   "source": [
    "A maneira como o __Pandas__ lida com valores ausentes é limitada por sua dependência do pacote __NumPy__, que não possui uma noção integrada de valores ausentes para tipos de dados que não sejam de ponto flutuante.\n",
    "\n",
    "__NumPy__ tem suporte para matrizes mascaradas – ou seja, matrizes que possuem uma matriz de máscara _booleana_ separada anexada para marcar os dados como “bons” ou “ruins”.\n",
    "\n",
    "O __Pandas__ poderia ter adotado uma estratégia baseada no uso deste recurso, mas a sobrecarga em armazenamento, computação e manutenção de código torna essa escolha pouco atraente.\n",
    "\n",
    "Com essas restrições em mente, os desenvolvedores de __Pandas__ optaram por usar sentinelas para dados ausentes e ainda optou por usar dois valores nulos do __Python__ já existentes: o valor especial de ponto flutuante ``NaN`` e o objeto ``None`` do Python."
   ]
  },
  {
   "cell_type": "markdown",
   "metadata": {},
   "source": [
    "### Utilizando ``None``\n",
    "\n",
    "O primeiro valor sentinela usado pelo __Pandas__ é ``None``, um objeto __Python__ que é frequentemente usado para dados ausentes.\n",
    "Por ser um objeto Python, ``None`` não pode ser usado em nenhum array __NumPy__/__Pandas__ arbitrário, mas apenas em arrays com tipo de dados ``'object'`` (ou seja, arrays de objetos __Python__):"
   ]
  },
  {
   "cell_type": "code",
   "execution_count": 1,
   "metadata": {},
   "outputs": [
    {
     "name": "stdout",
     "output_type": "stream",
     "text": [
      "Intel MKL WARNING: Support of Intel(R) Streaming SIMD Extensions 4.2 (Intel(R) SSE4.2) enabled only processors has been deprecated. Intel oneAPI Math Kernel Library 2025.0 will require Intel(R) Advanced Vector Extensions (Intel(R) AVX) instructions.\n",
      "Intel MKL WARNING: Support of Intel(R) Streaming SIMD Extensions 4.2 (Intel(R) SSE4.2) enabled only processors has been deprecated. Intel oneAPI Math Kernel Library 2025.0 will require Intel(R) Advanced Vector Extensions (Intel(R) AVX) instructions.\n"
     ]
    }
   ],
   "source": [
    "import numpy as np\n",
    "import pandas as pd"
   ]
  },
  {
   "cell_type": "code",
   "execution_count": 2,
   "metadata": {},
   "outputs": [
    {
     "name": "stdout",
     "output_type": "stream",
     "text": [
      "[3.193 3.473 3.089 5.811 3.001]\n",
      "float64\n",
      "[3.193 None 3.473 3.089 None 5.811 3.001]\n",
      "object\n"
     ]
    }
   ],
   "source": [
    "angulos = np.array([3.193, 3.473, 3.089, 5.811, 3.001])\n",
    "print(angulos)\n",
    "print(angulos.dtype)\n",
    "\n",
    "angulos = np.array([3.193, None, 3.473, 3.089, None, 5.811, 3.001])\n",
    "print(angulos)\n",
    "print(angulos.dtype)\n"
   ]
  },
  {
   "cell_type": "markdown",
   "metadata": {},
   "source": [
    "Este ``dtype=object`` significa que a melhor representação de tipo comum que __NumPy__ pode inferir, com base no conteúdo do _ndarray_, é que eles são objetos __Python__. \n",
    "\n",
    "Embora esse tipo de array de objetos seja útil para alguns propósitos, quaisquer operações nos dados serão feitas no nível __Python__, com muito mais sobrecarga do que as operações normalmente rápidas vistas em arrays com tipos nativos."
   ]
  },
  {
   "cell_type": "code",
   "execution_count": 3,
   "metadata": {},
   "outputs": [
    {
     "name": "stdout",
     "output_type": "stream",
     "text": [
      "dtype = object\n",
      "36.3 ms ± 302 µs per loop (mean ± std. dev. of 7 runs, 10 loops each)\n",
      "\n",
      "dtype = int\n",
      "296 µs ± 2.83 µs per loop (mean ± std. dev. of 7 runs, 1,000 loops each)\n",
      "\n",
      "dtype = float\n",
      "519 µs ± 1.92 µs per loop (mean ± std. dev. of 7 runs, 1,000 loops each)\n",
      "\n"
     ]
    }
   ],
   "source": [
    "for dtype in ['object', 'int', 'float']:\n",
    "    print(\"dtype =\", dtype)\n",
    "    %timeit np.arange(1E6, dtype=dtype).sum()\n",
    "    print()"
   ]
  },
  {
   "cell_type": "markdown",
   "metadata": {},
   "source": [
    "O uso de objetos __Python__ em um array também significa que se você realizar operações de agregações como ``sum()`` ou ``min()`` em um array com valores ``None``, você geralmente receberá um erro dado que a adição entre um número inteiro ou um ponto flutuante, por exemplo, e ``None`` não está definida."
   ]
  },
  {
   "cell_type": "markdown",
   "metadata": {},
   "source": [
    "### Utilizando ``NaN``\n",
    "\n",
    "A outra representação de dados faltantes, ``NaN``, é diferente. Trata-se de um valor especial de ponto flutuante reconhecido por todos os sistemas que usam a representação de ponto flutuante padrão __IEEE__."
   ]
  },
  {
   "cell_type": "code",
   "execution_count": 4,
   "metadata": {},
   "outputs": [
    {
     "name": "stdout",
     "output_type": "stream",
     "text": [
      "[3.193   nan 3.473 3.089   nan 5.811 3.001]\n",
      "float64\n"
     ]
    }
   ],
   "source": [
    "angulos = np.array([3.193, np.nan, 3.473, 3.089, np.nan, 5.811, 3.001])\n",
    "print(angulos)\n",
    "print(angulos.dtype)\n",
    "\n"
   ]
  },
  {
   "cell_type": "markdown",
   "metadata": {},
   "source": [
    "Reparem que op tipo do _ndarray_ é, como esperado, ``float64``, mesmo se os tipos presentes forem, por exemplo, inteiros. \n",
    "Desta forma as operações eficientes com _ndarrays_, disponíveis em __NumPy__, estarão disponíveis, ao contrário de quando utilizamos ``None``. \n",
    "Claro que temos o custo de que, desta forma, tudo vira ``float64`` com suas vantagen e desvantagens. "
   ]
  },
  {
   "cell_type": "code",
   "execution_count": 5,
   "metadata": {},
   "outputs": [
    {
     "name": "stdout",
     "output_type": "stream",
     "text": [
      "[ 30.  nan  45.  nan  60.  90. 120.]\n",
      "float64\n"
     ]
    }
   ],
   "source": [
    "angulos = np.array([30, np.nan, 45, np.nan, 60, 90, 120])\n",
    "print(angulos)\n",
    "print(angulos.dtype)"
   ]
  },
  {
   "cell_type": "markdown",
   "metadata": {},
   "source": [
    "Outro fator a levar em consideração é que quando um dos operandos é ``NaN``, independente da operação aritmética que for utilizada, o resultado será outro ``NaN``."
   ]
  },
  {
   "cell_type": "code",
   "execution_count": 6,
   "metadata": {},
   "outputs": [
    {
     "name": "stdout",
     "output_type": "stream",
     "text": [
      "[ 31.  nan  46.  nan  61.  91. 121.]\n"
     ]
    }
   ],
   "source": [
    "incremento = np.ones_like(angulos)\n",
    "print(angulos + incremento)"
   ]
  },
  {
   "cell_type": "markdown",
   "metadata": {},
   "source": [
    "Este comportamento também afeta as operações de agregação. "
   ]
  },
  {
   "cell_type": "code",
   "execution_count": 7,
   "metadata": {},
   "outputs": [
    {
     "data": {
      "text/plain": [
       "nan"
      ]
     },
     "execution_count": 7,
     "metadata": {},
     "output_type": "execute_result"
    }
   ],
   "source": [
    "total = np.sum(angulos)\n",
    "total"
   ]
  },
  {
   "cell_type": "markdown",
   "metadata": {},
   "source": [
    "Entretanto é importante lembrar que __NumPy__ fornece uma versão destas operações que permite lidar com dados ``NaN``. "
   ]
  },
  {
   "cell_type": "code",
   "execution_count": 8,
   "metadata": {},
   "outputs": [
    {
     "data": {
      "text/plain": [
       "345.0"
      ]
     },
     "execution_count": 8,
     "metadata": {},
     "output_type": "execute_result"
    }
   ],
   "source": [
    "total = np.nansum(angulos)\n",
    "total"
   ]
  },
  {
   "cell_type": "markdown",
   "metadata": {},
   "source": [
    "### Utilizando ``NaN`` e ``None`` em Pandas\n",
    "\n",
    "Pandas foi desenvolvido para lidar com ``NaN`` e ``None`` de forma quase intercambiável, convertendo entre eles quando necessário. "
   ]
  },
  {
   "cell_type": "code",
   "execution_count": 9,
   "metadata": {},
   "outputs": [
    {
     "data": {
      "text/plain": [
       "0     30.0\n",
       "1      NaN\n",
       "2     45.0\n",
       "3      NaN\n",
       "4     60.0\n",
       "5     90.0\n",
       "6    120.0\n",
       "dtype: float64"
      ]
     },
     "execution_count": 9,
     "metadata": {},
     "output_type": "execute_result"
    }
   ],
   "source": [
    "angulos = pd.Series([30, np.nan, 45, None, 60, 90, 120])\n",
    "angulos"
   ]
  },
  {
   "cell_type": "markdown",
   "metadata": {},
   "source": [
    "Veja que, novamente, o __Pandas__ lidou com uma lista de valores inteiros contendo valores ausentes, convertendo num objeto ``Series`` de ``float64``.    \n",
    "Mesmo para objetos já definidos com um tipo que não possui um valor sentinela disponível, o __Pandas__ converte automaticamente o tipo quando valores ausentes são introduzidos."
   ]
  },
  {
   "cell_type": "code",
   "execution_count": 10,
   "metadata": {},
   "outputs": [
    {
     "data": {
      "text/plain": [
       "0     30\n",
       "1      0\n",
       "2     45\n",
       "3     60\n",
       "4     90\n",
       "5    120\n",
       "dtype: int64"
      ]
     },
     "execution_count": 10,
     "metadata": {},
     "output_type": "execute_result"
    }
   ],
   "source": [
    "angulos = pd.Series([30, 0, 45, 60, 90, 120])\n",
    "angulos"
   ]
  },
  {
   "cell_type": "code",
   "execution_count": 11,
   "metadata": {},
   "outputs": [
    {
     "data": {
      "text/plain": [
       "0     30.0\n",
       "1      NaN\n",
       "2     45.0\n",
       "3     60.0\n",
       "4     90.0\n",
       "5    120.0\n",
       "dtype: float64"
      ]
     },
     "execution_count": 11,
     "metadata": {},
     "output_type": "execute_result"
    }
   ],
   "source": [
    "angulos[1] = None\n",
    "angulos"
   ]
  },
  {
   "cell_type": "markdown",
   "metadata": {},
   "source": [
    "A conversão automática de tipos segue as seguintes regras simples.\n",
    "\n",
    "|Tipo          | Conversão ao armazenar dados ausentes | Valor Sentinela       |\n",
    "|--------------|------------------------|------------------------|\n",
    "| ``floating`` | Não muda               | ``np.nan``             |\n",
    "| ``object``   | Nâo muda               | ``None`` ou ``np.nan`` |\n",
    "| ``integer``  | Cast para ``float64``  | ``np.nan``             |\n",
    "| ``boolean``  | Cast para ``object``   | ``None`` ou ``np.nan`` |"
   ]
  },
  {
   "cell_type": "markdown",
   "metadata": {},
   "source": [
    "## Operando em valores ausentes\n",
    "\n",
    "Como vimos, o __Pandas__ trata ``None`` e ``NaN`` como intercambiáveis para indicar valores nulos ou ausentes.\n",
    "Para facilitar esta convenção, existem vários métodos úteis para detectar, remover e substituir valores nulos das estruturas de dados do __Pandas__."
   ]
  },
  {
   "cell_type": "markdown",
   "metadata": {},
   "source": [
    "### Detectando valores ausentes\n",
    "\n",
    "As estruturas de dados __Pandas__ têm dois métodos úteis para detectar dados nulos: \n",
    "\n",
    "* ``isnull()``: Gera uma máscara _booleana_ indicando valores faltantes;  \n",
    "* ``notnull()``: Oposto de ``isnull()``."
   ]
  },
  {
   "cell_type": "code",
   "execution_count": 12,
   "metadata": {},
   "outputs": [
    {
     "data": {
      "text/plain": [
       "0     30.0\n",
       "1      NaN\n",
       "2     45.0\n",
       "3      NaN\n",
       "4     60.0\n",
       "5     90.0\n",
       "6    120.0\n",
       "dtype: float64"
      ]
     },
     "execution_count": 12,
     "metadata": {},
     "output_type": "execute_result"
    }
   ],
   "source": [
    "angulos = pd.Series([30, np.nan, 45, None, 60, 90, 120])\n",
    "angulos"
   ]
  },
  {
   "cell_type": "code",
   "execution_count": 13,
   "metadata": {},
   "outputs": [
    {
     "data": {
      "text/plain": [
       "0    False\n",
       "1     True\n",
       "2    False\n",
       "3     True\n",
       "4    False\n",
       "5    False\n",
       "6    False\n",
       "dtype: bool"
      ]
     },
     "execution_count": 13,
     "metadata": {},
     "output_type": "execute_result"
    }
   ],
   "source": [
    "angulos.isnull()"
   ]
  },
  {
   "cell_type": "code",
   "execution_count": 14,
   "metadata": {},
   "outputs": [
    {
     "data": {
      "text/plain": [
       "0     True\n",
       "1    False\n",
       "2     True\n",
       "3    False\n",
       "4     True\n",
       "5     True\n",
       "6     True\n",
       "dtype: bool"
      ]
     },
     "execution_count": 14,
     "metadata": {},
     "output_type": "execute_result"
    }
   ],
   "source": [
    "angulos.notnull()"
   ]
  },
  {
   "cell_type": "markdown",
   "metadata": {},
   "source": [
    "Podemos utilizar a mascara gerada, por exemplo, para acessar os elementos utilizando indexação com mascara."
   ]
  },
  {
   "cell_type": "code",
   "execution_count": 15,
   "metadata": {},
   "outputs": [
    {
     "data": {
      "text/plain": [
       "0     30.0\n",
       "2     45.0\n",
       "4     60.0\n",
       "5     90.0\n",
       "6    120.0\n",
       "dtype: float64"
      ]
     },
     "execution_count": 15,
     "metadata": {},
     "output_type": "execute_result"
    }
   ],
   "source": [
    "angulos[angulos.notnull()]"
   ]
  },
  {
   "cell_type": "code",
   "execution_count": 16,
   "metadata": {},
   "outputs": [
    {
     "data": {
      "text/plain": [
       "0     30.0\n",
       "1      0.0\n",
       "2     45.0\n",
       "3      0.0\n",
       "4     60.0\n",
       "5     90.0\n",
       "6    120.0\n",
       "dtype: float64"
      ]
     },
     "execution_count": 16,
     "metadata": {},
     "output_type": "execute_result"
    }
   ],
   "source": [
    "angulos[angulos.isnull()] = 0\n",
    "angulos"
   ]
  },
  {
   "cell_type": "markdown",
   "metadata": {},
   "source": [
    "Os métodos ``isnull()`` e ``notnull()`` produzem resultados _booleanos_ semelhantes em objetos de tipo  ``DataFrames``."
   ]
  },
  {
   "cell_type": "markdown",
   "metadata": {},
   "source": [
    "## Removendo valores ausentes\n",
    "\n",
    "Além do mascaramento usado anteriormente, existem os métodos:\n",
    "\n",
    "* ``dropna()``: Retorna uma versão filtrada dos dados sem os valores ausentes.\n",
    "- ``fillna()``: Retorna uma cópia dos dados com valores faltantes preenchidos."
   ]
  },
  {
   "cell_type": "code",
   "execution_count": 17,
   "metadata": {},
   "outputs": [
    {
     "data": {
      "text/plain": [
       "0     30.0\n",
       "1      NaN\n",
       "2     45.0\n",
       "3      NaN\n",
       "4     60.0\n",
       "5     90.0\n",
       "6    120.0\n",
       "dtype: float64"
      ]
     },
     "execution_count": 17,
     "metadata": {},
     "output_type": "execute_result"
    }
   ],
   "source": [
    "angulos = pd.Series([30, np.nan, 45, None, 60, 90, 120])\n",
    "angulos"
   ]
  },
  {
   "cell_type": "code",
   "execution_count": 18,
   "metadata": {},
   "outputs": [
    {
     "data": {
      "text/plain": [
       "0     30.0\n",
       "2     45.0\n",
       "4     60.0\n",
       "5     90.0\n",
       "6    120.0\n",
       "dtype: float64"
      ]
     },
     "execution_count": 18,
     "metadata": {},
     "output_type": "execute_result"
    }
   ],
   "source": [
    "angulos.dropna()"
   ]
  },
  {
   "cell_type": "code",
   "execution_count": 19,
   "metadata": {},
   "outputs": [
    {
     "data": {
      "text/plain": [
       "0     30.0\n",
       "1      NaN\n",
       "2     45.0\n",
       "3      NaN\n",
       "4     60.0\n",
       "5     90.0\n",
       "6    120.0\n",
       "dtype: float64"
      ]
     },
     "execution_count": 19,
     "metadata": {},
     "output_type": "execute_result"
    }
   ],
   "source": [
    "angulos"
   ]
  },
  {
   "cell_type": "code",
   "execution_count": 20,
   "metadata": {},
   "outputs": [
    {
     "data": {
      "text/plain": [
       "0     30.0\n",
       "1      0.0\n",
       "2     45.0\n",
       "3      0.0\n",
       "4     60.0\n",
       "5     90.0\n",
       "6    120.0\n",
       "dtype: float64"
      ]
     },
     "execution_count": 20,
     "metadata": {},
     "output_type": "execute_result"
    }
   ],
   "source": [
    "angulos.fillna(0)"
   ]
  },
  {
   "cell_type": "code",
   "execution_count": 21,
   "metadata": {},
   "outputs": [
    {
     "data": {
      "text/plain": [
       "0     30.0\n",
       "1      NaN\n",
       "2     45.0\n",
       "3      NaN\n",
       "4     60.0\n",
       "5     90.0\n",
       "6    120.0\n",
       "dtype: float64"
      ]
     },
     "execution_count": 21,
     "metadata": {},
     "output_type": "execute_result"
    }
   ],
   "source": [
    "angulos"
   ]
  },
  {
   "cell_type": "markdown",
   "metadata": {},
   "source": [
    "No caso de ``DataFrames`` os métodos tem mais opções disponíveis."
   ]
  },
  {
   "cell_type": "code",
   "execution_count": 22,
   "metadata": {},
   "outputs": [
    {
     "data": {
      "text/html": [
       "<div>\n",
       "<style scoped>\n",
       "    .dataframe tbody tr th:only-of-type {\n",
       "        vertical-align: middle;\n",
       "    }\n",
       "\n",
       "    .dataframe tbody tr th {\n",
       "        vertical-align: top;\n",
       "    }\n",
       "\n",
       "    .dataframe thead th {\n",
       "        text-align: right;\n",
       "    }\n",
       "</style>\n",
       "<table border=\"1\" class=\"dataframe\">\n",
       "  <thead>\n",
       "    <tr style=\"text-align: right;\">\n",
       "      <th></th>\n",
       "      <th>0</th>\n",
       "      <th>1</th>\n",
       "      <th>2</th>\n",
       "      <th>3</th>\n",
       "    </tr>\n",
       "  </thead>\n",
       "  <tbody>\n",
       "    <tr>\n",
       "      <th>0</th>\n",
       "      <td>12.0</td>\n",
       "      <td>NaN</td>\n",
       "      <td>221.0</td>\n",
       "      <td>13</td>\n",
       "    </tr>\n",
       "    <tr>\n",
       "      <th>1</th>\n",
       "      <td>24.0</td>\n",
       "      <td>NaN</td>\n",
       "      <td>NaN</td>\n",
       "      <td>24</td>\n",
       "    </tr>\n",
       "    <tr>\n",
       "      <th>2</th>\n",
       "      <td>13.0</td>\n",
       "      <td>123.0</td>\n",
       "      <td>213.0</td>\n",
       "      <td>35</td>\n",
       "    </tr>\n",
       "    <tr>\n",
       "      <th>3</th>\n",
       "      <td>NaN</td>\n",
       "      <td>42.0</td>\n",
       "      <td>126.0</td>\n",
       "      <td>35</td>\n",
       "    </tr>\n",
       "  </tbody>\n",
       "</table>\n",
       "</div>"
      ],
      "text/plain": [
       "      0      1      2   3\n",
       "0  12.0    NaN  221.0  13\n",
       "1  24.0    NaN    NaN  24\n",
       "2  13.0  123.0  213.0  35\n",
       "3   NaN   42.0  126.0  35"
      ]
     },
     "execution_count": 22,
     "metadata": {},
     "output_type": "execute_result"
    }
   ],
   "source": [
    "imagem = pd.DataFrame([[    12, np.nan,    221, 13],\n",
    "                       [    24, np.nan, np.nan, 24],\n",
    "                       [    13,    123,    213, 35],\n",
    "                       [np.nan,     42,    126, 35]])\n",
    "imagem\n"
   ]
  },
  {
   "cell_type": "markdown",
   "metadata": {},
   "source": [
    "Não podemos eliminar um valor específico de um ``DataFrame``. SOmente podemos eliminar linhas ou colunas completas. Dependendo do caso, você pode querer um ou outro, então ``dropna()`` oferece várias opções.\n",
    "Por padrão, ``dropna()`` eliminará todas as linhas nas quais qualquer valor nulo estiver presente."
   ]
  },
  {
   "cell_type": "code",
   "execution_count": 23,
   "metadata": {},
   "outputs": [
    {
     "data": {
      "text/html": [
       "<div>\n",
       "<style scoped>\n",
       "    .dataframe tbody tr th:only-of-type {\n",
       "        vertical-align: middle;\n",
       "    }\n",
       "\n",
       "    .dataframe tbody tr th {\n",
       "        vertical-align: top;\n",
       "    }\n",
       "\n",
       "    .dataframe thead th {\n",
       "        text-align: right;\n",
       "    }\n",
       "</style>\n",
       "<table border=\"1\" class=\"dataframe\">\n",
       "  <thead>\n",
       "    <tr style=\"text-align: right;\">\n",
       "      <th></th>\n",
       "      <th>0</th>\n",
       "      <th>1</th>\n",
       "      <th>2</th>\n",
       "      <th>3</th>\n",
       "    </tr>\n",
       "  </thead>\n",
       "  <tbody>\n",
       "    <tr>\n",
       "      <th>2</th>\n",
       "      <td>13.0</td>\n",
       "      <td>123.0</td>\n",
       "      <td>213.0</td>\n",
       "      <td>35</td>\n",
       "    </tr>\n",
       "  </tbody>\n",
       "</table>\n",
       "</div>"
      ],
      "text/plain": [
       "      0      1      2   3\n",
       "2  13.0  123.0  213.0  35"
      ]
     },
     "execution_count": 23,
     "metadata": {},
     "output_type": "execute_result"
    }
   ],
   "source": [
    "imagem.dropna() # axis=0 ou axis='index' ou axis='rows'"
   ]
  },
  {
   "cell_type": "code",
   "execution_count": 24,
   "metadata": {},
   "outputs": [
    {
     "data": {
      "text/html": [
       "<div>\n",
       "<style scoped>\n",
       "    .dataframe tbody tr th:only-of-type {\n",
       "        vertical-align: middle;\n",
       "    }\n",
       "\n",
       "    .dataframe tbody tr th {\n",
       "        vertical-align: top;\n",
       "    }\n",
       "\n",
       "    .dataframe thead th {\n",
       "        text-align: right;\n",
       "    }\n",
       "</style>\n",
       "<table border=\"1\" class=\"dataframe\">\n",
       "  <thead>\n",
       "    <tr style=\"text-align: right;\">\n",
       "      <th></th>\n",
       "      <th>3</th>\n",
       "    </tr>\n",
       "  </thead>\n",
       "  <tbody>\n",
       "    <tr>\n",
       "      <th>0</th>\n",
       "      <td>13</td>\n",
       "    </tr>\n",
       "    <tr>\n",
       "      <th>1</th>\n",
       "      <td>24</td>\n",
       "    </tr>\n",
       "    <tr>\n",
       "      <th>2</th>\n",
       "      <td>35</td>\n",
       "    </tr>\n",
       "    <tr>\n",
       "      <th>3</th>\n",
       "      <td>35</td>\n",
       "    </tr>\n",
       "  </tbody>\n",
       "</table>\n",
       "</div>"
      ],
      "text/plain": [
       "    3\n",
       "0  13\n",
       "1  24\n",
       "2  35\n",
       "3  35"
      ]
     },
     "execution_count": 24,
     "metadata": {},
     "output_type": "execute_result"
    }
   ],
   "source": [
    "imagem.dropna(axis='columns') # axis=1 "
   ]
  },
  {
   "cell_type": "markdown",
   "metadata": {},
   "source": [
    "As duas alternativas anteriores descartam alguns dados bons. \n",
    "\n",
    "Você pode estar interessado em eliminar linhas ou colunas com todos os valores ausentes ou com a maioria dos valores ausentes.\n",
    "\n",
    "Isso pode ser especificado por meio dos parâmetros ``how`` ou ``thresh``, que permitem um controle preciso do número de nulos permitidos.\n",
    "\n",
    "O padrão é ``how='any'``, de forma que qualquer linha ou coluna (dependendo do ``axis``) contendo um valor nulo será descartada. Você também pode especificar ``how='all'``, que eliminará apenas linhas/colunas que sejam todas valores nulos.\n",
    "\n",
    "Para um controle fino, o parâmetro ``thresh`` permite especificar um número mínimo de valores não nulos para a linha/coluna a ser mantida."
   ]
  },
  {
   "cell_type": "code",
   "execution_count": 25,
   "metadata": {},
   "outputs": [
    {
     "data": {
      "text/html": [
       "<div>\n",
       "<style scoped>\n",
       "    .dataframe tbody tr th:only-of-type {\n",
       "        vertical-align: middle;\n",
       "    }\n",
       "\n",
       "    .dataframe tbody tr th {\n",
       "        vertical-align: top;\n",
       "    }\n",
       "\n",
       "    .dataframe thead th {\n",
       "        text-align: right;\n",
       "    }\n",
       "</style>\n",
       "<table border=\"1\" class=\"dataframe\">\n",
       "  <thead>\n",
       "    <tr style=\"text-align: right;\">\n",
       "      <th></th>\n",
       "      <th>C0</th>\n",
       "      <th>C1</th>\n",
       "      <th>C2</th>\n",
       "      <th>C3</th>\n",
       "    </tr>\n",
       "  </thead>\n",
       "  <tbody>\n",
       "    <tr>\n",
       "      <th>L0</th>\n",
       "      <td>12.0</td>\n",
       "      <td>NaN</td>\n",
       "      <td>221.0</td>\n",
       "      <td>13</td>\n",
       "    </tr>\n",
       "    <tr>\n",
       "      <th>L1</th>\n",
       "      <td>24.0</td>\n",
       "      <td>NaN</td>\n",
       "      <td>NaN</td>\n",
       "      <td>24</td>\n",
       "    </tr>\n",
       "    <tr>\n",
       "      <th>L2</th>\n",
       "      <td>13.0</td>\n",
       "      <td>123.0</td>\n",
       "      <td>213.0</td>\n",
       "      <td>35</td>\n",
       "    </tr>\n",
       "    <tr>\n",
       "      <th>L3</th>\n",
       "      <td>NaN</td>\n",
       "      <td>42.0</td>\n",
       "      <td>126.0</td>\n",
       "      <td>35</td>\n",
       "    </tr>\n",
       "  </tbody>\n",
       "</table>\n",
       "</div>"
      ],
      "text/plain": [
       "      C0     C1     C2  C3\n",
       "L0  12.0    NaN  221.0  13\n",
       "L1  24.0    NaN    NaN  24\n",
       "L2  13.0  123.0  213.0  35\n",
       "L3   NaN   42.0  126.0  35"
      ]
     },
     "execution_count": 25,
     "metadata": {},
     "output_type": "execute_result"
    }
   ],
   "source": [
    "imagem.index = ['L0', 'L1', 'L2', 'L3']\n",
    "imagem.columns = ['C0', 'C1', 'C2', 'C3']\n",
    "imagem"
   ]
  },
  {
   "cell_type": "code",
   "execution_count": 26,
   "metadata": {},
   "outputs": [
    {
     "data": {
      "text/html": [
       "<div>\n",
       "<style scoped>\n",
       "    .dataframe tbody tr th:only-of-type {\n",
       "        vertical-align: middle;\n",
       "    }\n",
       "\n",
       "    .dataframe tbody tr th {\n",
       "        vertical-align: top;\n",
       "    }\n",
       "\n",
       "    .dataframe thead th {\n",
       "        text-align: right;\n",
       "    }\n",
       "</style>\n",
       "<table border=\"1\" class=\"dataframe\">\n",
       "  <thead>\n",
       "    <tr style=\"text-align: right;\">\n",
       "      <th></th>\n",
       "      <th>C0</th>\n",
       "      <th>C1</th>\n",
       "      <th>C2</th>\n",
       "      <th>C3</th>\n",
       "    </tr>\n",
       "  </thead>\n",
       "  <tbody>\n",
       "    <tr>\n",
       "      <th>L0</th>\n",
       "      <td>12.0</td>\n",
       "      <td>NaN</td>\n",
       "      <td>221.0</td>\n",
       "      <td>13</td>\n",
       "    </tr>\n",
       "    <tr>\n",
       "      <th>L2</th>\n",
       "      <td>13.0</td>\n",
       "      <td>123.0</td>\n",
       "      <td>213.0</td>\n",
       "      <td>35</td>\n",
       "    </tr>\n",
       "    <tr>\n",
       "      <th>L3</th>\n",
       "      <td>NaN</td>\n",
       "      <td>42.0</td>\n",
       "      <td>126.0</td>\n",
       "      <td>35</td>\n",
       "    </tr>\n",
       "  </tbody>\n",
       "</table>\n",
       "</div>"
      ],
      "text/plain": [
       "      C0     C1     C2  C3\n",
       "L0  12.0    NaN  221.0  13\n",
       "L2  13.0  123.0  213.0  35\n",
       "L3   NaN   42.0  126.0  35"
      ]
     },
     "execution_count": 26,
     "metadata": {},
     "output_type": "execute_result"
    }
   ],
   "source": [
    "imagem.dropna(thresh=3)"
   ]
  },
  {
   "cell_type": "code",
   "execution_count": 27,
   "metadata": {},
   "outputs": [
    {
     "data": {
      "text/html": [
       "<div>\n",
       "<style scoped>\n",
       "    .dataframe tbody tr th:only-of-type {\n",
       "        vertical-align: middle;\n",
       "    }\n",
       "\n",
       "    .dataframe tbody tr th {\n",
       "        vertical-align: top;\n",
       "    }\n",
       "\n",
       "    .dataframe thead th {\n",
       "        text-align: right;\n",
       "    }\n",
       "</style>\n",
       "<table border=\"1\" class=\"dataframe\">\n",
       "  <thead>\n",
       "    <tr style=\"text-align: right;\">\n",
       "      <th></th>\n",
       "      <th>C0</th>\n",
       "      <th>C2</th>\n",
       "      <th>C3</th>\n",
       "    </tr>\n",
       "  </thead>\n",
       "  <tbody>\n",
       "    <tr>\n",
       "      <th>L0</th>\n",
       "      <td>12.0</td>\n",
       "      <td>221.0</td>\n",
       "      <td>13</td>\n",
       "    </tr>\n",
       "    <tr>\n",
       "      <th>L1</th>\n",
       "      <td>24.0</td>\n",
       "      <td>NaN</td>\n",
       "      <td>24</td>\n",
       "    </tr>\n",
       "    <tr>\n",
       "      <th>L2</th>\n",
       "      <td>13.0</td>\n",
       "      <td>213.0</td>\n",
       "      <td>35</td>\n",
       "    </tr>\n",
       "    <tr>\n",
       "      <th>L3</th>\n",
       "      <td>NaN</td>\n",
       "      <td>126.0</td>\n",
       "      <td>35</td>\n",
       "    </tr>\n",
       "  </tbody>\n",
       "</table>\n",
       "</div>"
      ],
      "text/plain": [
       "      C0     C2  C3\n",
       "L0  12.0  221.0  13\n",
       "L1  24.0    NaN  24\n",
       "L2  13.0  213.0  35\n",
       "L3   NaN  126.0  35"
      ]
     },
     "execution_count": 27,
     "metadata": {},
     "output_type": "execute_result"
    }
   ],
   "source": [
    "imagem.dropna(axis=1, thresh=3)"
   ]
  },
  {
   "cell_type": "markdown",
   "metadata": {},
   "source": [
    "## Preenchendo valores ausentes\n",
    "\n",
    "Às vezes, em vez de descartar os valores ausentes é preferível substituí-los por um valor válido. \n",
    "\n",
    "O valor pode ser um número específico como zero ou pode ser algum tipo de atribuição ou interpolação dos valores bons. \n",
    "\n",
    "Você poderia fazer isso diretamente usando o método ``isnull()`` como máscara, mas por ser uma operação tão comum, __Pandas__ fornece o método ``fillna()``, que retorna uma cópia do array com os valores nulos substituídos.\n",
    "\n",
    "Já utilizamos este método anteriormente com ``Series``, mas eles pode ser utilizado c também com ``DataFrames``"
   ]
  },
  {
   "cell_type": "code",
   "execution_count": 28,
   "metadata": {},
   "outputs": [
    {
     "data": {
      "text/html": [
       "<div>\n",
       "<style scoped>\n",
       "    .dataframe tbody tr th:only-of-type {\n",
       "        vertical-align: middle;\n",
       "    }\n",
       "\n",
       "    .dataframe tbody tr th {\n",
       "        vertical-align: top;\n",
       "    }\n",
       "\n",
       "    .dataframe thead th {\n",
       "        text-align: right;\n",
       "    }\n",
       "</style>\n",
       "<table border=\"1\" class=\"dataframe\">\n",
       "  <thead>\n",
       "    <tr style=\"text-align: right;\">\n",
       "      <th></th>\n",
       "      <th>C0</th>\n",
       "      <th>C1</th>\n",
       "      <th>C2</th>\n",
       "      <th>C3</th>\n",
       "    </tr>\n",
       "  </thead>\n",
       "  <tbody>\n",
       "    <tr>\n",
       "      <th>L0</th>\n",
       "      <td>12.0</td>\n",
       "      <td>0.0</td>\n",
       "      <td>221.0</td>\n",
       "      <td>13</td>\n",
       "    </tr>\n",
       "    <tr>\n",
       "      <th>L1</th>\n",
       "      <td>24.0</td>\n",
       "      <td>0.0</td>\n",
       "      <td>0.0</td>\n",
       "      <td>24</td>\n",
       "    </tr>\n",
       "    <tr>\n",
       "      <th>L2</th>\n",
       "      <td>13.0</td>\n",
       "      <td>123.0</td>\n",
       "      <td>213.0</td>\n",
       "      <td>35</td>\n",
       "    </tr>\n",
       "    <tr>\n",
       "      <th>L3</th>\n",
       "      <td>0.0</td>\n",
       "      <td>42.0</td>\n",
       "      <td>126.0</td>\n",
       "      <td>35</td>\n",
       "    </tr>\n",
       "  </tbody>\n",
       "</table>\n",
       "</div>"
      ],
      "text/plain": [
       "      C0     C1     C2  C3\n",
       "L0  12.0    0.0  221.0  13\n",
       "L1  24.0    0.0    0.0  24\n",
       "L2  13.0  123.0  213.0  35\n",
       "L3   0.0   42.0  126.0  35"
      ]
     },
     "execution_count": 28,
     "metadata": {},
     "output_type": "execute_result"
    }
   ],
   "source": [
    "imagem.fillna(0)"
   ]
  },
  {
   "cell_type": "markdown",
   "metadata": {},
   "source": [
    "Podemos alterar ainda o método de preenchimento para ter resultados diferentes."
   ]
  },
  {
   "cell_type": "code",
   "execution_count": 29,
   "metadata": {},
   "outputs": [
    {
     "data": {
      "text/html": [
       "<div>\n",
       "<style scoped>\n",
       "    .dataframe tbody tr th:only-of-type {\n",
       "        vertical-align: middle;\n",
       "    }\n",
       "\n",
       "    .dataframe tbody tr th {\n",
       "        vertical-align: top;\n",
       "    }\n",
       "\n",
       "    .dataframe thead th {\n",
       "        text-align: right;\n",
       "    }\n",
       "</style>\n",
       "<table border=\"1\" class=\"dataframe\">\n",
       "  <thead>\n",
       "    <tr style=\"text-align: right;\">\n",
       "      <th></th>\n",
       "      <th>C0</th>\n",
       "      <th>C1</th>\n",
       "      <th>C2</th>\n",
       "      <th>C3</th>\n",
       "    </tr>\n",
       "  </thead>\n",
       "  <tbody>\n",
       "    <tr>\n",
       "      <th>L0</th>\n",
       "      <td>12.0</td>\n",
       "      <td>NaN</td>\n",
       "      <td>221.0</td>\n",
       "      <td>13</td>\n",
       "    </tr>\n",
       "    <tr>\n",
       "      <th>L1</th>\n",
       "      <td>24.0</td>\n",
       "      <td>NaN</td>\n",
       "      <td>NaN</td>\n",
       "      <td>24</td>\n",
       "    </tr>\n",
       "    <tr>\n",
       "      <th>L2</th>\n",
       "      <td>13.0</td>\n",
       "      <td>123.0</td>\n",
       "      <td>213.0</td>\n",
       "      <td>35</td>\n",
       "    </tr>\n",
       "    <tr>\n",
       "      <th>L3</th>\n",
       "      <td>NaN</td>\n",
       "      <td>42.0</td>\n",
       "      <td>126.0</td>\n",
       "      <td>35</td>\n",
       "    </tr>\n",
       "  </tbody>\n",
       "</table>\n",
       "</div>"
      ],
      "text/plain": [
       "      C0     C1     C2  C3\n",
       "L0  12.0    NaN  221.0  13\n",
       "L1  24.0    NaN    NaN  24\n",
       "L2  13.0  123.0  213.0  35\n",
       "L3   NaN   42.0  126.0  35"
      ]
     },
     "execution_count": 29,
     "metadata": {},
     "output_type": "execute_result"
    }
   ],
   "source": [
    "imagem"
   ]
  },
  {
   "cell_type": "code",
   "execution_count": 30,
   "metadata": {},
   "outputs": [
    {
     "data": {
      "text/html": [
       "<div>\n",
       "<style scoped>\n",
       "    .dataframe tbody tr th:only-of-type {\n",
       "        vertical-align: middle;\n",
       "    }\n",
       "\n",
       "    .dataframe tbody tr th {\n",
       "        vertical-align: top;\n",
       "    }\n",
       "\n",
       "    .dataframe thead th {\n",
       "        text-align: right;\n",
       "    }\n",
       "</style>\n",
       "<table border=\"1\" class=\"dataframe\">\n",
       "  <thead>\n",
       "    <tr style=\"text-align: right;\">\n",
       "      <th></th>\n",
       "      <th>C0</th>\n",
       "      <th>C1</th>\n",
       "      <th>C2</th>\n",
       "      <th>C3</th>\n",
       "    </tr>\n",
       "  </thead>\n",
       "  <tbody>\n",
       "    <tr>\n",
       "      <th>L0</th>\n",
       "      <td>12.0</td>\n",
       "      <td>NaN</td>\n",
       "      <td>221.0</td>\n",
       "      <td>13</td>\n",
       "    </tr>\n",
       "    <tr>\n",
       "      <th>L1</th>\n",
       "      <td>24.0</td>\n",
       "      <td>NaN</td>\n",
       "      <td>221.0</td>\n",
       "      <td>24</td>\n",
       "    </tr>\n",
       "    <tr>\n",
       "      <th>L2</th>\n",
       "      <td>13.0</td>\n",
       "      <td>123.0</td>\n",
       "      <td>213.0</td>\n",
       "      <td>35</td>\n",
       "    </tr>\n",
       "    <tr>\n",
       "      <th>L3</th>\n",
       "      <td>13.0</td>\n",
       "      <td>42.0</td>\n",
       "      <td>126.0</td>\n",
       "      <td>35</td>\n",
       "    </tr>\n",
       "  </tbody>\n",
       "</table>\n",
       "</div>"
      ],
      "text/plain": [
       "      C0     C1     C2  C3\n",
       "L0  12.0    NaN  221.0  13\n",
       "L1  24.0    NaN  221.0  24\n",
       "L2  13.0  123.0  213.0  35\n",
       "L3  13.0   42.0  126.0  35"
      ]
     },
     "execution_count": 30,
     "metadata": {},
     "output_type": "execute_result"
    }
   ],
   "source": [
    "imagem.ffill() #imagem.fillna(method='ffill')"
   ]
  },
  {
   "cell_type": "code",
   "execution_count": 31,
   "metadata": {},
   "outputs": [
    {
     "data": {
      "text/html": [
       "<div>\n",
       "<style scoped>\n",
       "    .dataframe tbody tr th:only-of-type {\n",
       "        vertical-align: middle;\n",
       "    }\n",
       "\n",
       "    .dataframe tbody tr th {\n",
       "        vertical-align: top;\n",
       "    }\n",
       "\n",
       "    .dataframe thead th {\n",
       "        text-align: right;\n",
       "    }\n",
       "</style>\n",
       "<table border=\"1\" class=\"dataframe\">\n",
       "  <thead>\n",
       "    <tr style=\"text-align: right;\">\n",
       "      <th></th>\n",
       "      <th>C0</th>\n",
       "      <th>C1</th>\n",
       "      <th>C2</th>\n",
       "      <th>C3</th>\n",
       "    </tr>\n",
       "  </thead>\n",
       "  <tbody>\n",
       "    <tr>\n",
       "      <th>L0</th>\n",
       "      <td>12.0</td>\n",
       "      <td>12.0</td>\n",
       "      <td>221.0</td>\n",
       "      <td>13.0</td>\n",
       "    </tr>\n",
       "    <tr>\n",
       "      <th>L1</th>\n",
       "      <td>24.0</td>\n",
       "      <td>24.0</td>\n",
       "      <td>24.0</td>\n",
       "      <td>24.0</td>\n",
       "    </tr>\n",
       "    <tr>\n",
       "      <th>L2</th>\n",
       "      <td>13.0</td>\n",
       "      <td>123.0</td>\n",
       "      <td>213.0</td>\n",
       "      <td>35.0</td>\n",
       "    </tr>\n",
       "    <tr>\n",
       "      <th>L3</th>\n",
       "      <td>NaN</td>\n",
       "      <td>42.0</td>\n",
       "      <td>126.0</td>\n",
       "      <td>35.0</td>\n",
       "    </tr>\n",
       "  </tbody>\n",
       "</table>\n",
       "</div>"
      ],
      "text/plain": [
       "      C0     C1     C2    C3\n",
       "L0  12.0   12.0  221.0  13.0\n",
       "L1  24.0   24.0   24.0  24.0\n",
       "L2  13.0  123.0  213.0  35.0\n",
       "L3   NaN   42.0  126.0  35.0"
      ]
     },
     "execution_count": 31,
     "metadata": {},
     "output_type": "execute_result"
    }
   ],
   "source": [
    "imagem.ffill(axis=1) #imagem.fillna(method='ffill', axis=1)"
   ]
  },
  {
   "cell_type": "code",
   "execution_count": 32,
   "metadata": {},
   "outputs": [
    {
     "data": {
      "text/html": [
       "<div>\n",
       "<style scoped>\n",
       "    .dataframe tbody tr th:only-of-type {\n",
       "        vertical-align: middle;\n",
       "    }\n",
       "\n",
       "    .dataframe tbody tr th {\n",
       "        vertical-align: top;\n",
       "    }\n",
       "\n",
       "    .dataframe thead th {\n",
       "        text-align: right;\n",
       "    }\n",
       "</style>\n",
       "<table border=\"1\" class=\"dataframe\">\n",
       "  <thead>\n",
       "    <tr style=\"text-align: right;\">\n",
       "      <th></th>\n",
       "      <th>C0</th>\n",
       "      <th>C1</th>\n",
       "      <th>C2</th>\n",
       "      <th>C3</th>\n",
       "    </tr>\n",
       "  </thead>\n",
       "  <tbody>\n",
       "    <tr>\n",
       "      <th>L0</th>\n",
       "      <td>12.0</td>\n",
       "      <td>12.0</td>\n",
       "      <td>221.0</td>\n",
       "      <td>13.0</td>\n",
       "    </tr>\n",
       "    <tr>\n",
       "      <th>L1</th>\n",
       "      <td>24.0</td>\n",
       "      <td>24.0</td>\n",
       "      <td>24.0</td>\n",
       "      <td>24.0</td>\n",
       "    </tr>\n",
       "    <tr>\n",
       "      <th>L2</th>\n",
       "      <td>13.0</td>\n",
       "      <td>123.0</td>\n",
       "      <td>213.0</td>\n",
       "      <td>35.0</td>\n",
       "    </tr>\n",
       "    <tr>\n",
       "      <th>L3</th>\n",
       "      <td>13.0</td>\n",
       "      <td>42.0</td>\n",
       "      <td>126.0</td>\n",
       "      <td>35.0</td>\n",
       "    </tr>\n",
       "  </tbody>\n",
       "</table>\n",
       "</div>"
      ],
      "text/plain": [
       "      C0     C1     C2    C3\n",
       "L0  12.0   12.0  221.0  13.0\n",
       "L1  24.0   24.0   24.0  24.0\n",
       "L2  13.0  123.0  213.0  35.0\n",
       "L3  13.0   42.0  126.0  35.0"
      ]
     },
     "execution_count": 32,
     "metadata": {},
     "output_type": "execute_result"
    }
   ],
   "source": [
    "imagem.ffill(axis=1).ffill()"
   ]
  },
  {
   "cell_type": "markdown",
   "metadata": {},
   "source": [
    "## Indexação hierárquica\n",
    "\n",
    "Até aqui tratamos, principalmente, de dados unidimensionais e bidimensionais, armazenados nos objetos ``Series`` e ``DataFrame`` do __Pandas__.\n",
    "\n",
    "Muitas vezes é importante ir além disso e armazenar dados em estruturas com mais dimensões, ou seja, dados indexados por mais de uma ou duas chaves.\n",
    "\n",
    "Embora o __Pandas__ forneça objetos ``Panel`` e ``Panel4D`` que lidam nativamente com dados tridimensionais e quadridimensionais, o padrão na prática é fazer uso da _indexação hierárquica_ também chamada de _multiindexação_, que incorpora vários _níveis_ de índice em um único índice.\n",
    "\n",
    "Desta forma, dados de dimensões superiores podem ser representados de forma compacta dentro dos familiares objetos ``Series``  e ``DataFrame``.\n",
    "\n",
    "Vamos exploraremos a criação direta de objetos ``MultiIndex``."
   ]
  },
  {
   "cell_type": "code",
   "execution_count": 33,
   "metadata": {},
   "outputs": [
    {
     "data": {
      "text/plain": [
       "(Estação_01, 2000)    29.445410\n",
       "(Estação_02, 2000)    28.936628\n",
       "(Estação_03, 2000)    27.773272\n",
       "(Estação_01, 2010)    27.150228\n",
       "(Estação_02, 2010)    26.375287\n",
       "(Estação_03, 2010)    29.362904\n",
       "(Estação_01, 2020)    28.868791\n",
       "(Estação_02, 2020)    28.587239\n",
       "(Estação_03, 2020)    30.573099\n",
       "dtype: float64"
      ]
     },
     "execution_count": 33,
     "metadata": {},
     "output_type": "execute_result"
    }
   ],
   "source": [
    "index = [('Estação_01', 2000), ('Estação_02', 2000), ('Estação_03', 2000),\n",
    "         ('Estação_01', 2010), ('Estação_02', 2010), ('Estação_03', 2010),\n",
    "         ('Estação_01', 2020), ('Estação_02', 2020), ('Estação_03', 2020)]\n",
    "temperaturas = np.ones(9)\n",
    "temperaturas[:3] = np.random.uniform(25, 30, 3)\n",
    "temperaturas[3:6] = np.random.uniform(26, 31, 3)\n",
    "temperaturas[6:] = np.random.uniform(27, 32, 3)\n",
    "estações = pd.Series(temperaturas, index=index)\n",
    "estações"
   ]
  },
  {
   "cell_type": "markdown",
   "metadata": {},
   "source": [
    "Podemos agora usar _slicing_ com base nesta estrutura de indexação baseada no uso de tuplas. "
   ]
  },
  {
   "cell_type": "code",
   "execution_count": 34,
   "metadata": {},
   "outputs": [
    {
     "data": {
      "text/plain": [
       "(Estação_03, 2000)    27.773272\n",
       "(Estação_01, 2010)    27.150228\n",
       "(Estação_02, 2010)    26.375287\n",
       "(Estação_03, 2010)    29.362904\n",
       "(Estação_01, 2020)    28.868791\n",
       "(Estação_02, 2020)    28.587239\n",
       "dtype: float64"
      ]
     },
     "execution_count": 34,
     "metadata": {},
     "output_type": "execute_result"
    }
   ],
   "source": [
    "estações[('Estação_03', 2000):('Estação_02', 2020)]"
   ]
  },
  {
   "cell_type": "markdown",
   "metadata": {},
   "source": [
    "Entretanto, esta forma de indexação pode dificultar tarefas com, por exemplo, extrair as temperaturas de 2020 ou apenas as da ``Estação_02``."
   ]
  },
  {
   "cell_type": "code",
   "execution_count": 35,
   "metadata": {},
   "outputs": [
    {
     "data": {
      "text/plain": [
       "(Estação_01, 2010)    27.150228\n",
       "(Estação_02, 2010)    26.375287\n",
       "(Estação_03, 2010)    29.362904\n",
       "dtype: float64"
      ]
     },
     "execution_count": 35,
     "metadata": {},
     "output_type": "execute_result"
    }
   ],
   "source": [
    "estações[[i for i in estações.index if i[1] == 2010]]"
   ]
  },
  {
   "cell_type": "code",
   "execution_count": 36,
   "metadata": {},
   "outputs": [
    {
     "data": {
      "text/plain": [
       "(Estação_02, 2000)    28.936628\n",
       "(Estação_02, 2010)    26.375287\n",
       "(Estação_02, 2020)    28.587239\n",
       "dtype: float64"
      ]
     },
     "execution_count": 36,
     "metadata": {},
     "output_type": "execute_result"
    }
   ],
   "source": [
    "estações[[i for i in estações.index if i[0] == 'Estação_02']]"
   ]
  },
  {
   "cell_type": "markdown",
   "metadata": {},
   "source": [
    "O resultado obtido é o desejado, ainda que o mecanismo de indexação seja complexo e não muito eficiente, sobre tudo para grandes conjuntos de dados, quanto a sintaxe de _slicing_."
   ]
  },
  {
   "cell_type": "markdown",
   "metadata": {},
   "source": [
    "Felizmente, o __Pandas__ oferece um mecanismo melhor. A indexação baseada em tupla, utilizada no exemplo anterior, é essencialmente um multi-índice rudimentar. O tipo __Pandas__ ``MultiIndex`` nos fornece o tipo de operações que desejamos ter."
   ]
  },
  {
   "cell_type": "code",
   "execution_count": 37,
   "metadata": {},
   "outputs": [
    {
     "data": {
      "text/plain": [
       "MultiIndex([('Estação_01', 2000),\n",
       "            ('Estação_02', 2000),\n",
       "            ('Estação_03', 2000),\n",
       "            ('Estação_01', 2010),\n",
       "            ('Estação_02', 2010),\n",
       "            ('Estação_03', 2010),\n",
       "            ('Estação_01', 2020),\n",
       "            ('Estação_02', 2020),\n",
       "            ('Estação_03', 2020)],\n",
       "           names=['Estação', 'Ano'])"
      ]
     },
     "execution_count": 37,
     "metadata": {},
     "output_type": "execute_result"
    }
   ],
   "source": [
    "index = pd.MultiIndex.from_tuples(index, names=['Estação', 'Ano'])\n",
    "index"
   ]
  },
  {
   "cell_type": "code",
   "execution_count": 38,
   "metadata": {},
   "outputs": [
    {
     "data": {
      "text/plain": [
       "Estação     Ano \n",
       "Estação_01  2000    29.445410\n",
       "Estação_02  2000    28.936628\n",
       "Estação_03  2000    27.773272\n",
       "Estação_01  2010    27.150228\n",
       "Estação_02  2010    26.375287\n",
       "Estação_03  2010    29.362904\n",
       "Estação_01  2020    28.868791\n",
       "Estação_02  2020    28.587239\n",
       "Estação_03  2020    30.573099\n",
       "dtype: float64"
      ]
     },
     "execution_count": 38,
     "metadata": {},
     "output_type": "execute_result"
    }
   ],
   "source": [
    "estações = pd.Series(temperaturas, index=index)\n",
    "estações"
   ]
  },
  {
   "cell_type": "markdown",
   "metadata": {},
   "source": [
    "Agora, as duas primeiras colunas da representação da série mostram os vários valores do índice, enquanto a terceira coluna mostra os dados.\n",
    "\n",
    "Agora,para extrair as temperaturas de 2020 ou apenas as da ``Estação_02`` podemos fazer de forma simples."
   ]
  },
  {
   "cell_type": "code",
   "execution_count": 39,
   "metadata": {},
   "outputs": [
    {
     "data": {
      "text/plain": [
       "Estação\n",
       "Estação_01    28.868791\n",
       "Estação_02    28.587239\n",
       "Estação_03    30.573099\n",
       "dtype: float64"
      ]
     },
     "execution_count": 39,
     "metadata": {},
     "output_type": "execute_result"
    }
   ],
   "source": [
    "estações[:, 2020]"
   ]
  },
  {
   "cell_type": "code",
   "execution_count": 40,
   "metadata": {},
   "outputs": [
    {
     "data": {
      "text/plain": [
       "Ano\n",
       "2000    28.936628\n",
       "2010    26.375287\n",
       "2020    28.587239\n",
       "dtype: float64"
      ]
     },
     "execution_count": 40,
     "metadata": {},
     "output_type": "execute_result"
    }
   ],
   "source": [
    "estações['Estação_02', :]"
   ]
  },
  {
   "cell_type": "markdown",
   "metadata": {},
   "source": [
    "Desta forma temos  um array indexado individualmente com apenas as chaves nas quais estamos interessados. \n",
    "\n",
    "Essa sintaxe é muito mais conveniente e que funciona de forma muito mais eficiente, do que a solução de multi-indexação baseada em tupla com a qual começamos."
   ]
  },
  {
   "cell_type": "markdown",
   "metadata": {},
   "source": [
    "### Tratando ``MultiIndex`` como dimensão extra\n",
    "\n",
    "Umm questionamento importante neste ponto poderia ser: poderíamos facilmente ter armazenado os mesmos dados usando um simples ``DataFrame`` com rótulos de índices e colunas.\n",
    "\n",
    "Na verdade, o __Pandas__ foi construído com essa equivalência em mente. O método ``unstack()`` converterá rapidamente um ``Series`` indexado multiplicadamente em um ``DataFrame`` indexado convencionalmente."
   ]
  },
  {
   "cell_type": "code",
   "execution_count": 41,
   "metadata": {},
   "outputs": [
    {
     "data": {
      "text/html": [
       "<div>\n",
       "<style scoped>\n",
       "    .dataframe tbody tr th:only-of-type {\n",
       "        vertical-align: middle;\n",
       "    }\n",
       "\n",
       "    .dataframe tbody tr th {\n",
       "        vertical-align: top;\n",
       "    }\n",
       "\n",
       "    .dataframe thead th {\n",
       "        text-align: right;\n",
       "    }\n",
       "</style>\n",
       "<table border=\"1\" class=\"dataframe\">\n",
       "  <thead>\n",
       "    <tr style=\"text-align: right;\">\n",
       "      <th>Ano</th>\n",
       "      <th>2000</th>\n",
       "      <th>2010</th>\n",
       "      <th>2020</th>\n",
       "    </tr>\n",
       "    <tr>\n",
       "      <th>Estação</th>\n",
       "      <th></th>\n",
       "      <th></th>\n",
       "      <th></th>\n",
       "    </tr>\n",
       "  </thead>\n",
       "  <tbody>\n",
       "    <tr>\n",
       "      <th>Estação_01</th>\n",
       "      <td>29.445410</td>\n",
       "      <td>27.150228</td>\n",
       "      <td>28.868791</td>\n",
       "    </tr>\n",
       "    <tr>\n",
       "      <th>Estação_02</th>\n",
       "      <td>28.936628</td>\n",
       "      <td>26.375287</td>\n",
       "      <td>28.587239</td>\n",
       "    </tr>\n",
       "    <tr>\n",
       "      <th>Estação_03</th>\n",
       "      <td>27.773272</td>\n",
       "      <td>29.362904</td>\n",
       "      <td>30.573099</td>\n",
       "    </tr>\n",
       "  </tbody>\n",
       "</table>\n",
       "</div>"
      ],
      "text/plain": [
       "Ano              2000       2010       2020\n",
       "Estação                                    \n",
       "Estação_01  29.445410  27.150228  28.868791\n",
       "Estação_02  28.936628  26.375287  28.587239\n",
       "Estação_03  27.773272  29.362904  30.573099"
      ]
     },
     "execution_count": 41,
     "metadata": {},
     "output_type": "execute_result"
    }
   ],
   "source": [
    "estaçõesDF = estações.unstack()\n",
    "estaçõesDF"
   ]
  },
  {
   "cell_type": "markdown",
   "metadata": {},
   "source": [
    "Como seria de se esperar, o método ``stack()`` fornece a operação oposta."
   ]
  },
  {
   "cell_type": "code",
   "execution_count": 42,
   "metadata": {},
   "outputs": [
    {
     "data": {
      "text/plain": [
       "Estação     Ano \n",
       "Estação_01  2000    29.445410\n",
       "            2010    27.150228\n",
       "            2020    28.868791\n",
       "Estação_02  2000    28.936628\n",
       "            2010    26.375287\n",
       "            2020    28.587239\n",
       "Estação_03  2000    27.773272\n",
       "            2010    29.362904\n",
       "            2020    30.573099\n",
       "dtype: float64"
      ]
     },
     "execution_count": 42,
     "metadata": {},
     "output_type": "execute_result"
    }
   ],
   "source": [
    "estaçõesS = estaçõesDF.stack()\n",
    "estaçõesS"
   ]
  },
  {
   "cell_type": "markdown",
   "metadata": {},
   "source": [
    "Se ``Series`` com ``MultiIndex`` podem ser convertidas em ``DataFrames`` , para que introduzir este recurso?\n",
    "\n",
    "A razão é simples: assim como fomos capazes de usar multi-indexação para representar dados bidimensionais dentro de uma ``Series`` unidimensional, também podemos usá-la para representar dados de três ou mais dimensões em ``Series`` ou ``DataFrames`` .\n",
    "\n",
    "Cada nível extra em um  ``MultiIndex`` representa uma dimensão extra de dados; aproveitar essa propriedade nos dá muito mais flexibilidade nos tipos de dados que podemos representar. \n",
    "\n",
    "No exemplo anterior poderíamos pensar que a temperatura representada em cada estação, por ano, é a temperatura média. Poderíamos querer outra coluna de dados para cada estação em cada ano com a temperatura máxima daquele ano."
   ]
  },
  {
   "cell_type": "code",
   "execution_count": 43,
   "metadata": {},
   "outputs": [
    {
     "data": {
      "text/plain": [
       "array([35.16772677, 33.94079081, 33.40341182, 31.10828881, 29.70920754,\n",
       "       35.35198806, 32.04233895, 32.78501128, 34.75560891])"
      ]
     },
     "execution_count": 43,
     "metadata": {},
     "output_type": "execute_result"
    }
   ],
   "source": [
    "tMaxima = temperaturas + np.random.uniform(3, 6, 9)\n",
    "tMaxima"
   ]
  },
  {
   "cell_type": "code",
   "execution_count": 44,
   "metadata": {},
   "outputs": [
    {
     "data": {
      "text/html": [
       "<div>\n",
       "<style scoped>\n",
       "    .dataframe tbody tr th:only-of-type {\n",
       "        vertical-align: middle;\n",
       "    }\n",
       "\n",
       "    .dataframe tbody tr th {\n",
       "        vertical-align: top;\n",
       "    }\n",
       "\n",
       "    .dataframe thead th {\n",
       "        text-align: right;\n",
       "    }\n",
       "</style>\n",
       "<table border=\"1\" class=\"dataframe\">\n",
       "  <thead>\n",
       "    <tr style=\"text-align: right;\">\n",
       "      <th></th>\n",
       "      <th></th>\n",
       "      <th>tMed</th>\n",
       "      <th>tMax</th>\n",
       "    </tr>\n",
       "    <tr>\n",
       "      <th>Estação</th>\n",
       "      <th>Ano</th>\n",
       "      <th></th>\n",
       "      <th></th>\n",
       "    </tr>\n",
       "  </thead>\n",
       "  <tbody>\n",
       "    <tr>\n",
       "      <th>Estação_01</th>\n",
       "      <th>2000</th>\n",
       "      <td>29.445410</td>\n",
       "      <td>35.167727</td>\n",
       "    </tr>\n",
       "    <tr>\n",
       "      <th>Estação_02</th>\n",
       "      <th>2000</th>\n",
       "      <td>28.936628</td>\n",
       "      <td>33.940791</td>\n",
       "    </tr>\n",
       "    <tr>\n",
       "      <th>Estação_03</th>\n",
       "      <th>2000</th>\n",
       "      <td>27.773272</td>\n",
       "      <td>33.403412</td>\n",
       "    </tr>\n",
       "    <tr>\n",
       "      <th>Estação_01</th>\n",
       "      <th>2010</th>\n",
       "      <td>27.150228</td>\n",
       "      <td>31.108289</td>\n",
       "    </tr>\n",
       "    <tr>\n",
       "      <th>Estação_02</th>\n",
       "      <th>2010</th>\n",
       "      <td>26.375287</td>\n",
       "      <td>29.709208</td>\n",
       "    </tr>\n",
       "    <tr>\n",
       "      <th>Estação_03</th>\n",
       "      <th>2010</th>\n",
       "      <td>29.362904</td>\n",
       "      <td>35.351988</td>\n",
       "    </tr>\n",
       "    <tr>\n",
       "      <th>Estação_01</th>\n",
       "      <th>2020</th>\n",
       "      <td>28.868791</td>\n",
       "      <td>32.042339</td>\n",
       "    </tr>\n",
       "    <tr>\n",
       "      <th>Estação_02</th>\n",
       "      <th>2020</th>\n",
       "      <td>28.587239</td>\n",
       "      <td>32.785011</td>\n",
       "    </tr>\n",
       "    <tr>\n",
       "      <th>Estação_03</th>\n",
       "      <th>2020</th>\n",
       "      <td>30.573099</td>\n",
       "      <td>34.755609</td>\n",
       "    </tr>\n",
       "  </tbody>\n",
       "</table>\n",
       "</div>"
      ],
      "text/plain": [
       "                      tMed       tMax\n",
       "Estação    Ano                       \n",
       "Estação_01 2000  29.445410  35.167727\n",
       "Estação_02 2000  28.936628  33.940791\n",
       "Estação_03 2000  27.773272  33.403412\n",
       "Estação_01 2010  27.150228  31.108289\n",
       "Estação_02 2010  26.375287  29.709208\n",
       "Estação_03 2010  29.362904  35.351988\n",
       "Estação_01 2020  28.868791  32.042339\n",
       "Estação_02 2020  28.587239  32.785011\n",
       "Estação_03 2020  30.573099  34.755609"
      ]
     },
     "execution_count": 44,
     "metadata": {},
     "output_type": "execute_result"
    }
   ],
   "source": [
    "estaçõesDF = pd.DataFrame({'tMed': estações,\n",
    "                       'tMax': tMaxima})\n",
    "estaçõesDF"
   ]
  },
  {
   "cell_type": "code",
   "execution_count": 45,
   "metadata": {},
   "outputs": [
    {
     "data": {
      "text/plain": [
       "Estação     Ano       \n",
       "Estação_01  2000  tMed    29.445410\n",
       "                  tMax    35.167727\n",
       "Estação_02  2000  tMed    28.936628\n",
       "                  tMax    33.940791\n",
       "Estação_03  2000  tMed    27.773272\n",
       "                  tMax    33.403412\n",
       "Estação_01  2010  tMed    27.150228\n",
       "                  tMax    31.108289\n",
       "Estação_02  2010  tMed    26.375287\n",
       "                  tMax    29.709208\n",
       "Estação_03  2010  tMed    29.362904\n",
       "                  tMax    35.351988\n",
       "Estação_01  2020  tMed    28.868791\n",
       "                  tMax    32.042339\n",
       "Estação_02  2020  tMed    28.587239\n",
       "                  tMax    32.785011\n",
       "Estação_03  2020  tMed    30.573099\n",
       "                  tMax    34.755609\n",
       "dtype: float64"
      ]
     },
     "execution_count": 45,
     "metadata": {},
     "output_type": "execute_result"
    }
   ],
   "source": [
    "estaçõesS = estaçõesDF.stack()\n",
    "estaçõesS"
   ]
  },
  {
   "cell_type": "markdown",
   "metadata": {},
   "source": [
    "Podemos tratar estas estruturas utilizando as _unfuncs_, da mesma forma que como feito até aqui."
   ]
  },
  {
   "cell_type": "code",
   "execution_count": 46,
   "metadata": {},
   "outputs": [
    {
     "data": {
      "text/plain": [
       "Estação     Ano \n",
       "Estação_01  2000    5.722317\n",
       "Estação_02  2000    5.004162\n",
       "Estação_03  2000    5.630140\n",
       "Estação_01  2010    3.958061\n",
       "Estação_02  2010    3.333920\n",
       "Estação_03  2010    5.989084\n",
       "Estação_01  2020    3.173548\n",
       "Estação_02  2020    4.197772\n",
       "Estação_03  2020    4.182510\n",
       "dtype: float64"
      ]
     },
     "execution_count": 46,
     "metadata": {},
     "output_type": "execute_result"
    }
   ],
   "source": [
    "difMedMax = estaçõesDF['tMax'] - estaçõesDF['tMed']\n",
    "difMedMax"
   ]
  },
  {
   "cell_type": "markdown",
   "metadata": {},
   "source": [
    "Desta forma podemos manipular e tratar de maneira fácil e rápida até mesmo dados com muitas dimensões."
   ]
  },
  {
   "cell_type": "markdown",
   "metadata": {},
   "source": [
    "## Como criar ``MultiIndex``\n",
    "\n",
    "A maneira mais direta de construir um ``Series`` ou ``DataFrame`` com indexação múltipla é simplesmente passar uma lista de dois ou mais arrays de índice para o construtor."
   ]
  },
  {
   "cell_type": "code",
   "execution_count": 47,
   "metadata": {},
   "outputs": [
    {
     "data": {
      "text/html": [
       "<div>\n",
       "<style scoped>\n",
       "    .dataframe tbody tr th:only-of-type {\n",
       "        vertical-align: middle;\n",
       "    }\n",
       "\n",
       "    .dataframe tbody tr th {\n",
       "        vertical-align: top;\n",
       "    }\n",
       "\n",
       "    .dataframe thead th {\n",
       "        text-align: right;\n",
       "    }\n",
       "</style>\n",
       "<table border=\"1\" class=\"dataframe\">\n",
       "  <thead>\n",
       "    <tr style=\"text-align: right;\">\n",
       "      <th></th>\n",
       "      <th></th>\n",
       "      <th>set1</th>\n",
       "      <th>set2</th>\n",
       "      <th>set3</th>\n",
       "    </tr>\n",
       "  </thead>\n",
       "  <tbody>\n",
       "    <tr>\n",
       "      <th>alpha</th>\n",
       "      <th>A</th>\n",
       "      <td>0.976129</td>\n",
       "      <td>0.328074</td>\n",
       "      <td>0.451698</td>\n",
       "    </tr>\n",
       "    <tr>\n",
       "      <th>beta</th>\n",
       "      <th>B</th>\n",
       "      <td>0.793604</td>\n",
       "      <td>0.650422</td>\n",
       "      <td>0.490797</td>\n",
       "    </tr>\n",
       "    <tr>\n",
       "      <th>alpha</th>\n",
       "      <th>C</th>\n",
       "      <td>0.083682</td>\n",
       "      <td>0.774549</td>\n",
       "      <td>0.625333</td>\n",
       "    </tr>\n",
       "    <tr>\n",
       "      <th>beta</th>\n",
       "      <th>A</th>\n",
       "      <td>0.535920</td>\n",
       "      <td>0.176321</td>\n",
       "      <td>0.377157</td>\n",
       "    </tr>\n",
       "    <tr>\n",
       "      <th>alpha</th>\n",
       "      <th>B</th>\n",
       "      <td>0.461891</td>\n",
       "      <td>0.886607</td>\n",
       "      <td>0.121380</td>\n",
       "    </tr>\n",
       "    <tr>\n",
       "      <th>beta</th>\n",
       "      <th>C</th>\n",
       "      <td>0.538530</td>\n",
       "      <td>0.034229</td>\n",
       "      <td>0.814146</td>\n",
       "    </tr>\n",
       "  </tbody>\n",
       "</table>\n",
       "</div>"
      ],
      "text/plain": [
       "             set1      set2      set3\n",
       "alpha A  0.976129  0.328074  0.451698\n",
       "beta  B  0.793604  0.650422  0.490797\n",
       "alpha C  0.083682  0.774549  0.625333\n",
       "beta  A  0.535920  0.176321  0.377157\n",
       "alpha B  0.461891  0.886607  0.121380\n",
       "beta  C  0.538530  0.034229  0.814146"
      ]
     },
     "execution_count": 47,
     "metadata": {},
     "output_type": "execute_result"
    }
   ],
   "source": [
    "multiIndexDF = pd.DataFrame(np.random.rand(6, 3),\n",
    "                  index=[['alpha', 'beta']*3, \n",
    "                         ['A', 'B', 'C']*2],\n",
    "                  columns=['set1', 'set2', 'set3'])\n",
    "multiIndexDF"
   ]
  },
  {
   "cell_type": "code",
   "execution_count": 48,
   "metadata": {},
   "outputs": [
    {
     "data": {
      "text/html": [
       "<div>\n",
       "<style scoped>\n",
       "    .dataframe tbody tr th:only-of-type {\n",
       "        vertical-align: middle;\n",
       "    }\n",
       "\n",
       "    .dataframe tbody tr th {\n",
       "        vertical-align: top;\n",
       "    }\n",
       "\n",
       "    .dataframe thead tr th {\n",
       "        text-align: left;\n",
       "    }\n",
       "</style>\n",
       "<table border=\"1\" class=\"dataframe\">\n",
       "  <thead>\n",
       "    <tr>\n",
       "      <th></th>\n",
       "      <th colspan=\"3\" halign=\"left\">set1</th>\n",
       "      <th colspan=\"3\" halign=\"left\">set2</th>\n",
       "      <th colspan=\"3\" halign=\"left\">set3</th>\n",
       "    </tr>\n",
       "    <tr>\n",
       "      <th></th>\n",
       "      <th>A</th>\n",
       "      <th>B</th>\n",
       "      <th>C</th>\n",
       "      <th>A</th>\n",
       "      <th>B</th>\n",
       "      <th>C</th>\n",
       "      <th>A</th>\n",
       "      <th>B</th>\n",
       "      <th>C</th>\n",
       "    </tr>\n",
       "  </thead>\n",
       "  <tbody>\n",
       "    <tr>\n",
       "      <th>alpha</th>\n",
       "      <td>0.976129</td>\n",
       "      <td>0.461891</td>\n",
       "      <td>0.083682</td>\n",
       "      <td>0.328074</td>\n",
       "      <td>0.886607</td>\n",
       "      <td>0.774549</td>\n",
       "      <td>0.451698</td>\n",
       "      <td>0.121380</td>\n",
       "      <td>0.625333</td>\n",
       "    </tr>\n",
       "    <tr>\n",
       "      <th>beta</th>\n",
       "      <td>0.535920</td>\n",
       "      <td>0.793604</td>\n",
       "      <td>0.538530</td>\n",
       "      <td>0.176321</td>\n",
       "      <td>0.650422</td>\n",
       "      <td>0.034229</td>\n",
       "      <td>0.377157</td>\n",
       "      <td>0.490797</td>\n",
       "      <td>0.814146</td>\n",
       "    </tr>\n",
       "  </tbody>\n",
       "</table>\n",
       "</div>"
      ],
      "text/plain": [
       "           set1                          set2                          set3  \\\n",
       "              A         B         C         A         B         C         A   \n",
       "alpha  0.976129  0.461891  0.083682  0.328074  0.886607  0.774549  0.451698   \n",
       "beta   0.535920  0.793604  0.538530  0.176321  0.650422  0.034229  0.377157   \n",
       "\n",
       "                           \n",
       "              B         C  \n",
       "alpha  0.121380  0.625333  \n",
       "beta   0.490797  0.814146  "
      ]
     },
     "execution_count": 48,
     "metadata": {},
     "output_type": "execute_result"
    }
   ],
   "source": [
    "multiIndexS = multiIndexDF.unstack()\n",
    "multiIndexS\n"
   ]
  },
  {
   "cell_type": "code",
   "execution_count": 49,
   "metadata": {},
   "outputs": [
    {
     "data": {
      "text/html": [
       "<div>\n",
       "<style scoped>\n",
       "    .dataframe tbody tr th:only-of-type {\n",
       "        vertical-align: middle;\n",
       "    }\n",
       "\n",
       "    .dataframe tbody tr th {\n",
       "        vertical-align: top;\n",
       "    }\n",
       "\n",
       "    .dataframe thead th {\n",
       "        text-align: right;\n",
       "    }\n",
       "</style>\n",
       "<table border=\"1\" class=\"dataframe\">\n",
       "  <thead>\n",
       "    <tr style=\"text-align: right;\">\n",
       "      <th></th>\n",
       "      <th></th>\n",
       "      <th>set1</th>\n",
       "      <th>set2</th>\n",
       "      <th>set3</th>\n",
       "    </tr>\n",
       "  </thead>\n",
       "  <tbody>\n",
       "    <tr>\n",
       "      <th rowspan=\"3\" valign=\"top\">alpha</th>\n",
       "      <th>A</th>\n",
       "      <td>0.976129</td>\n",
       "      <td>0.328074</td>\n",
       "      <td>0.451698</td>\n",
       "    </tr>\n",
       "    <tr>\n",
       "      <th>B</th>\n",
       "      <td>0.461891</td>\n",
       "      <td>0.886607</td>\n",
       "      <td>0.121380</td>\n",
       "    </tr>\n",
       "    <tr>\n",
       "      <th>C</th>\n",
       "      <td>0.083682</td>\n",
       "      <td>0.774549</td>\n",
       "      <td>0.625333</td>\n",
       "    </tr>\n",
       "    <tr>\n",
       "      <th rowspan=\"3\" valign=\"top\">beta</th>\n",
       "      <th>A</th>\n",
       "      <td>0.535920</td>\n",
       "      <td>0.176321</td>\n",
       "      <td>0.377157</td>\n",
       "    </tr>\n",
       "    <tr>\n",
       "      <th>B</th>\n",
       "      <td>0.793604</td>\n",
       "      <td>0.650422</td>\n",
       "      <td>0.490797</td>\n",
       "    </tr>\n",
       "    <tr>\n",
       "      <th>C</th>\n",
       "      <td>0.538530</td>\n",
       "      <td>0.034229</td>\n",
       "      <td>0.814146</td>\n",
       "    </tr>\n",
       "  </tbody>\n",
       "</table>\n",
       "</div>"
      ],
      "text/plain": [
       "             set1      set2      set3\n",
       "alpha A  0.976129  0.328074  0.451698\n",
       "      B  0.461891  0.886607  0.121380\n",
       "      C  0.083682  0.774549  0.625333\n",
       "beta  A  0.535920  0.176321  0.377157\n",
       "      B  0.793604  0.650422  0.490797\n",
       "      C  0.538530  0.034229  0.814146"
      ]
     },
     "execution_count": 49,
     "metadata": {},
     "output_type": "execute_result"
    }
   ],
   "source": [
    "multiIndexDF = multiIndexS.stack()\n",
    "multiIndexDF"
   ]
  },
  {
   "cell_type": "markdown",
   "metadata": {},
   "source": [
    "Da mesma forma, se você passar um dicionário com as tuplas como chaves, __Pandas__ reconhecerá isso automaticamente e usará um ``MultiIndex``."
   ]
  },
  {
   "cell_type": "code",
   "execution_count": 50,
   "metadata": {},
   "outputs": [
    {
     "data": {
      "text/plain": [
       "alpha  A    0.629482\n",
       "       B    0.849897\n",
       "       C    0.001000\n",
       "beta   A    0.156000\n",
       "       B    0.123000\n",
       "       C    0.987000\n",
       "dtype: float64"
      ]
     },
     "execution_count": 50,
     "metadata": {},
     "output_type": "execute_result"
    }
   ],
   "source": [
    "dataDic = {('alpha', 'A'):0.629482, ('alpha', 'B'):0.849897, ('alpha', 'C'):0.001,\n",
    "           ('beta', 'A'):0.156, ('beta', 'B'):0.123, ('beta', 'C'):0.987}      \n",
    "multiIndexS = pd.Series(dataDic)\n",
    "multiIndexS"
   ]
  },
  {
   "cell_type": "markdown",
   "metadata": {},
   "source": [
    "No entanto, às vezes é útil criar explicitamente um ``MultiIndex``."
   ]
  },
  {
   "cell_type": "markdown",
   "metadata": {},
   "source": [
    "Podemos construir o ``MultiIndex`` a partir de uma lista simples de arrays fornecendo os valores do índice em de cada nível."
   ]
  },
  {
   "cell_type": "code",
   "execution_count": 51,
   "metadata": {},
   "outputs": [
    {
     "data": {
      "text/plain": [
       "MultiIndex([('alpha', 'A'),\n",
       "            ('alpha', 'B'),\n",
       "            ('alpha', 'C'),\n",
       "            ( 'beta', 'A'),\n",
       "            ( 'beta', 'B'),\n",
       "            ( 'beta', 'C')],\n",
       "           )"
      ]
     },
     "execution_count": 51,
     "metadata": {},
     "output_type": "execute_result"
    }
   ],
   "source": [
    "pd.MultiIndex.from_arrays([['alpha']*3 + ['beta']*3, ['A', 'B', 'C']*2])"
   ]
  },
  {
   "cell_type": "markdown",
   "metadata": {},
   "source": [
    "Podemos construí-lo também a partir de uma lista de tuplas fornecendo os múltiplos valores de índice de cada ponto."
   ]
  },
  {
   "cell_type": "code",
   "execution_count": 52,
   "metadata": {},
   "outputs": [
    {
     "data": {
      "text/plain": [
       "[('alpha', 'A'),\n",
       " ('alpha', 'B'),\n",
       " ('alpha', 'C'),\n",
       " ('beta', 'A'),\n",
       " ('beta', 'B'),\n",
       " ('beta', 'C')]"
      ]
     },
     "execution_count": 52,
     "metadata": {},
     "output_type": "execute_result"
    }
   ],
   "source": [
    "i1 = ['alpha', 'beta']\n",
    "i2 = ['A', 'B', 'C']\n",
    "tuplas = [(x, y) for x in i1 for y in i2]\n",
    "tuplas"
   ]
  },
  {
   "cell_type": "code",
   "execution_count": 53,
   "metadata": {},
   "outputs": [
    {
     "data": {
      "text/plain": [
       "MultiIndex([('alpha', 'A'),\n",
       "            ('alpha', 'B'),\n",
       "            ('alpha', 'C'),\n",
       "            ( 'beta', 'A'),\n",
       "            ( 'beta', 'B'),\n",
       "            ( 'beta', 'C')],\n",
       "           )"
      ]
     },
     "execution_count": 53,
     "metadata": {},
     "output_type": "execute_result"
    }
   ],
   "source": [
    "pd.MultiIndex.from_tuples(tuplas)"
   ]
  },
  {
   "cell_type": "markdown",
   "metadata": {},
   "source": [
    "Podemos até construí-lo a partir do produto cartesiano dos índices."
   ]
  },
  {
   "cell_type": "code",
   "execution_count": 54,
   "metadata": {},
   "outputs": [
    {
     "data": {
      "text/plain": [
       "MultiIndex([('alpha', 'A'),\n",
       "            ('alpha', 'B'),\n",
       "            ('alpha', 'C'),\n",
       "            ( 'beta', 'A'),\n",
       "            ( 'beta', 'B'),\n",
       "            ( 'beta', 'C')],\n",
       "           )"
      ]
     },
     "execution_count": 54,
     "metadata": {},
     "output_type": "execute_result"
    }
   ],
   "source": [
    "pd.MultiIndex.from_product([i1, i2])"
   ]
  },
  {
   "cell_type": "markdown",
   "metadata": {},
   "source": [
    "Estes objetos podem ser passados como argumento de ``index`` ao criar uma ``Series`` ou um ``Dataframe``, ou ser passado para o método ``reindex`` de uma ``Series`` ou ``DataFrame`` já criado."
   ]
  },
  {
   "cell_type": "markdown",
   "metadata": {},
   "source": [
    "Às vezes é conveniente atribuir nomes os níveis do ``MultiIndex``. Já fizemos isso num dos exemplos anteriores. Isso pode ser feito passando o argumento de ``names`` para qualquer um dos construtores ``MultiIndex`` acima ou definindo o atributo de ``names`` do ``index`` posteriormente."
   ]
  },
  {
   "cell_type": "code",
   "execution_count": 55,
   "metadata": {},
   "outputs": [
    {
     "data": {
      "text/html": [
       "<div>\n",
       "<style scoped>\n",
       "    .dataframe tbody tr th:only-of-type {\n",
       "        vertical-align: middle;\n",
       "    }\n",
       "\n",
       "    .dataframe tbody tr th {\n",
       "        vertical-align: top;\n",
       "    }\n",
       "\n",
       "    .dataframe thead th {\n",
       "        text-align: right;\n",
       "    }\n",
       "</style>\n",
       "<table border=\"1\" class=\"dataframe\">\n",
       "  <thead>\n",
       "    <tr style=\"text-align: right;\">\n",
       "      <th></th>\n",
       "      <th></th>\n",
       "      <th>set1</th>\n",
       "      <th>set2</th>\n",
       "      <th>set3</th>\n",
       "    </tr>\n",
       "    <tr>\n",
       "      <th>Nível 1</th>\n",
       "      <th>Nível 2</th>\n",
       "      <th></th>\n",
       "      <th></th>\n",
       "      <th></th>\n",
       "    </tr>\n",
       "  </thead>\n",
       "  <tbody>\n",
       "    <tr>\n",
       "      <th rowspan=\"3\" valign=\"top\">alpha</th>\n",
       "      <th>A</th>\n",
       "      <td>0.976129</td>\n",
       "      <td>0.328074</td>\n",
       "      <td>0.451698</td>\n",
       "    </tr>\n",
       "    <tr>\n",
       "      <th>B</th>\n",
       "      <td>0.461891</td>\n",
       "      <td>0.886607</td>\n",
       "      <td>0.121380</td>\n",
       "    </tr>\n",
       "    <tr>\n",
       "      <th>C</th>\n",
       "      <td>0.083682</td>\n",
       "      <td>0.774549</td>\n",
       "      <td>0.625333</td>\n",
       "    </tr>\n",
       "    <tr>\n",
       "      <th rowspan=\"3\" valign=\"top\">beta</th>\n",
       "      <th>A</th>\n",
       "      <td>0.535920</td>\n",
       "      <td>0.176321</td>\n",
       "      <td>0.377157</td>\n",
       "    </tr>\n",
       "    <tr>\n",
       "      <th>B</th>\n",
       "      <td>0.793604</td>\n",
       "      <td>0.650422</td>\n",
       "      <td>0.490797</td>\n",
       "    </tr>\n",
       "    <tr>\n",
       "      <th>C</th>\n",
       "      <td>0.538530</td>\n",
       "      <td>0.034229</td>\n",
       "      <td>0.814146</td>\n",
       "    </tr>\n",
       "  </tbody>\n",
       "</table>\n",
       "</div>"
      ],
      "text/plain": [
       "                     set1      set2      set3\n",
       "Nível 1 Nível 2                              \n",
       "alpha   A        0.976129  0.328074  0.451698\n",
       "        B        0.461891  0.886607  0.121380\n",
       "        C        0.083682  0.774549  0.625333\n",
       "beta    A        0.535920  0.176321  0.377157\n",
       "        B        0.793604  0.650422  0.490797\n",
       "        C        0.538530  0.034229  0.814146"
      ]
     },
     "execution_count": 55,
     "metadata": {},
     "output_type": "execute_result"
    }
   ],
   "source": [
    "multiIndexDF.index.names = ['Nível 1', 'Nível 2']\n",
    "multiIndexDF"
   ]
  },
  {
   "cell_type": "markdown",
   "metadata": {},
   "source": [
    "Com conjuntos de dados mais complexos, esta pode ser uma forma útil de acompanhar o significado dos vários valores dos índices."
   ]
  },
  {
   "cell_type": "markdown",
   "metadata": {},
   "source": [
    "### ``MultiIndex`` para colunas\n",
    "\n",
    "Em um ``DataFrame``, as linhas e colunas são completamente simétricas, e assim como as linhas podem ter múltiplos níveis de índices, as colunas também podem ter múltiplos níveis."
   ]
  },
  {
   "cell_type": "code",
   "execution_count": 56,
   "metadata": {},
   "outputs": [
    {
     "data": {
      "text/html": [
       "<div>\n",
       "<style scoped>\n",
       "    .dataframe tbody tr th:only-of-type {\n",
       "        vertical-align: middle;\n",
       "    }\n",
       "\n",
       "    .dataframe tbody tr th {\n",
       "        vertical-align: top;\n",
       "    }\n",
       "\n",
       "    .dataframe thead tr th {\n",
       "        text-align: left;\n",
       "    }\n",
       "\n",
       "    .dataframe thead tr:last-of-type th {\n",
       "        text-align: right;\n",
       "    }\n",
       "</style>\n",
       "<table border=\"1\" class=\"dataframe\">\n",
       "  <thead>\n",
       "    <tr>\n",
       "      <th></th>\n",
       "      <th>Período</th>\n",
       "      <th colspan=\"2\" halign=\"left\">Diurno</th>\n",
       "      <th colspan=\"2\" halign=\"left\">Noturno</th>\n",
       "    </tr>\n",
       "    <tr>\n",
       "      <th></th>\n",
       "      <th>type</th>\n",
       "      <th>Temp</th>\n",
       "      <th>Umidade</th>\n",
       "      <th>Temp</th>\n",
       "      <th>Umidade</th>\n",
       "    </tr>\n",
       "    <tr>\n",
       "      <th>Ano</th>\n",
       "      <th>Estação</th>\n",
       "      <th></th>\n",
       "      <th></th>\n",
       "      <th></th>\n",
       "      <th></th>\n",
       "    </tr>\n",
       "  </thead>\n",
       "  <tbody>\n",
       "    <tr>\n",
       "      <th rowspan=\"3\" valign=\"top\">2000</th>\n",
       "      <th>Estação-01</th>\n",
       "      <td>30.362160</td>\n",
       "      <td>90.009664</td>\n",
       "      <td>30.022273</td>\n",
       "      <td>90.709034</td>\n",
       "    </tr>\n",
       "    <tr>\n",
       "      <th>Estação-02</th>\n",
       "      <td>30.999859</td>\n",
       "      <td>90.531018</td>\n",
       "      <td>30.926456</td>\n",
       "      <td>90.498721</td>\n",
       "    </tr>\n",
       "    <tr>\n",
       "      <th>Estação-03</th>\n",
       "      <td>30.497276</td>\n",
       "      <td>90.267606</td>\n",
       "      <td>30.348463</td>\n",
       "      <td>90.195027</td>\n",
       "    </tr>\n",
       "    <tr>\n",
       "      <th rowspan=\"3\" valign=\"top\">2010</th>\n",
       "      <th>Estação-01</th>\n",
       "      <td>30.153747</td>\n",
       "      <td>90.475547</td>\n",
       "      <td>30.070615</td>\n",
       "      <td>90.889947</td>\n",
       "    </tr>\n",
       "    <tr>\n",
       "      <th>Estação-02</th>\n",
       "      <td>30.581456</td>\n",
       "      <td>90.921524</td>\n",
       "      <td>30.997409</td>\n",
       "      <td>90.994051</td>\n",
       "    </tr>\n",
       "    <tr>\n",
       "      <th>Estação-03</th>\n",
       "      <td>30.005718</td>\n",
       "      <td>90.412853</td>\n",
       "      <td>30.125193</td>\n",
       "      <td>90.227360</td>\n",
       "    </tr>\n",
       "    <tr>\n",
       "      <th rowspan=\"3\" valign=\"top\">2020</th>\n",
       "      <th>Estação-01</th>\n",
       "      <td>30.884763</td>\n",
       "      <td>90.495669</td>\n",
       "      <td>30.309056</td>\n",
       "      <td>90.677228</td>\n",
       "    </tr>\n",
       "    <tr>\n",
       "      <th>Estação-02</th>\n",
       "      <td>30.009332</td>\n",
       "      <td>90.375780</td>\n",
       "      <td>30.501290</td>\n",
       "      <td>90.619149</td>\n",
       "    </tr>\n",
       "    <tr>\n",
       "      <th>Estação-03</th>\n",
       "      <td>30.172606</td>\n",
       "      <td>90.471008</td>\n",
       "      <td>30.416142</td>\n",
       "      <td>90.342209</td>\n",
       "    </tr>\n",
       "  </tbody>\n",
       "</table>\n",
       "</div>"
      ],
      "text/plain": [
       "Período             Diurno               Noturno           \n",
       "type                  Temp    Umidade       Temp    Umidade\n",
       "Ano  Estação                                               \n",
       "2000 Estação-01  30.362160  90.009664  30.022273  90.709034\n",
       "     Estação-02  30.999859  90.531018  30.926456  90.498721\n",
       "     Estação-03  30.497276  90.267606  30.348463  90.195027\n",
       "2010 Estação-01  30.153747  90.475547  30.070615  90.889947\n",
       "     Estação-02  30.581456  90.921524  30.997409  90.994051\n",
       "     Estação-03  30.005718  90.412853  30.125193  90.227360\n",
       "2020 Estação-01  30.884763  90.495669  30.309056  90.677228\n",
       "     Estação-02  30.009332  90.375780  30.501290  90.619149\n",
       "     Estação-03  30.172606  90.471008  30.416142  90.342209"
      ]
     },
     "execution_count": 56,
     "metadata": {},
     "output_type": "execute_result"
    }
   ],
   "source": [
    "# hierarchical indices and columns\n",
    "index = pd.MultiIndex.from_product([[2000, 2010, 2020], \n",
    "                                    ['Estação-01', 'Estação-02', 'Estação-03']],\n",
    "                                   names=['Ano', 'Estação'])\n",
    "columns = pd.MultiIndex.from_product([['Diurno', 'Noturno'], ['Temp', 'Umidade']],\n",
    "                                     names=['Período', 'type'])\n",
    "\n",
    "# mock some data\n",
    "data = np.random.random((9, 4))\n",
    "data[:, ::2] += 30\n",
    "data[:, 1::2] += 90\n",
    "\n",
    "# create the DataFrame\n",
    "estações = pd.DataFrame(data, index=index, columns=columns)\n",
    "estações"
   ]
  },
  {
   "cell_type": "markdown",
   "metadata": {},
   "source": [
    "O exemplo anterior mostra como a indexação múltipla para linhas e colunas pode ser muito útil. Trata-se fundamentalmente de dados quadridimensionais, onde as dimensões são o ano da medição,  a estação onde foi feita, o período em que foi feita a medição e o parâmetro que foi monitorado. Com isto podemos, por exemplo, pegar todos os dados de temperatura de uma estação específica."
   ]
  },
  {
   "cell_type": "code",
   "execution_count": 57,
   "metadata": {},
   "outputs": [
    {
     "data": {
      "text/plain": [
       "Ano\n",
       "2000    30.362160\n",
       "2010    30.153747\n",
       "2020    30.884763\n",
       "Name: (Diurno, Temp), dtype: float64"
      ]
     },
     "execution_count": 57,
     "metadata": {},
     "output_type": "execute_result"
    }
   ],
   "source": [
    "estações.loc[:, ('Diurno', 'Temp')][:, 'Estação-01']"
   ]
  },
  {
   "cell_type": "code",
   "execution_count": 58,
   "metadata": {},
   "outputs": [
    {
     "data": {
      "text/plain": [
       "Estação\n",
       "Estação-01    30.153747\n",
       "Estação-02    30.581456\n",
       "Estação-03    30.005718\n",
       "Name: (Diurno, Temp), dtype: float64"
      ]
     },
     "execution_count": 58,
     "metadata": {},
     "output_type": "execute_result"
    }
   ],
   "source": [
    "# ou de um determinado ano\n",
    "estações.loc[:, ('Diurno', 'Temp')][2010, :]"
   ]
  },
  {
   "cell_type": "markdown",
   "metadata": {},
   "source": [
    "### Indexação e slicing com MultiIndex\n",
    "\n",
    "Indexar e fatiar em um ``MultiIndex`` foi projetado para ser intuitivo e ajuda se você pensar nos índices como dimensões adicionadas.\n",
    "\n",
    "Veremos primeiro a indexação de ``Series`` com indexação múltipla."
   ]
  },
  {
   "cell_type": "code",
   "execution_count": 59,
   "metadata": {},
   "outputs": [
    {
     "data": {
      "text/plain": [
       "MultiIndex([(    'Brasil', 'America'),\n",
       "            (  'Alemanha',  'Europa'),\n",
       "            (    'Itália',  'Europa'),\n",
       "            ( 'Argentina', 'America'),\n",
       "            (    'França',  'Europa'),\n",
       "            (   'Uruguai', 'America'),\n",
       "            (   'Espanha',  'Europa'),\n",
       "            ('Inglaterra',  'Europa')],\n",
       "           names=['Continente', 'País'])"
      ]
     },
     "execution_count": 59,
     "metadata": {},
     "output_type": "execute_result"
    }
   ],
   "source": [
    "listaPaises = [('Brasil','America'), ('Alemanha', 'Europa'), ('Itália', 'Europa'), \n",
    "               ('Argentina', 'America'), ('França', 'Europa'), ('Uruguai', 'America'), \n",
    "               ('Espanha', 'Europa'), ('Inglaterra', 'Europa')]\n",
    "listaTítulos = [5, 4, 4, 3, 2, 2, 1, 1]\n",
    "\n",
    "index = pd.MultiIndex.from_tuples(listaPaises, names=['Continente', 'País'])\n",
    "index"
   ]
  },
  {
   "cell_type": "code",
   "execution_count": 60,
   "metadata": {},
   "outputs": [
    {
     "data": {
      "text/plain": [
       "Continente  País   \n",
       "Alemanha    Europa     4\n",
       "Argentina   America    3\n",
       "Brasil      America    5\n",
       "Espanha     Europa     1\n",
       "França      Europa     2\n",
       "Inglaterra  Europa     1\n",
       "Itália      Europa     4\n",
       "Uruguai     America    2\n",
       "dtype: int64"
      ]
     },
     "execution_count": 60,
     "metadata": {},
     "output_type": "execute_result"
    }
   ],
   "source": [
    "campMundiais = pd.Series(listaTítulos, index=index) \n",
    "campMundiais = campMundiais.sort_index()\n",
    "campMundiais"
   ]
  },
  {
   "cell_type": "markdown",
   "metadata": {},
   "source": [
    "Podemos acessar um elemento específico, como por exemplo a quantidade de títulos do Brasil."
   ]
  },
  {
   "cell_type": "code",
   "execution_count": 61,
   "metadata": {},
   "outputs": [
    {
     "data": {
      "text/plain": [
       "5"
      ]
     },
     "execution_count": 61,
     "metadata": {},
     "output_type": "execute_result"
    }
   ],
   "source": [
    "campMundiais[('Brasil', 'America')]"
   ]
  },
  {
   "cell_type": "markdown",
   "metadata": {},
   "source": [
    "O ``MultiIndex`` também suporta indexação de apenas um dos níveis do índice.\n",
    "\n",
    "O resultado é outra ``Series``, com os índices de nível inferior mantidos."
   ]
  },
  {
   "cell_type": "code",
   "execution_count": 62,
   "metadata": {},
   "outputs": [
    {
     "data": {
      "text/plain": [
       "País\n",
       "America    5\n",
       "dtype: int64"
      ]
     },
     "execution_count": 62,
     "metadata": {},
     "output_type": "execute_result"
    }
   ],
   "source": [
    "campMundiais['Brasil']"
   ]
  },
  {
   "cell_type": "code",
   "execution_count": 63,
   "metadata": {},
   "outputs": [
    {
     "data": {
      "text/plain": [
       "Continente\n",
       "Argentina    3\n",
       "Brasil       5\n",
       "Uruguai      2\n",
       "dtype: int64"
      ]
     },
     "execution_count": 63,
     "metadata": {},
     "output_type": "execute_result"
    }
   ],
   "source": [
    "campMundiais[:,'America']"
   ]
  },
  {
   "cell_type": "markdown",
   "metadata": {},
   "source": [
    "O slicing parcial também está disponível, desde que o ``MultiIndex`` esteja ordenado"
   ]
  },
  {
   "cell_type": "code",
   "execution_count": 64,
   "metadata": {},
   "outputs": [
    {
     "data": {
      "text/plain": [
       "Continente  País   \n",
       "Argentina   America    3\n",
       "Brasil      America    5\n",
       "Espanha     Europa     1\n",
       "França      Europa     2\n",
       "dtype: int64"
      ]
     },
     "execution_count": 64,
     "metadata": {},
     "output_type": "execute_result"
    }
   ],
   "source": [
    "campMundiais['Argentina':'França']"
   ]
  },
  {
   "cell_type": "markdown",
   "metadata": {},
   "source": [
    "Outros tipos de indexação e seleção também funcionam como, por exemplo, seleção baseada em máscaras booleanas."
   ]
  },
  {
   "cell_type": "code",
   "execution_count": 65,
   "metadata": {},
   "outputs": [
    {
     "data": {
      "text/plain": [
       "Continente  País   \n",
       "Alemanha    Europa     4\n",
       "Argentina   America    3\n",
       "Brasil      America    5\n",
       "Itália      Europa     4\n",
       "dtype: int64"
      ]
     },
     "execution_count": 65,
     "metadata": {},
     "output_type": "execute_result"
    }
   ],
   "source": [
    "campMundiais[campMundiais > 2]"
   ]
  },
  {
   "cell_type": "code",
   "execution_count": 66,
   "metadata": {},
   "outputs": [
    {
     "data": {
      "text/plain": [
       "Continente  País   \n",
       "Brasil      America    5\n",
       "Argentina   America    3\n",
       "Uruguai     America    2\n",
       "dtype: int64"
      ]
     },
     "execution_count": 66,
     "metadata": {},
     "output_type": "execute_result"
    }
   ],
   "source": [
    "campMundiais[['Brasil', 'Argentina', 'Uruguai']]"
   ]
  },
  {
   "cell_type": "markdown",
   "metadata": {},
   "source": [
    "Um ``DataFrame`` com indexação múltipla se comporta de maneira semelhante."
   ]
  },
  {
   "cell_type": "code",
   "execution_count": 67,
   "metadata": {},
   "outputs": [
    {
     "data": {
      "text/html": [
       "<div>\n",
       "<style scoped>\n",
       "    .dataframe tbody tr th:only-of-type {\n",
       "        vertical-align: middle;\n",
       "    }\n",
       "\n",
       "    .dataframe tbody tr th {\n",
       "        vertical-align: top;\n",
       "    }\n",
       "\n",
       "    .dataframe thead tr th {\n",
       "        text-align: left;\n",
       "    }\n",
       "\n",
       "    .dataframe thead tr:last-of-type th {\n",
       "        text-align: right;\n",
       "    }\n",
       "</style>\n",
       "<table border=\"1\" class=\"dataframe\">\n",
       "  <thead>\n",
       "    <tr>\n",
       "      <th></th>\n",
       "      <th>Período</th>\n",
       "      <th colspan=\"2\" halign=\"left\">Diurno</th>\n",
       "      <th colspan=\"2\" halign=\"left\">Noturno</th>\n",
       "    </tr>\n",
       "    <tr>\n",
       "      <th></th>\n",
       "      <th>type</th>\n",
       "      <th>Temp</th>\n",
       "      <th>Umidade</th>\n",
       "      <th>Temp</th>\n",
       "      <th>Umidade</th>\n",
       "    </tr>\n",
       "    <tr>\n",
       "      <th>Ano</th>\n",
       "      <th>Estação</th>\n",
       "      <th></th>\n",
       "      <th></th>\n",
       "      <th></th>\n",
       "      <th></th>\n",
       "    </tr>\n",
       "  </thead>\n",
       "  <tbody>\n",
       "    <tr>\n",
       "      <th rowspan=\"3\" valign=\"top\">2000</th>\n",
       "      <th>Estação-01</th>\n",
       "      <td>30.362160</td>\n",
       "      <td>90.009664</td>\n",
       "      <td>30.022273</td>\n",
       "      <td>90.709034</td>\n",
       "    </tr>\n",
       "    <tr>\n",
       "      <th>Estação-02</th>\n",
       "      <td>30.999859</td>\n",
       "      <td>90.531018</td>\n",
       "      <td>30.926456</td>\n",
       "      <td>90.498721</td>\n",
       "    </tr>\n",
       "    <tr>\n",
       "      <th>Estação-03</th>\n",
       "      <td>30.497276</td>\n",
       "      <td>90.267606</td>\n",
       "      <td>30.348463</td>\n",
       "      <td>90.195027</td>\n",
       "    </tr>\n",
       "    <tr>\n",
       "      <th rowspan=\"3\" valign=\"top\">2010</th>\n",
       "      <th>Estação-01</th>\n",
       "      <td>30.153747</td>\n",
       "      <td>90.475547</td>\n",
       "      <td>30.070615</td>\n",
       "      <td>90.889947</td>\n",
       "    </tr>\n",
       "    <tr>\n",
       "      <th>Estação-02</th>\n",
       "      <td>30.581456</td>\n",
       "      <td>90.921524</td>\n",
       "      <td>30.997409</td>\n",
       "      <td>90.994051</td>\n",
       "    </tr>\n",
       "    <tr>\n",
       "      <th>Estação-03</th>\n",
       "      <td>30.005718</td>\n",
       "      <td>90.412853</td>\n",
       "      <td>30.125193</td>\n",
       "      <td>90.227360</td>\n",
       "    </tr>\n",
       "    <tr>\n",
       "      <th rowspan=\"3\" valign=\"top\">2020</th>\n",
       "      <th>Estação-01</th>\n",
       "      <td>30.884763</td>\n",
       "      <td>90.495669</td>\n",
       "      <td>30.309056</td>\n",
       "      <td>90.677228</td>\n",
       "    </tr>\n",
       "    <tr>\n",
       "      <th>Estação-02</th>\n",
       "      <td>30.009332</td>\n",
       "      <td>90.375780</td>\n",
       "      <td>30.501290</td>\n",
       "      <td>90.619149</td>\n",
       "    </tr>\n",
       "    <tr>\n",
       "      <th>Estação-03</th>\n",
       "      <td>30.172606</td>\n",
       "      <td>90.471008</td>\n",
       "      <td>30.416142</td>\n",
       "      <td>90.342209</td>\n",
       "    </tr>\n",
       "  </tbody>\n",
       "</table>\n",
       "</div>"
      ],
      "text/plain": [
       "Período             Diurno               Noturno           \n",
       "type                  Temp    Umidade       Temp    Umidade\n",
       "Ano  Estação                                               \n",
       "2000 Estação-01  30.362160  90.009664  30.022273  90.709034\n",
       "     Estação-02  30.999859  90.531018  30.926456  90.498721\n",
       "     Estação-03  30.497276  90.267606  30.348463  90.195027\n",
       "2010 Estação-01  30.153747  90.475547  30.070615  90.889947\n",
       "     Estação-02  30.581456  90.921524  30.997409  90.994051\n",
       "     Estação-03  30.005718  90.412853  30.125193  90.227360\n",
       "2020 Estação-01  30.884763  90.495669  30.309056  90.677228\n",
       "     Estação-02  30.009332  90.375780  30.501290  90.619149\n",
       "     Estação-03  30.172606  90.471008  30.416142  90.342209"
      ]
     },
     "execution_count": 67,
     "metadata": {},
     "output_type": "execute_result"
    }
   ],
   "source": [
    "estações"
   ]
  },
  {
   "cell_type": "markdown",
   "metadata": {},
   "source": [
    "Apenas é importante lembrar que as colunas são consideradas antes que as linhas em um ``DataFrame``, e por tanto a sintaxe usada para ``Series`` com indexação múltipla se aplica às colunas."
   ]
  },
  {
   "cell_type": "code",
   "execution_count": 68,
   "metadata": {},
   "outputs": [
    {
     "data": {
      "text/plain": [
       "Ano   Estação   \n",
       "2000  Estação-01    30.362160\n",
       "      Estação-02    30.999859\n",
       "      Estação-03    30.497276\n",
       "2010  Estação-01    30.153747\n",
       "      Estação-02    30.581456\n",
       "      Estação-03    30.005718\n",
       "2020  Estação-01    30.884763\n",
       "      Estação-02    30.009332\n",
       "      Estação-03    30.172606\n",
       "Name: (Diurno, Temp), dtype: float64"
      ]
     },
     "execution_count": 68,
     "metadata": {},
     "output_type": "execute_result"
    }
   ],
   "source": [
    "estações['Diurno', 'Temp']"
   ]
  },
  {
   "cell_type": "code",
   "execution_count": 69,
   "metadata": {},
   "outputs": [
    {
     "data": {
      "text/html": [
       "<div>\n",
       "<style scoped>\n",
       "    .dataframe tbody tr th:only-of-type {\n",
       "        vertical-align: middle;\n",
       "    }\n",
       "\n",
       "    .dataframe tbody tr th {\n",
       "        vertical-align: top;\n",
       "    }\n",
       "\n",
       "    .dataframe thead th {\n",
       "        text-align: right;\n",
       "    }\n",
       "</style>\n",
       "<table border=\"1\" class=\"dataframe\">\n",
       "  <thead>\n",
       "    <tr style=\"text-align: right;\">\n",
       "      <th></th>\n",
       "      <th>type</th>\n",
       "      <th>Temp</th>\n",
       "      <th>Umidade</th>\n",
       "    </tr>\n",
       "    <tr>\n",
       "      <th>Ano</th>\n",
       "      <th>Estação</th>\n",
       "      <th></th>\n",
       "      <th></th>\n",
       "    </tr>\n",
       "  </thead>\n",
       "  <tbody>\n",
       "    <tr>\n",
       "      <th rowspan=\"3\" valign=\"top\">2000</th>\n",
       "      <th>Estação-01</th>\n",
       "      <td>30.022273</td>\n",
       "      <td>90.709034</td>\n",
       "    </tr>\n",
       "    <tr>\n",
       "      <th>Estação-02</th>\n",
       "      <td>30.926456</td>\n",
       "      <td>90.498721</td>\n",
       "    </tr>\n",
       "    <tr>\n",
       "      <th>Estação-03</th>\n",
       "      <td>30.348463</td>\n",
       "      <td>90.195027</td>\n",
       "    </tr>\n",
       "    <tr>\n",
       "      <th rowspan=\"3\" valign=\"top\">2010</th>\n",
       "      <th>Estação-01</th>\n",
       "      <td>30.070615</td>\n",
       "      <td>90.889947</td>\n",
       "    </tr>\n",
       "    <tr>\n",
       "      <th>Estação-02</th>\n",
       "      <td>30.997409</td>\n",
       "      <td>90.994051</td>\n",
       "    </tr>\n",
       "    <tr>\n",
       "      <th>Estação-03</th>\n",
       "      <td>30.125193</td>\n",
       "      <td>90.227360</td>\n",
       "    </tr>\n",
       "    <tr>\n",
       "      <th rowspan=\"3\" valign=\"top\">2020</th>\n",
       "      <th>Estação-01</th>\n",
       "      <td>30.309056</td>\n",
       "      <td>90.677228</td>\n",
       "    </tr>\n",
       "    <tr>\n",
       "      <th>Estação-02</th>\n",
       "      <td>30.501290</td>\n",
       "      <td>90.619149</td>\n",
       "    </tr>\n",
       "    <tr>\n",
       "      <th>Estação-03</th>\n",
       "      <td>30.416142</td>\n",
       "      <td>90.342209</td>\n",
       "    </tr>\n",
       "  </tbody>\n",
       "</table>\n",
       "</div>"
      ],
      "text/plain": [
       "type                  Temp    Umidade\n",
       "Ano  Estação                         \n",
       "2000 Estação-01  30.022273  90.709034\n",
       "     Estação-02  30.926456  90.498721\n",
       "     Estação-03  30.348463  90.195027\n",
       "2010 Estação-01  30.070615  90.889947\n",
       "     Estação-02  30.997409  90.994051\n",
       "     Estação-03  30.125193  90.227360\n",
       "2020 Estação-01  30.309056  90.677228\n",
       "     Estação-02  30.501290  90.619149\n",
       "     Estação-03  30.416142  90.342209"
      ]
     },
     "execution_count": 69,
     "metadata": {},
     "output_type": "execute_result"
    }
   ],
   "source": [
    "estações['Noturno']"
   ]
  },
  {
   "cell_type": "code",
   "execution_count": 70,
   "metadata": {},
   "outputs": [
    {
     "data": {
      "text/plain": [
       "30.15374650280863"
      ]
     },
     "execution_count": 70,
     "metadata": {},
     "output_type": "execute_result"
    }
   ],
   "source": [
    "estações['Diurno', 'Temp'][2010, 'Estação-01']"
   ]
  },
  {
   "cell_type": "code",
   "execution_count": 71,
   "metadata": {},
   "outputs": [
    {
     "data": {
      "text/plain": [
       "Estação\n",
       "Estação-01    30.153747\n",
       "Estação-02    30.581456\n",
       "Estação-03    30.005718\n",
       "Name: (Diurno, Temp), dtype: float64"
      ]
     },
     "execution_count": 71,
     "metadata": {},
     "output_type": "execute_result"
    }
   ],
   "source": [
    "estações['Diurno', 'Temp'][2010]"
   ]
  },
  {
   "cell_type": "code",
   "execution_count": 72,
   "metadata": {},
   "outputs": [
    {
     "data": {
      "text/plain": [
       "Ano\n",
       "2000    30.362160\n",
       "2010    30.153747\n",
       "2020    30.884763\n",
       "Name: (Diurno, Temp), dtype: float64"
      ]
     },
     "execution_count": 72,
     "metadata": {},
     "output_type": "execute_result"
    }
   ],
   "source": [
    "estações['Diurno', 'Temp'][:, 'Estação-01']"
   ]
  },
  {
   "cell_type": "markdown",
   "metadata": {},
   "source": [
    "Além disso podemos usar o ``loc``, ``iloc``."
   ]
  },
  {
   "cell_type": "code",
   "execution_count": 73,
   "metadata": {},
   "outputs": [
    {
     "data": {
      "text/html": [
       "<div>\n",
       "<style scoped>\n",
       "    .dataframe tbody tr th:only-of-type {\n",
       "        vertical-align: middle;\n",
       "    }\n",
       "\n",
       "    .dataframe tbody tr th {\n",
       "        vertical-align: top;\n",
       "    }\n",
       "\n",
       "    .dataframe thead tr th {\n",
       "        text-align: left;\n",
       "    }\n",
       "\n",
       "    .dataframe thead tr:last-of-type th {\n",
       "        text-align: right;\n",
       "    }\n",
       "</style>\n",
       "<table border=\"1\" class=\"dataframe\">\n",
       "  <thead>\n",
       "    <tr>\n",
       "      <th></th>\n",
       "      <th>Período</th>\n",
       "      <th colspan=\"2\" halign=\"left\">Diurno</th>\n",
       "    </tr>\n",
       "    <tr>\n",
       "      <th></th>\n",
       "      <th>type</th>\n",
       "      <th>Temp</th>\n",
       "      <th>Umidade</th>\n",
       "    </tr>\n",
       "    <tr>\n",
       "      <th>Ano</th>\n",
       "      <th>Estação</th>\n",
       "      <th></th>\n",
       "      <th></th>\n",
       "    </tr>\n",
       "  </thead>\n",
       "  <tbody>\n",
       "    <tr>\n",
       "      <th>2000</th>\n",
       "      <th>Estação-01</th>\n",
       "      <td>30.36216</td>\n",
       "      <td>90.009664</td>\n",
       "    </tr>\n",
       "  </tbody>\n",
       "</table>\n",
       "</div>"
      ],
      "text/plain": [
       "Período            Diurno           \n",
       "type                 Temp    Umidade\n",
       "Ano  Estação                        \n",
       "2000 Estação-01  30.36216  90.009664"
      ]
     },
     "execution_count": 73,
     "metadata": {},
     "output_type": "execute_result"
    }
   ],
   "source": [
    "estações.iloc[:1, :2]\n"
   ]
  },
  {
   "cell_type": "markdown",
   "metadata": {},
   "source": [
    "O ``iloc`` acessa o índice implícito, ou seja, trata os dados como uma matriz bidimensional."
   ]
  },
  {
   "cell_type": "code",
   "execution_count": 82,
   "metadata": {},
   "outputs": [
    {
     "data": {
      "text/plain": [
       "array([[30.36216039, 90.00966447, 30.02227261, 90.70903403],\n",
       "       [30.99985855, 90.53101816, 30.92645588, 90.49872061],\n",
       "       [30.49727577, 90.26760579, 30.3484632 , 90.19502717],\n",
       "       [30.1537465 , 90.47554715, 30.07061486, 90.88994701],\n",
       "       [30.58145626, 90.92152376, 30.99740931, 90.99405103],\n",
       "       [30.0057182 , 90.41285293, 30.12519316, 90.22736032],\n",
       "       [30.88476331, 90.49566875, 30.30905603, 90.67722775],\n",
       "       [30.00933233, 90.37577963, 30.50129003, 90.61914935],\n",
       "       [30.17260555, 90.47100805, 30.41614161, 90.34220944]])"
      ]
     },
     "execution_count": 82,
     "metadata": {},
     "output_type": "execute_result"
    }
   ],
   "source": [
    "estações.values"
   ]
  },
  {
   "cell_type": "markdown",
   "metadata": {},
   "source": [
    "Acessar os dados desta forma pode ser mais complicado já que:\n",
    "* As primeiras três linhas correspondem à chave ``2000``, as próximas três a ``2010`` e as últimas três a ``2020``.\n",
    "* As linhas 0, 3 e 6 correspondem à chave ``Estação-01``, as linhas 1, 4 e 7 a ``Estação-02`` e as linhas 2, 5 e 8 à chave ``Estação-03``.\n",
    "* As primeiras duas colunas correspondem à chave ``Diurno`` e as próximas duas à chave ``Noturno``.\n",
    "* As colunas 0 e 2 correspondem à have ``Temp`` e as colunas 1 e 3 à chave ``Umidade``."
   ]
  },
  {
   "cell_type": "code",
   "execution_count": 86,
   "metadata": {},
   "outputs": [
    {
     "data": {
      "text/plain": [
       "Ano   Estação   \n",
       "2000  Estação-01    30.362160\n",
       "2010  Estação-01    30.153747\n",
       "2020  Estação-01    30.884763\n",
       "Name: (Diurno, Temp), dtype: float64"
      ]
     },
     "execution_count": 86,
     "metadata": {},
     "output_type": "execute_result"
    }
   ],
   "source": [
    "# Para conseguir o mesmo resultado que \n",
    "#estações['Diurno', 'Temp'][:, 'Estação-01']\n",
    "estações.iloc[0::3, 0]"
   ]
  },
  {
   "cell_type": "markdown",
   "metadata": {},
   "source": [
    "Esses indexadores fornecem uma visão semelhante a uma matriz dos dados bidimensionais subjacentes, mas cada índice individual em ``loc`` ou ``iloc`` pode receber uma tupla de vários índices."
   ]
  },
  {
   "cell_type": "code",
   "execution_count": 74,
   "metadata": {},
   "outputs": [
    {
     "data": {
      "text/plain": [
       "Ano   Estação   \n",
       "2000  Estação-01    30.362160\n",
       "      Estação-02    30.999859\n",
       "      Estação-03    30.497276\n",
       "2010  Estação-01    30.153747\n",
       "      Estação-02    30.581456\n",
       "      Estação-03    30.005718\n",
       "2020  Estação-01    30.884763\n",
       "      Estação-02    30.009332\n",
       "      Estação-03    30.172606\n",
       "Name: (Diurno, Temp), dtype: float64"
      ]
     },
     "execution_count": 74,
     "metadata": {},
     "output_type": "execute_result"
    }
   ],
   "source": [
    "estações.loc[:, ('Diurno', 'Temp')]"
   ]
  },
  {
   "cell_type": "code",
   "execution_count": 75,
   "metadata": {},
   "outputs": [
    {
     "data": {
      "text/plain": [
       "30.172605553889188"
      ]
     },
     "execution_count": 75,
     "metadata": {},
     "output_type": "execute_result"
    }
   ],
   "source": [
    "estações.loc[(2020, 'Estação-03'), ('Diurno', 'Temp')]"
   ]
  },
  {
   "cell_type": "code",
   "execution_count": 79,
   "metadata": {},
   "outputs": [
    {
     "data": {
      "text/html": [
       "<div>\n",
       "<style scoped>\n",
       "    .dataframe tbody tr th:only-of-type {\n",
       "        vertical-align: middle;\n",
       "    }\n",
       "\n",
       "    .dataframe tbody tr th {\n",
       "        vertical-align: top;\n",
       "    }\n",
       "\n",
       "    .dataframe thead tr th {\n",
       "        text-align: left;\n",
       "    }\n",
       "\n",
       "    .dataframe thead tr:last-of-type th {\n",
       "        text-align: right;\n",
       "    }\n",
       "</style>\n",
       "<table border=\"1\" class=\"dataframe\">\n",
       "  <thead>\n",
       "    <tr>\n",
       "      <th></th>\n",
       "      <th>Período</th>\n",
       "      <th colspan=\"2\" halign=\"left\">Diurno</th>\n",
       "      <th colspan=\"2\" halign=\"left\">Noturno</th>\n",
       "    </tr>\n",
       "    <tr>\n",
       "      <th></th>\n",
       "      <th>type</th>\n",
       "      <th>Temp</th>\n",
       "      <th>Umidade</th>\n",
       "      <th>Temp</th>\n",
       "      <th>Umidade</th>\n",
       "    </tr>\n",
       "    <tr>\n",
       "      <th>Ano</th>\n",
       "      <th>Estação</th>\n",
       "      <th></th>\n",
       "      <th></th>\n",
       "      <th></th>\n",
       "      <th></th>\n",
       "    </tr>\n",
       "  </thead>\n",
       "  <tbody>\n",
       "    <tr>\n",
       "      <th rowspan=\"3\" valign=\"top\">2000</th>\n",
       "      <th>Estação-01</th>\n",
       "      <td>30.362160</td>\n",
       "      <td>90.009664</td>\n",
       "      <td>30.022273</td>\n",
       "      <td>90.709034</td>\n",
       "    </tr>\n",
       "    <tr>\n",
       "      <th>Estação-02</th>\n",
       "      <td>30.999859</td>\n",
       "      <td>90.531018</td>\n",
       "      <td>30.926456</td>\n",
       "      <td>90.498721</td>\n",
       "    </tr>\n",
       "    <tr>\n",
       "      <th>Estação-03</th>\n",
       "      <td>30.497276</td>\n",
       "      <td>90.267606</td>\n",
       "      <td>30.348463</td>\n",
       "      <td>90.195027</td>\n",
       "    </tr>\n",
       "    <tr>\n",
       "      <th rowspan=\"3\" valign=\"top\">2010</th>\n",
       "      <th>Estação-01</th>\n",
       "      <td>30.153747</td>\n",
       "      <td>90.475547</td>\n",
       "      <td>30.070615</td>\n",
       "      <td>90.889947</td>\n",
       "    </tr>\n",
       "    <tr>\n",
       "      <th>Estação-02</th>\n",
       "      <td>30.581456</td>\n",
       "      <td>90.921524</td>\n",
       "      <td>30.997409</td>\n",
       "      <td>90.994051</td>\n",
       "    </tr>\n",
       "    <tr>\n",
       "      <th>Estação-03</th>\n",
       "      <td>30.005718</td>\n",
       "      <td>90.412853</td>\n",
       "      <td>30.125193</td>\n",
       "      <td>90.227360</td>\n",
       "    </tr>\n",
       "    <tr>\n",
       "      <th rowspan=\"3\" valign=\"top\">2020</th>\n",
       "      <th>Estação-01</th>\n",
       "      <td>30.884763</td>\n",
       "      <td>90.495669</td>\n",
       "      <td>30.309056</td>\n",
       "      <td>90.677228</td>\n",
       "    </tr>\n",
       "    <tr>\n",
       "      <th>Estação-02</th>\n",
       "      <td>30.009332</td>\n",
       "      <td>90.375780</td>\n",
       "      <td>30.501290</td>\n",
       "      <td>90.619149</td>\n",
       "    </tr>\n",
       "    <tr>\n",
       "      <th>Estação-03</th>\n",
       "      <td>30.172606</td>\n",
       "      <td>90.471008</td>\n",
       "      <td>30.416142</td>\n",
       "      <td>90.342209</td>\n",
       "    </tr>\n",
       "  </tbody>\n",
       "</table>\n",
       "</div>"
      ],
      "text/plain": [
       "Período             Diurno               Noturno           \n",
       "type                  Temp    Umidade       Temp    Umidade\n",
       "Ano  Estação                                               \n",
       "2000 Estação-01  30.362160  90.009664  30.022273  90.709034\n",
       "     Estação-02  30.999859  90.531018  30.926456  90.498721\n",
       "     Estação-03  30.497276  90.267606  30.348463  90.195027\n",
       "2010 Estação-01  30.153747  90.475547  30.070615  90.889947\n",
       "     Estação-02  30.581456  90.921524  30.997409  90.994051\n",
       "     Estação-03  30.005718  90.412853  30.125193  90.227360\n",
       "2020 Estação-01  30.884763  90.495669  30.309056  90.677228\n",
       "     Estação-02  30.009332  90.375780  30.501290  90.619149\n",
       "     Estação-03  30.172606  90.471008  30.416142  90.342209"
      ]
     },
     "execution_count": 79,
     "metadata": {},
     "output_type": "execute_result"
    }
   ],
   "source": [
    "estações"
   ]
  },
  {
   "cell_type": "code",
   "execution_count": 81,
   "metadata": {},
   "outputs": [
    {
     "data": {
      "text/plain": [
       "30.15374650280863"
      ]
     },
     "execution_count": 81,
     "metadata": {},
     "output_type": "execute_result"
    }
   ],
   "source": [
    "estações.iloc[(3, 0)]"
   ]
  },
  {
   "cell_type": "markdown",
   "metadata": {},
   "source": [
    "## Reorganizando ``MultiIndex``\n",
    "\n",
    "Um dos segredos para trabalhar com dados indexados de forma múltipla é saber como transformá-los de maneira eficaz.\n",
    "Há uma série de operações que preservam todas as informações do conjunto de dados, mas as reorganizam para facilitar a manipulação dos mesmos.\n",
    "Vimos um breve exemplo disso nos métodos ``stack()`` e ``unstack()``, mas existem muitas outras maneiras de controlar com precisão o rearranjo de dados entre índices hierárquicos e colunas."
   ]
  },
  {
   "cell_type": "markdown",
   "metadata": {},
   "source": [
    "### Índices ordenados e não ordenados\n",
    "\n",
    "Muitas das operações de slicing com ``MultiIndex`` n~áo funciona se o índice não estiver ordenado.\n",
    "\n",
    "Começaremos criando alguns dados indexados simples com índices não ordenados."
   ]
  },
  {
   "cell_type": "code",
   "execution_count": 105,
   "metadata": {},
   "outputs": [
    {
     "data": {
      "text/plain": [
       "gamma  A    0.651887\n",
       "       C    0.084866\n",
       "       B    0.029783\n",
       "beta   A    0.508477\n",
       "       C    0.849120\n",
       "       B    0.865123\n",
       "alpha  A    0.080406\n",
       "       C    0.827525\n",
       "       B    0.121062\n",
       "dtype: float64"
      ]
     },
     "execution_count": 105,
     "metadata": {},
     "output_type": "execute_result"
    }
   ],
   "source": [
    "multiIndexS = pd.Series(np.random.rand(9),\n",
    "                  index=[['gamma']*3 + ['beta']*3 + ['alpha']*3, \n",
    "                         ['A', 'C', 'B']*3])\n",
    "multiIndexS"
   ]
  },
  {
   "cell_type": "markdown",
   "metadata": {},
   "source": [
    "Se tentarmos obter um slicing destes índices teremos um erro. "
   ]
  },
  {
   "cell_type": "code",
   "execution_count": 106,
   "metadata": {},
   "outputs": [
    {
     "name": "stdout",
     "output_type": "stream",
     "text": [
      "Expected label or tuple of labels, got (slice(None, None, None), slice('A', 'B', None))\n"
     ]
    }
   ],
   "source": [
    "try:\n",
    "    #multiIndexS['gamma': 'alpha']   \n",
    "    multiIndexS[:, 'A':'B']\n",
    "except Exception as e:\n",
    "    print(e)"
   ]
  },
  {
   "cell_type": "markdown",
   "metadata": {},
   "source": [
    "Embora não esteja totalmente claro na mensagem de erro, este é o resultado da não ordenação do ``MultiIndex``. \n",
    "\n",
    "Por vários motivos, slicing e outras operações semelhantes exigem que os níveis no ``MultiIndex`` estejam em ordenados. \n",
    "\n",
    "O __Pandas__ fornece uma série de rotinas para realizar esse tipo de classificação, como por exemplos os métodos ``sort_index()`` e ``sortlevel()`` do ``DataFrame``."
   ]
  },
  {
   "cell_type": "code",
   "execution_count": 107,
   "metadata": {},
   "outputs": [
    {
     "data": {
      "text/plain": [
       "alpha  A    0.080406\n",
       "       B    0.121062\n",
       "       C    0.827525\n",
       "beta   A    0.508477\n",
       "       B    0.865123\n",
       "       C    0.849120\n",
       "gamma  A    0.651887\n",
       "       B    0.029783\n",
       "       C    0.084866\n",
       "dtype: float64"
      ]
     },
     "execution_count": 107,
     "metadata": {},
     "output_type": "execute_result"
    }
   ],
   "source": [
    "multiIndexS = multiIndexS.sort_index()\n",
    "multiIndexS"
   ]
  },
  {
   "cell_type": "code",
   "execution_count": 116,
   "metadata": {},
   "outputs": [
    {
     "data": {
      "text/plain": [
       "alpha  A    0.080406\n",
       "       B    0.121062\n",
       "       C    0.827525\n",
       "beta   A    0.508477\n",
       "       B    0.865123\n",
       "       C    0.849120\n",
       "dtype: float64"
      ]
     },
     "execution_count": 116,
     "metadata": {},
     "output_type": "execute_result"
    }
   ],
   "source": [
    "multiIndexS.loc['alpha': 'beta']   "
   ]
  },
  {
   "cell_type": "code",
   "execution_count": 117,
   "metadata": {},
   "outputs": [
    {
     "data": {
      "text/plain": [
       "alpha  A    0.080406\n",
       "       B    0.121062\n",
       "beta   A    0.508477\n",
       "       B    0.865123\n",
       "gamma  A    0.651887\n",
       "       B    0.029783\n",
       "dtype: float64"
      ]
     },
     "execution_count": 117,
     "metadata": {},
     "output_type": "execute_result"
    }
   ],
   "source": [
    "multiIndexS.loc[:, 'A':'B'] "
   ]
  },
  {
   "cell_type": "markdown",
   "metadata": {},
   "source": [
    "### Empilhamento e desempilhamento de índices\n",
    "\n",
    "Como vimos brevemente antes, é possível converter um conjunto de dados de um ``MultiIndex`` empilhado para uma representação bidimensional simples, especificando opcionalmente o nível a ser usado."
   ]
  },
  {
   "cell_type": "code",
   "execution_count": 118,
   "metadata": {},
   "outputs": [
    {
     "data": {
      "text/html": [
       "<div>\n",
       "<style scoped>\n",
       "    .dataframe tbody tr th:only-of-type {\n",
       "        vertical-align: middle;\n",
       "    }\n",
       "\n",
       "    .dataframe tbody tr th {\n",
       "        vertical-align: top;\n",
       "    }\n",
       "\n",
       "    .dataframe thead th {\n",
       "        text-align: right;\n",
       "    }\n",
       "</style>\n",
       "<table border=\"1\" class=\"dataframe\">\n",
       "  <thead>\n",
       "    <tr style=\"text-align: right;\">\n",
       "      <th></th>\n",
       "      <th>A</th>\n",
       "      <th>B</th>\n",
       "      <th>C</th>\n",
       "    </tr>\n",
       "  </thead>\n",
       "  <tbody>\n",
       "    <tr>\n",
       "      <th>alpha</th>\n",
       "      <td>0.080406</td>\n",
       "      <td>0.121062</td>\n",
       "      <td>0.827525</td>\n",
       "    </tr>\n",
       "    <tr>\n",
       "      <th>beta</th>\n",
       "      <td>0.508477</td>\n",
       "      <td>0.865123</td>\n",
       "      <td>0.849120</td>\n",
       "    </tr>\n",
       "    <tr>\n",
       "      <th>gamma</th>\n",
       "      <td>0.651887</td>\n",
       "      <td>0.029783</td>\n",
       "      <td>0.084866</td>\n",
       "    </tr>\n",
       "  </tbody>\n",
       "</table>\n",
       "</div>"
      ],
      "text/plain": [
       "              A         B         C\n",
       "alpha  0.080406  0.121062  0.827525\n",
       "beta   0.508477  0.865123  0.849120\n",
       "gamma  0.651887  0.029783  0.084866"
      ]
     },
     "execution_count": 118,
     "metadata": {},
     "output_type": "execute_result"
    }
   ],
   "source": [
    "multiIndexS.unstack()"
   ]
  },
  {
   "cell_type": "code",
   "execution_count": 119,
   "metadata": {},
   "outputs": [
    {
     "data": {
      "text/html": [
       "<div>\n",
       "<style scoped>\n",
       "    .dataframe tbody tr th:only-of-type {\n",
       "        vertical-align: middle;\n",
       "    }\n",
       "\n",
       "    .dataframe tbody tr th {\n",
       "        vertical-align: top;\n",
       "    }\n",
       "\n",
       "    .dataframe thead th {\n",
       "        text-align: right;\n",
       "    }\n",
       "</style>\n",
       "<table border=\"1\" class=\"dataframe\">\n",
       "  <thead>\n",
       "    <tr style=\"text-align: right;\">\n",
       "      <th></th>\n",
       "      <th>alpha</th>\n",
       "      <th>beta</th>\n",
       "      <th>gamma</th>\n",
       "    </tr>\n",
       "  </thead>\n",
       "  <tbody>\n",
       "    <tr>\n",
       "      <th>A</th>\n",
       "      <td>0.080406</td>\n",
       "      <td>0.508477</td>\n",
       "      <td>0.651887</td>\n",
       "    </tr>\n",
       "    <tr>\n",
       "      <th>B</th>\n",
       "      <td>0.121062</td>\n",
       "      <td>0.865123</td>\n",
       "      <td>0.029783</td>\n",
       "    </tr>\n",
       "    <tr>\n",
       "      <th>C</th>\n",
       "      <td>0.827525</td>\n",
       "      <td>0.849120</td>\n",
       "      <td>0.084866</td>\n",
       "    </tr>\n",
       "  </tbody>\n",
       "</table>\n",
       "</div>"
      ],
      "text/plain": [
       "      alpha      beta     gamma\n",
       "A  0.080406  0.508477  0.651887\n",
       "B  0.121062  0.865123  0.029783\n",
       "C  0.827525  0.849120  0.084866"
      ]
     },
     "execution_count": 119,
     "metadata": {},
     "output_type": "execute_result"
    }
   ],
   "source": [
    "multiIndexS.unstack(level=0)"
   ]
  },
  {
   "cell_type": "code",
   "execution_count": 120,
   "metadata": {},
   "outputs": [
    {
     "data": {
      "text/html": [
       "<div>\n",
       "<style scoped>\n",
       "    .dataframe tbody tr th:only-of-type {\n",
       "        vertical-align: middle;\n",
       "    }\n",
       "\n",
       "    .dataframe tbody tr th {\n",
       "        vertical-align: top;\n",
       "    }\n",
       "\n",
       "    .dataframe thead th {\n",
       "        text-align: right;\n",
       "    }\n",
       "</style>\n",
       "<table border=\"1\" class=\"dataframe\">\n",
       "  <thead>\n",
       "    <tr style=\"text-align: right;\">\n",
       "      <th></th>\n",
       "      <th>A</th>\n",
       "      <th>B</th>\n",
       "      <th>C</th>\n",
       "    </tr>\n",
       "  </thead>\n",
       "  <tbody>\n",
       "    <tr>\n",
       "      <th>alpha</th>\n",
       "      <td>0.080406</td>\n",
       "      <td>0.121062</td>\n",
       "      <td>0.827525</td>\n",
       "    </tr>\n",
       "    <tr>\n",
       "      <th>beta</th>\n",
       "      <td>0.508477</td>\n",
       "      <td>0.865123</td>\n",
       "      <td>0.849120</td>\n",
       "    </tr>\n",
       "    <tr>\n",
       "      <th>gamma</th>\n",
       "      <td>0.651887</td>\n",
       "      <td>0.029783</td>\n",
       "      <td>0.084866</td>\n",
       "    </tr>\n",
       "  </tbody>\n",
       "</table>\n",
       "</div>"
      ],
      "text/plain": [
       "              A         B         C\n",
       "alpha  0.080406  0.121062  0.827525\n",
       "beta   0.508477  0.865123  0.849120\n",
       "gamma  0.651887  0.029783  0.084866"
      ]
     },
     "execution_count": 120,
     "metadata": {},
     "output_type": "execute_result"
    }
   ],
   "source": [
    "multiIndexS.unstack(level=1)"
   ]
  },
  {
   "cell_type": "markdown",
   "metadata": {},
   "source": [
    "A operação inversa de ``unstack()`` é ``stack()``, que pode ser usado para recuperar a série original."
   ]
  },
  {
   "cell_type": "code",
   "execution_count": 121,
   "metadata": {},
   "outputs": [
    {
     "data": {
      "text/plain": [
       "alpha  A    0.080406\n",
       "       B    0.121062\n",
       "       C    0.827525\n",
       "beta   A    0.508477\n",
       "       B    0.865123\n",
       "       C    0.849120\n",
       "gamma  A    0.651887\n",
       "       B    0.029783\n",
       "       C    0.084866\n",
       "dtype: float64"
      ]
     },
     "execution_count": 121,
     "metadata": {},
     "output_type": "execute_result"
    }
   ],
   "source": [
    "multiIndexS.unstack().stack()"
   ]
  },
  {
   "cell_type": "markdown",
   "metadata": {},
   "source": [
    "### Definindo e redefinindo os índices\n",
    "\n",
    "Outra forma de reorganizar os dados hierárquicos é transformar os rótulos do índice em colunas; isso pode ser feito com o método ``reset_index``."
   ]
  },
  {
   "cell_type": "code",
   "execution_count": 122,
   "metadata": {},
   "outputs": [
    {
     "data": {
      "text/html": [
       "<div>\n",
       "<style scoped>\n",
       "    .dataframe tbody tr th:only-of-type {\n",
       "        vertical-align: middle;\n",
       "    }\n",
       "\n",
       "    .dataframe tbody tr th {\n",
       "        vertical-align: top;\n",
       "    }\n",
       "\n",
       "    .dataframe thead th {\n",
       "        text-align: right;\n",
       "    }\n",
       "</style>\n",
       "<table border=\"1\" class=\"dataframe\">\n",
       "  <thead>\n",
       "    <tr style=\"text-align: right;\">\n",
       "      <th></th>\n",
       "      <th>level_0</th>\n",
       "      <th>level_1</th>\n",
       "      <th>Valor</th>\n",
       "    </tr>\n",
       "  </thead>\n",
       "  <tbody>\n",
       "    <tr>\n",
       "      <th>0</th>\n",
       "      <td>alpha</td>\n",
       "      <td>A</td>\n",
       "      <td>0.080406</td>\n",
       "    </tr>\n",
       "    <tr>\n",
       "      <th>1</th>\n",
       "      <td>alpha</td>\n",
       "      <td>B</td>\n",
       "      <td>0.121062</td>\n",
       "    </tr>\n",
       "    <tr>\n",
       "      <th>2</th>\n",
       "      <td>alpha</td>\n",
       "      <td>C</td>\n",
       "      <td>0.827525</td>\n",
       "    </tr>\n",
       "    <tr>\n",
       "      <th>3</th>\n",
       "      <td>beta</td>\n",
       "      <td>A</td>\n",
       "      <td>0.508477</td>\n",
       "    </tr>\n",
       "    <tr>\n",
       "      <th>4</th>\n",
       "      <td>beta</td>\n",
       "      <td>B</td>\n",
       "      <td>0.865123</td>\n",
       "    </tr>\n",
       "    <tr>\n",
       "      <th>5</th>\n",
       "      <td>beta</td>\n",
       "      <td>C</td>\n",
       "      <td>0.849120</td>\n",
       "    </tr>\n",
       "    <tr>\n",
       "      <th>6</th>\n",
       "      <td>gamma</td>\n",
       "      <td>A</td>\n",
       "      <td>0.651887</td>\n",
       "    </tr>\n",
       "    <tr>\n",
       "      <th>7</th>\n",
       "      <td>gamma</td>\n",
       "      <td>B</td>\n",
       "      <td>0.029783</td>\n",
       "    </tr>\n",
       "    <tr>\n",
       "      <th>8</th>\n",
       "      <td>gamma</td>\n",
       "      <td>C</td>\n",
       "      <td>0.084866</td>\n",
       "    </tr>\n",
       "  </tbody>\n",
       "</table>\n",
       "</div>"
      ],
      "text/plain": [
       "  level_0 level_1     Valor\n",
       "0   alpha       A  0.080406\n",
       "1   alpha       B  0.121062\n",
       "2   alpha       C  0.827525\n",
       "3    beta       A  0.508477\n",
       "4    beta       B  0.865123\n",
       "5    beta       C  0.849120\n",
       "6   gamma       A  0.651887\n",
       "7   gamma       B  0.029783\n",
       "8   gamma       C  0.084866"
      ]
     },
     "execution_count": 122,
     "metadata": {},
     "output_type": "execute_result"
    }
   ],
   "source": [
    "multiIndexS.reset_index(name='Valor')"
   ]
  },
  {
   "cell_type": "markdown",
   "metadata": {},
   "source": [
    "Muitas vezes, ao trabalhar com dados no mundo real, os dados brutos de entrada têm esta aparência e é útil construir um ``MultiIndex`` a partir dos valores da coluna. Isso pode ser feito com o método ``set_index`` do ``DataFrame``, que retorna um ``DataFrame`` com indexação múltipla."
   ]
  },
  {
   "cell_type": "code",
   "execution_count": 123,
   "metadata": {},
   "outputs": [
    {
     "data": {
      "text/html": [
       "<div>\n",
       "<style scoped>\n",
       "    .dataframe tbody tr th:only-of-type {\n",
       "        vertical-align: middle;\n",
       "    }\n",
       "\n",
       "    .dataframe tbody tr th {\n",
       "        vertical-align: top;\n",
       "    }\n",
       "\n",
       "    .dataframe thead th {\n",
       "        text-align: right;\n",
       "    }\n",
       "</style>\n",
       "<table border=\"1\" class=\"dataframe\">\n",
       "  <thead>\n",
       "    <tr style=\"text-align: right;\">\n",
       "      <th></th>\n",
       "      <th></th>\n",
       "      <th>Valor</th>\n",
       "    </tr>\n",
       "    <tr>\n",
       "      <th>level_0</th>\n",
       "      <th>level_1</th>\n",
       "      <th></th>\n",
       "    </tr>\n",
       "  </thead>\n",
       "  <tbody>\n",
       "    <tr>\n",
       "      <th rowspan=\"3\" valign=\"top\">alpha</th>\n",
       "      <th>A</th>\n",
       "      <td>0.080406</td>\n",
       "    </tr>\n",
       "    <tr>\n",
       "      <th>B</th>\n",
       "      <td>0.121062</td>\n",
       "    </tr>\n",
       "    <tr>\n",
       "      <th>C</th>\n",
       "      <td>0.827525</td>\n",
       "    </tr>\n",
       "    <tr>\n",
       "      <th rowspan=\"3\" valign=\"top\">beta</th>\n",
       "      <th>A</th>\n",
       "      <td>0.508477</td>\n",
       "    </tr>\n",
       "    <tr>\n",
       "      <th>B</th>\n",
       "      <td>0.865123</td>\n",
       "    </tr>\n",
       "    <tr>\n",
       "      <th>C</th>\n",
       "      <td>0.849120</td>\n",
       "    </tr>\n",
       "    <tr>\n",
       "      <th rowspan=\"3\" valign=\"top\">gamma</th>\n",
       "      <th>A</th>\n",
       "      <td>0.651887</td>\n",
       "    </tr>\n",
       "    <tr>\n",
       "      <th>B</th>\n",
       "      <td>0.029783</td>\n",
       "    </tr>\n",
       "    <tr>\n",
       "      <th>C</th>\n",
       "      <td>0.084866</td>\n",
       "    </tr>\n",
       "  </tbody>\n",
       "</table>\n",
       "</div>"
      ],
      "text/plain": [
       "                    Valor\n",
       "level_0 level_1          \n",
       "alpha   A        0.080406\n",
       "        B        0.121062\n",
       "        C        0.827525\n",
       "beta    A        0.508477\n",
       "        B        0.865123\n",
       "        C        0.849120\n",
       "gamma   A        0.651887\n",
       "        B        0.029783\n",
       "        C        0.084866"
      ]
     },
     "execution_count": 123,
     "metadata": {},
     "output_type": "execute_result"
    }
   ],
   "source": [
    "tabela = multiIndexS.reset_index(name='Valor')\n",
    "tabela.set_index(['level_0', 'level_1'])"
   ]
  }
 ],
 "metadata": {
  "kernelspec": {
   "display_name": "Python 3 (ipykernel)",
   "language": "python",
   "name": "python3"
  },
  "language_info": {
   "codemirror_mode": {
    "name": "ipython",
    "version": 3
   },
   "file_extension": ".py",
   "mimetype": "text/x-python",
   "name": "python",
   "nbconvert_exporter": "python",
   "pygments_lexer": "ipython3",
   "version": "3.10.13"
  }
 },
 "nbformat": 4,
 "nbformat_minor": 2
}
