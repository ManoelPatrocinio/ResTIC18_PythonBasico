{
 "cells": [
  {
   "cell_type": "markdown",
   "metadata": {},
   "source": [
    "# Módulo de Programação Python\n",
    "\n",
    "# Trilha Python - Aula 21: Modulos e Pacotes - Avançado\n",
    "\n",
    "<img align=\"center\" style=\"padding-right:10px;\" src=\"Figuras/aula-24_fig_01.png\">"
   ]
  },
  {
   "cell_type": "markdown",
   "metadata": {},
   "source": [
    "__Objetivo__:  Apresentar como trabalhar para implementar pacotes e módulos em __Python__ utilizando o __Poetry__."
   ]
  },
  {
   "cell_type": "markdown",
   "metadata": {},
   "source": [
    "## Um problema para resolver\n",
    "\n",
    "<img align=\"center\" style=\"padding-right:10px;\" src=\"Figuras/aula-24_fig_10.jpeg\">\n",
    "\n",
    "<img align=\"center\" style=\"padding-right:10px;\" src=\"Figuras/aula-24_fig_08.jpeg\">\n",
    "\n",
    "<img align=\"center\" style=\"padding-right:10px;\" src=\"Figuras/aula-24_fig_09.jpeg\">\n",
    "\n",
    "<img align=\"center\" style=\"padding-right:10px;\" src=\"Figuras/aula-24_fig_11.jpeg\">\n",
    "\n",
    "<img align=\"center\" style=\"padding-right:10px;\" src=\"Figuras/aula-24_fig_12.jpeg\">\n",
    "\n",
    "\n",
    "\n"
   ]
  },
  {
   "cell_type": "markdown",
   "metadata": {},
   "source": [
    "## Recapitulando o visto até aqui sobre módulos\n",
    "\n",
    "## Módulos\n",
    "\n",
    "Módulos em __Python__ representam a unidade mais alta de organização de um programa, capas de armazenar códigos e dados para serem reutilizados. Os mecanismos disponíveis para carregar os recursos dos módulos foram pensados visando serem simples de usar e, na medida do possível, para minimizar conflitos de nomes.\n",
    "\n",
    "* Um programa em Python consiste, basicamente, em um ou mais arquivos de texto contendo declarações Python. \n",
    "* Um dos arquivo é o arquivo principal, que pode fazer uso ou não, de arquivos suplementares que são chamados de módulos. O arquivo principal passa a ser então o módulo ``__main__``.\n",
    "\n",
    "<img align=\"center\" style=\"padding-right:10px;\" src=\"Figuras/aula-06_fig_02.png\">"
   ]
  },
  {
   "cell_type": "markdown",
   "metadata": {},
   "source": [
    "### Como funciona o processo de importar um módulo?\n",
    "\n",
    "* Procura-se o arquivo do módulo;\n",
    "* Uma vez encontrado o arquivo é compilado para _byte code_; \n",
    "    * Explore a pasta ``__pycache__`` onde estão os módulos que você está usando;\n",
    "* Se executa o módulo para gerar os objetos nele definidos;\n",
    "\n",
    "Onde e em qual ordem buscar pelos arquivos de módulos \n",
    "\n",
    "1. Na pasta da aplicação;\n",
    "2. No caminho do __PYTHONPATH__;\n",
    "3. No caminho padrão das bibliotecas;\n",
    "4. Nas pastas indicadas nos arquivos .pth;\n",
    "5. Nos sítios definidos por bibliotecas de terceiros;\n",
    "\n",
    "Podemos utilizar\n",
    "\n",
    "a. Módulos da biblioteca padrão de __Pytho__;\n",
    "\n",
    "b. Módulos desenvolvidos por terceiros;\n",
    "\n",
    "c. Nossos próprios módulos.\n",
    "\n",
    "Vejamos o seguinte exemplo. "
   ]
  },
  {
   "cell_type": "markdown",
   "metadata": {},
   "source": [
    "<img align=\"center\" style=\"padding-right:10px;\" src=\"Figuras/aula-24_fig_02.png\">"
   ]
  },
  {
   "cell_type": "markdown",
   "metadata": {},
   "source": [
    "```random.py```"
   ]
  },
  {
   "cell_type": "markdown",
   "metadata": {},
   "source": [
    "<img align=\"center\" style=\"padding-right:10px;\" src=\"Figuras/aula-24_fig_03.png\">"
   ]
  },
  {
   "cell_type": "markdown",
   "metadata": {},
   "source": [
    "```__main__.py```"
   ]
  },
  {
   "cell_type": "markdown",
   "metadata": {},
   "source": [
    "<img align=\"center\" style=\"padding-right:10px;\" src=\"Figuras/aula-24_fig_04.png\">"
   ]
  },
  {
   "cell_type": "code",
   "execution_count": null,
   "metadata": {},
   "outputs": [],
   "source": [
    "# executando desde a pasta climatempo\n",
    "# python climatempo/__main__.py\n",
    "# ?????????"
   ]
  },
  {
   "cell_type": "markdown",
   "metadata": {},
   "source": [
    "Vamos modificar o executável para saber o que está acontecendo. "
   ]
  },
  {
   "cell_type": "markdown",
   "metadata": {},
   "source": [
    "<img align=\"center\" style=\"padding-right:10px;\" src=\"Figuras/aula-24_fig_05.png\">"
   ]
  },
  {
   "cell_type": "markdown",
   "metadata": {},
   "source": [
    "<img align=\"center\" style=\"padding-right:10px;\" src=\"Figuras/aula-24_fig_06.png\">"
   ]
  },
  {
   "cell_type": "markdown",
   "metadata": {},
   "source": [
    "__sys__ — [System-specific parameters and functions](https://docs.python.org/3/library/sys.html)\n",
    "\n",
    "Este módulo fornece acesso a algumas variáveis utilizadas ou mantidas pelo interpretador e a funções que interagem fortemente com o interpretador."
   ]
  },
  {
   "cell_type": "markdown",
   "metadata": {},
   "source": [
    "### pipenv\n",
    "\n",
    "O [``pipenv``](https://pipenv.pypa.io/en/latest/) é uma ferramenta que combina ``virtualenv`` com ``pip``. Ele permite criar ambientes virtuais e gerenciar pacotes Python para seus projetos. Ele foi projetado para ser mais fácil de utilizar do que usar ``virtualenv`` e ``pip`` separadamente."
   ]
  },
  {
   "cell_type": "markdown",
   "metadata": {},
   "source": [
    "Lembram de como p ```pipenv``` funciona?"
   ]
  },
  {
   "cell_type": "markdown",
   "metadata": {},
   "source": [
    "Para utilizar esta ferramente, primeiramente é necessário criar uma pasta para o projeto e então ativar o ambiente virtual:"
   ]
  },
  {
   "cell_type": "code",
   "execution_count": null,
   "metadata": {},
   "outputs": [],
   "source": [
    "# pipenv shell\n",
    "# para sair do shell\n",
    "# exit"
   ]
  },
  {
   "cell_type": "markdown",
   "metadata": {},
   "source": [
    "Reparem que ele funciona um pouco diferente que as ferramentas anteriores. Agora é necessário sair do _shell_ com o comando ``exit``. Ele também cria uma pasta ``Pipfile`` para gerenciar os pacotes deste ambiente isolado. \n",
    "A instalação de pacotes também é feita de forma diferente:"
   ]
  },
  {
   "cell_type": "code",
   "execution_count": null,
   "metadata": {},
   "outputs": [],
   "source": [
    "# pipenv install numpy"
   ]
  },
  {
   "cell_type": "markdown",
   "metadata": {},
   "source": [
    "O comando anterior vai instalar o ``numpy`` e suas dependências na pasta ``Pipfile`` da pasta atual.\n",
    "\n",
    "Vamos a voltar a falar do ``pipenv``, quando falemos de gerenciamento de projetos e ambientes virtuais com ``poetry``. "
   ]
  },
  {
   "cell_type": "markdown",
   "metadata": {},
   "source": [
    "## Poetry\n",
    "\n",
    "Segundo a documentação disponível no site do [__Poetry__](https://python-poetry.org/docs/) \"__Poetry__ é uma ferramenta para gerenciamento de dependências e empacotamento em __Python__. Ele permite que você declare as bibliotecas das quais seu projeto depende e irá gerenciá-las (instalá-las/atualizá-las) para você. O __Poetry__ fornece um arquivo de bloqueio para garantir instalações reprodutíveis e pode construir seu projeto para distribuição.\""
   ]
  },
  {
   "cell_type": "markdown",
   "metadata": {},
   "source": [
    "O __Poetry__ traz uma serie de padrões de desenvolvimento de software em __Python__. Ele permite criar, de forma automática, toda a árvore de diretórios necessária para desenvolvimento padronizado de aplicações __Python__. "
   ]
  },
  {
   "cell_type": "markdown",
   "metadata": {},
   "source": [
    "Vamos ver como ele funciona. Primeiramente vamos criar um ambiente virtual, por exemplo utilizando o conda.  "
   ]
  },
  {
   "cell_type": "code",
   "execution_count": 1,
   "metadata": {},
   "outputs": [],
   "source": [
    "# conda create --name poetryPy python=3.10"
   ]
  },
  {
   "cell_type": "code",
   "execution_count": 2,
   "metadata": {},
   "outputs": [],
   "source": [
    "# conda activate poetryPy"
   ]
  },
  {
   "cell_type": "code",
   "execution_count": 3,
   "metadata": {},
   "outputs": [],
   "source": [
    "# python -m pip install poetry"
   ]
  },
  {
   "cell_type": "code",
   "execution_count": 4,
   "metadata": {},
   "outputs": [],
   "source": [
    "# pip list\n",
    "# pip freeze > requirements.txt "
   ]
  },
  {
   "cell_type": "markdown",
   "metadata": {},
   "source": [
    "Agora vamos criar um novo projeto com __Poetry__."
   ]
  },
  {
   "cell_type": "code",
   "execution_count": null,
   "metadata": {},
   "outputs": [],
   "source": [
    "#  poetry new climatempo"
   ]
  },
  {
   "cell_type": "markdown",
   "metadata": {},
   "source": [
    "<img align=\"center\" style=\"padding-right:10px;\" src=\"Figuras/aula-24_fig_07.png\">"
   ]
  },
  {
   "cell_type": "markdown",
   "metadata": {},
   "source": [
    "Uma vez criado o projeto posso mudar para a pasta do projeto e instalar os pacotes com o comando ``add``.\n",
    "\n",
    "Opções\n",
    "* --group (-G): O grupo ao qual adicionar a dependência.\n",
    "* --dev (-D): Adiciona pacote como dependência de desenvolvimento. (Obsoleto, use -G dev)\n",
    "* --editable (-e): Adicione dependências vcs/path como editáveis.\n",
    "* --extras (-E): Extras para ativar para a dependência. (vários valores permitidos)\n",
    "* --optional: Adicione como uma dependência opcional.\n",
    "* --python: versão do Python para a qual a dependência deve ser instalada.\n",
    "* --platform: Plataformas para as quais a dependência deve ser instalada.\n",
    "* --source: Nome da fonte a ser usada para instalar o pacote.\n",
    "* --allow-prereleases: aceita pré-lançamentos.\n",
    "* --dry-run: gera as operações, mas não executa nada (habilita implicitamente –verbose).\n",
    "* --lock: Não execute a instalação (apenas atualize o arquivo de bloqueio)."
   ]
  },
  {
   "cell_type": "code",
   "execution_count": 6,
   "metadata": {},
   "outputs": [],
   "source": [
    "# poetry add numpy\n",
    "#    Using version ^1.26.3 for numpy\n",
    "# poetry add pandas\n",
    "#    Using version ^2.1.4 for pandas\n",
    "# poetry add seaborn\n",
    "#    Using version ^0.13.1 for seaborn"
   ]
  },
  {
   "cell_type": "markdown",
   "metadata": {},
   "source": [
    "Veja com está ficando o arquivo ``.toml``..."
   ]
  },
  {
   "cell_type": "markdown",
   "metadata": {},
   "source": [
    "### Poetry pyproject.toml\n",
    "\n",
    "O comando ``new`` cria automaticamente uma versão padrão deste arquivo. \n",
    "\n",
    "A documentação do arquivo ``pyproject.toml`` está disponível [aqui](https://python-poetry.org/docs/pyproject/) e dela podemos destacar:\n",
    "\n",
    "#### Seção ``tool.poetry``\n",
    "\n",
    "* ``name``: Define o nome do pacote. Este campo é obrigatório e deve ser um [nome válido](https://peps.python.org/pep-0508/#names). \n",
    "\n",
    "* ``version``: Define qual aversão atual do pacote. Este campo é obrigatório e deve ser um [string de versão válida](https://peps.python.org/pep-0440/).\n",
    "\n",
    "* ``description``: Uma breve descrição do pacote. Este campo é obrigatório.\n",
    "\n",
    "* ``license``: A licença do pacote. A notação recomendada para as licenças mais comuns é (em ordem alfabética).\n",
    "    *  Apache-2.0\n",
    "    * BSD-2-Clause\n",
    "    * BSD-3-Clause\n",
    "    * BSD-4-Clause\n",
    "    * GPL-2.0-only\n",
    "    * GPL-2.0-or-later\n",
    "    * GPL-3.0-only\n",
    "    * GPL-3.0-or-later\n",
    "    * LGPL-2.1-only\n",
    "    * LGPL-2.1-or-later\n",
    "    * LGPL-3.0-only\n",
    "    * LGPL-3.0-or-later\n",
    "    * MIT\n",
    "Este campo é opcional, mas é altamente recomendável fornecê-lo. Mais identificadores estão listados no [SPDX Open Source License Registry](https://spdx.org/licenses/).\n",
    "\n",
    "Se o seu projeto for proprietário e não usar uma licença específica, você poderá definir esse valor como Proprietary.\n",
    "\n",
    "* ``authors``: Os autores do pacote. Os autores do pacote. Este campo é obrigatório e composto por uma lista de autores que deve conter conter pelo menos um autor. Os autores devem estar no formato nome <email>.\n",
    "\n",
    "* ``maintainers``: Os mantenedores do pacote. Este é um campo opcional e é composto de uma lista de mantenedores que deve ser distinta dos autores.\n",
    "\n",
    "* ``scripts``: Aqui são descritos os scripts ou executáveis que serão instalados durante a instalação do pacote."
   ]
  },
  {
   "cell_type": "markdown",
   "metadata": {},
   "source": [
    "### Poetry build\n",
    "\n",
    "O comando build constrói os arquivos de fonte compactados e o arquivo wheels.\n",
    "\n",
    "\n",
    "Python tem uma longa história de referências ao programa humorístico __Monty Python__.\n",
    "O repositório PyPI costumava ser chamado de queijaria (_cheeseshop_), em referência a um _sketch_ do __Monty Python__, onde a queijaria não tem queijo. A piada era que o PyPI era inicialmente assim - não tinha nada naquela época. \n",
    "\n",
    "Com base nisso, wheels é uma referência a rodas de queijo."
   ]
  },
  {
   "cell_type": "markdown",
   "metadata": {},
   "source": [
    "#### Poetry version\n",
    "\n",
    "Este comando mostra a versão atual do projeto ou altera a versão do projeto e grava a nova versão de volta em ``pyproject.toml`` se uma regra de aumento válida for fornecida.\n",
    "\n",
    "A nova versão deve ser uma string PEP 440 válida ou uma regra de colisão válida: patch, minor, major, prepatch, preminor, premajor, prerelease.\n",
    "\n",
    "| RULE\t        | BEFORE\t| AFTER   |\n",
    "|---------------|-----------|---------|\n",
    "| major\t        | 1.3.0\t    | 2.0.0   | \n",
    "| minor\t        | 2.1.4\t    | 2.2.0   |\n",
    "| patch\t        | 4.1.1\t    | 4.1.2   |\n",
    "| premajor\t    | 1.0.2\t    | 2.0.0a0 |\n",
    "| preminor\t    | 1.0.2\t    | 1.1.0a0 |\n",
    "| prepatch\t    | 1.0.2\t    | 1.0.3a0 |\n",
    "| prerelease\t| 1.0.2\t    | 1.0.3a0 |\n",
    "| prerelease\t| 1.0.3a0\t| 1.0.3a1 |\n",
    "| prerelease\t| 1.0.3b0\t| 1.0.3b1 |"
   ]
  },
  {
   "cell_type": "markdown",
   "metadata": {},
   "source": [
    "### Poetry install\n",
    "\n",
    "O comando install lê o arquivo ``pyproject.toml`` do projeto atual, resolve as dependências e as instala.\n",
    "\n",
    "Se houver um arquivo ``poetry.lock`` no diretório atual, ele usará as versões exatas de lá em vez de resolvê-las. Isso garante que todos que usam a biblioteca obtenham as mesmas versões das dependências.\n",
    "\n",
    "Se não houver nenhum arquivo ``poetry.lock``, o __Poetry__ criará um após a resolução da dependência.\n",
    "\n",
    "Se quiser excluir um ou mais grupos de dependências para a instalação, você pode usar a opção ``--without``."
   ]
  }
 ],
 "metadata": {
  "kernelspec": {
   "display_name": "Python 3 (ipykernel)",
   "language": "python",
   "name": "python3"
  },
  "language_info": {
   "codemirror_mode": {
    "name": "ipython",
    "version": 3
   },
   "file_extension": ".py",
   "mimetype": "text/x-python",
   "name": "python",
   "nbconvert_exporter": "python",
   "pygments_lexer": "ipython3",
   "version": "3.10.13"
  }
 },
 "nbformat": 4,
 "nbformat_minor": 2
}
