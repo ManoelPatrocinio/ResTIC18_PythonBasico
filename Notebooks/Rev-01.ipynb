{
 "cells": [
  {
   "cell_type": "markdown",
   "metadata": {},
   "source": [
    "1. Escreva um programa que leia o lado de um quadrado e então imprima o quadrado com asteriscos. Seu programa deve funcionar com quadrados de todos os tamanhos entre 1 e 20 (incluíndo 1 e 20). Por exemplo, se seu programa lesse um tamanho 4, deveria imprimir: \n",
    "```\n",
    "\n",
    "  ****\n",
    "  ****\n",
    "  ****\n",
    "  ****\n",
    "  \n",
    "```"
   ]
  },
  {
   "cell_type": "code",
   "execution_count": null,
   "metadata": {},
   "outputs": [],
   "source": [
    "# Fazer aqui"
   ]
  },
  {
   "cell_type": "markdown",
   "metadata": {},
   "source": [
    "2. Modifique o programa do exercício anterior para imprimir um quadrado vazado. Por exemplo, se seu programa lesse um tamanho 5, deveria imprimir:\n",
    "\n",
    "```\n",
    "\n",
    "  *****\n",
    "  *   *\n",
    "  *   *\n",
    "  *   *\n",
    "  *****\n",
    "  \n",
    "```"
   ]
  },
  {
   "cell_type": "code",
   "execution_count": null,
   "metadata": {},
   "outputs": [],
   "source": [
    "# Fazer aqui"
   ]
  },
  {
   "cell_type": "markdown",
   "metadata": {},
   "source": [
    "3. Modifique o programa anterior para imprimir os seguintes padrões. Por exemplo, se seu programa lesse um tamanho 5, deveria imprimir:\n",
    "\n",
    "```\n",
    "\n",
    "  *\n",
    "  **\n",
    "  ***\n",
    "  ****\n",
    "  *****\n",
    "\n",
    "      *\n",
    "     **\n",
    "    ***\n",
    "   ****\n",
    "  *****\n",
    "\n",
    "  *****\n",
    "  ****\n",
    "  ***\n",
    "  **\n",
    "  *\n",
    "\n",
    "  *****\n",
    "   ****\n",
    "    ***\n",
    "     **\n",
    "      *\n",
    "\n",
    "```"
   ]
  },
  {
   "cell_type": "code",
   "execution_count": null,
   "metadata": {},
   "outputs": [],
   "source": [
    "# Fazer aqui"
   ]
  },
  {
   "cell_type": "markdown",
   "metadata": {},
   "source": [
    "4. Modifique o programa anterior para imprimir os seguintes padrões. Por exemplo, se seu programa lesse um tamanho 5, deveria imprimir:\n",
    "\n",
    "```\n",
    "\n",
    "      * *\n",
    "     ** **\n",
    "    *** ***\n",
    "   **** ****\n",
    "  ***** *****\n",
    "\n",
    "  ***** *****\n",
    "   **** ****\n",
    "    *** ***\n",
    "     ** **\n",
    "      * *\n",
    "\n",
    "  *         *\n",
    "  **       **\n",
    "  ***     *** \n",
    "  ****   ****\n",
    "  ***** *****\n",
    "\n",
    "  ***** *****\n",
    "  ****   ****\n",
    "  ***     ***\n",
    "  **       **\n",
    "  *         *\n",
    "\n",
    "```"
   ]
  },
  {
   "cell_type": "code",
   "execution_count": null,
   "metadata": {},
   "outputs": [],
   "source": [
    "# Fazer aqui"
   ]
  }
 ],
 "metadata": {
  "kernelspec": {
   "display_name": "pyTIC18",
   "language": "python",
   "name": "python3"
  },
  "language_info": {
   "name": "python",
   "version": "3.10.13"
  }
 },
 "nbformat": 4,
 "nbformat_minor": 2
}
