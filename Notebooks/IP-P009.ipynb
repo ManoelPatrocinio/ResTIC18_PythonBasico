{
 "cells": [
  {
   "cell_type": "markdown",
   "metadata": {},
   "source": [
    "<img align=\"center\" style=\"padding-right:10px;\" src=\"Figuras/IP-01-fig_01.png\">\n",
    "\n",
    "# INSTRUÇÃO PRÁTICA - IP-P008\n",
    "## PP - PROGRAMAÇÃO EM PYTHON\n",
    "### OBJETIVOS DA ATIVIDADE\n",
    "\n",
    "Revisar e consolidar o conteúdo de __Pandas__ avançado."
   ]
  },
  {
   "cell_type": "markdown",
   "metadata": {},
   "source": [
    "__Exercício 1: Tratando séries temporais indexadas por tempo__\n",
    "\n",
    "* Na instrução prática anterior foram utilizadas séries temporais de estações meteorológicas para extrair dados de diferentes anos e comparar as informações sobre temperaturas e e precipitações. Em uma das tarefas se solicitou para criar um ``MultiIndex`` para agregar os dois datasets em apenas um com as dimensões anos, messes do ano e dias do mês. Na tarefa seguinte foi construído um ``DateTimeIndex`` para as séries de dados. Com base no dataset indexado com o ``DateTimeIndex``. \n",
    "1. Analisando as colunas relacionadas e precipitações e temperaturas, mostre num subplot a evolução das temperaturas médias e acumulado de precipitações nos tres anos.\n",
    "2. Prepare um gráfico que mostre como foi o acumulado de precipitações de Junho nos trÊs anos.\n",
    "3. Prepare um gráfico que mostre como foi a temperatura media de cada um dos dias de Março nos três anos.\n",
    "3. Considere uma aproximação para as estações do ano no brasil dada por: Verão (Janeiro, Fevereiro e Março), Outono (Abril, Maio e Junho), Inverno (Julho, Agosto e Setembro) Primavera (Outubro, Novembro e Dezembro). Prepare um gráfico que mostre como se comportaram as temperaturas máxima e mínima de cada uma das estações nos tres anos. \n",
    "4. Repare que os dados de cada estação são monitorando de hora em hora. Considere os intervalos de um dia como sendo: Madrugada (00:00 a 06:00), Manha (06:00 a 12:00), Tarde (12:00 a 18:00) e Noite (18:00 a 00:00). Crie um gráfico que mostre com se comportou a temperatura  temperatura media o dia 28 de setembro  em cada um dos intervalos do dia dos três anos."
   ]
  }
 ],
 "metadata": {
  "kernelspec": {
   "display_name": "Python 3 (ipykernel)",
   "language": "python",
   "name": "python3"
  },
  "language_info": {
   "codemirror_mode": {
    "name": "ipython",
    "version": 3
   },
   "file_extension": ".py",
   "mimetype": "text/x-python",
   "name": "python",
   "nbconvert_exporter": "python",
   "pygments_lexer": "ipython3",
   "version": "3.10.13"
  }
 },
 "nbformat": 4,
 "nbformat_minor": 2
}
