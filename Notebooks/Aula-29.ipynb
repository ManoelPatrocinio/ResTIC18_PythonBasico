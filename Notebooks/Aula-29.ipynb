{
 "cells": [
  {
   "cell_type": "markdown",
   "metadata": {},
   "source": [
    "# Módulo de Programação Python\n",
    "\n",
    "# Trilha Python - Aula 2X: Requests\n",
    "\n",
    "<img align=\"center\" style=\"padding-right:10px;\" src=\"Figuras/aula-25_fig_01.png\">"
   ]
  },
  {
   "cell_type": "markdown",
   "metadata": {},
   "source": [
    "## Pegando os dados direto da Internet\n",
    "\n"
   ]
  },
  {
   "cell_type": "code",
   "execution_count": 1,
   "metadata": {},
   "outputs": [
    {
     "data": {
      "text/html": [
       "<div>\n",
       "<style scoped>\n",
       "    .dataframe tbody tr th:only-of-type {\n",
       "        vertical-align: middle;\n",
       "    }\n",
       "\n",
       "    .dataframe tbody tr th {\n",
       "        vertical-align: top;\n",
       "    }\n",
       "\n",
       "    .dataframe thead th {\n",
       "        text-align: right;\n",
       "    }\n",
       "</style>\n",
       "<table border=\"1\" class=\"dataframe\">\n",
       "  <thead>\n",
       "    <tr style=\"text-align: right;\">\n",
       "      <th></th>\n",
       "      <th>Series_reference,Period,Data_value,Suppressed,STATUS,UNITS,Magnitude,Subject,Group,Series_title_1,Series_title_2,Series_title_3,Series_title_4,Series_title_5</th>\n",
       "    </tr>\n",
       "  </thead>\n",
       "  <tbody>\n",
       "    <tr>\n",
       "      <th>0</th>\n",
       "      <td>BDCQ.SEA1AA,2011.06,80078,,F,Number,0,Business...</td>\n",
       "    </tr>\n",
       "    <tr>\n",
       "      <th>1</th>\n",
       "      <td>BDCQ.SEA1AA,2011.09,78324,,F,Number,0,Business...</td>\n",
       "    </tr>\n",
       "    <tr>\n",
       "      <th>2</th>\n",
       "      <td>BDCQ.SEA1AA,2011.12,85850,,F,Number,0,Business...</td>\n",
       "    </tr>\n",
       "    <tr>\n",
       "      <th>3</th>\n",
       "      <td>BDCQ.SEA1AA,2012.03,90743,,F,Number,0,Business...</td>\n",
       "    </tr>\n",
       "    <tr>\n",
       "      <th>4</th>\n",
       "      <td>BDCQ.SEA1AA,2012.06,81780,,F,Number,0,Business...</td>\n",
       "    </tr>\n",
       "  </tbody>\n",
       "</table>\n",
       "</div>"
      ],
      "text/plain": [
       "  Series_reference,Period,Data_value,Suppressed,STATUS,UNITS,Magnitude,Subject,Group,Series_title_1,Series_title_2,Series_title_3,Series_title_4,Series_title_5\n",
       "0  BDCQ.SEA1AA,2011.06,80078,,F,Number,0,Business...                                                                                                           \n",
       "1  BDCQ.SEA1AA,2011.09,78324,,F,Number,0,Business...                                                                                                           \n",
       "2  BDCQ.SEA1AA,2011.12,85850,,F,Number,0,Business...                                                                                                           \n",
       "3  BDCQ.SEA1AA,2012.03,90743,,F,Number,0,Business...                                                                                                           \n",
       "4  BDCQ.SEA1AA,2012.06,81780,,F,Number,0,Business...                                                                                                           "
      ]
     },
     "execution_count": 1,
     "metadata": {},
     "output_type": "execute_result"
    }
   ],
   "source": [
    "import pandas as pd\n",
    "url = \"https://www.stats.govt.nz/assets/Uploads/Business-employment-data/Business-employment-data-September-2023-quarter/Download-data/business-employment-data-september-2023-quarter.zip\"\n",
    "train = pd.read_table(url)\n",
    "train.head()"
   ]
  },
  {
   "cell_type": "markdown",
   "metadata": {},
   "source": [
    "## Uma introdução à biblioteca __Requests__ de Python\n",
    "\n",
    "A biblioteca __Requests__ foi desenvolvida com o objetivo de simplificar a realização de solicitações __HTTP__ para servidores _web_ e o trabalho tratar as respostas a estas solicitações.\n",
    "\n",
    "A biblioteca de __Requests__ é o padrão de fato para fazer solicitações __HTTP__ em __Python__. Ela abstrai as complexidades de fazer solicitações por trás de uma __API__ simples e bonita para que você possa se concentrar na interação com serviços e no consumo de dados em seu aplicativo. \n",
    "\n",
    "Os métodos implementados na biblioteca __Requests__ executam operações __HTTP__ em um servidor _web_ especificado pela sua __URL__. Eles também suportam o envio de informações extras para o servidor por meio de parâmetros e cabeçalhos, codificando as respostas do servidor, detectando erros e manipulando redirecionamentos. \n",
    "\n",
    "Além de simplificar a forma como trabalhamos com as operações __HTTP__, a biblioteca __Requests__ fornece alguns recursos avançados, como tratamento de exceções __HTTP__ e autenticação."
   ]
  },
  {
   "cell_type": "code",
   "execution_count": null,
   "metadata": {},
   "outputs": [],
   "source": [
    "#pip install requests"
   ]
  },
  {
   "cell_type": "markdown",
   "metadata": {},
   "source": [
    "Depois que p __Requests__ for instalado basta importar o pacote para usar seus recursos."
   ]
  },
  {
   "cell_type": "code",
   "execution_count": null,
   "metadata": {},
   "outputs": [],
   "source": [
    "import requests"
   ]
  },
  {
   "cell_type": "markdown",
   "metadata": {},
   "source": [
    "### Usando GET\n",
    "\n",
    "Métodos __HTTP__, como ``GET`` e ``POST``, determinam qual ação você está tentando executar ao fazer uma solicitação __HTTP__. \n",
    "\n",
    "Além destas solicitações, existem vários outros métodos comuns que usaremos posteriormente.\n",
    "\n",
    "Um dos métodos __HTTP__ mais comuns é GET. O método GET indica que você está tentando obter ou recuperar dados de um determinado recurso. Para fazer uma solicitação ``GET``, se utiliza ``requests.get()``.\n",
    "\n",
    "Vamos testar fazendo uma solicitação ``GET`` para a __API Root REST__ do __GitHub__ chamando get()."
   ]
  },
  {
   "cell_type": "code",
   "execution_count": null,
   "metadata": {},
   "outputs": [],
   "source": [
    "requests.get('https://api.github.com')"
   ]
  },
  {
   "cell_type": "markdown",
   "metadata": {},
   "source": [
    "### A resposta\n",
    "\n",
    "Uma resposta é um objeto poderoso que permite inspecionar os resultados da solicitação. \n",
    "\n",
    "Podemos fazer a mesma solicitação novamente, mas desta vez armazenamos o valor de retorno em uma variável para que você possa ver com mais detalhes seus atributos e comportamentos."
   ]
  },
  {
   "cell_type": "code",
   "execution_count": null,
   "metadata": {},
   "outputs": [],
   "source": [
    "resposta = requests.get('https://api.github.com')"
   ]
  },
  {
   "cell_type": "code",
   "execution_count": null,
   "metadata": {},
   "outputs": [],
   "source": [
    "type(resposta)"
   ]
  },
  {
   "cell_type": "markdown",
   "metadata": {},
   "source": [
    "#### Códigos de status\n",
    "A primeira informação que você pode coletar do ``Response`` é o código de status. Um código de status informa sobre o status da solicitação.\n",
    "\n",
    "Por exemplo, um status 200 OK significa que sua solicitação foi bem-sucedida, enquanto um status 404 NOT FOUND significa que o recurso que você estava procurando não foi encontrado. \n",
    "\n",
    "Existem muitos outros códigos de status possíveis para fornecer informações específicas sobre o que aconteceu com sua solicitação.\n",
    "\n",
    "Acessando ``.status_code``, você pode ver o código de status que o servidor retornou."
   ]
  },
  {
   "cell_type": "code",
   "execution_count": null,
   "metadata": {},
   "outputs": [],
   "source": [
    "resposta.status_code"
   ]
  },
  {
   "cell_type": "markdown",
   "metadata": {},
   "source": [
    "O ``.status_code`` retornou 200, o que significa que sua solicitação foi bem-sucedida e o servidor respondeu com os dados que você estava solicitando.\n",
    "\n",
    "Às vezes, você pode querer usar essas informações para tomar decisões em seu código."
   ]
  },
  {
   "cell_type": "code",
   "execution_count": null,
   "metadata": {},
   "outputs": [],
   "source": [
    "if resposta.status_code == 200:\n",
    "    print('Solicitação atendida!')\n",
    "elif resposta.status_code == 404:\n",
    "    print('Não encontrado.')"
   ]
  },
  {
   "cell_type": "markdown",
   "metadata": {},
   "source": [
    "Entretanto, se você usar uma instância ``Response`` em uma expressão condicional, ela será avaliada como ``True`` se o código de status estiver entre 200 e 400 e como ``False`` caso contrário."
   ]
  },
  {
   "cell_type": "code",
   "execution_count": null,
   "metadata": {},
   "outputs": [],
   "source": [
    "if resposta:\n",
    "    print('Solicitação atendida!')\n",
    "else:\n",
    "    print('Não encontrado.')"
   ]
  },
  {
   "cell_type": "markdown",
   "metadata": {},
   "source": [
    "Lembre-se de que este método não verifica se o código de status é igual a 200. A razão para isso é que outros códigos de status na faixa de 200 a 400, como 204 NO CONTENT e 304 NOT MODIFIED, também são considerados bem-sucedidos no sentido que eles fornecem alguma resposta viável.\n",
    "\n",
    "Por exemplo, o 204 informa que a resposta foi bem-sucedida, mas não há conteúdo para retornar no corpo da mensagem.\n",
    "\n",
    "Por outro lado, se você não quer verificar o código de status da resposta em uma instrução if. Em vez disso, você deseja gerar uma exceção se a solicitação não tiver êxito. Você pode fazer isso usando método ``.raise_for_status()``:"
   ]
  },
  {
   "cell_type": "code",
   "execution_count": null,
   "metadata": {},
   "outputs": [],
   "source": [
    "from requests.exceptions import HTTPError\n",
    "\n",
    "for url in ['https://api.github.com', 'https://api.github.com/invalid']:\n",
    "    try:\n",
    "        resposta = requests.get(url)\n",
    "        resposta.raise_for_status()\n",
    "    except HTTPError as http_err:\n",
    "        print(f'Aconteceu um erro HTTP: {http_err}') \n",
    "    except Exception as err:\n",
    "        print(f'Aconteceu outro tipo de erro: {err}') \n",
    "    else:\n",
    "        print('Solicitação atendida!')"
   ]
  },
  {
   "cell_type": "markdown",
   "metadata": {},
   "source": [
    "Se você utiliza o método ``.raise_for_status()``, um ``HTTPError`` será gerado para determinados códigos de status. Se o código de status indicar uma solicitação bem-sucedida, o programa continuará sem que essa exceção seja gerada.\n",
    "\n",
    "Já temos um boa ideia de como lidar com o código de status da resposta recebida do servidor. Entretanto, a parte mais importante da resposta do servidor costuma ser o conteúdo da mesma."
   ]
  },
  {
   "cell_type": "markdown",
   "metadata": {},
   "source": [
    "#### Conteúdo\n",
    "\n",
    "A resposta de uma solicitação ``GET`` geralmente contém algumas informações valiosas, conhecidas como carga útil, no corpo da mensagem. Usando os atributos e métodos de ``Response``, você pode visualizar a carga em vários formatos diferentes."
   ]
  },
  {
   "cell_type": "code",
   "execution_count": null,
   "metadata": {},
   "outputs": [],
   "source": [
    "resposta = requests.get('https://api.github.com')\n",
    "resposta.content"
   ]
  },
  {
   "cell_type": "code",
   "execution_count": null,
   "metadata": {},
   "outputs": [],
   "source": [
    "type(resposta.content)"
   ]
  },
  {
   "cell_type": "markdown",
   "metadata": {},
   "source": [
    "Embora o atributo ``.content`` forneça acesso aos bytes brutos da carga útil da resposta, muitas vezes você desejará convertê-los em uma string usando uma codificação de caracteres como UTF-8. A classe ``Response`` fornece este tipo de informação no atributo  ``.text``."
   ]
  },
  {
   "cell_type": "code",
   "execution_count": null,
   "metadata": {},
   "outputs": [],
   "source": [
    "resposta.text"
   ]
  },
  {
   "cell_type": "code",
   "execution_count": null,
   "metadata": {},
   "outputs": [],
   "source": [
    "type(resposta.text)"
   ]
  },
  {
   "cell_type": "markdown",
   "metadata": {},
   "source": [
    "Como a decodificação de bytes para um ``str`` requer um esquema de codificação, as requests tentarão adivinhar a codificação com base nos cabeçalhos da resposta, se você não especificar um. Você pode fornecer uma codificação explícita definindo ``.encoding`` antes de acessar ``.text``."
   ]
  },
  {
   "cell_type": "code",
   "execution_count": null,
   "metadata": {},
   "outputs": [],
   "source": [
    "resposta.encoding  # o encoding definido no cabeçalho da resposta"
   ]
  },
  {
   "cell_type": "code",
   "execution_count": null,
   "metadata": {},
   "outputs": [],
   "source": [
    "# Neste outro exeplo\n",
    "url = \"https://portal.inmet.gov.br/uploads/dadoshistoricos/\"\n",
    "dataTem = requests.get(url)\n",
    "dataTem.encoding"
   ]
  },
  {
   "cell_type": "code",
   "execution_count": null,
   "metadata": {},
   "outputs": [],
   "source": [
    "dataTem.text"
   ]
  },
  {
   "cell_type": "code",
   "execution_count": null,
   "metadata": {},
   "outputs": [],
   "source": [
    "# Neste caso podemos mudar a codificação\n",
    "dataTem.encoding = 'UTF-8'"
   ]
  },
  {
   "cell_type": "code",
   "execution_count": null,
   "metadata": {},
   "outputs": [],
   "source": [
    "dataTem.text"
   ]
  },
  {
   "cell_type": "markdown",
   "metadata": {},
   "source": [
    "Se você reparar na resposta, verá que na verdade o conteúdo é um __JSON__ serializado. Para obter um dicionário, você pode pegar o ``str`` recuperado de ``.text`` e transforma-lo usando ``json.loads()``.\n",
    "\n",
    "Porém, uma maneira mais simples de realizar esta tarefa é usar método ``.json()``."
   ]
  },
  {
   "cell_type": "code",
   "execution_count": null,
   "metadata": {},
   "outputs": [],
   "source": [
    "import json\n",
    "meuJson = json.loads(resposta.text)\n",
    "meuJson"
   ]
  },
  {
   "cell_type": "code",
   "execution_count": null,
   "metadata": {},
   "outputs": [],
   "source": [
    "resposta.json()"
   ]
  },
  {
   "cell_type": "markdown",
   "metadata": {},
   "source": [
    "O tipo de valor de retorno de .json() é um dicionário, então você pode acessar valores no objeto por chave.\n",
    "\n",
    "Se você precisar de mais informações, como metadados sobre a resposta em si, você precisará examinar os cabeçalhos da resposta."
   ]
  },
  {
   "cell_type": "markdown",
   "metadata": {},
   "source": [
    "#### Cabeçalhos\n",
    "\n",
    "Os cabeçalhos de resposta podem fornecer informações úteis, como o tipo de conteúdo da carga útil da resposta e um limite de tempo para armazenar a resposta em cache. Para visualizar esses cabeçalhos, acesse ``.headers``."
   ]
  },
  {
   "cell_type": "code",
   "execution_count": null,
   "metadata": {},
   "outputs": [],
   "source": [
    "resposta.headers"
   ]
  },
  {
   "cell_type": "markdown",
   "metadata": {},
   "source": [
    "Repare que o ``.headers`` retorna um objeto semelhante a um dicionário, permitindo acessar valores de cabeçalho por chave. Por exemplo, para ver o tipo de conteúdo da carga útil da resposta, você pode acessar ``Content-Type``."
   ]
  },
  {
   "cell_type": "code",
   "execution_count": null,
   "metadata": {},
   "outputs": [],
   "source": [
    "resposta.headers['content-type']"
   ]
  },
  {
   "cell_type": "markdown",
   "metadata": {},
   "source": [
    "Diferente de um dicionário, se você usa a chave 'content-type' ou 'Content-Type', obterá o mesmo valor."
   ]
  },
  {
   "cell_type": "markdown",
   "metadata": {},
   "source": [
    "### Parâmetros de string de consulta\n",
    "\n",
    "Uma maneira comum de personalizar uma solicitação ``GET`` é passar valores por meio de parâmetros de _string_ de consulta na __URL__. Para fazer isso usando ``get()``, você passa dados para parâmetros. Por exemplo, você pode usar a __API__ de pesquisa do __GitHub__ para procurar o repositorio do curso."
   ]
  },
  {
   "cell_type": "code",
   "execution_count": null,
   "metadata": {},
   "outputs": [],
   "source": [
    "# Search GitHub's repositories for ResTIC18\n",
    "resposta = requests.get(\n",
    "    'https://api.github.com/search/repositories',\n",
    "    params={'q': 'ResTIC18'},\n",
    ")\n",
    "\n",
    "# Inspect some attributes of the `ResTIC18` repository\n",
    "json_response = resposta.json()\n",
    "repository = json_response['items'][0]\n",
    "print(f'Repository name: {repository[\"name\"]}')  # Python 3.6+\n",
    "print(f'Repository description: {repository[\"description\"]}')  "
   ]
  },
  {
   "cell_type": "markdown",
   "metadata": {},
   "source": [
    "Ao passar o dicionário {'q': 'ResTIC18'} para o parâmetro ``params`` do método ``.get()``, você pode modificar os resultados que retornam da __API__ de pesquisa.\n",
    "\n",
    "Você pode passar parâmetros para get() na forma de um dicionário, como acabou de fazer, ou como uma lista de tuplas."
   ]
  },
  {
   "cell_type": "code",
   "execution_count": null,
   "metadata": {},
   "outputs": [],
   "source": [
    "requests.get('https://api.github.com/search/repositories',params=[('q', 'ResTIC18')])"
   ]
  },
  {
   "cell_type": "markdown",
   "metadata": {},
   "source": [
    "Ou ainda, pode até passar os valores como bytes."
   ]
  },
  {
   "cell_type": "code",
   "execution_count": null,
   "metadata": {},
   "outputs": [],
   "source": [
    "requests.get('https://api.github.com/search/repositories', params=b'q=ResTIC18')"
   ]
  },
  {
   "cell_type": "markdown",
   "metadata": {},
   "source": [
    "Strings de consulta são úteis para parametrizar requests ``GET``. Você também pode personalizar suas solicitações adicionando ou modificando os cabeçalhos enviados."
   ]
  },
  {
   "cell_type": "markdown",
   "metadata": {},
   "source": [
    "#### Cabeçalhos do request\n",
    "\n",
    "Para personalizar cabeçalhos, você passa um dicionário de cabeçalhos __HTTP__ para ``get()`` usando o parâmetro headers. Por exemplo, você pode alterar sua solicitação de pesquisa anterior para destacar termos de pesquisa correspondentes nos resultados, especificando o tipo de mídia de correspondência de texto no cabeçalho ``Accept``."
   ]
  },
  {
   "cell_type": "code",
   "execution_count": null,
   "metadata": {},
   "outputs": [],
   "source": [
    "resposta = requests.get('https://api.github.com/search/repositories',\n",
    "                        params={'q': 'ResTIC18'},\n",
    "                        headers={'Accept': 'application/vnd.github.v3.text-match+json'},\n",
    ")\n",
    "\n",
    "json_response = resposta.json()\n",
    "repository = json_response['items'][0]\n",
    "print(f'Text matches: {repository[\"text_matches\"]}')"
   ]
  },
  {
   "cell_type": "markdown",
   "metadata": {},
   "source": [
    "O cabeçalho ``Accept`` informa ao servidor quais tipos de conteúdo seu aplicativo pode manipular. Nesse caso, como você espera que os termos de pesquisa correspondentes sejam destacados, você está usando o valor do cabeçalho ``application/vnd.github.v3.text-match+json``, que é um cabeçalho proprietário do __GitHub__ Accept onde o conteúdo é um formato __JSON__ especial."
   ]
  },
  {
   "cell_type": "markdown",
   "metadata": {},
   "source": [
    "### Outros métodos HTTP\n",
    "Além de ``GET``, outros métodos __HTTP__ populares incluem ``POST``, ``PUT``, ``DELETE``, ``HEAD``, ``PATCH`` e ``OPTIONS``. A __Requests__ fornece um método, com uma assinatura semelhante a ``get()``, para cada um destes métodos __HTTP__."
   ]
  },
  {
   "cell_type": "code",
   "execution_count": null,
   "metadata": {},
   "outputs": [],
   "source": [
    "requests.post('https://httpbin.org/post', data={'key':'value'})\n",
    "requests.put('https://httpbin.org/put', data={'key':'value'})\n",
    "requests.delete('https://httpbin.org/delete')\n",
    "requests.head('https://httpbin.org/get')\n",
    "requests.patch('https://httpbin.org/patch', data={'key':'value'})\n",
    "requests.options('https://httpbin.org/get')"
   ]
  },
  {
   "cell_type": "markdown",
   "metadata": {},
   "source": [
    "Cada chamada de função faz uma solicitação ao serviço [httpbin](https://httpbin.org/) usando o método __HTTP__ correspondente. Para cada método, você pode inspecionar as respostas da mesma forma que fez antes."
   ]
  },
  {
   "cell_type": "code",
   "execution_count": null,
   "metadata": {},
   "outputs": [],
   "source": [
    "resposta = requests.post('https://httpbin.org/post', data={'key':'value'})\n",
    "resposta.json()"
   ]
  },
  {
   "cell_type": "markdown",
   "metadata": {},
   "source": [
    "Cabeçalhos, corpos de resposta, códigos de status e muito mais são retornados na Resposta para cada método. Vamos entender melhor como funcionam os métodos ``POST``, ``PUT`` e ``PATCH``."
   ]
  },
  {
   "cell_type": "markdown",
   "metadata": {},
   "source": [
    "### O corpo da mensagem\n",
    "\n",
    "De acordo com a especificação __HTTP__, as solicitações ``POST``, ``PUT`` e ``PATCH`` menos comuns passam seus dados por meio do corpo da mensagem em vez de por meio de parâmetros na string de consulta. Usando __Requests__, você passará a carga para o parâmetro ``data`` da função correspondente.\n",
    "\n",
    "O parâmetro ``data`` leva um dicionário, uma lista de tuplas, bytes ou um objeto semelhante a um arquivo. Você desejará adaptar os dados enviados no corpo da sua solicitação às necessidades específicas do serviço com o qual está interagindo.\n",
    "\n",
    "Por exemplo, se o tipo de conteúdo da sua solicitação for ``application/x-www-form-urlencoded``, você poderá enviar os dados do formulário como um dicionário."
   ]
  },
  {
   "cell_type": "code",
   "execution_count": null,
   "metadata": {},
   "outputs": [],
   "source": [
    "requests.post('https://httpbin.org/post', data={'key':'value'})"
   ]
  },
  {
   "cell_type": "markdown",
   "metadata": {},
   "source": [
    "Você também pode enviar os mesmos dados como uma lista de tuplas."
   ]
  },
  {
   "cell_type": "code",
   "execution_count": null,
   "metadata": {},
   "outputs": [],
   "source": [
    "requests.post('https://httpbin.org/post', data=[('key', 'value')])"
   ]
  },
  {
   "cell_type": "markdown",
   "metadata": {},
   "source": [
    "Se, no entanto, você precisar enviar dados __JSON__, poderá usar o parâmetro ``json``. Quando você passa dados via ``json``, as solicitações serializarão seus dados e adicionarão o cabeçalho ``Content-Type`` correto para você.\n",
    "\n",
    "O site httpbin.org é um ótimo recurso criado pelo autor de __Requests__, Kenneth Reitz. É um serviço que aceita solicitações de teste e responde com dados sobre as solicitações. Por exemplo, você pode usá-lo para inspecionar uma solicitação POST básica."
   ]
  },
  {
   "cell_type": "code",
   "execution_count": null,
   "metadata": {},
   "outputs": [],
   "source": [
    "resposta = requests.post('https://httpbin.org/post', json={'key':'value'})\n",
    "json_response = resposta.json()\n",
    "json_response['data']"
   ]
  },
  {
   "cell_type": "code",
   "execution_count": null,
   "metadata": {},
   "outputs": [],
   "source": [
    "json_response['headers']['Content-Type']"
   ]
  },
  {
   "cell_type": "markdown",
   "metadata": {},
   "source": [
    "### Inspecionando seu request\n",
    "\n",
    "Quando você faz uma solicitação, a biblioteca de __Requests__ prepara a solicitação antes de enviá-la ao servidor de destino. A preparação da solicitação inclui itens como validação de cabeçalhos e serialização de conteúdo __JSON__.\n",
    "\n",
    "Você pode visualizar o ``PreparedRequest`` acessando ``.request``."
   ]
  },
  {
   "cell_type": "code",
   "execution_count": null,
   "metadata": {},
   "outputs": [],
   "source": [
    "response = requests.post('https://httpbin.org/post', json={'key':'value'})\n",
    "response.request.headers['Content-Type']"
   ]
  },
  {
   "cell_type": "code",
   "execution_count": null,
   "metadata": {},
   "outputs": [],
   "source": [
    "response.request.url"
   ]
  },
  {
   "cell_type": "code",
   "execution_count": null,
   "metadata": {},
   "outputs": [],
   "source": [
    "response.request.body"
   ]
  },
  {
   "cell_type": "markdown",
   "metadata": {},
   "source": [
    "A inspeção do ``PreparedRequest`` dá acesso a todos os tipos de informações sobre a solicitação que está sendo feita, como carga útil, URL, cabeçalhos, autenticação e muito mais.\n",
    "\n",
    "Muitos serviços que você encontra no dia a dia, exigirão que você se autentique de alguma forma."
   ]
  },
  {
   "cell_type": "markdown",
   "metadata": {},
   "source": [
    "### Autenticação\n",
    "\n",
    "A autenticação ajuda um serviço a entender quem você é. Normalmente, você fornece suas credenciais a um servidor passando dados por meio do cabeçalho ``Authorization`` ou de um cabeçalho personalizado definido pelo serviço. Todas as funções de solicitação que você viu até agora fornecem um parâmetro chamado ``auth``, que permite passar suas credenciais.\n",
    "\n",
    "Um exemplo de __API__ que requer autenticação é a __API__ de usuário autenticado do GitHub. Este endpoint fornece informações sobre o perfil do usuário autenticado. Para fazer uma solicitação à API de usuário autenticado, você pode passar seu nome de usuário e senha do GitHub em uma tupla para ``get()``."
   ]
  },
  {
   "cell_type": "code",
   "execution_count": null,
   "metadata": {},
   "outputs": [],
   "source": [
    "from getpass import getpass\n",
    "requests.get('https://api.github.com/user', auth=('etvorellana', getpass()))\n"
   ]
  },
  {
   "cell_type": "markdown",
   "metadata": {},
   "source": [
    "A solicitação será bem-sucedida se as credenciais que você passou na tupla para autenticação forem válidas. Se você tentar fazer esta solicitação sem credenciais, verá que o código de status é 401 Não autorizado.\n",
    "\n",
    "Quando você passa seu nome de usuário e senha em uma tupla para o parâmetro auth, as solicitações aplicam as credenciais usando o esquema de autenticação de acesso básico do HTTP nos bastidores.\n",
    "\n",
    "Portanto, você poderia fazer a mesma solicitação passando credenciais de autenticação Básica explícitas usando ``HTTPBasicAut``."
   ]
  },
  {
   "cell_type": "code",
   "execution_count": null,
   "metadata": {},
   "outputs": [],
   "source": [
    "from requests.auth import HTTPBasicAuth\n",
    "from getpass import getpass\n",
    "requests.get('https://api.github.com/user', auth=HTTPBasicAuth('username', getpass()))"
   ]
  },
  {
   "cell_type": "markdown",
   "metadata": {},
   "source": [
    "Embora não seja necessário ser explícito para a autenticação Básica, você pode querer autenticar usando outro método. A __Requests__ fornece outros métodos de autenticação prontos para uso, como ``HTTPDigestAuth`` e ``HTTPProxyAuth``.\n",
    "\n",
    "Você pode até fornecer seu próprio mecanismo de autenticação. Para fazer isso, primeiro você deve criar uma subclasse de ``AuthBase``. Então, você implementa ``__call__()`` dessa classe."
   ]
  },
  {
   "cell_type": "code",
   "execution_count": null,
   "metadata": {},
   "outputs": [],
   "source": [
    "from requests.auth import AuthBase\n",
    "\n",
    "class TokenAuth(AuthBase):\n",
    "    \"\"\"Implements a custom authentication scheme.\"\"\"\n",
    "\n",
    "    def __init__(self, token):\n",
    "        self.token = token\n",
    "\n",
    "    def __call__(self, r):\n",
    "        \"\"\"Attach an API token to a custom auth header.\"\"\"\n",
    "        r.headers['X-TokenAuth'] = f'{self.token}' \n",
    "        return r\n",
    "\n",
    "\n",
    "requests.get('https://httpbin.org/get', auth=TokenAuth('12345abcde-token'))"
   ]
  },
  {
   "cell_type": "markdown",
   "metadata": {},
   "source": [
    "Aqui, seu mecanismo ``TokenAuth`` personalizado recebe um token e, em seguida, inclui esse token no cabeçalho ``X-TokenAuth`` da sua solicitação.\n",
    "\n",
    "Mecanismos de autenticação incorretos podem levar a vulnerabilidades de segurança; portanto, a menos que um serviço exija um mecanismo de autenticação personalizado por algum motivo, você sempre desejará usar um esquema de autenticação testado e comprovado, como ``Basic``."
   ]
  }
 ],
 "metadata": {
  "kernelspec": {
   "display_name": "Python 3 (ipykernel)",
   "language": "python",
   "name": "python3"
  },
  "language_info": {
   "codemirror_mode": {
    "name": "ipython",
    "version": 3
   },
   "file_extension": ".py",
   "mimetype": "text/x-python",
   "name": "python",
   "nbconvert_exporter": "python",
   "pygments_lexer": "ipython3",
   "version": "3.10.13"
  }
 },
 "nbformat": 4,
 "nbformat_minor": 2
}
