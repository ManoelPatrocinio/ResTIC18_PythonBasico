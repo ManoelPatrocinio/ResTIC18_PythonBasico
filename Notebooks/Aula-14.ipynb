{
 "cells": [
  {
   "cell_type": "markdown",
   "metadata": {},
   "source": [
    "# Módulo de Programação Python\n",
    "\n",
    "# Trilha Python - Aula 14: Utilizando Pandas - Introdução\n",
    "\n",
    "<img align=\"center\" style=\"padding-right:10px;\" src=\"Figuras/aula-14_fig_01.png\">"
   ]
  },
  {
   "cell_type": "markdown",
   "metadata": {},
   "source": [
    "__Objetivo__:   Trabalhar com pacotes e módulos disponíveis em __Python__: __Pandas__: Discutir a importância de obter, carregar e organizar grandes volumes de dados. Apresentar Pandas e suas funcionalidades e características básicas. "
   ]
  },
  {
   "cell_type": "markdown",
   "metadata": {},
   "source": [
    "## Contextualização\n",
    "\n",
    "Até aqui discutimos sobre a importância de trabalhar com estruturas de dados eficientes para armazenar grandes volumes de dados. Nas aulas anteriores foram apresentados os arrays de tipo fixo implementados na forma de _ndarrays_ da __NumPy__. \n",
    "\n",
    "Ainda que muito eficientes para armazenar e processar dados numéricos, os _ndarrays_ apresentam limitações para análise da dados não numéricos. \n",
    "\n",
    "Imaginem, no exemplo  que construímos na aula anterior, que queremos adicionar uma etiqueta ou rótulo a cada aluno com o nome ou o e-mail. \n",
    "\n",
    "O Pandas, e em particular seus objetos ``Series`` e ``DataFrame``, baseia-se no uso de _ndarrays_ de __NumPy__ e fornece acesso eficiente a esses tipos de tarefas de \"gestão de dados\" que ocupam muito do tempo de um cientista de dados.\n",
    "\n",
    "Vamos abordar então em como utilizar  ``Series``, ``DataFrame`` e estruturas relacionadas de forma eficaz."
   ]
  },
  {
   "cell_type": "markdown",
   "metadata": {},
   "source": [
    "No ambiente virtual que utilizamos até qui temos os pacotes e módulos para rodar o _jupyter notebook_ e __NumPY__. Vamos começar então por instalar __Pandas__"
   ]
  },
  {
   "cell_type": "code",
   "execution_count": null,
   "metadata": {},
   "outputs": [],
   "source": [
    "#pip list\n",
    "#pip freeze > requirements.txt\n",
    "#cat requirements.txt\n",
    "#pip install pandas"
   ]
  },
  {
   "cell_type": "code",
   "execution_count": 1,
   "metadata": {},
   "outputs": [
    {
     "name": "stdout",
     "output_type": "stream",
     "text": [
      "Intel MKL WARNING: Support of Intel(R) Streaming SIMD Extensions 4.2 (Intel(R) SSE4.2) enabled only processors has been deprecated. Intel oneAPI Math Kernel Library 2025.0 will require Intel(R) Advanced Vector Extensions (Intel(R) AVX) instructions.\n",
      "Intel MKL WARNING: Support of Intel(R) Streaming SIMD Extensions 4.2 (Intel(R) SSE4.2) enabled only processors has been deprecated. Intel oneAPI Math Kernel Library 2025.0 will require Intel(R) Advanced Vector Extensions (Intel(R) AVX) instructions.\n",
      "Numpy version:  1.26.2\n",
      "Pandas version:  2.1.4\n"
     ]
    }
   ],
   "source": [
    "import numpy as np\n",
    "import pandas as pd\n",
    "print(\"Numpy version: \", np.__version__)\n",
    "print(\"Pandas version: \", pd.__version__)"
   ]
  },
  {
   "cell_type": "markdown",
   "metadata": {},
   "source": [
    "Os objetos Pandas podem ser considerados versões aprimoradas de matrizes _ndarrays_ de __NumPy__ nas quais as linhas e colunas são identificadas com rótulos em vez de simples índices inteiros. \n",
    "\n",
    "Da mesma forma que __NumPy__, ___Pandas__ fornece, além das estruturas de dados, uma série de ferramentas, métodos e funcionalidades úteis .\n",
    "\n",
    "Vamos começar aprestando as estruturas básicas de __Pandas__."
   ]
  },
  {
   "cell_type": "code",
   "execution_count": null,
   "metadata": {},
   "outputs": [],
   "source": [
    "from random import uniform\n",
    "lista = [uniform(4, 10) for _ in range(5)]\n",
    "for val in lista:\n",
    "    print(f\"{val:.2f}\", end=\" \")"
   ]
  },
  {
   "cell_type": "markdown",
   "metadata": {},
   "source": [
    "### __Pandas__ ``Series``\n",
    "\n",
    "Uma ``Series`` __Pandas__ é uma matriz unidimensional de dados indexados. \n",
    "\n",
    "De forma simples um objeto da classe ``Series`` pode ser criado a partir de uma lista ou de um _ndarray_."
   ]
  },
  {
   "cell_type": "code",
   "execution_count": null,
   "metadata": {},
   "outputs": [],
   "source": [
    "dSerie = pd.Series(lista)\n",
    "dSerie"
   ]
  },
  {
   "cell_type": "code",
   "execution_count": null,
   "metadata": {},
   "outputs": [],
   "source": [
    "npArray = np.array(lista)\n",
    "dSerie = pd.Series(npArray)\n",
    "dSerie"
   ]
  },
  {
   "cell_type": "markdown",
   "metadata": {},
   "source": [
    "Reparem que um objeto ``Series`` consiste em uma sequência de valores e sua correspondente sequência de índices, que podemos acessar com os atributos  ``values`` e ``index``."
   ]
  },
  {
   "cell_type": "code",
   "execution_count": null,
   "metadata": {},
   "outputs": [],
   "source": [
    "print(dSerie.values)\n",
    "print(type(dSerie.values))"
   ]
  },
  {
   "cell_type": "markdown",
   "metadata": {},
   "source": [
    "Já o tributo ``index`` é um objeto semelhante a um _ndarray_, de tipo ``pd.Index``."
   ]
  },
  {
   "cell_type": "code",
   "execution_count": null,
   "metadata": {},
   "outputs": [],
   "source": [
    "print(dSerie.index)\n",
    "print(type(dSerie.index))"
   ]
  },
  {
   "cell_type": "markdown",
   "metadata": {},
   "source": [
    "Os elementos de ``dSerie`` podem ser acessado via indexação."
   ]
  },
  {
   "cell_type": "code",
   "execution_count": null,
   "metadata": {},
   "outputs": [],
   "source": [
    "dSerie[0]"
   ]
  },
  {
   "cell_type": "code",
   "execution_count": null,
   "metadata": {},
   "outputs": [],
   "source": [
    "dSerie[1:3]"
   ]
  },
  {
   "cell_type": "markdown",
   "metadata": {},
   "source": [
    "Pode parecer que um objeto da classe ``Sreies`` é semelhante a um _ndarrays_, podendo usar um o outro. Mas ..."
   ]
  },
  {
   "cell_type": "code",
   "execution_count": null,
   "metadata": {},
   "outputs": [],
   "source": [
    "print(dSerie.values[-1])\n",
    "try:\n",
    "    print(dSerie[-1])\n",
    "except Exception as e:\n",
    "    print(e)"
   ]
  },
  {
   "cell_type": "markdown",
   "metadata": {},
   "source": [
    "Entretanto, enquanto o _ndarray_ de __NumPy__ possui um índice inteiro, definido implicitamente, usado para acessar os valores, os objetos ``Series`` de __Pandas__ possuem um índice definido explicitamente, associado ao conjunto de valores.\n",
    "\n",
    "Essa definição explícita de índice fornece recursos adicionais como, por exemplo, o fato de que o índice não precisa ser um número inteiro, mas pode consistir em valores de qualquer tipo desejado. \n",
    "\n",
    "Por exemplo, se desejarmos, podemos usar strings como índice:"
   ]
  },
  {
   "cell_type": "code",
   "execution_count": null,
   "metadata": {},
   "outputs": [],
   "source": [
    "dSerie = pd.Series(lista, index=['alpha', 'beta', 'gamma', 'delta', 'epsilon'])\n",
    "dSerie"
   ]
  },
  {
   "cell_type": "code",
   "execution_count": null,
   "metadata": {},
   "outputs": [],
   "source": [
    "print(dSerie.values[-1])\n",
    "print(dSerie['epsilon'])"
   ]
  },
  {
   "cell_type": "markdown",
   "metadata": {},
   "source": [
    "Podemos inclusive usar índices inteiros não contíguos ou não sequenciais."
   ]
  },
  {
   "cell_type": "code",
   "execution_count": null,
   "metadata": {},
   "outputs": [],
   "source": [
    "dSerie = pd.Series(lista, index=[99, 87, 65, 43, 21])\n",
    "dSerie"
   ]
  },
  {
   "cell_type": "code",
   "execution_count": null,
   "metadata": {},
   "outputs": [],
   "source": [
    "print(dSerie.values[-1])\n",
    "print(dSerie[21])"
   ]
  },
  {
   "cell_type": "code",
   "execution_count": null,
   "metadata": {},
   "outputs": [],
   "source": [
    "dSerie = pd.Series(lista, index=[0.1, 0.01, 0.001, 0.0001, 0.00001])\n",
    "dSerie"
   ]
  },
  {
   "cell_type": "markdown",
   "metadata": {},
   "source": [
    "Podemos então pensar as ``Sreies`` __Pandas__ como uma forma particular e específica de dicionário __Python__. \n",
    "\n",
    "* Um dicionário __Python__ é uma estrutura que mapeia chaves arbitrárias para um conjunto de valores arbitrários\n",
    "* Um objeto ``Series`` é uma estrutura que mapeia chaves de tipo fixo para um conjunto de valores de tipo fixo. \n",
    "\n",
    "O fato de tratar de chaves e valores tipados é importante: assim como o código compilado, específico de cada tipo, por trás de um _ndarray_ __NumPy__, o torna mais eficiente do que uma lista __Python__ para determinadas operações, as informações de tipo de um ``Series`` __Pandas__ o tornam muito mais eficiente do que os dicionários __Python__ para determinadas operações.\n",
    "\n",
    "A analogia da série como dicionário pode ficar ainda mais evidente quando constatamos que podemos construir um objeto ``Series`` diretamente de um dicionário __Python__:"
   ]
  },
  {
   "cell_type": "code",
   "execution_count": null,
   "metadata": {},
   "outputs": [],
   "source": [
    "popPorEstadoDic = { 'São Paulo': 44411238, 'Minas Gerais':20538718, 'Rio de Janeiro':16054524,\t\n",
    "                'Bahia':14141626, 'Paraná':11444380, 'Rio Grande do Sul':10882965, \n",
    "                'Pernambuco':9058931, 'Ceará':8794957}\n",
    "popPorEstadoSer = pd.Series(popPorEstadoDic)\n",
    "popPorEstadoSer"
   ]
  },
  {
   "cell_type": "markdown",
   "metadata": {},
   "source": [
    "Nesta construção é criada um objeto ``Series`` onde o índice é extraído das chaves do dicionário.\n",
    "\n",
    "Uma vez criado o acesso aos elementos repete a sintaxes típica dos dicionário __Python__."
   ]
  },
  {
   "cell_type": "code",
   "execution_count": null,
   "metadata": {},
   "outputs": [],
   "source": [
    "print(\"A população da Bahia, segundo o IBGE, é de\", popPorEstadoSer['Bahia'], \"habitantes\")"
   ]
  },
  {
   "cell_type": "markdown",
   "metadata": {},
   "source": [
    "Por outro lado, diferente de um dicionário, ``Series`` também suportam operações no estilo array, como _slicing_."
   ]
  },
  {
   "cell_type": "code",
   "execution_count": null,
   "metadata": {},
   "outputs": [],
   "source": [
    "print(popPorEstadoSer['Bahia':'Pernambuco'])"
   ]
  },
  {
   "cell_type": "markdown",
   "metadata": {},
   "source": [
    "Vamos explorar então as formas de ciar ``Series``. Já vimos que podemos passar um conjunto de dados, na forma de uma lista ou de um _ndarray_. Neste caso os índices são criados como de forma sequencial como inteiros que correspondem aos índices do _ndarray_. "
   ]
  },
  {
   "cell_type": "code",
   "execution_count": null,
   "metadata": {},
   "outputs": [],
   "source": [
    "títulos = [12, 8, 8, 7, 6, 4, 4, 4, 3, 3, 2, 2, 2, 1, 1, 1, 1]\n",
    "brasileirão = pd.Series(títulos)\n",
    "brasileirão"
   ]
  },
  {
   "cell_type": "markdown",
   "metadata": {},
   "source": [
    "Mas podemos acrescentar os índices na forma de uma lista."
   ]
  },
  {
   "cell_type": "code",
   "execution_count": null,
   "metadata": {},
   "outputs": [],
   "source": [
    "campBrasileiros = ['Palmeiras', 'Santos', 'Flamengo', 'Corinthians', 'São Paulo', \n",
    "                   'Cruzeiro', 'Fluminense', 'Vasco', 'Internacional', 'Atlético-MG',\n",
    "                    'Bahia', 'Botafogo', 'Grêmio', 'Athletico-PR', 'Coritiba', 'Guarani', 'Sport']\n",
    "brasileirão = pd.Series(títulos, index=campBrasileiros)\n",
    "print(brasileirão)"
   ]
  },
  {
   "cell_type": "markdown",
   "metadata": {},
   "source": [
    "Quando a lista de índices é fornecida o valor pode ser apenas um escalar. Neste caso o valor é repetido para cada índice."
   ]
  },
  {
   "cell_type": "code",
   "execution_count": null,
   "metadata": {},
   "outputs": [],
   "source": [
    "brasileirão = pd.Series(1, index=campBrasileiros)\n",
    "brasileirão"
   ]
  },
  {
   "cell_type": "markdown",
   "metadata": {},
   "source": [
    "Como já vimos, os dados podem ser fornecidos na forma de um dicionário __Python__."
   ]
  },
  {
   "cell_type": "code",
   "execution_count": null,
   "metadata": {},
   "outputs": [],
   "source": [
    "dicBrasileirao = {2:'Santos', 4:'Corinthians', 3:'Flamengo',  1:'Palmeiras'}\n",
    "brasileirão = pd.Series(dicBrasileirao)\n",
    "print(brasileirão)\n",
    "print(type(brasileirão.values))"
   ]
  },
  {
   "cell_type": "markdown",
   "metadata": {},
   "source": [
    "Mesmo quando fornecido um dicionário podemos escolher apenas um subconjunto dos elementos especificando uma lista de iíndices. "
   ]
  },
  {
   "cell_type": "code",
   "execution_count": null,
   "metadata": {},
   "outputs": [],
   "source": [
    "brasileirão = pd.Series(dicBrasileirao, index=[2,3,4])\n",
    "print(brasileirão)\n"
   ]
  },
  {
   "cell_type": "code",
   "execution_count": null,
   "metadata": {},
   "outputs": [],
   "source": [
    "lCampBrasileiros = [('Palmeiras', 12, [1960, 1967, 1967, 1969, 1972, 1973, 1993, 1994, 2016, 2018, 2022, 2023]),\n",
    " ('Santos', 8, [1961, 1962, 1963, 1964, 1965, 1968, 2002, 2004]),\n",
    " ('Flamengo',\t8, [1980, 1982, 1983, 1987, 1992, 2009, 2019, 2020]),\n",
    " ('Corinthians', 7, [1990, 1998, 1999, 2005, 2011, 2015, 2017]),\n",
    " ('São Paulo', 6,\t[1977, 1986, 1991, 2006, 2007, 2008]),\n",
    " ('Cruzeiro',\t4, [1993, 1996, 2000, 2003, 2017, 2018]),\n",
    " ('Fluminense', 4, [1970, 1984, 2010, 2012]),\n",
    " ('Vasco', 4, [1974, 1989, 1997, 2000]),\n",
    " ('Internacional', 3,\t[1975, 1976, 1979]),\n",
    " ('Atlético-MG', 3,\t[1937, 1971, 2021]),\n",
    " ('Bahia', 2, [1959, 1988]),\n",
    " ('Botafogo', 2, [1968, 1995]),\n",
    " ('Grêmio',\t2, [1981, 1996]),\n",
    " ('Athletico-PR', 1, [2001]),\n",
    " ('Coritiba', 1, [1985]),\n",
    " ('Guarani', 1,\t[1978]),\n",
    " ('Sport', 1, [1987])]"
   ]
  },
  {
   "cell_type": "markdown",
   "metadata": {},
   "source": [
    "### __Pandas__ ``DataFrame``\n",
    "\n",
    "Da mesma forma que os objetos ``Series``, o ``DataFrame`` pode ser pensado como uma generalização de um _ndarray_ __NumPy__ ou como uma especialização de um dicionário __Python__.\n",
    "\n",
    "Se um objeto ``Series`` é análogo a uma matriz unidimensional com índices flexíveis, ``um DataFrame`` pode ser visto como uma estrutura análoga a uma matriz bidimensional com índices de linha e nomes de colunas flexíveis. Você pode pensar em um ``DataFrame`` como uma sequência de objetos ``Series`` alinhados. Aqui, por “alinhado” queremos dizer que eles compartilham o mesmo índice."
   ]
  },
  {
   "cell_type": "code",
   "execution_count": null,
   "metadata": {},
   "outputs": [],
   "source": [
    "torcidas= {'Flamengo':46953599, 'Corinthians':30444799, 'Palmeiras':20225600, 'Santos':6646400}\n",
    "torcidaSer = pd.Series(torcidas)\n",
    "torcidaSer "
   ]
  },
  {
   "cell_type": "code",
   "execution_count": null,
   "metadata": {},
   "outputs": [],
   "source": [
    "dicBrasileirao = {'Santos':8, 'Corinthians':7, 'Flamengo':8,  'Palmeiras':12}\n",
    "brasileirão = pd.Series(dicBrasileirao)\n",
    "brasileirão"
   ]
  },
  {
   "cell_type": "code",
   "execution_count": null,
   "metadata": {},
   "outputs": [],
   "source": [
    "times = pd.DataFrame({'Títulos':brasileirão, 'Torcida':torcidaSer})\n",
    "times"
   ]
  },
  {
   "cell_type": "markdown",
   "metadata": {},
   "source": [
    "Assim como o objeto ``Series``, o ``DataFrame`` possui um atributo de índice que dá acesso aos rótulos das linhas."
   ]
  },
  {
   "cell_type": "code",
   "execution_count": null,
   "metadata": {},
   "outputs": [],
   "source": [
    "times.index"
   ]
  },
  {
   "cell_type": "markdown",
   "metadata": {},
   "source": [
    "Além disso, o ``DataFrame`` possui um atributo ``columns``, que é um objeto Index que contém os rótulos das colunas."
   ]
  },
  {
   "cell_type": "code",
   "execution_count": null,
   "metadata": {},
   "outputs": [],
   "source": [
    "times.columns"
   ]
  },
  {
   "cell_type": "markdown",
   "metadata": {},
   "source": [
    "Desta forma, o ``DataFrame`` pode ser pensado como uma generalização de um _ndarray_ __NumPy__ bidimensional, onde tanto as linhas quanto as colunas possuem um índice generalizado para acessar os dados."
   ]
  },
  {
   "cell_type": "markdown",
   "metadata": {},
   "source": [
    "O primeiro exemplo mostrou como criar um ``DataFrame`` a partir de duas ``Series``. Também podemos construir um ``DataFrame`` a partir de uma lista de dicionários.\n",
    "\n"
   ]
  },
  {
   "cell_type": "code",
   "execution_count": null,
   "metadata": {},
   "outputs": [],
   "source": [
    "dicBrasileirao = {'Santos':8, 'Corinthians':7, 'Flamengo':8,  'Palmeiras':12}\n",
    "torcidas= {'Flamengo':46953599, 'Corinthians':30444799, 'Palmeiras':20225600, 'Santos':6646400}\n",
    "\n",
    "times = pd.DataFrame([torcidas, dicBrasileirao], index=['Torcida', 'Títulos'])\n",
    "times"
   ]
  },
  {
   "cell_type": "markdown",
   "metadata": {},
   "source": [
    "No caso de faltarem algumas chaves nos dicionários, o __Pandas__ irá preenchê-las com valores __NaN__."
   ]
  },
  {
   "cell_type": "code",
   "execution_count": null,
   "metadata": {},
   "outputs": [],
   "source": [
    "campBrasileiros = ['Palmeiras', 'Santos', 'Flamengo', 'Corinthians', 'São Paulo', \n",
    "                   'Cruzeiro', 'Fluminense', 'Vasco da Gama', 'Internacional', 'Atlético-MG',\n",
    "                    'Bahia', 'Botafogo', 'Grêmio', 'Athletico-PR', 'Coritiba', 'Guarani', 'Sport']\n",
    "títulos = [12, 8, 8, 7, 6, 4, 4, 4, 3, 3, 2, 2, 2, 1, 1, 1, 1]\n",
    "\n",
    "for time, titulo in zip(campBrasileiros, títulos):\n",
    "    dicBrasileirao[time] = titulo\n",
    "\n",
    "times = ['Flamengo', 'Corinthians', 'São Paulo', 'Palmeiras', 'Vasco da Gama', 'Cruzeiro', \n",
    "         'Grêmio', 'Atlético-MG', 'Bahia', 'Internacional', 'Fluminense', 'Santos', 'Botafogo', 'Sport']\n",
    "\n",
    "torcida = [46953599, 30444799, 22225800, 20225600, 13292800, 13078400, 9862400, 9219199, \n",
    "           7718400, 7504000, 7289600, 6646400, 4288000, 4073600]\n",
    "\n",
    "for time, torc in zip(times, torcida):\n",
    "    torcidas[time] = torc\n",
    "\n",
    "times = pd.DataFrame([torcidas, dicBrasileirao], index=['Torcida', 'Títulos'])\n",
    "times"
   ]
  },
  {
   "cell_type": "markdown",
   "metadata": {},
   "source": [
    "Podemos utilizar também dicionários de ``Series``."
   ]
  },
  {
   "cell_type": "code",
   "execution_count": null,
   "metadata": {},
   "outputs": [],
   "source": [
    "campBrasileiros = ['Palmeiras', 'Santos', 'Flamengo', 'Corinthians', 'São Paulo', \n",
    "                   'Cruzeiro', 'Fluminense', 'Vasco da Gama', 'Internacional', 'Atlético-MG',\n",
    "                    'Bahia', 'Botafogo', 'Grêmio', 'Athletico-PR', 'Coritiba', 'Guarani', 'Sport']\n",
    "títulos = [12, 8, 8, 7, 6, 4, 4, 4, 3, 3, 2, 2, 2, 1, 1, 1, 1]\n",
    "\n",
    "for time, titulo in zip(campBrasileiros, títulos):\n",
    "    dicBrasileirao[time] = titulo\n",
    "\n",
    "timTitulos = pd.Series(dicBrasileirao)\n",
    "\n",
    "times = ['Flamengo', 'Corinthians', 'São Paulo', 'Palmeiras', 'Vasco da Gama', 'Cruzeiro', \n",
    "         'Grêmio', 'Atlético-MG', 'Bahia', 'Internacional', 'Fluminense', 'Santos', 'Botafogo', 'Sport']\n",
    "\n",
    "torcida = [46953599, 30444799, 22225800, 20225600, 13292800, 13078400, 9862400, 9219199, \n",
    "           7718400, 7504000, 7289600, 6646400, 4288000, 4073600]\n",
    "\n",
    "for time, torc in zip(times, torcida):\n",
    "    torcidas[time] = torc\n",
    "\n",
    "timTorcida = pd.Series(torcidas)\n",
    "\n",
    "times = pd.DataFrame({'Títulos':timTitulos, 'Torcida':timTorcida})\n",
    "times"
   ]
  },
  {
   "cell_type": "markdown",
   "metadata": {},
   "source": [
    "E, pensando num ``DataFrame`` como um generalização de um _ndarray_ __NumPy__ bidimensional, podemos construir um ``DataFrame`` usando uma _ndarray_."
   ]
  },
  {
   "cell_type": "code",
   "execution_count": null,
   "metadata": {},
   "outputs": [],
   "source": [
    "títulos = [12, 8, 8, 7]\n",
    "torcida = [20225600, 6646400, 46953599, 30444799]\n",
    "tittor = np.array([títulos, torcida])\n",
    "print(tittor.T)\n",
    "tittor = pd.DataFrame(tittor.T, columns=['Títulos', 'Torcida'], \n",
    "                      index=['Palmeiras', 'Santos', 'Flamengo', 'Corinthians'])\n",
    "\n",
    "print(tittor)"
   ]
  },
  {
   "cell_type": "markdown",
   "metadata": {},
   "source": [
    "Podemos ainda utilizar um _ndarray_ estruturado, como o que vimos na aula anterior para construir um ``DataFRame``"
   ]
  },
  {
   "cell_type": "code",
   "execution_count": null,
   "metadata": {},
   "outputs": [],
   "source": [
    "alunos = ['nomeAluno01', 'nomeAluno02', 'nomeAluno03', 'nomeAluno04']\n",
    "matrícula = np.random.randint(0, 1000, 4)\n",
    "prova_1 = np.random.uniform(0, 10, 4)\n",
    "\n",
    "data = np.zeros(4, dtype={'names':('nome', 'nMatricula', 'prova_1'),\n",
    "                          'formats':('U50', 'i4', 'f4')})\n",
    "\n",
    "data['nome'] = alunos\n",
    "data['nMatricula'] = matrícula\n",
    "data['prova_1'] = prova_1\n",
    "print(data)"
   ]
  },
  {
   "cell_type": "code",
   "execution_count": null,
   "metadata": {},
   "outputs": [],
   "source": [
    "dataDF = pd.DataFrame(data)\n",
    "print(dataDF)"
   ]
  },
  {
   "cell_type": "markdown",
   "metadata": {},
   "source": [
    "## __Pandas__ ``Index``\n",
    "\n",
    "Vimos aqui que ambos os objetos ``Series`` e ``DataFrame`` contêm um __índice__ explícito que permite referenciar e modificar dados.\n",
    "Trata-se de um objeto ``Index`` que pode ser pensado como um _matriz imutável_ ou como um _conjunto ordenado_.\n",
    "Vamos entender algumas das operações que podem ser feitas com objetos da classe ``Index``.\n",
    "\n",
    "Vamos começar criando um ``Index`` mais clássico. "
   ]
  },
  {
   "cell_type": "code",
   "execution_count": null,
   "metadata": {},
   "outputs": [],
   "source": [
    "índice = pd.Index([i for i in range(5)])\n",
    "índice"
   ]
  },
  {
   "cell_type": "markdown",
   "metadata": {},
   "source": [
    "O ``Index`` funciona em, alguns contextos, como um array. Por exemplo, podemos usar a notação de indexação padrão do __Python__ para recuperar valores ou _slicings_."
   ]
  },
  {
   "cell_type": "code",
   "execution_count": null,
   "metadata": {},
   "outputs": [],
   "source": [
    "print(índice[0])\n",
    "print(índice[-1])\n",
    "print(índice[1:3])"
   ]
  },
  {
   "cell_type": "markdown",
   "metadata": {},
   "source": [
    "Os objetos da classe ``Index`` também tem muitos dos atributos presentes nos _ndarrays_ __NumPy__."
   ]
  },
  {
   "cell_type": "code",
   "execution_count": null,
   "metadata": {},
   "outputs": [],
   "source": [
    "print(índice.size, índice.shape, índice.ndim, índice.dtype)"
   ]
  },
  {
   "cell_type": "markdown",
   "metadata": {},
   "source": [
    "Entretanto os objetos ``Index`` são imutáveis, ou seja, eles não podem ser modificados pelos meios normais."
   ]
  },
  {
   "cell_type": "code",
   "execution_count": null,
   "metadata": {},
   "outputs": [],
   "source": [
    "try:\n",
    "    índice[0] = 1\n",
    "except Exception as e:\n",
    "    print(e)"
   ]
  },
  {
   "cell_type": "markdown",
   "metadata": {},
   "source": [
    "## Indexando objetos __Pandas__\n",
    "\n",
    "Já abordamos os principais objetos deo __Pandas__ e suas principais características. Eles guardam uma relação estreita com os _ndarrays_ de __NumPy__ dos quais vimos as diversas formas de acessar e modificar. \n",
    "\n",
    "Seja utilizando indexação direta, _slicing_, mascaramento ou alguma combinação das opções anteriores, os _ndarrays_ podem ser manipulados de forma muito eficiente. \n",
    "\n",
    "Mas como acessar os objetos __Pandas__? Os padrões utilizados no __Pandas__ parecerão muito familiares para quem domina os objetos __NumPy__, ainda que existam algumas peculiaridades a serem observadas."
   ]
  },
  {
   "cell_type": "markdown",
   "metadata": {},
   "source": [
    "### Acessando ``Series``\n",
    "\n",
    "Como já vimos, o objeto ``Series``, da mesma forma que um dicionário, fornece um mapeamento de uma coleção de chaves para uma coleção de valores."
   ]
  },
  {
   "cell_type": "code",
   "execution_count": null,
   "metadata": {},
   "outputs": [],
   "source": [
    "print(lCampBrasileiros)\n",
    "dCampBrasileiros = {}\n",
    "for time, títulos, anos in lCampBrasileiros:\n",
    "   for ano in anos:\n",
    "       dCampBrasileiros[str(ano)] = time\n",
    "print(dCampBrasileiros)\n",
    "sCampBrasileiros = pd.Series(dCampBrasileiros)\n",
    "print(sCampBrasileiros)"
   ]
  },
  {
   "cell_type": "markdown",
   "metadata": {},
   "source": [
    "Podemos acessar então utilizando as chaves."
   ]
  },
  {
   "cell_type": "code",
   "execution_count": null,
   "metadata": {},
   "outputs": [],
   "source": [
    "print(\"O campeão de 1987 foi o\", sCampBrasileiros['1987'])"
   ]
  },
  {
   "cell_type": "markdown",
   "metadata": {},
   "source": [
    "Podemos pesquisar por uma chave para saber se ela faz parte do objeto."
   ]
  },
  {
   "cell_type": "code",
   "execution_count": null,
   "metadata": {},
   "outputs": [],
   "source": [
    "'2019' in sCampBrasileiros  \n",
    "#1030 in sCampBrasileiros"
   ]
  },
  {
   "cell_type": "markdown",
   "metadata": {},
   "source": [
    "Temos então um índice de chaves."
   ]
  },
  {
   "cell_type": "code",
   "execution_count": null,
   "metadata": {},
   "outputs": [],
   "source": [
    "sCampBrasileiros.keys().sort_values()"
   ]
  },
  {
   "cell_type": "code",
   "execution_count": null,
   "metadata": {},
   "outputs": [],
   "source": [
    "list(sCampBrasileiros.items())"
   ]
  },
  {
   "cell_type": "markdown",
   "metadata": {},
   "source": [
    "Podemos então modificar os itens acessando via chave. Mas ainda, objetos ``Series`` podem ser incrementados da mesma forma que um dicionário: atribuindo uma nova chave com um valor."
   ]
  },
  {
   "cell_type": "code",
   "execution_count": null,
   "metadata": {},
   "outputs": [],
   "source": [
    "sCampBrasileiros['2024'] = 'Vasco da Gama'\n",
    "print(sCampBrasileiros[-5:])"
   ]
  },
  {
   "cell_type": "markdown",
   "metadata": {},
   "source": [
    "A classe ``Series`` utiliza então uma interface semelhante à de um dicionário. Entretanto ela fornece também a possibilidade de selecionar itens no estilo array, por meio dos mesmos mecanismos básicos dos _ndarrays_ __NumPy__."
   ]
  },
  {
   "cell_type": "code",
   "execution_count": null,
   "metadata": {},
   "outputs": [],
   "source": [
    "print(sCampBrasileiros[:'1972']) # Dúvida aqui..."
   ]
  },
  {
   "cell_type": "markdown",
   "metadata": {},
   "source": [
    "Ainda que tenhamos definidos os índices explicitamente como uma lista de strings, os objetos ``Series``possuem um índice implícito inteiro."
   ]
  },
  {
   "cell_type": "code",
   "execution_count": null,
   "metadata": {},
   "outputs": [],
   "source": [
    "print(sCampBrasileiros[:3])"
   ]
  },
  {
   "cell_type": "markdown",
   "metadata": {},
   "source": [
    "Podemos também utilizar máscaras."
   ]
  },
  {
   "cell_type": "code",
   "execution_count": null,
   "metadata": {},
   "outputs": [],
   "source": [
    "sCampBrasileiros[(sCampBrasileiros != 'Flamengo') & \n",
    "                  (sCampBrasileiros!= 'Corinthians') &\n",
    "                  (sCampBrasileiros != 'Palmeiras') &\n",
    "                  (sCampBrasileiros != 'Santos')]"
   ]
  },
  {
   "cell_type": "code",
   "execution_count": null,
   "metadata": {},
   "outputs": [],
   "source": [
    "sCampBrasileiros[['2020', '2021', '2022', '2023', '2024']]"
   ]
  },
  {
   "cell_type": "markdown",
   "metadata": {},
   "source": [
    "Repare que, no _slicing_ com o índice explícito o índice final é incluído na fatia, enquanto ao fatiar com um índice implícito o índice final é excluído da fatia, como esperado.\n",
    "\n",
    "Reparem que, apesar dos anos serem números inteiros, a lista de índices foi criada com uma lista de strings. \n",
    "\n",
    "O problema é que, se sua ``Series`` tiver um índice inteiro explícito, uma operação de indexação como ``sCampBrasileiros[1960]`` usará os índices explícitos, enquanto uma operação de _slicing_ como ``sCampBrasileiros[:1960]`` usará o índice implícito no estilo __Python__."
   ]
  },
  {
   "cell_type": "code",
   "execution_count": null,
   "metadata": {},
   "outputs": [],
   "source": [
    "alunos = pd.Series(['nomeAluno01', 'nomeAluno02', 'nomeAluno03', 'nomeAluno04'],\n",
    "                   index=[1, 2, 3, 4])\n",
    "\n",
    "print(alunos)"
   ]
  },
  {
   "cell_type": "code",
   "execution_count": null,
   "metadata": {},
   "outputs": [],
   "source": [
    "print(alunos[2])"
   ]
  },
  {
   "cell_type": "code",
   "execution_count": null,
   "metadata": {},
   "outputs": [],
   "source": [
    "print(alunos.loc[:2])"
   ]
  },
  {
   "cell_type": "markdown",
   "metadata": {},
   "source": [
    "Devido a essa confusão potencial no caso de índices inteiros, o __Pandas__ fornece alguns atributos especiais que expõem o esquemas de indexação.\n",
    "\n",
    "Primeiro, o atributo ``loc`` permite indexação e _slicing_ que sempre faz referência ao índice explícito."
   ]
  },
  {
   "cell_type": "code",
   "execution_count": null,
   "metadata": {},
   "outputs": [],
   "source": [
    "alunos.loc[2]"
   ]
  },
  {
   "cell_type": "code",
   "execution_count": null,
   "metadata": {},
   "outputs": [],
   "source": [
    "alunos.loc[:2]"
   ]
  },
  {
   "cell_type": "markdown",
   "metadata": {},
   "source": [
    "O atributo ``iloc`` permite indexação e _slicing_ que sempre faz referência ao índice implícito no estilo __Python__:"
   ]
  },
  {
   "cell_type": "code",
   "execution_count": null,
   "metadata": {},
   "outputs": [],
   "source": [
    "alunos.iloc[2]"
   ]
  },
  {
   "cell_type": "code",
   "execution_count": null,
   "metadata": {},
   "outputs": [],
   "source": [
    "alunos.iloc[:2]"
   ]
  },
  {
   "cell_type": "markdown",
   "metadata": {},
   "source": [
    "Um princípio orientador do código __Python__ é que “explícito é melhor que implícito”.\n",
    "A natureza explícita de ``loc`` e ``iloc`` os torna muito úteis na manutenção de código limpo e legível, especialmente no caso de índices inteiros."
   ]
  },
  {
   "cell_type": "markdown",
   "metadata": {},
   "source": [
    "## Acessando ``DataFrame``\n",
    "\n",
    "Como vimoa anteriormente, um ``DataFrame`` pode ser tratado de muitas maneiras: como um array bidimensional ou estruturado, e de outras maneiras como um dicionário de estruturas ``Series`` compartilhando o mesmo índice.\n",
    "\n",
    "A primeira analogia que consideraremos é o DataFrame como um dicionário de objetos ``Series``."
   ]
  },
  {
   "cell_type": "code",
   "execution_count": null,
   "metadata": {},
   "outputs": [],
   "source": [
    "times"
   ]
  },
  {
   "cell_type": "markdown",
   "metadata": {},
   "source": [
    "As ``Series`` individuais que compõem as colunas do ``DataFrame`` podem ser acessadas por meio de indexação no estilo de dicionário."
   ]
  },
  {
   "cell_type": "code",
   "execution_count": null,
   "metadata": {},
   "outputs": [],
   "source": [
    "times['Títulos']"
   ]
  },
  {
   "cell_type": "markdown",
   "metadata": {},
   "source": [
    "De forma análoga, podemos usar acesso no estilo de atributo com o nome das coluna."
   ]
  },
  {
   "cell_type": "code",
   "execution_count": null,
   "metadata": {},
   "outputs": [],
   "source": [
    "times.Torcida"
   ]
  },
  {
   "cell_type": "code",
   "execution_count": null,
   "metadata": {},
   "outputs": [],
   "source": [
    "times.Torcida is times['Torcida']"
   ]
  },
  {
   "cell_type": "markdown",
   "metadata": {},
   "source": [
    "Tal como acontece com os ``Series`` a sintaxe estilo dicionário também pode ser usada para modificar o ``DataFrame`` ou adicionar uma nova coluna."
   ]
  },
  {
   "cell_type": "code",
   "execution_count": null,
   "metadata": {},
   "outputs": [],
   "source": [
    "times['TitulosPorTorcedor'] = times.Títulos / times.Torcida\n",
    "times"
   ]
  },
  {
   "cell_type": "markdown",
   "metadata": {},
   "source": [
    "O ``DataFrame``  também pode sere tratado como um array bidimensional aprimorado."
   ]
  },
  {
   "cell_type": "code",
   "execution_count": null,
   "metadata": {},
   "outputs": [],
   "source": [
    "times.values"
   ]
  },
  {
   "cell_type": "markdown",
   "metadata": {},
   "source": [
    "Pensando o ``DataFrame``como uma matriz bidimensional, podemos aplicar diversas formas de manipular o _ndarray_ ao ``DataFrame``."
   ]
  },
  {
   "cell_type": "code",
   "execution_count": null,
   "metadata": {},
   "outputs": [],
   "source": [
    "times.T"
   ]
  },
  {
   "cell_type": "markdown",
   "metadata": {},
   "source": [
    "Quando se trata de indexação de objetos ``DataFrame``, entretanto, fica claro que a indexação de colunas no estilo de dicionário impede nossa capacidade de simplesmente tratá-la como uma matriz __NumPy__."
   ]
  },
  {
   "cell_type": "code",
   "execution_count": null,
   "metadata": {},
   "outputs": [],
   "source": [
    "times.values[7]"
   ]
  },
  {
   "cell_type": "markdown",
   "metadata": {},
   "source": [
    "Na realidade, quando passamos um único índice, estamos nos referindo a uma coluna."
   ]
  },
  {
   "cell_type": "code",
   "execution_count": null,
   "metadata": {},
   "outputs": [],
   "source": [
    "times['Títulos']"
   ]
  },
  {
   "cell_type": "markdown",
   "metadata": {},
   "source": [
    "Portanto, para indexação em estilo array, precisamos utilizar outros recursos: os indexadores ``loc``, ``iloc`` e ``ix``. \n",
    "\n",
    "Usando o indexador ``iloc``, podemos indexar o array subjacente como se fosse um array NumPy simples (usando o índice implícito no estilo Python), mas o índice ``DataFrame`` e os rótulos das colunas são mantidos no resultado."
   ]
  },
  {
   "cell_type": "code",
   "execution_count": null,
   "metadata": {},
   "outputs": [],
   "source": [
    "times.iloc[7]"
   ]
  },
  {
   "cell_type": "markdown",
   "metadata": {},
   "source": [
    "Da mesma forma, usando o indexador ``loc``, podemos indexar os dados subjacentes em um estilo semelhante a um array, mas usando o índice explícito e os nomes das colunas."
   ]
  },
  {
   "cell_type": "code",
   "execution_count": null,
   "metadata": {},
   "outputs": [],
   "source": [
    "times.loc[:'Bahia', :'Torcida']"
   ]
  },
  {
   "cell_type": "markdown",
   "metadata": {},
   "source": [
    "## Operando com dados em __Pandas__\n",
    "\n",
    "Uma das peças essenciais do __NumPy__ é a capacidade de realizar operações rápidas entre elementos, tanto com aritmética básica (adição, subtração, multiplicação, etc.) quanto com operações mais sofisticadas (funções trigonométricas, funções exponenciais e logarítmicas, etc.). \n",
    "\n",
    "O __Pandas__ herda grande parte dessa funcionalidade do __NumPy__. No entanto, o __Pandas__ inclui algumas alterações úteis: \n",
    "\n",
    "* Para operações unárias como negação e funções trigonométricas as _ufuncs_ preservarão rótulos de índice e coluna na saída. \n",
    "* Para operações binárias como adição e multiplicação, o Pandas alinhará automaticamente os índices ao passar os objetos para o _ufunc_. \n",
    "\n",
    "Vamos tentar entender como isto melhora o processamento em relação a os _ndarrays_ de __NumPy__. "
   ]
  },
  {
   "cell_type": "markdown",
   "metadata": {},
   "source": [
    "Como o __Pandas__ foi projetado para funcionar com __NumPy__, qualquer _ufunc_ __NumPy__ funcionará em objetos __Pandas__, sejam  ``Series`` ou ``DataFrame``. "
   ]
  },
  {
   "cell_type": "code",
   "execution_count": null,
   "metadata": {},
   "outputs": [],
   "source": [
    "pSerie = pd.Series(np.random.uniform(0, np.pi, 10))\n",
    "pSerie"
   ]
  },
  {
   "cell_type": "code",
   "execution_count": null,
   "metadata": {},
   "outputs": [],
   "source": [
    "pDataFrame = pd.DataFrame(np.random.randint(0, 256, (5, 5)),\n",
    "                  columns=['alpha', 'beta', 'gamma', 'delta', 'gamma'])\n",
    "pDataFrame"
   ]
  },
  {
   "cell_type": "markdown",
   "metadata": {},
   "source": [
    "Se aplicarmos uma __NumPy__ _ufunc_ em qualquer um desses objetos, o resultado será outro objeto __Pandas__ com os mesmos índices."
   ]
  },
  {
   "cell_type": "code",
   "execution_count": null,
   "metadata": {},
   "outputs": [],
   "source": [
    "np.log1p(pDataFrame)"
   ]
  },
  {
   "cell_type": "code",
   "execution_count": null,
   "metadata": {},
   "outputs": [],
   "source": [
    "np.sin(pSerie)"
   ]
  },
  {
   "cell_type": "markdown",
   "metadata": {},
   "source": [
    "### UFuncs: alinhamento do índice\n",
    "\n",
    "Para operações binárias em dois objetos ``Series`` ou ``DataFrame``, o __Pandas__ alinhará os índices no processo de execução da operação.\n",
    "\n",
    "Imaginemos que temos acesso a um conjunto de dados simples contendo a altura em polegadas e o peso em libras de 25.000 humanos diferentes de 18 anos de idade. Este conjunto de dados pode ser usado, por exemplo, para construir um modelo que pode prever as alturas ou pesos de um ser humano. \n",
    "\n",
    "Os dados utilizados neste exemplo estão disponíveis na plataforma [Kaggle](https://www.kaggle.com/datasets/burnoutminer/heights-and-weights-dataset?resource=download). Inicialmente vamos trabalhar um pequeno subconjunto destes dados. "
   ]
  },
  {
   "cell_type": "code",
   "execution_count": null,
   "metadata": {},
   "outputs": [],
   "source": [
    "dados = [(65.78331,112.9925), (71.51521,136.4873), (69.39874,153.0269), (68.2166,142.3354), (67.78781,144.2971),\n",
    " (68.69784,123.3024), (69.80204,141.4947), (70.01472,136.4623), (67.90265,112.3723), (66.78236,120.6672)]\n",
    "\n",
    "dataSet = pd.DataFrame(dados, columns=['altura', 'peso'])   \n",
    "dataSet"
   ]
  },
  {
   "cell_type": "markdown",
   "metadata": {},
   "source": [
    "Com este ``DataFrame`` podemos calcular a relação peso altura de cada um dos indivíduos cadastrados. "
   ]
  },
  {
   "cell_type": "code",
   "execution_count": null,
   "metadata": {},
   "outputs": [],
   "source": [
    "dataSet[\"altura/peso\"] = dataSet.altura / dataSet.peso\n",
    "dataSet"
   ]
  },
  {
   "cell_type": "markdown",
   "metadata": {},
   "source": [
    "Entretanto, se o mesmo conjunto de dados estivesse incompleto."
   ]
  },
  {
   "cell_type": "code",
   "execution_count": null,
   "metadata": {},
   "outputs": [],
   "source": [
    "#dados = [(65.78331,112.9925), (71.51521,136.4873), (69.39874,153.0269), (68.2166,142.3354), (67.78781,144.2971),\n",
    "# (68.69784,123.3024), (69.80204,141.4947), (70.01472,136.4623), (67.90265,112.3723), (66.78236,120.6672)]\n",
    "\n",
    "pesoSer = pd.Series([112.9925, 153.0269, 142.3354, 123.3024, 141.4947, 112.3723, 120.6672],\n",
    "                    index = [\"p01\", \"p03\", \"p04\", \"p06\", \"p07\", \"p09\", \"p10\"])\n",
    "alturaSer = pd.Series([65.78331, 71.51521, 68.2166, 67.78781,\n",
    "                       68.69784, 69.80204, 70.01472,66.78236],\n",
    "                        index = [\"p01\", \"p02\", \"p04\", \"p05\", \"p06\", \"p07\", \"p08\", \"p10\"])\n",
    "print(pesoSer)\n",
    "print(alturaSer)"
   ]
  },
  {
   "cell_type": "code",
   "execution_count": null,
   "metadata": {},
   "outputs": [],
   "source": [
    "dataSet = pd.DataFrame({\"peso\":pesoSer, \"altura\":alturaSer})\n",
    "dataSet"
   ]
  },
  {
   "cell_type": "markdown",
   "metadata": {},
   "source": [
    "Tanto conseguimos calcular a relação entre altura e peso a partir dos objetos ``Series`` ..."
   ]
  },
  {
   "cell_type": "code",
   "execution_count": null,
   "metadata": {},
   "outputs": [],
   "source": [
    "alturaPesoSer = dataSet.altura / dataSet.peso\n",
    "alturaPesoSer"
   ]
  },
  {
   "cell_type": "markdown",
   "metadata": {},
   "source": [
    "quanto a partir das colunas do ``DataFrame``."
   ]
  },
  {
   "cell_type": "code",
   "execution_count": null,
   "metadata": {},
   "outputs": [],
   "source": [
    "dataSet[\"altura/peso\"] = dataSet.altura / dataSet.peso\n",
    "dataSet"
   ]
  },
  {
   "cell_type": "markdown",
   "metadata": {},
   "source": [
    "Qualquer item para o qual um ou outro objeto não tenha uma entrada é marcado com ``NaN``, ou \"Não é um número\", que é como o __Pandas__ marca os dados ausentes. \n",
    "\n",
    "Esta correspondência de índice é implementada desta forma para qualquer uma das expressões aritméticas integradas do Python; quaisquer valores ausentes são preenchidos com NaN por padrão.\n",
    "\n",
    "Veja outros exemplos."
   ]
  },
  {
   "cell_type": "code",
   "execution_count": null,
   "metadata": {},
   "outputs": [],
   "source": [
    "img = np.random.randint(0, 256, (5, 5), dtype=np.uint8)\n",
    "print(img)\n",
    "print(img.sum())\n"
   ]
  },
  {
   "cell_type": "code",
   "execution_count": null,
   "metadata": {},
   "outputs": [],
   "source": [
    "img = pd.DataFrame(img, columns=['C01', 'C02', 'C03', 'C04', 'C05'],\n",
    "                   index=['L01', 'L02', 'L03', 'L04', 'L05'])\n",
    "print(img)\n",
    "print(img.sum())"
   ]
  },
  {
   "cell_type": "code",
   "execution_count": null,
   "metadata": {},
   "outputs": [],
   "source": [
    "masc = np.ones((3, 3), dtype=np.uint8)\n",
    "masc = pd.DataFrame(masc, columns=['C02', 'C03', 'C04'],\n",
    "                   index=['L02', 'L03', 'L04'])\n",
    "\n",
    "print(masc)"
   ]
  },
  {
   "cell_type": "code",
   "execution_count": null,
   "metadata": {},
   "outputs": [],
   "source": [
    "imgMasc = img * masc\n",
    "print(imgMasc)\n",
    "print(imgMasc.sum().sum())"
   ]
  },
  {
   "cell_type": "markdown",
   "metadata": {},
   "source": [
    " Podemos usar ainda o método aritmético do objeto associado e passar o ``fill_value`` desejado para ser usado no lugar das entradas ausentes."
   ]
  },
  {
   "cell_type": "code",
   "execution_count": null,
   "metadata": {},
   "outputs": [],
   "source": [
    "imgMasc = img.mul(masc, fill_value=0)\n",
    "print(imgMasc)"
   ]
  },
  {
   "cell_type": "markdown",
   "metadata": {},
   "source": [
    "__Pandas__, da mesma forma que __NumPy__, fornece métodos específicos que implementam a sobrecarga dos operadores aritméticos tradicionais, expandindo suas possibilidades de uso. \n",
    "\n",
    "| Operador        | Método Pandas                         |\n",
    "|-----------------|---------------------------------------|\n",
    "| ``+``           | ``add()``                             |\n",
    "| ``-``           | ``sub()``, ``subtract()``             |\n",
    "| ``*``           | ``mul()``, ``multiply()``             |\n",
    "| ``/``           | ``truediv()``, ``div()``, ``divide()``|\n",
    "| ``//``          | ``floordiv()``                        |\n",
    "| ``%``           | ``mod()``                             |\n",
    "| ``**``          | ``pow()``                             |"
   ]
  },
  {
   "cell_type": "markdown",
   "metadata": {},
   "source": [
    "Podemos utilizar estes operadores também para manipular objetos ``Series`` e ``DataFrame`` juntos. "
   ]
  },
  {
   "cell_type": "code",
   "execution_count": null,
   "metadata": {},
   "outputs": [],
   "source": [
    "min = imgMasc['L02':'L04'].min()\n",
    "min = min['C02':'C04'].min()\n",
    "print(min)\n",
    "min = pd.Series(min, index=['C02', 'C03', 'C04'])\n",
    "print(min)"
   ]
  },
  {
   "cell_type": "code",
   "execution_count": null,
   "metadata": {},
   "outputs": [],
   "source": [
    "imgNorm = imgMasc - min\n",
    "print(imgNorm)"
   ]
  },
  {
   "cell_type": "markdown",
   "metadata": {},
   "source": [
    "De acordo com as regras de _broadcasting_ do __NumPy__, que abordamos na aula anterior, a subtração entre uma matriz bidimensional e um array unidimensional é aplicada por linhas.\n",
    "\n",
    "No Pandas, a convenção funciona de forma semelhante em linhas por padrão:"
   ]
  },
  {
   "cell_type": "code",
   "execution_count": null,
   "metadata": {},
   "outputs": [],
   "source": [
    "#npyImgNorm = imgMasc.values - min.values    # Numpy array\n",
    "npyImgNorm = imgMasc.values[:,1:4] - min.values   # Numpy array\n",
    "print(npyImgNorm)"
   ]
  },
  {
   "cell_type": "markdown",
   "metadata": {},
   "source": [
    "Repare que neste como em outros exemplos que envolvam operações entre ``DataFrame`` e ``Series`` os índices são alinhados automaticamente.\n",
    "\n",
    "Entretanto, ee preferir operar em colunas, você pode usar os métodos do objeto, mencionados anteriormente, especificando a palavra-chave ``axis``."
   ]
  },
  {
   "cell_type": "code",
   "execution_count": null,
   "metadata": {},
   "outputs": [],
   "source": [
    "\n",
    "min = pd.Series(16, index=['L02', 'L03', 'L04'])\n",
    "imgNorm = imgMasc.subtract(min, axis=0)\n",
    "print(imgNorm)"
   ]
  }
 ],
 "metadata": {
  "kernelspec": {
   "display_name": "Python 3 (ipykernel)",
   "language": "python",
   "name": "python3"
  },
  "language_info": {
   "codemirror_mode": {
    "name": "ipython",
    "version": 3
   },
   "file_extension": ".py",
   "mimetype": "text/x-python",
   "name": "python",
   "nbconvert_exporter": "python",
   "pygments_lexer": "ipython3",
   "version": "3.10.13"
  }
 },
 "nbformat": 4,
 "nbformat_minor": 2
}
