{
 "cells": [
  {
   "cell_type": "markdown",
   "metadata": {},
   "source": [
    "1. Escreva um programa que leia o lado de um quadrado e então imprima o quadrado com asteriscos. Seu programa deve funcionar com quadrados de todos os tamanhos entre 1 e 20 (incluíndo 1 e 20). Por exemplo, se seu programa lesse um tamanho 4, deveria imprimir: \n",
    "```\n",
    "\n",
    "  ****\n",
    "  ****\n",
    "  ****\n",
    "  ****\n",
    "  \n",
    "```"
   ]
  },
  {
   "cell_type": "markdown",
   "metadata": {},
   "source": [
    "__Resposta comentada__\n",
    "\n",
    "Como todo exercício de programação, existem várias formas de se resolver este problema. Vamos discutir algumas alternativas.\n",
    "\n",
    "Primeiramente vamos ler o tamanho a ser utilizado no desenho do padrão. Temos uma restrição mínima e máxima para este valor, que tem que ser um inteiro. Podemos fazer uma implementação simples baseada no uso de uma estrutura de repetição que pergunte novamente peo valor de entrada enquanto o valor fornecido estiver fora do intervalo válido."
   ]
  },
  {
   "cell_type": "code",
   "execution_count": 1,
   "metadata": {},
   "outputs": [],
   "source": [
    "n = int(input(\"Entre o tamanho do padrão: \"))\n",
    "while n < 1 or n > 20:\n",
    "    print(\"O tamanho deve ser entre 1 e 20\")\n",
    "    n = int(input(\"Entre o tamanho do padrão: \"))"
   ]
  },
  {
   "cell_type": "markdown",
   "metadata": {},
   "source": [
    "Uma vez definido o tamanho do padrão podemos pensar em como imprimir o mesmo.\n",
    "\n",
    "Você pode já ter resolvido este problema utilizando outra linguagem de programação como C/C++. Nestas linguagens pode-se imprimir um ``*`` utilizando um ``printf`` ou ``std.cout``. Estas ferramentas imprimem alguma coisa e pulam para a próxima linha apenas se um fim de linha for acrescentado (``'\\n'`` ou ``std.enl``). \n",
    "\n",
    "Em __Python__ temos a função ``print`` que, por padrão sempre coloca um caractere fim de linha no final. Podemos alterar este comportamento utilizando o parâmetro ``end``. \n",
    "\n",
    "Veja a diferença entre estas duas formas de usar a função ``print``:"
   ]
  },
  {
   "cell_type": "code",
   "execution_count": 2,
   "metadata": {},
   "outputs": [
    {
     "name": "stdout",
     "output_type": "stream",
     "text": [
      "A\n",
      "B\n"
     ]
    }
   ],
   "source": [
    "print(\"A\")\n",
    "print(\"B\")"
   ]
  },
  {
   "cell_type": "code",
   "execution_count": 3,
   "metadata": {},
   "outputs": [
    {
     "name": "stdout",
     "output_type": "stream",
     "text": [
      "AB\n"
     ]
    }
   ],
   "source": [
    "print(\"A\", end=\"\")\n",
    "print(\"B\")"
   ]
  },
  {
   "cell_type": "markdown",
   "metadata": {},
   "source": [
    "Vejamos então como implementar uma solução que imprime um ``*`` de cada vez.  "
   ]
  },
  {
   "cell_type": "code",
   "execution_count": 4,
   "metadata": {},
   "outputs": [
    {
     "name": "stdout",
     "output_type": "stream",
     "text": [
      "*****\n",
      "*****\n",
      "*****\n",
      "*****\n",
      "*****\n"
     ]
    }
   ],
   "source": [
    "for i in range(n):\n",
    "    for j in range(n):\n",
    "        print(\"*\", end=\"\")\n",
    "    print()"
   ]
  },
  {
   "cell_type": "markdown",
   "metadata": {},
   "source": [
    "Entretanto, podemos utilizar as operações com string em python para construir o padrão com apenas uma estrutura de repetição."
   ]
  },
  {
   "cell_type": "code",
   "execution_count": 5,
   "metadata": {},
   "outputs": [
    {
     "name": "stdout",
     "output_type": "stream",
     "text": [
      "*****\n",
      "*****\n",
      "*****\n",
      "*****\n",
      "*****\n"
     ]
    }
   ],
   "source": [
    "\n",
    "for i in range(1, n+1):\n",
    "    print(\"*\" * n)        "
   ]
  },
  {
   "cell_type": "markdown",
   "metadata": {},
   "source": [
    "No exemplo anterior utilizamos o operador ``*`` que, quando aplicado a uma string seguido de um valor inteiro ``i``, cria uma string concatenando i copias da string original. "
   ]
  },
  {
   "cell_type": "markdown",
   "metadata": {},
   "source": [
    "2. Modifique o programa do exercício anterior para imprimir um quadrado vazado. Por exemplo, se seu programa lesse um tamanho 5, deveria imprimir:\n",
    "\n",
    "```\n",
    "\n",
    "  *****\n",
    "  *   *\n",
    "  *   *\n",
    "  *   *\n",
    "  *****\n",
    "  \n",
    "```"
   ]
  },
  {
   "cell_type": "markdown",
   "metadata": {},
   "source": [
    "Podemos começar separando nosso problemas em três partes:"
   ]
  },
  {
   "cell_type": "code",
   "execution_count": 10,
   "metadata": {},
   "outputs": [
    {
     "name": "stdout",
     "output_type": "stream",
     "text": [
      "*****\n",
      "*   *\n",
      "*   *\n",
      "*   *\n",
      "*****\n"
     ]
    }
   ],
   "source": [
    "# imprimir a primeira linha\n",
    "for j in range(n):\n",
    "    print(\"*\", end=\"\")\n",
    "print()\n",
    "# imprimir as (n - 2) linhas do meio\n",
    "for i in range(n - 2):\n",
    "    print(\"*\", end=\"\")\n",
    "    for j in range(n - 2):\n",
    "        print(\" \", end=\"\")\n",
    "    print(\"*\")\n",
    "# imprimir a última linha\n",
    "for j in range(n):\n",
    "    print(\"*\", end=\"\")\n",
    "print()"
   ]
  },
  {
   "cell_type": "markdown",
   "metadata": {},
   "source": [
    "A solução anterior foge um pouco do algoritmo utilizado no primeiro padrão. Se consideramos que o padrão vazado é um casso particular do padrão preenchido podemos utilizar com base o código da primeira implementação, acrescentando uma estrutura de seleção ``if`` para saber se a linha a ser desenhada é a linha superior, a inferior ou uma intermediária vazada."
   ]
  },
  {
   "cell_type": "code",
   "execution_count": 7,
   "metadata": {},
   "outputs": [
    {
     "name": "stdout",
     "output_type": "stream",
     "text": [
      "*****\n",
      "*   *\n",
      "*   *\n",
      "*   *\n",
      "*****\n"
     ]
    }
   ],
   "source": [
    "for i in range(n):\n",
    "    for j in range(n):\n",
    "        if i == 0 or i == n-1 or j == 0 or j == n-1:\n",
    "            print(\"*\", end=\"\")\n",
    "        else:\n",
    "            print(\" \", end=\"\")\n",
    "    print()"
   ]
  },
  {
   "cell_type": "markdown",
   "metadata": {},
   "source": [
    "Podemos também, novamente, aproveitar os mecanismos de de construção de strings de python para substituir o laço interno. "
   ]
  },
  {
   "cell_type": "code",
   "execution_count": null,
   "metadata": {},
   "outputs": [],
   "source": [
    "# Fazer aqui\n",
    "print(\"*\" * n)\n",
    "for i in range(2, n):\n",
    "    print(\"*\" + \" \" * (n-2) + \"*\")\n",
    "print(\"*\" * n)"
   ]
  },
  {
   "cell_type": "markdown",
   "metadata": {},
   "source": [
    "3. Modifique o programa anterior para imprimir os seguintes padrões. Por exemplo, se seu programa lesse um tamanho 5, deveria imprimir:\n",
    "\n",
    "```\n",
    "\n",
    "  *\n",
    "  **\n",
    "  ***\n",
    "  ****\n",
    "  *****\n",
    "\n",
    "      *\n",
    "     **\n",
    "    ***\n",
    "   ****\n",
    "  *****\n",
    "\n",
    "  *****\n",
    "  ****\n",
    "  ***\n",
    "  **\n",
    "  *\n",
    "\n",
    "  *****\n",
    "   ****\n",
    "    ***\n",
    "     **\n",
    "      *\n",
    "\n",
    "```"
   ]
  },
  {
   "cell_type": "markdown",
   "metadata": {},
   "source": [
    "Vamos adotar com base o padrão do padrão de linhas totalmente preenchidas a adaptar para imprimir quantidades diferentes de asteriscos em cada linha. "
   ]
  },
  {
   "cell_type": "code",
   "execution_count": 14,
   "metadata": {},
   "outputs": [
    {
     "name": "stdout",
     "output_type": "stream",
     "text": [
      "*    \n",
      "**   \n",
      "***  \n",
      "**** \n",
      "*****\n"
     ]
    }
   ],
   "source": [
    "# o número de * aumenta com o número de linhas\n",
    "for i in range(n):\n",
    "    for j in range(n):\n",
    "        if j <= i :\n",
    "            print(\"*\", end=\"\")\n",
    "        else:\n",
    "            print(\" \", end=\"\")\n",
    "    print()"
   ]
  },
  {
   "cell_type": "markdown",
   "metadata": {},
   "source": [
    "Repare que os espaços em branco no final da linha não precisariam ser impressos mas vamos deixar para entender melhor a geração dos outros padrões.  "
   ]
  },
  {
   "cell_type": "code",
   "execution_count": 15,
   "metadata": {},
   "outputs": [
    {
     "name": "stdout",
     "output_type": "stream",
     "text": [
      "    *\n",
      "   **\n",
      "  ***\n",
      " ****\n",
      "*****\n"
     ]
    }
   ],
   "source": [
    "# o número de * aumenta com o número de linhas\n",
    "# mas alinhados a direita\n",
    "for i in range(n):\n",
    "    for j in range(n):\n",
    "        if j < (n - i - 1) :\n",
    "            print(\" \", end=\"\")\n",
    "        else:\n",
    "            print(\"*\", end=\"\")\n",
    "    print()"
   ]
  },
  {
   "cell_type": "code",
   "execution_count": 20,
   "metadata": {},
   "outputs": [
    {
     "name": "stdout",
     "output_type": "stream",
     "text": [
      "*****\n",
      "**** \n",
      "***  \n",
      "**   \n",
      "*    \n"
     ]
    }
   ],
   "source": [
    "# o número de * diminui com o número de linhas\n",
    "for i in range(n):\n",
    "    for j in range(n):\n",
    "        if j < (n - i) :\n",
    "            print(\"*\", end=\"\")\n",
    "        else:\n",
    "            print(\" \", end=\"\")\n",
    "    print()"
   ]
  },
  {
   "cell_type": "code",
   "execution_count": 21,
   "metadata": {},
   "outputs": [
    {
     "name": "stdout",
     "output_type": "stream",
     "text": [
      "*****\n",
      " ****\n",
      "  ***\n",
      "   **\n",
      "    *\n"
     ]
    }
   ],
   "source": [
    "# o número de * diminui com o número de linhas\n",
    "# mas alinhados a direita\n",
    "for i in range(n):\n",
    "    for j in range(n):\n",
    "        if j < i :\n",
    "            print(\" \", end=\"\")\n",
    "        else:\n",
    "            print(\"*\", end=\"\")\n",
    "    print()"
   ]
  },
  {
   "cell_type": "markdown",
   "metadata": {},
   "source": [
    "Novamente é interessante aproveitar os mecanismos de de construção de strings de python para substituir o laço interno."
   ]
  },
  {
   "cell_type": "code",
   "execution_count": 22,
   "metadata": {},
   "outputs": [
    {
     "name": "stdout",
     "output_type": "stream",
     "text": [
      "*\n",
      "**\n",
      "***\n",
      "****\n",
      "*****\n",
      "\n",
      "    *\n",
      "   **\n",
      "  ***\n",
      " ****\n",
      "*****\n",
      "\n",
      "*****\n",
      "****\n",
      "***\n",
      "**\n",
      "*\n",
      "\n",
      "*****\n",
      " ****\n",
      "  ***\n",
      "   **\n",
      "    *\n"
     ]
    }
   ],
   "source": [
    "# Fazer aqui\n",
    "for i in range(1, n+1):\n",
    "    print(\"*\" * i)\n",
    "print()\n",
    "for i in range(1, n+1):\n",
    "    print(\" \" * (n-i) + \"*\" * i)\n",
    "print()\n",
    "for i in range(n, 0, -1):\n",
    "    print(\"*\" * i)\n",
    "print()\n",
    "for i in range(n, 0, -1):\n",
    "    print(\" \" * (n-i) + \"*\" * i)    "
   ]
  },
  {
   "cell_type": "markdown",
   "metadata": {},
   "source": [
    "4. Modifique o programa anterior para imprimir os seguintes padrões. Por exemplo, se seu programa lesse um tamanho 5, deveria imprimir:\n",
    "\n",
    "```\n",
    "\n",
    "      * *\n",
    "     ** **\n",
    "    *** ***\n",
    "   **** ****\n",
    "  ***** *****\n",
    "\n",
    "  ***** *****\n",
    "   **** ****\n",
    "    *** ***\n",
    "     ** **\n",
    "      * *\n",
    "\n",
    "  *         *\n",
    "  **       **\n",
    "  ***     *** \n",
    "  ****   ****\n",
    "  ***** *****\n",
    "\n",
    "  ***** *****\n",
    "  ****   ****\n",
    "  ***     ***\n",
    "  **       **\n",
    "  *         *\n",
    "\n",
    "```"
   ]
  },
  {
   "cell_type": "code",
   "execution_count": null,
   "metadata": {},
   "outputs": [],
   "source": [
    "# Fazer aqui\n",
    "for i in range(1, n+1):\n",
    "    print(\" \" * (n-i) + \"*\" * i + \" \" + \"*\" * i)\n",
    "print()\n",
    "for i in range(0, n):\n",
    "    print(\" \" * i + \"*\" * (n-i) + \" \" + \"*\" * (n-i))\n",
    "print()\n",
    "for i in range(1, n+1):\n",
    "    print(\"*\" * i + \" \" * (n-i) + \" \" + \" \" *(n-i) + \"*\" * i)\n",
    "print()\n",
    "for i in range(0, n):\n",
    "    print(\"*\" * (n - i) + \" \" * (i) + \" \" + \" \" *(i) + \"*\" * (n - i))"
   ]
  }
 ],
 "metadata": {
  "kernelspec": {
   "display_name": "Python 3 (ipykernel)",
   "language": "python",
   "name": "python3"
  },
  "language_info": {
   "codemirror_mode": {
    "name": "ipython",
    "version": 3
   },
   "file_extension": ".py",
   "mimetype": "text/x-python",
   "name": "python",
   "nbconvert_exporter": "python",
   "pygments_lexer": "ipython3",
   "version": "3.10.13"
  }
 },
 "nbformat": 4,
 "nbformat_minor": 2
}
