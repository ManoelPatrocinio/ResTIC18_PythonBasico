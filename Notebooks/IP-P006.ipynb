{
 "cells": [
  {
   "cell_type": "markdown",
   "metadata": {},
   "source": [
    "<img align=\"center\" style=\"padding-right:10px;\" src=\"Figuras/IP-01-fig_01.png\">\n",
    "\n",
    "# INSTRUÇÃO PRÁTICA - IP-P006\n",
    "## PP - PROGRAMAÇÃO EM PYTHON\n",
    "### OBJETIVOS DA ATIVIDADE\n",
    "\n",
    "Revisar e consolidar o conteúdo de __NumPy__ avançado e introdução a __Pandas__"
   ]
  },
  {
   "cell_type": "markdown",
   "metadata": {},
   "source": [
    "__Exercício 1: Criando o ambiente de desenvolvimento.__\n",
    "\n",
    "* Criar o ambiente isolado para o desenvolvimento do projeto.\n",
    "* Crie o arquivo ``requirements.txt`` contendo as versões dos pacotes que devem ser instalados.\n",
    "* Criar uma pasta para o pacote ``restic`` e coloque nela os arquivos necessários para configurar e executar a aplicação que desenvolveremos."
   ]
  },
  {
   "cell_type": "markdown",
   "metadata": {},
   "source": [
    "__Exercício 2: Trabalhando com classes e objetos__\n",
    "\n",
    "9. Após a análise feita na aula anterior, implementar as classes:\n",
    "    * Residente: Armazena os dados de um entrevistado de forma a garantir que eles estejam sempre preenchidos corretamente.\n",
    "    * Trilha: Armazena os dados dos entrevistados numa trilha específica. Esta classe tem um atributo de tipo ``DataFrame`` que será preenchido com os dados coletados de cada entrevistado. Entretanto o identificador dos entrevistados desta classe será único.\n",
    "    * Residencia: Os dados de uma turma da residência com várias trilhas diferentes.\n",
    "    __Sugestão:__ As classes implementadas deverão seguir o padrão de encapsulamento utilizando atributos fracamente encapsulados com os métodos apropriados para manipular os mesmos. "
   ]
  },
  {
   "cell_type": "markdown",
   "metadata": {},
   "source": [
    "__Exercício 3: Implemente a coleta de dados__\n",
    "\n",
    "* Implemente uma aplicação que permita coletar os dados e armazenar nas classes que forma criadas. Lembre que: \n",
    "    * O identificador de cada aluno será, como definido anteriormente, um código de tipo ``string`` formado ``tic18Py`` seguido dos três primeiros números do __CPF__ e os dois último números do ano de nascimento. Exemplo tic18Py06472. Para poder contemplar os restantes alunos da residência precisamos teremos que disponibilizar três raízes diferentes para os identificador. Uma proposta pode ser:\n",
    "        * tic18Py para a turma de __Python__  \n",
    "        * tic18Net para a turma de __.NET__\n",
    "        * tic18Jav para a turma de __Java__\n",
    "    * A idade, próximo campo a ser preenchido, tem que bater com o ano de nascimento. Isto significa que uma pessoa que nasceu em 1990, quando questionado em 2024 sobre sua idade, pode responder que tem 33 ou 34 anos, dependendo da data exata de nascimento. \n",
    "    * A campo formação tem um conjunto restrito de opções que podem ser traduzidas em códigos numéricos a serem armazenados. Já a formação geral pode ser armazenada como um boolean mas depende da resposta sobre a formação. \n",
    "    * Veja como implementar o campo de formação específica de acordo com o que foi definido pela equipe na instrução prática anterior. \n",
    "    * O campo andamento da graduação e tempo de formação são campos excludentes. Isto é, se preenche um o outro não se aplica.\n",
    "    * O campo final, experiência previa de programação pode ser melhorado? Analisando a informação coletada até aqui, a resposta ``True`` ou ``False`` permitem caracterizar realmente a experiência dos entrevistados? \n",
    "   "
   ]
  },
  {
   "cell_type": "markdown",
   "metadata": {},
   "source": [
    "__Exercício 4: Persistência de dados e análise posterior.__\n",
    "\n",
    "* Pesquise na biblioteca __Pandas__ por recursos disponíveis para armazenar e recuperar dados de e para um ``DataFrame``. Implemente estes recursos na sua aplicação.\n",
    "* Discuta com seus colegas a respeito das métricas que foram extraídas na instrução prática anterior e como introduzir elas na nossa implementação."
   ]
  }
 ],
 "metadata": {
  "kernelspec": {
   "display_name": "Python 3 (ipykernel)",
   "language": "python",
   "name": "python3"
  },
  "language_info": {
   "codemirror_mode": {
    "name": "ipython",
    "version": 3
   },
   "file_extension": ".py",
   "mimetype": "text/x-python",
   "name": "python",
   "nbconvert_exporter": "python",
   "pygments_lexer": "ipython3",
   "version": "3.10.13"
  }
 },
 "nbformat": 4,
 "nbformat_minor": 2
}
