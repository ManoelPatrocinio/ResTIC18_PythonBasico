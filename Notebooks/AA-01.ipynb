{
 "cells": [
  {
   "cell_type": "markdown",
   "metadata": {},
   "source": [
    "# Primeira Avaliação Parcial: Avaliação Individual\n",
    "\n",
    "Neste módulo trabalhamos com os recursos da __NumPy__ para processar dados de tipo único de forma eficiente. Um exemplo deste tipo de dados são as imagens que podemos ser armazenadas como _ndarrays_ __NumPy__. O código a seguir gera uma imagem colorida, de 1000 por 1000 _pixels_, armazenada no formato __RGB__. Isto significa que, de cada _pixel_ armazenamos a intensidade de cor nos canais __R__ (_red_ ou vermelho), __G__ (green ou verde) e __B__ (blue o azul).  A intensidade da cor é dada por um inteiro de 8 _bits_ sem sinal."
   ]
  },
  {
   "cell_type": "code",
   "execution_count": 1,
   "metadata": {},
   "outputs": [
    {
     "name": "stdout",
     "output_type": "stream",
     "text": [
      "Intel MKL WARNING: Support of Intel(R) Streaming SIMD Extensions 4.2 (Intel(R) SSE4.2) enabled only processors has been deprecated. Intel oneAPI Math Kernel Library 2025.0 will require Intel(R) Advanced Vector Extensions (Intel(R) AVX) instructions.\n",
      "Intel MKL WARNING: Support of Intel(R) Streaming SIMD Extensions 4.2 (Intel(R) SSE4.2) enabled only processors has been deprecated. Intel oneAPI Math Kernel Library 2025.0 will require Intel(R) Advanced Vector Extensions (Intel(R) AVX) instructions.\n",
      "1.26.2\n"
     ]
    }
   ],
   "source": [
    "# importado a biblioteca numpy\n",
    "import numpy as np\n",
    "print(np.__version__)"
   ]
  },
  {
   "cell_type": "code",
   "execution_count": 2,
   "metadata": {},
   "outputs": [],
   "source": [
    "# Definindo a altura e a largura da imagem\n",
    "height = 1000  # altura ou o número de linhas da imagem\n",
    "width = 1000   # largura ou o número de colunas da imagem"
   ]
  },
  {
   "cell_type": "code",
   "execution_count": 3,
   "metadata": {},
   "outputs": [
    {
     "name": "stdout",
     "output_type": "stream",
     "text": [
      "Veja o forma da matriz criada: (1000, 1000, 3)\n",
      "Veja como fica a cor de um pixel: [182 230 187] ...\n",
      "Ou a componente vermelha dos 3 primeiro pixels da segunda linha: [126 146 184] ...\n",
      "Ou a componente verde dos 3 últimos pixels da segunda coluna: [249  14 120] ...\n"
     ]
    }
   ],
   "source": [
    "# gerando uma imagem aleatória de 1000 x 1000 pixels\n",
    "random_image = np.random.randint(0, 256, size=(height, width, 3), dtype=np.uint8)\n",
    "print(\"Veja o forma da matriz criada: {}\".format(random_image.shape))\n",
    "print(\"Veja como fica a cor de um pixel: {} ...\".format(random_image[0, 0]))\n",
    "print(\"Ou a componente vermelha dos 3 primeiro pixels da segunda linha: {} ...\".format(random_image[1, 0:3, 0]))\n",
    "print(\"Ou a componente verde dos 3 últimos pixels da segunda coluna: {} ...\".format(random_image[-3:, 1, 1]))"
   ]
  },
  {
   "cell_type": "markdown",
   "metadata": {},
   "source": [
    "## Exercício 1\n",
    "\n",
    "Crie uma função para a qual passamos como parâmetros a altura e a largura e retorna uma imagem, gerada de forma aleatória, em formato __RGB__, com estas dimensões. A imagem deve ser representada utilizando um _ndarray_ como o do exemplo anterior. Se a altura ou a largura não forme passadas como a imagem deve ser gerada com 720 linhas e 1280 colunas. "
   ]
  },
  {
   "cell_type": "code",
   "execution_count": null,
   "metadata": {},
   "outputs": [],
   "source": [
    "# Implementar aqui\n",
    "def geradorImagens(altura = 720, largura = 1280):\n",
    "    # gerando uma imagem aleatória de altura x largura pixels\n",
    "    random_image = np.random.randint(0, 256, size=(altura, largura, 3), dtype=np.uint8)\n",
    "    return random_image"
   ]
  },
  {
   "cell_type": "code",
   "execution_count": null,
   "metadata": {},
   "outputs": [],
   "source": [
    "#teste\n",
    "print(geradorImagens().shape) # deve retornar (720, 1280, 3)\n",
    "print(geradorImagens(10).shape) # deve retornar (10, 1280, 3)\n",
    "print(geradorImagens(10,10).shape) # deve retornar (10, 10, 3)\n",
    "print(geradorImagens(5,5)) # deve retornar uma matriz 5x5x3\n",
    "print(type(geradorImagens()))\n",
    "img = geradorImagens(2,2)\n"
   ]
  },
  {
   "cell_type": "code",
   "execution_count": null,
   "metadata": {},
   "outputs": [],
   "source": [
    "\n",
    "print(img)\n",
    "print(\"----------\")\n",
    "print(img[...,:3])\n",
    "print()"
   ]
  },
  {
   "cell_type": "markdown",
   "metadata": {},
   "source": [
    "Para simplificar o tratamento durante o processamento das imagens, frequentemente elas são convertidas e imagens em tons de cinza. Estas imagens contem, para cada pixel, uma única intensidade de cor representada como um inteiro de 8 _bits_ sem sinal. Para converter uma imagem __RGB__ em uma imagem em tons de cinza podemos utilizar dois métodos diferentes. \n",
    "\n",
    "1. Calculamos a intensidade da cor de cada _pixel_ como a média das intensidades dos canais __RGB_\n",
    "2. Os valores __RGB__ são convertidos para tons de cinza usando a fórmula __NTSC__: $ 0.299 \\times \\text{Vermelho} + 0.587 \\times \\text{Verde} + 0.114 \\times \\text{Azul} $. Esta fórmula representa de perto a percepção relativa da pessoa média sobre o brilho da luz vermelha, verde e azul."
   ]
  },
  {
   "cell_type": "code",
   "execution_count": null,
   "metadata": {},
   "outputs": [],
   "source": [
    "def rgb2gray(imagem, NTSC = True) :\n",
    "    if type(imagem) != np.ndarray: #imagen isinstance np.ndarray:\n",
    "        raise TypeError('A imagem deve ser um numpy.ndarray')\n",
    "    try:\n",
    "        altura, largura, canais = imagem.shape    \n",
    "    except:\n",
    "        raise TypeError('A imagem deve ser um numpy.ndarray com 3 dimensões')\n",
    "    if canais != 3:\n",
    "        raise TypeError('A imagem deve ser um numpy.ndarray com 3 dimensões')\n",
    "    \n",
    "    if NTSC:\n",
    "        gray = np.dot(imagem[...,:3], [0.299, 0.587, 0.114]) \n",
    "        gray = np.array(gray, dtype='uint8')\n",
    "    else:\n",
    "        gray = imagem.mean(axis=2)\n",
    "        gray = np.array(gray, dtype='uint8')\n",
    "    return gray\n"
   ]
  },
  {
   "cell_type": "code",
   "execution_count": null,
   "metadata": {},
   "outputs": [],
   "source": [
    "img = geradorImagens(2,2)\n",
    "print(img.shape)\n",
    "print(img)\n",
    "print(rgb2gray(img).shape)\n",
    "print(rgb2gray(img))\n",
    "print(rgb2gray(img, False))\n"
   ]
  },
  {
   "cell_type": "markdown",
   "metadata": {},
   "source": [
    "## Exercício 2\n",
    "\n",
    "Crie uma função que recebe uma imagem __RGB__ e converte a mesma em tons de cinza. A função deve retornar então a nova imagem. Esta função. \n",
    "* Deve verificar se o argumento de entrada é de fato uma imagem __RGB__ com base no tipo e no atributo ``shape`` do _ndarray_. Casso o argumento esteja errado deve-se lançar uma exceção.\n",
    "* A função recebe como parâmetro de entrada a forma de conversão a ser utilizada: media dos canais ou __NTSC__. Por padrão o algoritmo de utilizado deve ser o __NTSC__.\n",
    "* A função deve utilizas as _ufunc_ e operações definidas na __NumPy_ de forma a minimizar o uso de laços no processamento dos _ndarrays_.  "
   ]
  },
  {
   "cell_type": "code",
   "execution_count": null,
   "metadata": {},
   "outputs": [],
   "source": [
    "#implementar aqui\n",
    "def rgb2gray(parametros):\n",
    "    pass"
   ]
  },
  {
   "cell_type": "markdown",
   "metadata": {},
   "source": [
    "# Exercício 3 (Opcional, valendo ponto extra)\n",
    "\n",
    "Refaça a implementação da função anterior utilizando estruturas de repetição e implemente um teste de demonstre, usando uma imagem __RGB__ gerada de forma aleatória de 10.000 linhas por 10.000 colunas, o ganho de desempenho quando utilizamos as _ufunc_ e os operadores de __NumPy__. "
   ]
  },
  {
   "cell_type": "markdown",
   "metadata": {},
   "source": [
    "## Respostas\n",
    "Faça suas implementações neste notebook e envie  mesmo via __Moodle__ até o final do prazo. "
   ]
  }
 ],
 "metadata": {
  "kernelspec": {
   "display_name": "Python 3 (ipykernel)",
   "language": "python",
   "name": "python3"
  },
  "language_info": {
   "codemirror_mode": {
    "name": "ipython",
    "version": 3
   },
   "file_extension": ".py",
   "mimetype": "text/x-python",
   "name": "python",
   "nbconvert_exporter": "python",
   "pygments_lexer": "ipython3",
   "version": "3.10.13"
  }
 },
 "nbformat": 4,
 "nbformat_minor": 2
}
