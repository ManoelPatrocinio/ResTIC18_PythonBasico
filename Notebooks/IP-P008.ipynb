{
 "cells": [
  {
   "cell_type": "markdown",
   "metadata": {},
   "source": [
    "<img align=\"center\" style=\"padding-right:10px;\" src=\"Figuras/IP-01-fig_01.png\">\n",
    "\n",
    "# INSTRUÇÃO PRÁTICA - IP-P008\n",
    "## PP - PROGRAMAÇÃO EM PYTHON\n",
    "### OBJETIVOS DA ATIVIDADE\n",
    "\n",
    "Revisar e consolidar o conteúdo de __Pandas__ avançado."
   ]
  },
  {
   "cell_type": "markdown",
   "metadata": {},
   "source": [
    "__Exercício 1: Tratando séries temporais indexadas por tempo__\n",
    "\n",
    "* Na instrução prática anterior foram utilizadas séries temporais de estações meteorológicas para extrair dados de diferentes anos e comparar as informações sobre temperaturas e e precipitações. Em uma das tarefas se solicitou para criar um ``MultiIndex`` para agregar os dois datasets em apenas um com as dimensões anos, messes do ano e dias do mês. \n",
    "1. Carregar agora os dados dos dois datasets utilizando um ``DateTimeIndex``;\n",
    "2. Junte os dois datasets em um so.\n",
    "3. Com o novo ``DataFrame`` refaça o exercício 3 da Instrução Prática anterior.\n"
   ]
  },
  {
   "cell_type": "markdown",
   "metadata": {},
   "source": [
    "__Exercício 2: Utilizando eval() e query()__\n",
    "\n",
    "* Com base no ``DataFrame`` criado no exercício anterior: \n",
    "1. Compare o desempenho, utilizando ``%timeit`` ou uma ferramenta equivalente, da extração das métricas do exercício anterior, quando utilizando os recursos básicos  disponíveis em __Pandas__ em relação à utilização de ``eval()`` ou ``query()`` para obter o mesmo resultado. "
   ]
  }
 ],
 "metadata": {
  "kernelspec": {
   "display_name": "Python 3 (ipykernel)",
   "language": "python",
   "name": "python3"
  },
  "language_info": {
   "codemirror_mode": {
    "name": "ipython",
    "version": 3
   },
   "file_extension": ".py",
   "mimetype": "text/x-python",
   "name": "python",
   "nbconvert_exporter": "python",
   "pygments_lexer": "ipython3",
   "version": "3.10.13"
  }
 },
 "nbformat": 4,
 "nbformat_minor": 2
}
